{
 "cells": [
  {
   "cell_type": "code",
   "execution_count": null,
   "id": "3c774b9a",
   "metadata": {},
   "outputs": [],
   "source": [
    "import pandas\n",
    "import numpy as np\n",
    "\n",
    "import climb_detector as climb_detector\n",
    "import get_locations as locator\n",
    "import parser as parser\n",
    "import plotter as plotter\n",
    "import util as util"
   ]
  },
  {
   "cell_type": "code",
   "execution_count": null,
   "id": "a19a7569",
   "metadata": {},
   "outputs": [],
   "source": [
    "name = \"Étape_du_tour_femmes\"\n",
    "route = parser.open_gpx(rf\"C:\\Users\\Thibaut\\Documents\\Python Scripts\\Cycling\\traces\\{name}.gpx\")\n",
    "\n",
    "df = parser.parse_gpx(route)\n",
    "route.df = parser.apply_slope_smoothing(route.df, target_meters=100)\n",
    "stats = parser.compute_stats_gpx(route)\n",
    "\n",
    "params = {\n",
    "    \"max_pause_length_m\": 200,\n",
    "    \"max_pause_descent_m\": 10,\n",
    "    \"start_threshold_slope\": 2.0,\n",
    "}\n",
    "\n",
    "climbs_df = climb_detector.detect_significant_segments(route.df, kind=\"climb\", **params)\n",
    "descents_df = climb_detector.detect_significant_segments(route.df, kind=\"descent\", **params)\n",
    "\n",
    "route.descents_df = descents_df\n",
    "route.climbs_df = climbs_df\n",
    "\n",
    "df_with_locations = locator.add_location(route)"
   ]
  },
  {
   "cell_type": "code",
   "execution_count": null,
   "id": "e7704617",
   "metadata": {},
   "outputs": [],
   "source": [
    "stats"
   ]
  },
  {
   "cell_type": "code",
   "execution_count": null,
   "id": "57e1e261",
   "metadata": {},
   "outputs": [],
   "source": [
    "print(route.df[\"grade\"].max())\n",
    "print(route.df[\"grade\"].min())"
   ]
  },
  {
   "cell_type": "code",
   "execution_count": null,
   "id": "a9a24057",
   "metadata": {},
   "outputs": [],
   "source": [
    "params = {\n",
    "    \"max_pause_length_m\": 200,\n",
    "    \"max_pause_descent_m\": 10,\n",
    "    \"start_threshold_slope\": 2.0,\n",
    "}\n",
    "\n",
    "climbs_df = climb_detector.detect_significant_segments(route.df, kind=\"climb\", **params)\n",
    "descents_df = climb_detector.detect_significant_segments(route.df, kind=\"descent\", **params)\n",
    "\n",
    "route.descents_df = descents_df\n",
    "route.climbs_df = climbs_df"
   ]
  },
  {
   "cell_type": "code",
   "execution_count": null,
   "id": "1221f00a",
   "metadata": {},
   "outputs": [],
   "source": [
    "import folium\n",
    "import folium.plugins as plugins\n",
    "import leafmap.foliumap as leafmap\n",
    "\n",
    "import util as util\n",
    "from route import GPXData\n",
    "\n",
    "def create_route_map(\n",
    "    route: GPXData,\n",
    "    tile_style: str = \"OpenStreetMap\",\n",
    "    color_by_slope: bool = True,\n",
    ") -> None:\n",
    "\n",
    "    df = route.df\n",
    "    climbs_df = route.climbs_df\n",
    "    descents_df = route.descents_df\n",
    "    coords = df[[\"lat\", \"lon\"]].values.tolist()\n",
    "\n",
    "    # Map center and bounds\n",
    "    center = coords[len(coords) // 2]\n",
    "    m = leafmap.Map(location=center, zoom_start=13, control_scale=True, tiles=None)\n",
    "\n",
    "    legend_dict = {\n",
    "        \"-10% and below\": \"#4682B4\",      # steel blue\n",
    "        \"-10% to -4%\": \"#87CEEB\",        # sky blue\n",
    "        \"-4% to -2%\": \"#ADD8E6\",         # light blue\n",
    "        \"-2% to 2%\": \"#FFFFFF\",          # white\n",
    "        \"2% to 4%\": \"#75f60c\",           # green\n",
    "        \"4% to 6%\": \"#00a0ff\",           # blue\n",
    "        \"6% to 8%\": \"#ffd300\",           # yellow\n",
    "        \"8% to 10%\": \"#ee0000\",          # red\n",
    "        \"10% to 12%\": \"#800080\",         # purple\n",
    "        \"12% and above\": \"#444444\",      # black\n",
    "    }\n",
    "\n",
    "    m.add_legend(title=\"Slope Grade Legend\", legend_dict=legend_dict)\n",
    "\n",
    "    folium.TileLayer(tiles=tile_style, name=tile_style, opacity=0.8).add_to(m)\n",
    "\n",
    "    # Segment coloring\n",
    "    for i in range(1, len(coords)):\n",
    "        segment = [coords[i - 1], coords[i]]\n",
    "        color = util.getcolor(df[\"plot_grade\"].iloc[i]) if color_by_slope else \"#999999\"\n",
    "        folium.PolyLine(segment, color=color, weight=4, opacity=1).add_to(m)\n",
    "\n",
    "    # Start and end markers\n",
    "    folium.Marker(\n",
    "        coords[0], icon=folium.Icon(color=\"green\", icon=\"play\"), popup=\"Start\", \n",
    "    ).add_to(m)\n",
    "    folium.Marker(\n",
    "        coords[-1], icon=folium.Icon(color=\"red\", icon=\"stop\"), popup=\"End\"\n",
    "    ).add_to(m)\n",
    "\n",
    "    # Climb markers\n",
    "    if climbs_df is not None and not climbs_df.empty:\n",
    "        for idx, row in climbs_df.iterrows():\n",
    "            start_idx = (row[\"start_idx\"])\n",
    "            lat, lon = df.loc[start_idx, [\"lat\", \"lon\"]]\n",
    "            folium.Marker(\n",
    "                location=[lat, lon],\n",
    "                popup=f\"Climb {idx + 1}: {int(row['elev_gain'])}m ↑, L={int(row[\"length_m\"]/1000)} km, slope={np.round(row[\"avg_slope\"],1)} %\",\n",
    "                # icon=folium.DivIcon(\n",
    "                #     html=f\"<div style='font-size: 18px; color: red;'>{idx + 1}</div>\"\n",
    "                # ),\n",
    "                icon = plugins.BeautifyIcon(\n",
    "                     icon=\"mountain\",\n",
    "                     icon_shape=\"circle\",\n",
    "                     border_color='purple',\n",
    "                     text_color=\"#007799\",\n",
    "                     background_color='white'\n",
    "                 )\n",
    "            ).add_to(m)\n",
    "\n",
    "    folium.LayerControl().add_to(m)\n",
    "\n",
    "    # Fit to bounds\n",
    "    sw = df[[\"lat\", \"lon\"]].min().values.tolist()\n",
    "    ne = df[[\"lat\", \"lon\"]].max().values.tolist()\n",
    "    m.fit_bounds([sw, ne])\n",
    "\n",
    "    return m\n"
   ]
  },
  {
   "cell_type": "code",
   "execution_count": null,
   "id": "d83e6009",
   "metadata": {},
   "outputs": [],
   "source": [
    "m = plotter.create_route_map(route, color_by_slope=True)\n",
    "m.save(\"Map1.html\")\n"
   ]
  },
  {
   "cell_type": "code",
   "execution_count": null,
   "id": "c0baeca5",
   "metadata": {},
   "outputs": [],
   "source": [
    "import get_locations as locator\n",
    "\n",
    "df_with_locations = locator.add_location(route)"
   ]
  },
  {
   "cell_type": "code",
   "execution_count": null,
   "id": "873da2a5",
   "metadata": {},
   "outputs": [],
   "source": [
    "import matplotlib.pyplot as plt\n",
    "\n",
    "\n",
    "df = route.df\n",
    "climbs_df = route.climbs_df\n",
    "descents_df = route.descents_df\n",
    "\n",
    "annotationsAnchor = df['ele'].max() * 1.1\n",
    "style_city = dict(size=10, color='grey')\n",
    "style_slope = dict(size=10, color='black')\n",
    "style_max = dict(size=10, color='red')\n",
    "\n",
    "fig, ax = plt.subplots(figsize=(12, 4))\n",
    "ax.set_xlabel(\"Kilometers\")\n",
    "ax.set_ylabel(\"Elevation (m)\")\n",
    "ax.spines[['right', 'top']].set_visible(False)\n",
    "\n",
    "ax.plot(df[\"distance\"] / 1000, df[\"ele\"], color=\"#999999\", linewidth=1.5, alpha=0.7)\n",
    "\n",
    "old_index = 0\n",
    "for index in df[df[\"location\"].notnull()].index:\n",
    "    #ensure that two annotations do not overlap\n",
    "    \n",
    "    if index > 0 and abs(df[\"distance\"].values[index] - df[\"distance\"].values[old_index])/1000 < 2:\n",
    "        continue\n",
    "\n",
    "    ax.annotate(\n",
    "        df[\"location\"].values[index],\n",
    "        xy=(df[\"distance\"].values[index] / 1000, df[\"ele\"].values[index]),\n",
    "        xytext=(df[\"distance\"].values[index] / 1000, annotationsAnchor),\n",
    "        arrowprops=dict(arrowstyle=\"-\", color='lightgray'),\n",
    "        horizontalalignment='center',\n",
    "        rotation=90,\n",
    "        **style_city\n",
    "    )\n",
    "    old_index = index\n",
    "\n",
    "old_x_align = 0 \n",
    "y_align = 0.2\n",
    "\n",
    "for segment_df, color in [(climbs_df, \"#FFA500\")]:\n",
    "    if segment_df is not None:\n",
    "        for _, row in segment_df.iterrows():\n",
    "            segment = df[\n",
    "                (df[\"distance\"] / 1000 >= row[\"start_km\"])\n",
    "                & (df[\"distance\"] / 1000 <= row[\"end_km\"])\n",
    "            ]\n",
    "            ax.fill_between(\n",
    "                segment[\"distance\"] / 1000, segment[\"ele\"], color=color, alpha=0.4\n",
    "            )\n",
    "            \n",
    "            ax.annotate(\n",
    "                f\"{round(segment['ele'].values[-1])}m\",\n",
    "                xy=(segment[\"distance\"].values[-1] / 1000, segment[\"ele\"].values[-1]),\n",
    "                xytext=(segment[\"distance\"].values[-1] / 1000, 1.02 * segment[\"ele\"].values[-1]),\n",
    "                horizontalalignment='center',\n",
    "                rotation=45,\n",
    "                **style_max\n",
    "            )\n",
    "\n",
    "            mean_slope = round(row[\"avg_slope\"],1)\n",
    "            start = row[\"start_km\"]\n",
    "            end = row[\"end_km\"] \n",
    "\n",
    "            x_align = (start+end)/2\n",
    "            if x_align - old_x_align < 5:\n",
    "                y_align = y_align + 100\n",
    "    \n",
    "            ax.annotate(\n",
    "                f\"{mean_slope}%\",\n",
    "                xy=( x_align, y_align),\n",
    "                xytext=( x_align, y_align),\n",
    "                horizontalalignment='center',\n",
    "                rotation=0,\n",
    "                **style_slope\n",
    "            )\n",
    "            y_align = 0.2\n",
    "            old_x_align = x_align"
   ]
  },
  {
   "cell_type": "code",
   "execution_count": null,
   "id": "5c2d7742",
   "metadata": {},
   "outputs": [],
   "source": [
    "fig.savefig(\"aa.png\")"
   ]
  },
  {
   "cell_type": "code",
   "execution_count": null,
   "id": "cf34a5a3",
   "metadata": {},
   "outputs": [],
   "source": [
    "# plotter.plot_elevation_colored_by_slope(route, simplified=True)"
   ]
  },
  {
   "cell_type": "code",
   "execution_count": null,
   "id": "69e2ce84",
   "metadata": {},
   "outputs": [],
   "source": [
    "# plotter.plot_elevation_colored_by_slope(route, simplified=False, color_mode=\"Detailed Slope\")"
   ]
  },
  {
   "cell_type": "code",
   "execution_count": null,
   "id": "68c1263b",
   "metadata": {},
   "outputs": [],
   "source": [
    "# df = route.df\n",
    "# climbs_df = route.climbs_df\n",
    "# descents_df = route.descents_df\n",
    "\n",
    "# annotationsAnchor = df['ele'].max() * 1.1\n",
    "# style_city = dict(size=10, color='grey')\n",
    "\n",
    "# fig, ax = plt.subplots(figsize=(12, 4))\n",
    "# ax.set_xlabel(\"Kilometers\")\n",
    "# ax.set_ylabel(\"Elevation (m)\")\n",
    "# ax.spines[['right', 'top']].set_visible(False)\n",
    "\n",
    "# ax.plot(df[\"distance\"] / 1000, df[\"ele\"], color=\"#999999\", linewidth=1.5, alpha=0.7)\n",
    "\n",
    "# old_index = 0\n",
    "# for index in df[df[\"location\"].notnull()].index:\n",
    "#     #ensure that two annotations do not overlap\n",
    "    \n",
    "#     if index > 0 and abs(df[\"distance\"].values[index] - df[\"distance\"].values[old_index])/1000 < 2:\n",
    "#         continue\n",
    "\n",
    "#     ax.annotate(\n",
    "#         df[\"location\"].values[index],\n",
    "#         xy=(df[\"distance\"].values[index] / 1000, df[\"ele\"].values[index]),\n",
    "#         xytext=(df[\"distance\"].values[index] / 1000, annotationsAnchor),\n",
    "#         arrowprops=dict(arrowstyle=\"-\", color='lightgray'),\n",
    "#         horizontalalignment='center',\n",
    "#         rotation=90,\n",
    "#         **style_city\n",
    "#     )\n",
    "#     old_index = index\n",
    "\n",
    "#     style_slope = dict(size=10, color='black')\n",
    "#     style_max = dict(size=10, color='red')\n",
    "\n",
    "#     # for segment_df in [climbs_df]:\n",
    "#     #     if segment_df is not None:\n",
    "#     #         for _, row in segment_df.iterrows():\n",
    "#     #             segment = df[\n",
    "#     #                 (df[\"distance\"] / 1000 >= row[\"start_km\"])\n",
    "#     #                 & (df[\"distance\"] / 1000 <= row[\"end_km\"])\n",
    "#     #             ]\n",
    "                \n",
    "#     #             ax.annotate(\n",
    "#     #                 f\"{round(segment['ele'].values[-1])}m\",\n",
    "#     #                 xy=(segment[\"distance\"].values[-1] / 1000, segment[\"ele\"].values[-1]),\n",
    "#     #                 xytext=(segment[\"distance\"].values[-1] / 1000, 1.02 * segment[\"ele\"].values[-1]),\n",
    "#     #                 horizontalalignment='center',\n",
    "#     #                 rotation=45,\n",
    "#     #                 **style_max\n",
    "#     #             )\n",
    "\n",
    "#     #             mean_slope = round(row[\"avg_slope\"],1)\n",
    "#     #             start = row[\"start_km\"]\n",
    "#     #             end = row[\"end_km\"] \n",
    "\n",
    "#     #             x_align = (start+end)/2\n",
    "#     #             if x_align - old_x_align < 5:\n",
    "#     #                 y_align = y_align + 100\n",
    "        \n",
    "#     #             ax.annotate(\n",
    "#     #                 f\"{mean_slope}%\",\n",
    "#     #                 xy=( x_align, y_align),\n",
    "#     #                 xytext=( x_align, y_align),\n",
    "#     #                 horizontalalignment='center',\n",
    "#     #                 rotation=0,\n",
    "#     #                 **style_slope\n",
    "#     #             )\n",
    "#     #             y_align = 0.2\n",
    "#     #             old_x_align = x_align\n",
    "\n",
    "#     # if color_mode == \"Detailed Slope\":\n",
    "#         # Couleur pour chaque pente calculée\n",
    "#     for i in range(1, len(df)):\n",
    "#         x = df[\"distance\"].iloc[i - 1 : i + 1] / 1000\n",
    "#         y = df[\"ele\"].iloc[i - 1 : i + 1]\n",
    "#         color = util.getcolor(df[\"plot_grade\"].iloc[i])\n",
    "#         ax.fill_between(x, 0, y, color=color, alpha=0.8)\n"
   ]
  },
  {
   "cell_type": "code",
   "execution_count": null,
   "id": "63c401fa",
   "metadata": {},
   "outputs": [],
   "source": [
    "df"
   ]
  },
  {
   "cell_type": "code",
   "execution_count": null,
   "id": "cd575048",
   "metadata": {},
   "outputs": [],
   "source": [
    "climbs_df"
   ]
  },
  {
   "cell_type": "code",
   "execution_count": null,
   "id": "1f60eb40",
   "metadata": {},
   "outputs": [],
   "source": [
    "import numpy as np\n",
    "import pandas as pd\n",
    "import plotly.graph_objects as go\n",
    "from scipy.ndimage import uniform_filter1d\n",
    "\n",
    "# -----------------------------\n",
    "# Example DataFrames\n",
    "# df: distance in meters, ele in meters, grade in %\n",
    "# climbs_df: type, start_km, end_km, elev_gain, length_m, avg_slope, start_idx, end_idx\n",
    "# -----------------------------\n",
    "# Parameters\n",
    "window_m = 100\n",
    "\n",
    "def compute_avg_slope(df, window_m=100):\n",
    "    median_dx = df['distance'].diff().median()\n",
    "    if np.isnan(median_dx) or median_dx <= 0:\n",
    "        median_dx = 20  # fallback\n",
    "    window_points = max(int(window_m / median_dx), 1)\n",
    "    \n",
    "    df = df.copy()\n",
    "    df['avg_slope'] = df['grade'].rolling(window=window_points, min_periods=1).mean()\n",
    "    df['smoothed_ele'] = uniform_filter1d(df['ele'], size=window_points)\n",
    "    df['color'] = df['avg_slope'].apply(util.getcolor)\n",
    "    return df\n",
    "\n",
    "df = compute_avg_slope(df, window_m)\n",
    "\n",
    "# -----------------------------\n",
    "# Create figure\n",
    "# -----------------------------\n",
    "fig = go.Figure()\n",
    "\n",
    "# Plot background elevation as a thin grey line\n",
    "fig.add_trace(go.Scatter(\n",
    "    x=df['distance']/1000,\n",
    "    y=df['smoothed_ele'],\n",
    "    mode='lines',\n",
    "    line=dict(color='grey', width=2),\n",
    "    name='Elevation',\n",
    "    hoverinfo='skip'\n",
    "))\n",
    "\n",
    "# Plot filled slope segments\n",
    "start_idx = 0\n",
    "for i in range(1, len(df)):\n",
    "    if df['color'].iloc[i] != df['color'].iloc[start_idx] or i == len(df)-1:\n",
    "        color = df['color'].iloc[start_idx]\n",
    "        if color:  # only plot colored segments\n",
    "            seg_x = df['distance'].iloc[start_idx:i+1]/1000\n",
    "            seg_y = df['smoothed_ele'].iloc[start_idx:i+1]\n",
    "            slope_length = (seg_x.iloc[-1] - seg_x.iloc[0])\n",
    "            fig.add_trace(go.Scatter(\n",
    "                x=seg_x,\n",
    "                y=seg_y,\n",
    "                fill='tozeroy',\n",
    "                mode='none',\n",
    "                fillcolor=color,\n",
    "                hovertemplate=(\n",
    "                    \"Distance: %{x:.2f} km<br>\"\n",
    "                    \"Elevation: %{y:.0f} m<br>\"\n",
    "                    f\"Length: {slope_length:.2f} km<br>\"\n",
    "                    f\"Avg slope: {df['avg_slope'].iloc[start_idx]:.1f}%\"\n",
    "                ),\n",
    "                name=f\"Slope {df['avg_slope'].iloc[start_idx]:.1f}%\"\n",
    "            ))\n",
    "        start_idx = i\n",
    "\n",
    "\n",
    "\n",
    "# -----------------------------\n",
    "# Annotate climbs\n",
    "# -----------------------------\n",
    "last_annot_x = -10\n",
    "min_spacing = 8.5\n",
    "y_base = 0#df['smoothed_ele'].min() - 0.02 * (df['smoothed_ele'].max() - df['smoothed_ele'].min())\n",
    "\n",
    "for i, row in climbs_df.iterrows():\n",
    "    x = (row['start_km'] + row[\"end_km\"])/2\n",
    "\n",
    "    if row['length_m']/1000 >= 4:\n",
    "        fig.add_annotation(\n",
    "            x=x,\n",
    "            y=y_base ,\n",
    "            text=f\"{row['length_m']/1000:.2f} km<br>{round(row['avg_slope'],1)}%\",  # <br> for line break in Plotly\n",
    "            showarrow=False,\n",
    "            yanchor=\"bottom\",\n",
    "            xanchor=\"center\",\n",
    "            font=dict(size=12, color=\"black\"),\n",
    "            bgcolor=\"white\",\n",
    "            bordercolor=\"black\",\n",
    "            borderwidth=1,\n",
    "            borderpad=2\n",
    "    )\n",
    "annotationsAnchor = df['ele'].max() * 1.05\n",
    "old_index = None\n",
    "\n",
    "for index in df[df[\"location\"].notnull()].index:\n",
    "    loc_name = df[\"location\"].iloc[index]\n",
    "    # Skip if too close to previous annotation\n",
    "    if old_index is not None and abs(df[\"distance\"].iloc[index] - df[\"distance\"].iloc[old_index]) / 1000 < 2:\n",
    "        continue\n",
    "\n",
    "    x_pos = df[\"distance\"].iloc[index] / 1000\n",
    "    y_elev = df[\"ele\"].iloc[index]\n",
    "\n",
    "    # Add dashed vertical line from elevation to text\n",
    "    fig.add_shape(\n",
    "        type=\"line\",\n",
    "        x0=x_pos, y0=y_elev,\n",
    "        x1=x_pos, y1=annotationsAnchor,\n",
    "        line=dict(color=\"gray\", width=1, dash=\"dot\"),\n",
    "        layer=\"below\"\n",
    "    )\n",
    "\n",
    "    # Add vertical text label, aligned at annotationsAnchor\n",
    "    fig.add_annotation(\n",
    "        x=x_pos,\n",
    "        y=annotationsAnchor,\n",
    "        text=loc_name,\n",
    "        showarrow=False,\n",
    "        textangle=-90,\n",
    "        xanchor=\"center\",\n",
    "        yanchor=\"bottom\",\n",
    "        font=dict(size=12, color='black')\n",
    "    )\n",
    "    old_index = index\n",
    "\n",
    "\n",
    "# -----------------------------\n",
    "# Layout\n",
    "# -----------------------------\n",
    "fig.update_layout(\n",
    "    title=\"Elevation Profile\",\n",
    "    xaxis_title=\"Distance (km)\",\n",
    "    yaxis_title=\"Elevation (m)\",\n",
    "    xaxis=dict(showgrid=False),\n",
    "    yaxis=dict(showgrid=True),\n",
    "    plot_bgcolor='rgba(200,200,200,0.2)',\n",
    "    hovermode=\"closest\",\n",
    "    showlegend=False\n",
    ")\n",
    "\n",
    "fig.update_yaxes(\n",
    "    title=\"Elevation\",\n",
    "    ticksuffix=\" m\",      # adds \" m\" after each tick\n",
    "    showgrid=False\n",
    ")\n",
    "\n",
    "fig.update_xaxes(\n",
    "    title=\"Distance\",\n",
    "    ticksuffix=\" km\",     # adds \" km\" after each tick\n",
    "    showgrid=False\n",
    ")\n",
    "\n",
    "fig.update_yaxes(range=[0, 1.1*df[\"ele\"].max()])\n",
    "\n",
    "fig.update_layout(\n",
    "    height=600  # default is ~450\n",
    ")\n",
    "\n",
    "fig.show()"
   ]
  },
  {
   "cell_type": "code",
   "execution_count": 92,
   "id": "335bb638",
   "metadata": {},
   "outputs": [
    {
     "data": {
      "text/html": [
       "<div>\n",
       "<style scoped>\n",
       "    .dataframe tbody tr th:only-of-type {\n",
       "        vertical-align: middle;\n",
       "    }\n",
       "\n",
       "    .dataframe tbody tr th {\n",
       "        vertical-align: top;\n",
       "    }\n",
       "\n",
       "    .dataframe thead th {\n",
       "        text-align: right;\n",
       "    }\n",
       "</style>\n",
       "<table border=\"1\" class=\"dataframe\">\n",
       "  <thead>\n",
       "    <tr style=\"text-align: right;\">\n",
       "      <th></th>\n",
       "      <th>type</th>\n",
       "      <th>start_km</th>\n",
       "      <th>end_km</th>\n",
       "      <th>elev_gain</th>\n",
       "      <th>length_m</th>\n",
       "      <th>avg_slope</th>\n",
       "      <th>start_idx</th>\n",
       "      <th>end_idx</th>\n",
       "    </tr>\n",
       "  </thead>\n",
       "  <tbody>\n",
       "    <tr>\n",
       "      <th>0</th>\n",
       "      <td>climb</td>\n",
       "      <td>4.599101</td>\n",
       "      <td>17.704535</td>\n",
       "      <td>859.8</td>\n",
       "      <td>13105.434396</td>\n",
       "      <td>6.560637</td>\n",
       "      <td>58</td>\n",
       "      <td>455</td>\n",
       "    </tr>\n",
       "    <tr>\n",
       "      <th>1</th>\n",
       "      <td>climb</td>\n",
       "      <td>30.428850</td>\n",
       "      <td>31.492840</td>\n",
       "      <td>51.4</td>\n",
       "      <td>1063.990430</td>\n",
       "      <td>4.830871</td>\n",
       "      <td>669</td>\n",
       "      <td>694</td>\n",
       "    </tr>\n",
       "    <tr>\n",
       "      <th>2</th>\n",
       "      <td>climb</td>\n",
       "      <td>32.063047</td>\n",
       "      <td>34.328683</td>\n",
       "      <td>87.1</td>\n",
       "      <td>2265.636249</td>\n",
       "      <td>3.844395</td>\n",
       "      <td>700</td>\n",
       "      <td>746</td>\n",
       "    </tr>\n",
       "    <tr>\n",
       "      <th>3</th>\n",
       "      <td>climb</td>\n",
       "      <td>37.750256</td>\n",
       "      <td>40.024973</td>\n",
       "      <td>51.1</td>\n",
       "      <td>2274.716927</td>\n",
       "      <td>2.246433</td>\n",
       "      <td>809</td>\n",
       "      <td>838</td>\n",
       "    </tr>\n",
       "    <tr>\n",
       "      <th>4</th>\n",
       "      <td>climb</td>\n",
       "      <td>43.179909</td>\n",
       "      <td>48.677783</td>\n",
       "      <td>191.0</td>\n",
       "      <td>5497.874013</td>\n",
       "      <td>3.474070</td>\n",
       "      <td>870</td>\n",
       "      <td>971</td>\n",
       "    </tr>\n",
       "    <tr>\n",
       "      <th>5</th>\n",
       "      <td>climb</td>\n",
       "      <td>59.631368</td>\n",
       "      <td>61.028046</td>\n",
       "      <td>91.4</td>\n",
       "      <td>1396.677924</td>\n",
       "      <td>6.544100</td>\n",
       "      <td>1182</td>\n",
       "      <td>1227</td>\n",
       "    </tr>\n",
       "    <tr>\n",
       "      <th>6</th>\n",
       "      <td>climb</td>\n",
       "      <td>73.031560</td>\n",
       "      <td>77.829262</td>\n",
       "      <td>283.5</td>\n",
       "      <td>4797.702612</td>\n",
       "      <td>5.909078</td>\n",
       "      <td>1356</td>\n",
       "      <td>1493</td>\n",
       "    </tr>\n",
       "    <tr>\n",
       "      <th>7</th>\n",
       "      <td>climb</td>\n",
       "      <td>86.771914</td>\n",
       "      <td>88.555291</td>\n",
       "      <td>84.8</td>\n",
       "      <td>1783.376572</td>\n",
       "      <td>4.755025</td>\n",
       "      <td>1628</td>\n",
       "      <td>1669</td>\n",
       "    </tr>\n",
       "    <tr>\n",
       "      <th>8</th>\n",
       "      <td>climb</td>\n",
       "      <td>95.319334</td>\n",
       "      <td>115.850842</td>\n",
       "      <td>1549.8</td>\n",
       "      <td>20531.508156</td>\n",
       "      <td>7.548398</td>\n",
       "      <td>1752</td>\n",
       "      <td>2477</td>\n",
       "    </tr>\n",
       "  </tbody>\n",
       "</table>\n",
       "</div>"
      ],
      "text/plain": [
       "    type   start_km      end_km  elev_gain      length_m  avg_slope  \\\n",
       "0  climb   4.599101   17.704535      859.8  13105.434396   6.560637   \n",
       "1  climb  30.428850   31.492840       51.4   1063.990430   4.830871   \n",
       "2  climb  32.063047   34.328683       87.1   2265.636249   3.844395   \n",
       "3  climb  37.750256   40.024973       51.1   2274.716927   2.246433   \n",
       "4  climb  43.179909   48.677783      191.0   5497.874013   3.474070   \n",
       "5  climb  59.631368   61.028046       91.4   1396.677924   6.544100   \n",
       "6  climb  73.031560   77.829262      283.5   4797.702612   5.909078   \n",
       "7  climb  86.771914   88.555291       84.8   1783.376572   4.755025   \n",
       "8  climb  95.319334  115.850842     1549.8  20531.508156   7.548398   \n",
       "\n",
       "   start_idx  end_idx  \n",
       "0         58      455  \n",
       "1        669      694  \n",
       "2        700      746  \n",
       "3        809      838  \n",
       "4        870      971  \n",
       "5       1182     1227  \n",
       "6       1356     1493  \n",
       "7       1628     1669  \n",
       "8       1752     2477  "
      ]
     },
     "execution_count": 92,
     "metadata": {},
     "output_type": "execute_result"
    }
   ],
   "source": [
    "climbs_df"
   ]
  },
  {
   "cell_type": "code",
   "execution_count": 99,
   "id": "aecb74ba",
   "metadata": {},
   "outputs": [
    {
     "data": {
      "application/vnd.plotly.v1+json": {
       "config": {
        "plotlyServerURL": "https://plot.ly"
       },
       "data": [
        {
         "fill": "tozeroy",
         "fillcolor": "#F5F5DC",
         "hovertemplate": "Avg slope (100m): 1.1%<br>Length: 89.82 km",
         "mode": "none",
         "name": "Slope 1.1%",
         "type": "scatter",
         "x": {
          "bdata": "kVMR3Bn3sUCGWegDGBiyQHtnAL/sULJA",
          "dtype": "f8"
         },
         "y": {
          "bdata": "zczMzMxkc0AAAAAAAHBzQAAAAAAAuHNA",
          "dtype": "f8"
         }
        },
        {
         "fill": "tozeroy",
         "fillcolor": "#00a0ff",
         "hovertemplate": "Avg slope (100m): 5.0%<br>Length: 27.65 km",
         "mode": "none",
         "name": "Slope 5.0%",
         "type": "scatter",
         "x": {
          "bdata": "e2cAv+xQskB6G29Pk2yyQA==",
          "dtype": "f8"
         },
         "y": {
          "bdata": "AAAAAAC4c0AzMzMzM+tzQA==",
          "dtype": "f8"
         }
        },
        {
         "fill": "tozeroy",
         "fillcolor": "#ee0000",
         "hovertemplate": "Avg slope (100m): 9.7%<br>Length: 344.35 km",
         "mode": "none",
         "name": "Slope 9.7%",
         "type": "scatter",
         "x": {
          "bdata": "ehtvT5NsskArffNSpoayQLJWh9fynrJA6zMyrsK5skDPxP4KS9GyQGNNd3Cl57JAItzagb8Js0A/qX9aviGzQO66RyF3PLNArEPWRBZas0B0Cj+y/XuzQMrbNXLkobNALWBnMeK4s0BNjsIO7MSzQA==",
          "dtype": "f8"
         },
         "y": {
          "bdata": "MzMzMzPrc0AzMzMzMwt0QAAAAAAAMHRAMzMzMzNbdEAAAAAAAIB0QAAAAAAAoHRAzczMzMzMdEAzMzMzM+t0QGZmZmZmDnVAzczMzMw0dUAzMzMzM2N1QJqZmZmZmXVAMzMzMzO7dUAAAAAAAMh1QA==",
          "dtype": "f8"
         }
        },
        {
         "fill": "tozeroy",
         "fillcolor": "#ffd300",
         "hovertemplate": "Avg slope (100m): 7.9%<br>Length: 35.09 km",
         "mode": "none",
         "name": "Slope 7.9%",
         "type": "scatter",
         "x": {
          "bdata": "TY7CDuzEs0CnBET/AuizQA==",
          "dtype": "f8"
         },
         "y": {
          "bdata": "AAAAAADIdUDNzMzMzNx1QA==",
          "dtype": "f8"
         }
        },
        {
         "fill": "tozeroy",
         "fillcolor": "#00a0ff",
         "hovertemplate": "Avg slope (100m): 5.2%<br>Length: 52.74 km",
         "mode": "none",
         "name": "Slope 5.2%",
         "type": "scatter",
         "x": {
          "bdata": "pwRE/wLos0DIVrbi1f2zQOzut1zBHLRA",
          "dtype": "f8"
         },
         "y": {
          "bdata": "zczMzMzcdUDNzMzMzPR1QGZmZmZmHnZA",
          "dtype": "f8"
         }
        },
        {
         "fill": "tozeroy",
         "fillcolor": "#ffd300",
         "hovertemplate": "Avg slope (100m): 7.6%<br>Length: 142.38 km",
         "mode": "none",
         "name": "Slope 7.6%",
         "type": "scatter",
         "x": {
          "bdata": "7O63XMEctEAkSM83Myq0QLluA76yPrRAK2b12CNctEDLq0Lr04S0QBHdIGojq7RA",
          "dtype": "f8"
         },
         "y": {
          "bdata": "ZmZmZmYedkBmZmZmZi52QJqZmZmZQXZAmpmZmZlhdkBmZmZmZpZ2QAAAAAAAyHZA",
          "dtype": "f8"
         }
        },
        {
         "fill": "tozeroy",
         "fillcolor": "#ee0000",
         "hovertemplate": "Avg slope (100m): 8.1%<br>Length: 82.98 km",
         "mode": "none",
         "name": "Slope 8.1%",
         "type": "scatter",
         "x": {
          "bdata": "Ed0gaiOrtED+++3YPsi0QIwEZyoC57RAZrUigR/+tEA=",
          "dtype": "f8"
         },
         "y": {
          "bdata": "AAAAAADIdkBmZmZmZu52QM3MzMzMHHdAzczMzMw0d0A=",
          "dtype": "f8"
         }
        },
        {
         "fill": "tozeroy",
         "fillcolor": "#ffd300",
         "hovertemplate": "Avg slope (100m): 8.0%<br>Length: 110.75 km",
         "mode": "none",
         "name": "Slope 8.0%",
         "type": "scatter",
         "x": {
          "bdata": "ZrUigR/+tEAtcjP3pBq1QLAr8NM+NbVAzTq+1aNQtUCsSDAn4Gy1QA==",
          "dtype": "f8"
         },
         "y": {
          "bdata": "zczMzMw0d0BmZmZmZk53QGZmZmZmbndAmpmZmZmRd0CamZmZmbl3QA==",
          "dtype": "f8"
         }
        },
        {
         "fill": "tozeroy",
         "fillcolor": "#ee0000",
         "hovertemplate": "Avg slope (100m): 8.4%<br>Length: 87.85 km",
         "mode": "none",
         "name": "Slope 8.4%",
         "type": "scatter",
         "x": {
          "bdata": "rEgwJ+BstUCPEhU4jY21QNk+67OmqLVAieSJsrrEtUA=",
          "dtype": "f8"
         },
         "y": {
          "bdata": "mpmZmZm5d0DNzMzMzOR3QAAAAAAACHhAMzMzMzMreEA=",
          "dtype": "f8"
         }
        },
        {
         "fill": "tozeroy",
         "fillcolor": "#ffd300",
         "hovertemplate": "Avg slope (100m): 8.0%<br>Length: 64.46 km",
         "mode": "none",
         "name": "Slope 8.0%",
         "type": "scatter",
         "x": {
          "bdata": "ieSJsrrEtUAtHfifpem1QM1s1E8xBbZA",
          "dtype": "f8"
         },
         "y": {
          "bdata": "MzMzMzMreEAzMzMzM1t4QGZmZmZmfnhA",
          "dtype": "f8"
         }
        },
        {
         "fill": "tozeroy",
         "fillcolor": "#ee0000",
         "hovertemplate": "Avg slope (100m): 8.1%<br>Length: 114.95 km",
         "mode": "none",
         "name": "Slope 8.1%",
         "type": "scatter",
         "x": {
          "bdata": "zWzUTzEFtkCWLZECEim2QN3RZ3hUQrZAqrtUeQBdtkA/WlS5I3i2QA==",
          "dtype": "f8"
         },
         "y": {
          "bdata": "ZmZmZmZ+eEBmZmZmZq54QAAAAAAA0HhAMzMzMzPzeEDNzMzMzBR5QA==",
          "dtype": "f8"
         }
        },
        {
         "fill": "tozeroy",
         "fillcolor": "#ffd300",
         "hovertemplate": "Avg slope (100m): 8.0%<br>Length: 145.32 km",
         "mode": "none",
         "name": "Slope 8.0%",
         "type": "scatter",
         "x": {
          "bdata": "P1pUuSN4tkAJ2D4kQJ62QM1FsTMYt7ZA67BYlVzMtkBty0r9uOy2QJN0sRJ2CbdA",
          "dtype": "f8"
         },
         "y": {
          "bdata": "zczMzMwUeUDNzMzMzER5QDMzMzMzY3lAzczMzMx8eUAzMzMzM6N5QAAAAAAA2HlA",
          "dtype": "f8"
         }
        },
        {
         "fill": "tozeroy",
         "fillcolor": "#ee0000",
         "hovertemplate": "Avg slope (100m): 9.4%<br>Length: 54.38 km",
         "mode": "none",
         "name": "Slope 9.4%",
         "type": "scatter",
         "x": {
          "bdata": "k3SxEnYJt0Bt+jpM1j+3QA==",
          "dtype": "f8"
         },
         "y": {
          "bdata": "AAAAAADYeUDNzMzMzNx5QA==",
          "dtype": "f8"
         }
        },
        {
         "fill": "tozeroy",
         "fillcolor": "#ffd300",
         "hovertemplate": "Avg slope (100m): 6.0%<br>Length: 60.12 km",
         "mode": "none",
         "name": "Slope 6.0%",
         "type": "scatter",
         "x": {
          "bdata": "bfo6TNY/t0AxqFoh9Xu3QA==",
          "dtype": "f8"
         },
         "y": {
          "bdata": "zczMzMzceUDNzMzMzOx5QA==",
          "dtype": "f8"
         }
        },
        {
         "fill": "tozeroy",
         "fillcolor": "#F5F5DC",
         "hovertemplate": "Avg slope (100m): 1.1%<br>Length: 227.56 km",
         "mode": "none",
         "name": "Slope 1.1%",
         "type": "scatter",
         "x": {
          "bdata": "MahaIfV7t0CEnC6WkJq3QDpG3vKy57dA1H/+YBEKuEB+mOdfWS+4QB1stG2DX7hA",
          "dtype": "f8"
         },
         "y": {
          "bdata": "zczMzMzseUAAAAAAAPB5QM3MzMzM/HlAAAAAAAD4eUCamZmZmRF6QDMzMzMzS3pA",
          "dtype": "f8"
         }
        },
        {
         "fill": "tozeroy",
         "fillcolor": "#00a0ff",
         "hovertemplate": "Avg slope (100m): 5.9%<br>Length: 41.72 km",
         "mode": "none",
         "name": "Slope 5.9%",
         "type": "scatter",
         "x": {
          "bdata": "HWy0bYNfuEDP1fAtPIm4QA==",
          "dtype": "f8"
         },
         "y": {
          "bdata": "MzMzMzNLekBmZmZmZn56QA==",
          "dtype": "f8"
         }
        },
        {
         "fill": "tozeroy",
         "fillcolor": "#ffd300",
         "hovertemplate": "Avg slope (100m): 7.6%<br>Length: 193.09 km",
         "mode": "none",
         "name": "Slope 7.6%",
         "type": "scatter",
         "x": {
          "bdata": "z9XwLTyJuECnc5HUuqS4QAvi/PJ4vLhAUP0c9TPcuEDOqqWDpQC5QBj6as7gEblAZXSRuaUuuUD0v6AIUkq5QA==",
          "dtype": "f8"
         },
         "y": {
          "bdata": "ZmZmZmZ+ekBmZmZmZp56QDMzMzMzu3pAzczMzMzcekAAAAAAAAB7QJqZmZmZEXtAzczMzMw0e0AzMzMzM1t7QA==",
          "dtype": "f8"
         }
        },
        {
         "fill": "tozeroy",
         "fillcolor": "#ee0000",
         "hovertemplate": "Avg slope (100m): 8.2%<br>Length: 52.07 km",
         "mode": "none",
         "name": "Slope 8.2%",
         "type": "scatter",
         "x": {
          "bdata": "9L+gCFJKuUDeS7vBD2q5QEjlH9lifrlA",
          "dtype": "f8"
         },
         "y": {
          "bdata": "MzMzMzNbe0CamZmZmYl7QGZmZmZmrntA",
          "dtype": "f8"
         }
        },
        {
         "fill": "tozeroy",
         "fillcolor": "#800080",
         "hovertemplate": "Avg slope (100m): 10.2%<br>Length: 13.74 km",
         "mode": "none",
         "name": "Slope 10.2%",
         "type": "scatter",
         "x": {
          "bdata": "SOUf2WJ+uUBBaFSAIIy5QA==",
          "dtype": "f8"
         },
         "y": {
          "bdata": "ZmZmZmaue0AzMzMzM7t7QA==",
          "dtype": "f8"
         }
        },
        {
         "fill": "tozeroy",
         "fillcolor": "#ee0000",
         "hovertemplate": "Avg slope (100m): 8.6%<br>Length: 43.06 km",
         "mode": "none",
         "name": "Slope 8.6%",
         "type": "scatter",
         "x": {
          "bdata": "QWhUgCCMuUCpV9iVMLe5QA==",
          "dtype": "f8"
         },
         "y": {
          "bdata": "MzMzMzO7e0BmZmZmZtZ7QA==",
          "dtype": "f8"
         }
        },
        {
         "fill": "tozeroy",
         "fillcolor": "#00a0ff",
         "hovertemplate": "Avg slope (100m): 4.9%<br>Length: 53.50 km",
         "mode": "none",
         "name": "Slope 4.9%",
         "type": "scatter",
         "x": {
          "bdata": "qVfYlTC3uUArb3LgjdC5QKW+E9Gx7LlA",
          "dtype": "f8"
         },
         "y": {
          "bdata": "ZmZmZmbWe0AAAAAAAPB7QGZmZmZmDnxA",
          "dtype": "f8"
         }
        },
        {
         "fill": "tozeroy",
         "fillcolor": "#ffd300",
         "hovertemplate": "Avg slope (100m): 6.5%<br>Length: 178.02 km",
         "mode": "none",
         "name": "Slope 6.5%",
         "type": "scatter",
         "x": {
          "bdata": "pb4T0bHsuUAkW8lK1wu6QJUHfNATKrpAtxdfjAFQukCkV4jrWXO6QAqLKQTokLpArmCNV7eeukA=",
          "dtype": "f8"
         },
         "y": {
          "bdata": "ZmZmZmYOfECamZmZmTF8QDMzMzMzU3xAzczMzMx8fEAzMzMzM6N8QM3MzMzMxHxAzczMzMzkfEA=",
          "dtype": "f8"
         }
        },
        {
         "fill": "tozeroy",
         "fillcolor": "#800080",
         "hovertemplate": "Avg slope (100m): 10.8%<br>Length: 33.30 km",
         "mode": "none",
         "name": "Slope 10.8%",
         "type": "scatter",
         "x": {
          "bdata": "rmCNV7eeukDdttcBA8C6QA==",
          "dtype": "f8"
         },
         "y": {
          "bdata": "zczMzMzkfEAAAAAAAAB9QA==",
          "dtype": "f8"
         }
        },
        {
         "fill": "tozeroy",
         "fillcolor": "#ee0000",
         "hovertemplate": "Avg slope (100m): 9.8%<br>Length: 25.24 km",
         "mode": "none",
         "name": "Slope 9.8%",
         "type": "scatter",
         "x": {
          "bdata": "3bbXAQPAukB1Mu2xP9m6QA==",
          "dtype": "f8"
         },
         "y": {
          "bdata": "AAAAAAAAfUAzMzMzMxN9QA==",
          "dtype": "f8"
         }
        },
        {
         "fill": "tozeroy",
         "fillcolor": "#00a0ff",
         "hovertemplate": "Avg slope (100m): 4.9%<br>Length: 56.91 km",
         "mode": "none",
         "name": "Slope 4.9%",
         "type": "scatter",
         "x": {
          "bdata": "dTLtsT/ZukCIyjfQt/a6QOQ3oWEoErtA",
          "dtype": "f8"
         },
         "y": {
          "bdata": "MzMzMzMTfUCamZmZmTF9QAAAAAAAUH1A",
          "dtype": "f8"
         }
        },
        {
         "fill": "tozeroy",
         "fillcolor": "#ffd300",
         "hovertemplate": "Avg slope (100m): 6.7%<br>Length: 410.60 km",
         "mode": "none",
         "name": "Slope 6.7%",
         "type": "scatter",
         "x": {
          "bdata": "5DehYSgSu0Da17sLDDe7QEu/OWEsVLtAKSVgch17u0CQcXlz7aO7QFfvobxFxrtA4hyhXEXmu0ChvSIcdAG8QAGQyoBqIrxAikn02ss9vEDTwt86bV28QISXsnG4g7xAb9ebpvyTvED6NcS3wqy8QA==",
          "dtype": "f8"
         },
         "y": {
          "bdata": "AAAAAABQfUDNzMzMzHx9QGZmZmZmnn1AAAAAAADIfUAzMzMzM/N9QDMzMzMzG35AmpmZmZlBfkDNzMzMzGR+QGZmZmZmjn5AAAAAAACwfkDNzMzMzNR+QJqZmZmZCX9AMzMzMzMbf0AzMzMzMyt/QA==",
          "dtype": "f8"
         }
        },
        {
         "fill": "tozeroy",
         "fillcolor": "#00a0ff",
         "hovertemplate": "Avg slope (100m): 5.4%<br>Length: 66.65 km",
         "mode": "none",
         "name": "Slope 5.4%",
         "type": "scatter",
         "x": {
          "bdata": "+jXEt8KsvEBCPDkPsc+8QDLw6FJq77xA",
          "dtype": "f8"
         },
         "y": {
          "bdata": "MzMzMzMrf0BmZmZmZk5/QJqZmZmZcX9A",
          "dtype": "f8"
         }
        },
        {
         "fill": "tozeroy",
         "fillcolor": "#ffd300",
         "hovertemplate": "Avg slope (100m): 6.6%<br>Length: 67.56 km",
         "mode": "none",
         "name": "Slope 6.6%",
         "type": "scatter",
         "x": {
          "bdata": "MvDoUmrvvEDh9yNnexO9QNFag5v4Mr1A",
          "dtype": "f8"
         },
         "y": {
          "bdata": "mpmZmZlxf0BmZmZmZp5/QGZmZmZmzn9A",
          "dtype": "f8"
         }
        },
        {
         "fill": "tozeroy",
         "fillcolor": "#ee0000",
         "hovertemplate": "Avg slope (100m): 8.6%<br>Length: 28.24 km",
         "mode": "none",
         "name": "Slope 8.6%",
         "type": "scatter",
         "x": {
          "bdata": "0VqDm/gyvUCXMjICNk+9QA==",
          "dtype": "f8"
         },
         "y": {
          "bdata": "ZmZmZmbOf0BmZmZmZv5/QA==",
          "dtype": "f8"
         }
        },
        {
         "fill": "tozeroy",
         "fillcolor": "#800080",
         "hovertemplate": "Avg slope (100m): 10.1%<br>Length: 30.91 km",
         "mode": "none",
         "name": "Slope 10.1%",
         "type": "scatter",
         "x": {
          "bdata": "lzIyAjZPvUC2dLIJH269QA==",
          "dtype": "f8"
         },
         "y": {
          "bdata": "ZmZmZmb+f0DNzMzMzCCAQA==",
          "dtype": "f8"
         }
        },
        {
         "fill": "tozeroy",
         "fillcolor": "#444444",
         "hovertemplate": "Avg slope (100m): 12.1%<br>Length: 23.90 km",
         "mode": "none",
         "name": "Slope 12.1%",
         "type": "scatter",
         "x": {
          "bdata": "tnSyCR9uvUD3t1qMBIa9QA==",
          "dtype": "f8"
         },
         "y": {
          "bdata": "zczMzMwggEAAAAAAACCAQA==",
          "dtype": "f8"
         }
        },
        {
         "fill": "tozeroy",
         "fillcolor": "#ffd300",
         "hovertemplate": "Avg slope (100m): 6.6%<br>Length: 23.01 km",
         "mode": "none",
         "name": "Slope 6.6%",
         "type": "scatter",
         "x": {
          "bdata": "97dajASGvUD7xkfAB529QA==",
          "dtype": "f8"
         },
         "y": {
          "bdata": "AAAAAAAggECamZmZmSWAQA==",
          "dtype": "f8"
         }
        },
        {
         "fill": "tozeroy",
         "fillcolor": "#F5F5DC",
         "hovertemplate": "Avg slope (100m): 1.3%<br>Length: 40.13 km",
         "mode": "none",
         "name": "Slope 1.3%",
         "type": "scatter",
         "x": {
          "bdata": "+8ZHwAedvUChXW0vKsW9QA==",
          "dtype": "f8"
         },
         "y": {
          "bdata": "mpmZmZklgEBmZmZmZjqAQA==",
          "dtype": "f8"
         }
        },
        {
         "fill": "tozeroy",
         "fillcolor": "#00a0ff",
         "hovertemplate": "Avg slope (100m): 4.8%<br>Length: 48.74 km",
         "mode": "none",
         "name": "Slope 4.8%",
         "type": "scatter",
         "x": {
          "bdata": "oV1tLyrFvUBHySr35vW9QA==",
          "dtype": "f8"
         },
         "y": {
          "bdata": "ZmZmZmY6gEBmZmZmZlaAQA==",
          "dtype": "f8"
         }
        },
        {
         "fill": "tozeroy",
         "fillcolor": "#ffd300",
         "hovertemplate": "Avg slope (100m): 6.8%<br>Length: 29.99 km",
         "mode": "none",
         "name": "Slope 6.8%",
         "type": "scatter",
         "x": {
          "bdata": "R8kq9+b1vUBmXSBB4xO+QA==",
          "dtype": "f8"
         },
         "y": {
          "bdata": "ZmZmZmZWgEAAAAAAAHCAQA==",
          "dtype": "f8"
         }
        },
        {
         "fill": "tozeroy",
         "fillcolor": "#ee0000",
         "hovertemplate": "Avg slope (100m): 8.9%<br>Length: 36.93 km",
         "mode": "none",
         "name": "Slope 8.9%",
         "type": "scatter",
         "x": {
          "bdata": "Zl0gQeMTvkDX6hWI0Ti+QA==",
          "dtype": "f8"
         },
         "y": {
          "bdata": "AAAAAABwgEDNzMzMzIyAQA==",
          "dtype": "f8"
         }
        },
        {
         "fill": "tozeroy",
         "fillcolor": "#800080",
         "hovertemplate": "Avg slope (100m): 10.2%<br>Length: 21.71 km",
         "mode": "none",
         "name": "Slope 10.2%",
         "type": "scatter",
         "x": {
          "bdata": "1+oViNE4vkCYhlyQhk6+QA==",
          "dtype": "f8"
         },
         "y": {
          "bdata": "zczMzMyMgEAAAAAAAJiAQA==",
          "dtype": "f8"
         }
        },
        {
         "fill": "tozeroy",
         "fillcolor": "#ee0000",
         "hovertemplate": "Avg slope (100m): 8.1%<br>Length: 23.59 km",
         "mode": "none",
         "name": "Slope 8.1%",
         "type": "scatter",
         "x": {
          "bdata": "mIZckIZOvkAO3UPcHWa+QA==",
          "dtype": "f8"
         },
         "y": {
          "bdata": "AAAAAACYgECamZmZmaWAQA==",
          "dtype": "f8"
         }
        },
        {
         "fill": "tozeroy",
         "fillcolor": "#ffd300",
         "hovertemplate": "Avg slope (100m): 6.8%<br>Length: 20.36 km",
         "mode": "none",
         "name": "Slope 6.8%",
         "type": "scatter",
         "x": {
          "bdata": "Dt1D3B1mvkDaFJuYenq+QA==",
          "dtype": "f8"
         },
         "y": {
          "bdata": "mpmZmZmlgEAAAAAAALSAQA==",
          "dtype": "f8"
         }
        },
        {
         "fill": "tozeroy",
         "fillcolor": "#ee0000",
         "hovertemplate": "Avg slope (100m): 8.0%<br>Length: 220.32 km",
         "mode": "none",
         "name": "Slope 8.0%",
         "type": "scatter",
         "x": {
          "bdata": "2hSbmHp6vkBGnk95npS+QL5TRFgasr5ApPl/pv7IvkAzCvni3eC+QHT7QPAe+r5AvojWxxgRv0BOXZHdHyi/QF4H0JXYPb9AD0FV6MtWv0A=",
          "dtype": "f8"
         },
         "y": {
          "bdata": "AAAAAAC0gEDNzMzMzMiAQAAAAAAA4IBAZmZmZmbygEDNzMzMzASBQAAAAAAAGIFAzczMzMwogUAzMzMzMzeBQM3MzMzMSIFAzczMzMxcgUA=",
          "dtype": "f8"
         }
        },
        {
         "fill": "tozeroy",
         "fillcolor": "#800080",
         "hovertemplate": "Avg slope (100m): 10.1%<br>Length: 25.31 km",
         "mode": "none",
         "name": "Slope 10.1%",
         "type": "scatter",
         "x": {
          "bdata": "D0FV6MtWv0CXa25KHHC/QA==",
          "dtype": "f8"
         },
         "y": {
          "bdata": "zczMzMxcgUDNzMzMzHCBQA==",
          "dtype": "f8"
         }
        },
        {
         "fill": "tozeroy",
         "fillcolor": "#ee0000",
         "hovertemplate": "Avg slope (100m): 9.9%<br>Length: 55.30 km",
         "mode": "none",
         "name": "Slope 9.9%",
         "type": "scatter",
         "x": {
          "bdata": "l2tuShxwv0CdkvrKdJG/QFJP2t5np79A",
          "dtype": "f8"
         },
         "y": {
          "bdata": "zczMzMxwgUBmZmZmZoaBQM3MzMzMkIFA",
          "dtype": "f8"
         }
        },
        {
         "fill": "tozeroy",
         "fillcolor": "#ffd300",
         "hovertemplate": "Avg slope (100m): 7.0%<br>Length: 26.80 km",
         "mode": "none",
         "name": "Slope 7.0%",
         "type": "scatter",
         "x": {
          "bdata": "Uk/a3menv0AWBPJ9M8K/QA==",
          "dtype": "f8"
         },
         "y": {
          "bdata": "zczMzMyQgUDNzMzMzJyBQA==",
          "dtype": "f8"
         }
        },
        {
         "fill": "tozeroy",
         "fillcolor": "#00a0ff",
         "hovertemplate": "Avg slope (100m): 5.8%<br>Length: 177.89 km",
         "mode": "none",
         "name": "Slope 5.8%",
         "type": "scatter",
         "x": {
          "bdata": "FgTyfTPCv0A8Yn86GNu/QLc5ChBfAsBAuKsDVqwUwED0uEFAPSbAQPiY/FwLOsBA",
          "dtype": "f8"
         },
         "y": {
          "bdata": "zczMzMycgUAAAAAAAKiBQAAAAAAAvIFAzczMzMzMgUBmZmZmZt6BQAAAAAAA9IFA",
          "dtype": "f8"
         }
        },
        {
         "fill": "tozeroy",
         "fillcolor": "#ffd300",
         "hovertemplate": "Avg slope (100m): 6.5%<br>Length: 45.07 km",
         "mode": "none",
         "name": "Slope 6.5%",
         "type": "scatter",
         "x": {
          "bdata": "+Jj8XAs6wEByIOnFk1DAQA==",
          "dtype": "f8"
         },
         "y": {
          "bdata": "AAAAAAD0gUAAAAAAAASCQA==",
          "dtype": "f8"
         }
        },
        {
         "fill": "tozeroy",
         "fillcolor": "#00a0ff",
         "hovertemplate": "Avg slope (100m): 5.6%<br>Length: 180.00 km",
         "mode": "none",
         "name": "Slope 5.6%",
         "type": "scatter",
         "x": {
          "bdata": "ciDpxZNQwECEYZRY41/AQAVP28qSdMBACLwCupSMwEA4kYhuk6rAQA==",
          "dtype": "f8"
         },
         "y": {
          "bdata": "AAAAAAAEgkDNzMzMzBCCQJqZmZmZIYJAZmZmZmYugkBmZmZmZjqCQA==",
          "dtype": "f8"
         }
        },
        {
         "fill": "tozeroy",
         "fillcolor": "#75f60c",
         "hovertemplate": "Avg slope (100m): 2.9%<br>Length: 55.47 km",
         "mode": "none",
         "name": "Slope 2.9%",
         "type": "scatter",
         "x": {
          "bdata": "OJGIbpOqwEDgfyAUUMbAQA==",
          "dtype": "f8"
         },
         "y": {
          "bdata": "ZmZmZmY6gkDNzMzMzFiCQA==",
          "dtype": "f8"
         }
        },
        {
         "fill": "tozeroy",
         "fillcolor": "#00a0ff",
         "hovertemplate": "Avg slope (100m): 4.7%<br>Length: 41.63 km",
         "mode": "none",
         "name": "Slope 4.7%",
         "type": "scatter",
         "x": {
          "bdata": "4H8gFFDGwECMM43KINvAQA==",
          "dtype": "f8"
         },
         "y": {
          "bdata": "zczMzMxYgkDNzMzMzHCCQA==",
          "dtype": "f8"
         }
        },
        {
         "fill": "tozeroy",
         "fillcolor": "#ffd300",
         "hovertemplate": "Avg slope (100m): 7.0%<br>Length: 146.08 km",
         "mode": "none",
         "name": "Slope 7.0%",
         "type": "scatter",
         "x": {
          "bdata": "jDONyiDbwECWMLH+EO7AQMVShvwg/8BArfO07gYVwUAevZYmKyTBQA==",
          "dtype": "f8"
         },
         "y": {
          "bdata": "zczMzMxwgkBmZmZmZoaCQJqZmZmZnYJAMzMzMzOzgkDNzMzMzMCCQA==",
          "dtype": "f8"
         }
        },
        {
         "fill": "tozeroy",
         "fillcolor": "#00a0ff",
         "hovertemplate": "Avg slope (100m): 5.9%<br>Length: 61.61 km",
         "mode": "none",
         "name": "Slope 5.9%",
         "type": "scatter",
         "x": {
          "bdata": "Hr2WJiskwUBCqQ47kjPBQNAavk35QsFA",
          "dtype": "f8"
         },
         "y": {
          "bdata": "zczMzMzAgkBmZmZmZs6CQAAAAAAA4IJA",
          "dtype": "f8"
         }
        },
        {
         "fill": "tozeroy",
         "fillcolor": "#ffd300",
         "hovertemplate": "Avg slope (100m): 6.3%<br>Length: 31.88 km",
         "mode": "none",
         "name": "Slope 6.3%",
         "type": "scatter",
         "x": {
          "bdata": "0Bq+TflCwUAL2L0K6lLBQA==",
          "dtype": "f8"
         },
         "y": {
          "bdata": "AAAAAADggkDNzMzMzPyCQA==",
          "dtype": "f8"
         }
        },
        {
         "fill": "tozeroy",
         "fillcolor": "#ee0000",
         "hovertemplate": "Avg slope (100m): 9.2%<br>Length: 70.61 km",
         "mode": "none",
         "name": "Slope 9.2%",
         "type": "scatter",
         "x": {
          "bdata": "C9i9CupSwUDJVktW+GfBQNdpWTM4dsFA",
          "dtype": "f8"
         },
         "y": {
          "bdata": "zczMzMz8gkDNzMzMzAyDQAAAAAAAGINA",
          "dtype": "f8"
         }
        },
        {
         "fill": "tozeroy",
         "fillcolor": "#00a0ff",
         "hovertemplate": "Avg slope (100m): 4.8%<br>Length: 71.92 km",
         "mode": "none",
         "name": "Slope 4.8%",
         "type": "scatter",
         "x": {
          "bdata": "12lZMzh2wUDV9xVlJYfBQEj8g4ItmsFA",
          "dtype": "f8"
         },
         "y": {
          "bdata": "AAAAAAAYg0CamZmZmSmDQJqZmZmZPYNA",
          "dtype": "f8"
         }
        },
        {
         "fill": "tozeroy",
         "fillcolor": "#ffd300",
         "hovertemplate": "Avg slope (100m): 6.5%<br>Length: 217.94 km",
         "mode": "none",
         "name": "Slope 6.5%",
         "type": "scatter",
         "x": {
          "bdata": "SPyDgi2awUC6N4xQhanBQG5V2Aa2usFAsHQy3fPTwUC14JAOlefBQNf6+dcH+MFA8zXfTSUHwkA=",
          "dtype": "f8"
         },
         "y": {
          "bdata": "mpmZmZk9g0AzMzMzM0+DQJqZmZmZYYNAmpmZmZl9g0AAAAAAAJSDQJqZmZmZqYNAAAAAAADEg0A=",
          "dtype": "f8"
         }
        },
        {
         "fill": "tozeroy",
         "fillcolor": "#ee0000",
         "hovertemplate": "Avg slope (100m): 9.6%<br>Length: 36.07 km",
         "mode": "none",
         "name": "Slope 9.6%",
         "type": "scatter",
         "x": {
          "bdata": "8zXfTSUHwkBmjWKoLRnCQA==",
          "dtype": "f8"
         },
         "y": {
          "bdata": "AAAAAADEg0AzMzMzM+ODQA==",
          "dtype": "f8"
         }
        },
        {
         "fill": "tozeroy",
         "fillcolor": "#800080",
         "hovertemplate": "Avg slope (100m): 10.9%<br>Length: 42.01 km",
         "mode": "none",
         "name": "Slope 10.9%",
         "type": "scatter",
         "x": {
          "bdata": "Zo1iqC0ZwkDLKHahLi7CQA==",
          "dtype": "f8"
         },
         "y": {
          "bdata": "MzMzMzPjg0AAAAAAAPSDQA==",
          "dtype": "f8"
         }
        },
        {
         "fill": "tozeroy",
         "fillcolor": "#ffd300",
         "hovertemplate": "Avg slope (100m): 7.9%<br>Length: 26.19 km",
         "mode": "none",
         "name": "Slope 7.9%",
         "type": "scatter",
         "x": {
          "bdata": "yyh2oS4uwkAcUqImRzvCQA==",
          "dtype": "f8"
         },
         "y": {
          "bdata": "AAAAAAD0g0DNzMzMzPiDQA==",
          "dtype": "f8"
         }
        },
        {
         "fill": "tozeroy",
         "fillcolor": "#75f60c",
         "hovertemplate": "Avg slope (100m): 3.6%<br>Length: 39.27 km",
         "mode": "none",
         "name": "Slope 3.6%",
         "type": "scatter",
         "x": {
          "bdata": "HFKiJkc7wkBSAmhM6U7CQA==",
          "dtype": "f8"
         },
         "y": {
          "bdata": "zczMzMz4g0BmZmZmZg6EQA==",
          "dtype": "f8"
         }
        },
        {
         "fill": "tozeroy",
         "fillcolor": "#00a0ff",
         "hovertemplate": "Avg slope (100m): 4.6%<br>Length: 35.84 km",
         "mode": "none",
         "name": "Slope 4.6%",
         "type": "scatter",
         "x": {
          "bdata": "UgJoTOlOwkC603lQ1GDCQA==",
          "dtype": "f8"
         },
         "y": {
          "bdata": "ZmZmZmYOhECamZmZmSGEQA==",
          "dtype": "f8"
         }
        },
        {
         "fill": "tozeroy",
         "fillcolor": "#ffd300",
         "hovertemplate": "Avg slope (100m): 6.8%<br>Length: 166.22 km",
         "mode": "none",
         "name": "Slope 6.8%",
         "type": "scatter",
         "x": {
          "bdata": "utN5UNRgwkDujRZzEnHCQJOTQOJKgcJA/bTAZiySwkAiRb0euKLCQOlzRNDws8JA",
          "dtype": "f8"
         },
         "y": {
          "bdata": "mpmZmZkhhEAAAAAAADSEQGZmZmZmRoRAzczMzMxYhEAzMzMzM2+EQGZmZmZmhoRA",
          "dtype": "f8"
         }
        },
        {
         "fill": "tozeroy",
         "fillcolor": "#ee0000",
         "hovertemplate": "Avg slope (100m): 8.4%<br>Length: 72.28 km",
         "mode": "none",
         "name": "Slope 8.4%",
         "type": "scatter",
         "x": {
          "bdata": "6XNE0PCzwkDX+HC5Y8fCQH7mpvEU2MJA",
          "dtype": "f8"
         },
         "y": {
          "bdata": "ZmZmZmaGhEDNzMzMzKCEQAAAAAAAtIRA",
          "dtype": "f8"
         }
        },
        {
         "fill": "tozeroy",
         "fillcolor": "#ffd300",
         "hovertemplate": "Avg slope (100m): 7.8%<br>Length: 152.71 km",
         "mode": "none",
         "name": "Slope 7.8%",
         "type": "scatter",
         "x": {
          "bdata": "fuam8RTYwkCdL1kNY+bCQCHaSYeQ98JAI8lnnokLw0BFYYe03xfDQMMsFU1vJMNA",
          "dtype": "f8"
         },
         "y": {
          "bdata": "AAAAAAC0hEAzMzMzM7+EQDMzMzMz04RAAAAAAADshEAAAAAAAPyEQGZmZmZmDoVA",
          "dtype": "f8"
         }
        },
        {
         "fill": "tozeroy",
         "fillcolor": "#ee0000",
         "hovertemplate": "Avg slope (100m): 8.6%<br>Length: 65.05 km",
         "mode": "none",
         "name": "Slope 8.6%",
         "type": "scatter",
         "x": {
          "bdata": "wywVTW8kw0DnWmW8Fi/DQHt7YXj1RMNA",
          "dtype": "f8"
         },
         "y": {
          "bdata": "ZmZmZmYOhUBmZmZmZhqFQJqZmZmZKYVA",
          "dtype": "f8"
         }
        },
        {
         "fill": "tozeroy",
         "fillcolor": "#00a0ff",
         "hovertemplate": "Avg slope (100m): 5.7%<br>Length: 65.73 km",
         "mode": "none",
         "name": "Slope 5.7%",
         "type": "scatter",
         "x": {
          "bdata": "e3thePVEw0B64FE2aljDQNdziBrTZcNA",
          "dtype": "f8"
         },
         "y": {
          "bdata": "mpmZmZkphUCamZmZmT2FQM3MzMzMTIVA",
          "dtype": "f8"
         }
        },
        {
         "fill": "tozeroy",
         "fillcolor": "#ffd300",
         "hovertemplate": "Avg slope (100m): 6.8%<br>Length: 198.50 km",
         "mode": "none",
         "name": "Slope 6.8%",
         "type": "scatter",
         "x": {
          "bdata": "13OIGtNlw0DnbcuHE3jDQOMIrEiLicNAFbMM7Mecw0Cu6jGCjKTDQBoY85t8scNAD4F/gRPJw0A=",
          "dtype": "f8"
         },
         "y": {
          "bdata": "zczMzMxMhUAzMzMzM2OFQGZmZmZmdoVAmpmZmZmNhUAAAAAAAJiFQJqZmZmZoYVAMzMzMzOvhUA=",
          "dtype": "f8"
         }
        },
        {
         "fill": "tozeroy",
         "fillcolor": "#00a0ff",
         "hovertemplate": "Avg slope (100m): 4.1%<br>Length: 107.95 km",
         "mode": "none",
         "name": "Slope 4.1%",
         "type": "scatter",
         "x": {
          "bdata": "D4F/gRPJw0DdZ9vmr9nDQIR8yq3x7MNAAruxvwz/w0A=",
          "dtype": "f8"
         },
         "y": {
          "bdata": "MzMzMzOvhUAzMzMzM7uFQJqZmZmZzYVAMzMzMzPfhUA=",
          "dtype": "f8"
         }
        },
        {
         "fill": "tozeroy",
         "fillcolor": "#ffd300",
         "hovertemplate": "Avg slope (100m): 6.0%<br>Length: 58.36 km",
         "mode": "none",
         "name": "Slope 6.0%",
         "type": "scatter",
         "x": {
          "bdata": "Aruxvwz/w0CU+E7nJA3EQAQkOAA7HMRA",
          "dtype": "f8"
         },
         "y": {
          "bdata": "MzMzMzPfhUDNzMzMzOyFQDMzMzMz+4VA",
          "dtype": "f8"
         }
        },
        {
         "fill": "tozeroy",
         "fillcolor": "#00a0ff",
         "hovertemplate": "Avg slope (100m): 6.0%<br>Length: 39.73 km",
         "mode": "none",
         "name": "Slope 6.0%",
         "type": "scatter",
         "x": {
          "bdata": "BCQ4ADscxEBcML/7FzDEQA==",
          "dtype": "f8"
         },
         "y": {
          "bdata": "MzMzMzP7hUAzMzMzMw+GQA==",
          "dtype": "f8"
         }
        },
        {
         "fill": "tozeroy",
         "fillcolor": "#ffd300",
         "hovertemplate": "Avg slope (100m): 6.1%<br>Length: 1179.22 km",
         "mode": "none",
         "name": "Slope 6.1%",
         "type": "scatter",
         "x": {
          "bdata": "XDC/+xcwxECttVQZUkLEQOHUwq3SXcRAtbGAHpVtxEAehhCuzYDEQKc473eQksRAXqsEwWugxEBVN+Iwi6/EQIXYzeUAwMRAMPVjHmvOxEDv/3Xa8d3EQJ5yOR4S8MRA6jO5fwn/xEDKeY1y6hDFQAxSKHQCIMVAUO5GkS8uxUChVP2AGz7FQDQNWOCITsVA4xytcudaxUAD2kM6KG3FQHGnm+CqfMVA6FPrE/aMxUD1WjfkSZ3FQMhz9VdtrcVAENl/6sC9xUARBinjOM7FQPoNobaU4cVA581SOUfvxUD2emo9Z/3FQOT3kKz1DsZAgAzrwLUexkDdUEGwLijGQCcqRLxLPcZAFtjAs1FMxkC4rrLbyl3GQGW+5yfgbMZAus1jj7R9xkA=",
          "dtype": "f8"
         },
         "y": {
          "bdata": "MzMzMzMPhkBmZmZmZiKGQAAAAAAAQIZAzczMzMxQhkAAAAAAAGSGQGZmZmZmdoZAmpmZmZmFhkBmZmZmZpaGQJqZmZmZqYZAzczMzMy4hkDNzMzMzMiGQAAAAAAA3IZAAAAAAADshkAAAAAAAACHQAAAAAAAEIdAmpmZmZkdh0BmZmZmZi6HQM3MzMzMQIdAzczMzMxMh0AAAAAAAGCHQM3MzMzMcIdAMzMzMzODh0DNzMzMzJSHQGZmZmZmpodAMzMzMzO3h0AzMzMzM8eHQAAAAAAA3IdAmpmZmZnph0AAAAAAAPiHQJqZmZmZCYhAmpmZmZkZiEAzMzMzMyOIQM3MzMzMOIhAMzMzMzNHiEDNzMzMzFiIQDMzMzMzZ4hAZmZmZmZ2iEA=",
          "dtype": "f8"
         }
        },
        {
         "fill": "tozeroy",
         "fillcolor": "#00a0ff",
         "hovertemplate": "Avg slope (100m): 5.8%<br>Length: 23.37 km",
         "mode": "none",
         "name": "Slope 5.8%",
         "type": "scatter",
         "x": {
          "bdata": "us1jj7R9xkDcs9DxY4nGQA==",
          "dtype": "f8"
         },
         "y": {
          "bdata": "ZmZmZmZ2iEBmZmZmZoKIQA==",
          "dtype": "f8"
         }
        },
        {
         "fill": "tozeroy",
         "fillcolor": "#ffd300",
         "hovertemplate": "Avg slope (100m): 6.0%<br>Length: 81.56 km",
         "mode": "none",
         "name": "Slope 6.0%",
         "type": "scatter",
         "x": {
          "bdata": "3LPQ8WOJxkC8likU86DGQLEg8jssssZA",
          "dtype": "f8"
         },
         "y": {
          "bdata": "ZmZmZmaCiEBmZmZmZpqIQJqZmZmZqYhA",
          "dtype": "f8"
         }
        },
        {
         "fill": "tozeroy",
         "fillcolor": "#00a0ff",
         "hovertemplate": "Avg slope (100m): 5.9%<br>Length: 73.82 km",
         "mode": "none",
         "name": "Slope 5.9%",
         "type": "scatter",
         "x": {
          "bdata": "sSDyOyyyxkD6/rKk+sPGQGMH9BUV18ZA",
          "dtype": "f8"
         },
         "y": {
          "bdata": "mpmZmZmpiEBmZmZmZrqIQJqZmZmZzYhA",
          "dtype": "f8"
         }
        },
        {
         "fill": "tozeroy",
         "fillcolor": "#ffd300",
         "hovertemplate": "Avg slope (100m): 6.1%<br>Length: 133.34 km",
         "mode": "none",
         "name": "Slope 6.1%",
         "type": "scatter",
         "x": {
          "bdata": "Ywf0FRXXxkDFINWZeufGQFidJf+m98ZAe1yTmZIJx0BVFyb4wBnHQA==",
          "dtype": "f8"
         },
         "y": {
          "bdata": "mpmZmZnNiECamZmZmd2IQGZmZmZm7ohAAAAAAAAAiUBmZmZmZg6JQA==",
          "dtype": "f8"
         }
        },
        {
         "fill": "tozeroy",
         "fillcolor": "#00a0ff",
         "hovertemplate": "Avg slope (100m): 5.9%<br>Length: 104.84 km",
         "mode": "none",
         "name": "Slope 5.9%",
         "type": "scatter",
         "x": {
          "bdata": "VRcm+MAZx0AZl9XDnCrHQJrvj+E/PcdAJtG04ixOx0A=",
          "dtype": "f8"
         },
         "y": {
          "bdata": "ZmZmZmYOiUCamZmZmR2JQAAAAAAAMIlAAAAAAABAiUA=",
          "dtype": "f8"
         }
        },
        {
         "fill": "tozeroy",
         "fillcolor": "#ffd300",
         "hovertemplate": "Avg slope (100m): 6.0%<br>Length: 40.55 km",
         "mode": "none",
         "name": "Slope 6.0%",
         "type": "scatter",
         "x": {
          "bdata": "JtG04ixOx0AoaM1Ac2LHQA==",
          "dtype": "f8"
         },
         "y": {
          "bdata": "AAAAAABAiUAzMzMzM1OJQA==",
          "dtype": "f8"
         }
        },
        {
         "fill": "tozeroy",
         "fillcolor": "#00a0ff",
         "hovertemplate": "Avg slope (100m): 5.9%<br>Length: 98.83 km",
         "mode": "none",
         "name": "Slope 5.9%",
         "type": "scatter",
         "x": {
          "bdata": "KGjNQHNix0BL5PkAVHXHQNKWtohShcdA0/8lD92Tx0A=",
          "dtype": "f8"
         },
         "y": {
          "bdata": "MzMzMzNTiUAzMzMzM2OJQDMzMzMzc4lAzczMzMyAiUA=",
          "dtype": "f8"
         }
        },
        {
         "fill": "tozeroy",
         "fillcolor": "#ffd300",
         "hovertemplate": "Avg slope (100m): 6.0%<br>Length: 32.82 km",
         "mode": "none",
         "name": "Slope 6.0%",
         "type": "scatter",
         "x": {
          "bdata": "0/8lD92Tx0Bcq+WfRqTHQA==",
          "dtype": "f8"
         },
         "y": {
          "bdata": "zczMzMyAiUDNzMzMzJCJQA==",
          "dtype": "f8"
         }
        },
        {
         "fill": "tozeroy",
         "fillcolor": "#00a0ff",
         "hovertemplate": "Avg slope (100m): 6.0%<br>Length: 43.64 km",
         "mode": "none",
         "name": "Slope 6.0%",
         "type": "scatter",
         "x": {
          "bdata": "XKvln0akx0DHvQDNGLrHQA==",
          "dtype": "f8"
         },
         "y": {
          "bdata": "zczMzMyQiUCamZmZmaWJQA==",
          "dtype": "f8"
         }
        },
        {
         "fill": "tozeroy",
         "fillcolor": "#ffd300",
         "hovertemplate": "Avg slope (100m): 6.0%<br>Length: 323.49 km",
         "mode": "none",
         "name": "Slope 6.0%",
         "type": "scatter",
         "x": {
          "bdata": "x70AzRi6x0Cpy+KQ38/HQLazdsnt38dAosnBt7Tzx0CTkzlPDgjIQGrH4sBwGMhAtQ8RToAqyEBhQCkTIT/IQL36kp2ZTMhA0ztw79dbyEA=",
          "dtype": "f8"
         },
         "y": {
          "bdata": "mpmZmZmliUAzMzMzM7uJQDMzMzMzy4lAZmZmZmbeiUBmZmZmZvKJQGZmZmZmAopAzczMzMwUikBmZmZmZiqKQDMzMzMzN4pAzczMzMxEikA=",
          "dtype": "f8"
         }
        },
        {
         "fill": "tozeroy",
         "fillcolor": "#00a0ff",
         "hovertemplate": "Avg slope (100m): 5.8%<br>Length: 59.02 km",
         "mode": "none",
         "name": "Slope 5.8%",
         "type": "scatter",
         "x": {
          "bdata": "0ztw79dbyECmLtkKcmvIQPzEWlRaechA",
          "dtype": "f8"
         },
         "y": {
          "bdata": "zczMzMxEikAAAAAAAFSKQGZmZmZmYopA",
          "dtype": "f8"
         }
        },
        {
         "fill": "tozeroy",
         "fillcolor": "#ffd300",
         "hovertemplate": "Avg slope (100m): 6.3%<br>Length: 400.96 km",
         "mode": "none",
         "name": "Slope 6.3%",
         "type": "scatter",
         "x": {
          "bdata": "/MRaVFp5yEDFIVqkNIvIQNfWGm8QnshAFV1TAdCvyEBUIWyYmsDIQCIY8RbW0chAuHPjnvPiyEDuO2dTQfXIQANo15IDCclAbhP3RdoYyUBvXLvCejDJQDQf7O/UQclA",
          "dtype": "f8"
         },
         "y": {
          "bdata": "ZmZmZmZiikAAAAAAAHSKQGZmZmZmhopAAAAAAACYikDNzMzMzKiKQJqZmZmZuYpAZmZmZmbKikDNzMzMzNyKQM3MzMzM8IpAmpmZmZkBi0AAAAAAABiLQM3MzMzMKItA",
          "dtype": "f8"
         }
        },
        {
         "fill": "tozeroy",
         "fillcolor": "#00a0ff",
         "hovertemplate": "Avg slope (100m): 6.0%<br>Length: 41.64 km",
         "mode": "none",
         "name": "Slope 6.0%",
         "type": "scatter",
         "x": {
          "bdata": "NB/s79RByUBeT+Mip1bJQA==",
          "dtype": "f8"
         },
         "y": {
          "bdata": "zczMzMwoi0CamZmZmT2LQA==",
          "dtype": "f8"
         }
        },
        {
         "fill": "tozeroy",
         "fillcolor": "#ffd300",
         "hovertemplate": "Avg slope (100m): 6.1%<br>Length: 248.62 km",
         "mode": "none",
         "name": "Slope 6.1%",
         "type": "scatter",
         "x": {
          "bdata": "Xk/jIqdWyUBj4n5ORmnJQPvZGuIveslATEYs+5KMyUAsQgSPuaLJQL4RYSYxsslAIWOP++rFyUBU0mQY9tLJQA==",
          "dtype": "f8"
         },
         "y": {
          "bdata": "mpmZmZk9i0DNzMzMzFCLQJqZmZmZYYtAzczMzMx0i0BmZmZmZoqLQGZmZmZmmotAmpmZmZmti0BmZmZmZraLQA==",
          "dtype": "f8"
         }
        },
        {
         "fill": "tozeroy",
         "fillcolor": "#00a0ff",
         "hovertemplate": "Avg slope (100m): 5.2%<br>Length: 78.98 km",
         "mode": "none",
         "name": "Slope 5.2%",
         "type": "scatter",
         "x": {
          "bdata": "VNJkGPbSyUAgNEtkN+PJQLdhVYFz+slA",
          "dtype": "f8"
         },
         "y": {
          "bdata": "ZmZmZma2i0CamZmZmcWLQDMzMzMz44tA",
          "dtype": "f8"
         }
        },
        {
         "fill": "tozeroy",
         "fillcolor": "#ffd300",
         "hovertemplate": "Avg slope (100m): 6.9%<br>Length: 108.48 km",
         "mode": "none",
         "name": "Slope 6.9%",
         "type": "scatter",
         "x": {
          "bdata": "t2FVgXP6yUBHgZgu8Q3KQFBvmf62HMpArsoCu7AwykA=",
          "dtype": "f8"
         },
         "y": {
          "bdata": "MzMzMzPji0BmZmZmZvqLQAAAAAAACIxAAAAAAAAYjEA=",
          "dtype": "f8"
         }
        },
        {
         "fill": "tozeroy",
         "fillcolor": "#00a0ff",
         "hovertemplate": "Avg slope (100m): 5.4%<br>Length: 134.08 km",
         "mode": "none",
         "name": "Slope 5.4%",
         "type": "scatter",
         "x": {
          "bdata": "rsoCu7AwykCPCxIwMULKQGSwunkkY8pACrmwZLpzykA=",
          "dtype": "f8"
         },
         "y": {
          "bdata": "AAAAAAAYjECamZmZmSWMQJqZmZmZOYxAMzMzMzM/jEA=",
          "dtype": "f8"
         }
        },
        {
         "fill": "tozeroy",
         "fillcolor": "#75f60c",
         "hovertemplate": "Avg slope (100m): 3.0%<br>Length: 102.53 km",
         "mode": "none",
         "name": "Slope 3.0%",
         "type": "scatter",
         "x": {
          "bdata": "CrmwZLpzykD4NXwB84XKQCRinIz+pspA",
          "dtype": "f8"
         },
         "y": {
          "bdata": "MzMzMzM/jEDNzMzMzESMQGZmZmZmToxA",
          "dtype": "f8"
         }
        },
        {
         "fill": "tozeroy",
         "fillcolor": "#F5F5DC",
         "hovertemplate": "Avg slope (100m): 1.9%<br>Length: 323.73 km",
         "mode": "none",
         "name": "Slope 1.9%",
         "type": "scatter",
         "x": {
          "bdata": "JGKcjP6mykAA4rqOQsPKQPNpCiUZ68pAW7B/nBMSy0CVR1m7EDvLQPFDFpfcSMtA",
          "dtype": "f8"
         },
         "y": {
          "bdata": "ZmZmZmZOjEAAAAAAAFiMQM3MzMzMYIxAzczMzMxojEBmZmZmZnaMQAAAAAAAgIxA",
          "dtype": "f8"
         }
        },
        {
         "fill": "tozeroy",
         "fillcolor": "#75f60c",
         "hovertemplate": "Avg slope (100m): 3.2%<br>Length: 37.68 km",
         "mode": "none",
         "name": "Slope 3.2%",
         "type": "scatter",
         "x": {
          "bdata": "8UMWl9xIy0ANCdixs1vLQA==",
          "dtype": "f8"
         },
         "y": {
          "bdata": "AAAAAACAjEDNzMzMzIyMQA==",
          "dtype": "f8"
         }
        },
        {
         "fill": "tozeroy",
         "fillcolor": "#00a0ff",
         "hovertemplate": "Avg slope (100m): 4.3%<br>Length: 68.26 km",
         "mode": "none",
         "name": "Slope 4.3%",
         "type": "scatter",
         "x": {
          "bdata": "DQnYsbNby0AxRWBU1X3LQA==",
          "dtype": "f8"
         },
         "y": {
          "bdata": "zczMzMyMjEAzMzMzM5uMQA==",
          "dtype": "f8"
         }
        },
        {
         "fill": "tozeroy",
         "fillcolor": "#75f60c",
         "hovertemplate": "Avg slope (100m): 3.4%<br>Length: 71.54 km",
         "mode": "none",
         "name": "Slope 3.4%",
         "type": "scatter",
         "x": {
          "bdata": "MUVgVNV9y0DKthNPQZPLQG+FhL2aoctA",
          "dtype": "f8"
         },
         "y": {
          "bdata": "MzMzMzObjEAAAAAAAKiMQGZmZmZmsoxA",
          "dtype": "f8"
         }
        },
        {
         "fill": "tozeroy",
         "fillcolor": "#00a0ff",
         "hovertemplate": "Avg slope (100m): 4.1%<br>Length: 75.27 km",
         "mode": "none",
         "name": "Slope 4.1%",
         "type": "scatter",
         "x": {
          "bdata": "b4WEvZqhy0DKi1BVD63LQOHRkZG9u8tAvGO17D3Hy0A=",
          "dtype": "f8"
         },
         "y": {
          "bdata": "ZmZmZmayjEBmZmZmZrqMQJqZmZmZyYxAmpmZmZnVjEA=",
          "dtype": "f8"
         }
        },
        {
         "fill": "tozeroy",
         "fillcolor": "#ffd300",
         "hovertemplate": "Avg slope (100m): 6.5%<br>Length: 61.11 km",
         "mode": "none",
         "name": "Slope 6.5%",
         "type": "scatter",
         "x": {
          "bdata": "vGO17D3Hy0DWx26tpdjLQKBDok7M5ctA",
          "dtype": "f8"
         },
         "y": {
          "bdata": "mpmZmZnVjECamZmZmeWMQJqZmZmZ8YxA",
          "dtype": "f8"
         }
        },
        {
         "fill": "tozeroy",
         "fillcolor": "#00a0ff",
         "hovertemplate": "Avg slope (100m): 5.7%<br>Length: 47.99 km",
         "mode": "none",
         "name": "Slope 5.7%",
         "type": "scatter",
         "x": {
          "bdata": "oEOiTszly0D4ZfDeyv3LQA==",
          "dtype": "f8"
         },
         "y": {
          "bdata": "mpmZmZnxjEAAAAAAAAyNQA==",
          "dtype": "f8"
         }
        },
        {
         "fill": "tozeroy",
         "fillcolor": "#ffd300",
         "hovertemplate": "Avg slope (100m): 6.3%<br>Length: 143.13 km",
         "mode": "none",
         "name": "Slope 6.3%",
         "type": "scatter",
         "x": {
          "bdata": "+GXw3sr9y0DCawIWPAzMQIZQHAEMHMxAvtYtcKYqzEBzA0sLATnMQERKiGlbRcxA",
          "dtype": "f8"
         },
         "y": {
          "bdata": "AAAAAAAMjUDNzMzMzByNQDMzMzMzL41AzczMzMxAjUAAAAAAAFSNQJqZmZmZZY1A",
          "dtype": "f8"
         }
        },
        {
         "fill": "tozeroy",
         "fillcolor": "#ee0000",
         "hovertemplate": "Avg slope (100m): 8.6%<br>Length: 103.17 km",
         "mode": "none",
         "name": "Slope 8.6%",
         "type": "scatter",
         "x": {
          "bdata": "REqIaVtFzEDkPct4/FLMQGtd/Q5dYcxArmea/A5szECdxQ2I8XjMQA==",
          "dtype": "f8"
         },
         "y": {
          "bdata": "mpmZmZlljUBmZmZmZnqNQAAAAAAAkI1AmpmZmZmdjUCamZmZma2NQA==",
          "dtype": "f8"
         }
        },
        {
         "fill": "tozeroy",
         "fillcolor": "#ffd300",
         "hovertemplate": "Avg slope (100m): 7.9%<br>Length: 82.67 km",
         "mode": "none",
         "name": "Slope 7.9%",
         "type": "scatter",
         "x": {
          "bdata": "ncUNiPF4zEBsWKDoGIbMQDxkYZBWk8xANKrNuEeizEA=",
          "dtype": "f8"
         },
         "y": {
          "bdata": "mpmZmZmtjUCamZmZmb2NQDMzMzMzz41AAAAAAADkjUA=",
          "dtype": "f8"
         }
        },
        {
         "fill": "tozeroy",
         "fillcolor": "#ee0000",
         "hovertemplate": "Avg slope (100m): 8.5%<br>Length: 170.31 km",
         "mode": "none",
         "name": "Slope 8.5%",
         "type": "scatter",
         "x": {
          "bdata": "NKrNuEeizECWkxpjsrDMQCkrsFnXvcxA4/14Qr7NzED7StRyHNzMQHNnsIS26MxADoh63m/3zEA=",
          "dtype": "f8"
         },
         "y": {
          "bdata": "AAAAAADkjUAzMzMzM/eNQM3MzMzMCI5AAAAAAAAgjkAAAAAAADSOQM3MzMzMRI5AmpmZmZlVjkA=",
          "dtype": "f8"
         }
        },
        {
         "fill": "tozeroy",
         "fillcolor": "#ffd300",
         "hovertemplate": "Avg slope (100m): 7.7%<br>Length: 164.99 km",
         "mode": "none",
         "name": "Slope 7.7%",
         "type": "scatter",
         "x": {
          "bdata": "Doh63m/3zEBxrDr1rQXNQNp7DCJCG81Ab5/ktNcuzUB5gtjfuzvNQPMu7oTuSc1A",
          "dtype": "f8"
         },
         "y": {
          "bdata": "mpmZmZlVjkAzMzMzM2eOQGZmZmZmgo5AZmZmZmaajkAzMzMzM6uOQJqZmZmZvY5A",
          "dtype": "f8"
         }
        },
        {
         "fill": "tozeroy",
         "fillcolor": "#ee0000",
         "hovertemplate": "Avg slope (100m): 8.1%<br>Length: 180.93 km",
         "mode": "none",
         "name": "Slope 8.1%",
         "type": "scatter",
         "x": {
          "bdata": "8y7uhO5JzUBsyvlUA13NQMUcbLYgaM1A1t7gofZxzUAXnBBBsX3NQKaHlQ/8jM1ApLkAB6SZzUAGzXtPZaTNQA==",
          "dtype": "f8"
         },
         "y": {
          "bdata": "mpmZmZm9jkBmZmZmZtaOQGZmZmZm5o5AZmZmZmbyjkBmZmZmZgKPQAAAAAAAGI9AAAAAAAAoj0AzMzMzMzOPQA==",
          "dtype": "f8"
         }
        },
        {
         "fill": "tozeroy",
         "fillcolor": "#ffd300",
         "hovertemplate": "Avg slope (100m): 7.2%<br>Length: 116.13 km",
         "mode": "none",
         "name": "Slope 7.2%",
         "type": "scatter",
         "x": {
          "bdata": "Bs17T2WkzUBgjzUlSbDNQCJoiUnUw81AlegBfZXQzUC0+Hajdd7NQA==",
          "dtype": "f8"
         },
         "y": {
          "bdata": "MzMzMzMzj0AAAAAAAECPQAAAAAAAWI9AzczMzMxoj0BmZmZmZnqPQA==",
          "dtype": "f8"
         }
        },
        {
         "fill": "tozeroy",
         "fillcolor": "#ee0000",
         "hovertemplate": "Avg slope (100m): 8.1%<br>Length: 35.20 km",
         "mode": "none",
         "name": "Slope 8.1%",
         "type": "scatter",
         "x": {
          "bdata": "tPh2o3XezUCd92nKD/DNQA==",
          "dtype": "f8"
         },
         "y": {
          "bdata": "ZmZmZmZ6j0AAAAAAAJCPQA==",
          "dtype": "f8"
         }
        },
        {
         "fill": "tozeroy",
         "fillcolor": "#ffd300",
         "hovertemplate": "Avg slope (100m): 7.8%<br>Length: 118.07 km",
         "mode": "none",
         "name": "Slope 7.8%",
         "type": "scatter",
         "x": {
          "bdata": "nfdpyg/wzUDpoQepOP3NQKfOob8ACM5AhL1qxqAWzkAySn5VGSvOQA==",
          "dtype": "f8"
         },
         "y": {
          "bdata": "AAAAAACQj0BmZmZmZp6PQGZmZmZmqo9AMzMzMzO3j0BmZmZmZsqPQA==",
          "dtype": "f8"
         }
        },
        {
         "fill": "tozeroy",
         "fillcolor": "#00a0ff",
         "hovertemplate": "Avg slope (100m): 5.7%<br>Length: 48.72 km",
         "mode": "none",
         "name": "Slope 5.7%",
         "type": "scatter",
         "x": {
          "bdata": "Mkp+VRkrzkDipLMDdkPOQA==",
          "dtype": "f8"
         },
         "y": {
          "bdata": "ZmZmZmbKj0CamZmZmeWPQA==",
          "dtype": "f8"
         }
        },
        {
         "fill": "tozeroy",
         "fillcolor": "#ffd300",
         "hovertemplate": "Avg slope (100m): 6.4%<br>Length: 145.59 km",
         "mode": "none",
         "name": "Slope 6.4%",
         "type": "scatter",
         "x": {
          "bdata": "4qSzA3ZDzkCsgIVSSVnOQGJi+15ibs5AggppiKR8zkCG31AAQozOQA==",
          "dtype": "f8"
         },
         "y": {
          "bdata": "mpmZmZnlj0AAAAAAAACQQAAAAAAADJBAMzMzMzMVkEAzMzMzMx+QQA==",
          "dtype": "f8"
         }
        },
        {
         "fill": "tozeroy",
         "fillcolor": "#ee0000",
         "hovertemplate": "Avg slope (100m): 8.0%<br>Length: 79.74 km",
         "mode": "none",
         "name": "Slope 8.0%",
         "type": "scatter",
         "x": {
          "bdata": "ht9QAEKMzkCIATKpZ5vOQD7MA7bwps5A9OUP1yC0zkA=",
          "dtype": "f8"
         },
         "y": {
          "bdata": "MzMzMzMfkECamZmZmSmQQM3MzMzMMJBAAAAAAAA4kEA=",
          "dtype": "f8"
         }
        },
        {
         "fill": "tozeroy",
         "fillcolor": "#ffd300",
         "hovertemplate": "Avg slope (100m): 7.3%<br>Length: 115.12 km",
         "mode": "none",
         "name": "Slope 7.3%",
         "type": "scatter",
         "x": {
          "bdata": "9OUP1yC0zkDVz1+ZmcDOQDK50e6bzs5APJgnyTPfzkAx5KqbsO3OQA==",
          "dtype": "f8"
         },
         "y": {
          "bdata": "AAAAAAA4kEDNzMzMzD6QQM3MzMzMRpBAzczMzMxQkEDNzMzMzFqQQA==",
          "dtype": "f8"
         }
        },
        {
         "fill": "tozeroy",
         "fillcolor": "#ee0000",
         "hovertemplate": "Avg slope (100m): 8.1%<br>Length: 59.72 km",
         "mode": "none",
         "name": "Slope 8.1%",
         "type": "scatter",
         "x": {
          "bdata": "MeSqm7DtzkAO+aTf1PzOQPlWtRqNC89A",
          "dtype": "f8"
         },
         "y": {
          "bdata": "zczMzMxakEAAAAAAAGSQQJqZmZmZbZBA",
          "dtype": "f8"
         }
        },
        {
         "fill": "tozeroy",
         "fillcolor": "#ffd300",
         "hovertemplate": "Avg slope (100m): 7.9%<br>Length: 31.49 km",
         "mode": "none",
         "name": "Slope 7.9%",
         "type": "scatter",
         "x": {
          "bdata": "+Va1Go0Lz0APvIBcSxvPQA==",
          "dtype": "f8"
         },
         "y": {
          "bdata": "mpmZmZltkEAAAAAAAHqQQA==",
          "dtype": "f8"
         }
        },
        {
         "fill": "tozeroy",
         "fillcolor": "#ee0000",
         "hovertemplate": "Avg slope (100m): 9.0%<br>Length: 55.23 km",
         "mode": "none",
         "name": "Slope 9.0%",
         "type": "scatter",
         "x": {
          "bdata": "D7yAXEsbz0DFix1xDCnPQImm/PLoNs9A",
          "dtype": "f8"
         },
         "y": {
          "bdata": "AAAAAAB6kEDNzMzMzISQQDMzMzMzkZBA",
          "dtype": "f8"
         }
        },
        {
         "fill": "tozeroy",
         "fillcolor": "#800080",
         "hovertemplate": "Avg slope (100m): 10.5%<br>Length: 19.86 km",
         "mode": "none",
         "name": "Slope 10.5%",
         "type": "scatter",
         "x": {
          "bdata": "iab88ug2z0CLAN3n1kDPQA==",
          "dtype": "f8"
         },
         "y": {
          "bdata": "MzMzMzORkECamZmZmZeQQA==",
          "dtype": "f8"
         }
        },
        {
         "fill": "tozeroy",
         "fillcolor": "#ee0000",
         "hovertemplate": "Avg slope (100m): 9.6%<br>Length: 24.56 km",
         "mode": "none",
         "name": "Slope 9.6%",
         "type": "scatter",
         "x": {
          "bdata": "iwDd59ZAz0ACr0uTHk3PQA==",
          "dtype": "f8"
         },
         "y": {
          "bdata": "mpmZmZmXkEDNzMzMzJyQQA==",
          "dtype": "f8"
         }
        },
        {
         "fill": "tozeroy",
         "fillcolor": "#ffd300",
         "hovertemplate": "Avg slope (100m): 6.7%<br>Length: 29.40 km",
         "mode": "none",
         "name": "Slope 6.7%",
         "type": "scatter",
         "x": {
          "bdata": "Aq9Lkx5Nz0D/7UX+0VvPQA==",
          "dtype": "f8"
         },
         "y": {
          "bdata": "zczMzMyckEAzMzMzM5+QQA==",
          "dtype": "f8"
         }
        },
        {
         "fill": "tozeroy",
         "fillcolor": "#75f60c",
         "hovertemplate": "Avg slope (100m): 3.7%<br>Length: 131.24 km",
         "mode": "none",
         "name": "Slope 3.7%",
         "type": "scatter",
         "x": {
          "bdata": "/+1F/tFbz0AYZzQTWHLPQImsijDyg89AFI/5dHCdz0A=",
          "dtype": "f8"
         },
         "y": {
          "bdata": "MzMzMzOfkEAzMzMzM6OQQGZmZmZmqJBAzczMzMyykEA=",
          "dtype": "f8"
         }
        },
        {
         "fill": "tozeroy",
         "fillcolor": "#00a0ff",
         "hovertemplate": "Avg slope (100m): 4.4%<br>Length: 55.85 km",
         "mode": "none",
         "name": "Slope 4.4%",
         "type": "scatter",
         "x": {
          "bdata": "FI/5dHCdz0ABRG7cXLnPQA==",
          "dtype": "f8"
         },
         "y": {
          "bdata": "zczMzMyykEBmZmZmZsKQQA==",
          "dtype": "f8"
         }
        },
        {
         "fill": "tozeroy",
         "fillcolor": "#ffd300",
         "hovertemplate": "Avg slope (100m): 6.0%<br>Length: 36.74 km",
         "mode": "none",
         "name": "Slope 6.0%",
         "type": "scatter",
         "x": {
          "bdata": "AURu3Fy5z0DYnZnRd8PPQEDo2py7y89A",
          "dtype": "f8"
         },
         "y": {
          "bdata": "ZmZmZmbCkEAzMzMzM8mQQM3MzMzMzpBA",
          "dtype": "f8"
         }
        },
        {
         "fill": "tozeroy",
         "fillcolor": "#ee0000",
         "hovertemplate": "Avg slope (100m): 8.4%<br>Length: 30.46 km",
         "mode": "none",
         "name": "Slope 8.4%",
         "type": "scatter",
         "x": {
          "bdata": "QOjanLvLz0AeFuDm9drPQA==",
          "dtype": "f8"
         },
         "y": {
          "bdata": "zczMzMzOkEBmZmZmZtSQQA==",
          "dtype": "f8"
         }
        },
        {
         "fill": "tozeroy",
         "fillcolor": "#ffd300",
         "hovertemplate": "Avg slope (100m): 6.5%<br>Length: 40.06 km",
         "mode": "none",
         "name": "Slope 6.5%",
         "type": "scatter",
         "x": {
          "bdata": "Hhbg5vXaz0BNfeMH/u7PQA==",
          "dtype": "f8"
         },
         "y": {
          "bdata": "ZmZmZmbUkEAzMzMzM9mQQA==",
          "dtype": "f8"
         }
        },
        {
         "fill": "tozeroy",
         "fillcolor": "#75f60c",
         "hovertemplate": "Avg slope (100m): 3.8%<br>Length: 70.13 km",
         "mode": "none",
         "name": "Slope 3.8%",
         "type": "scatter",
         "x": {
          "bdata": "TX3jB/7uz0DvlYcDrADQQDHwtV8HCdBA",
          "dtype": "f8"
         },
         "y": {
          "bdata": "MzMzMzPZkEBmZmZmZuCQQM3MzMzM6JBA",
          "dtype": "f8"
         }
        },
        {
         "fill": "tozeroy",
         "fillcolor": "#00a0ff",
         "hovertemplate": "Avg slope (100m): 5.6%<br>Length: 32.79 km",
         "mode": "none",
         "name": "Slope 5.6%",
         "type": "scatter",
         "x": {
          "bdata": "MfC1XwcJ0ECFmucUOhHQQA==",
          "dtype": "f8"
         },
         "y": {
          "bdata": "zczMzMzokEAzMzMzM/GQQA==",
          "dtype": "f8"
         }
        },
        {
         "fill": "tozeroy",
         "fillcolor": "#ffd300",
         "hovertemplate": "Avg slope (100m): 6.3%<br>Length: 408.38 km",
         "mode": "none",
         "name": "Slope 6.3%",
         "type": "scatter",
         "x": {
          "bdata": "hZrnFDoR0ECwVvEt7BvQQATAt8dqI9BAesN6yYkv0EDwZ3k8ATTQQFvi9EWLOtBAmEFCVSJE0EDEDGCbx0vQQF0TkR6FVNBAfnTx0atc0ECNTrz3vGXQQNCn36mebtBAdXt8IVJ30EA=",
          "dtype": "f8"
         },
         "y": {
          "bdata": "MzMzMzPxkEDNzMzMzPyQQJqZmZmZBZFAzczMzMwUkUAAAAAAABqRQDMzMzMzIZFAAAAAAAAskUDNzMzMzDSRQM3MzMzMPpFAmpmZmZlHkUCamZmZmVGRQM3MzMzMXJFAMzMzMzNhkUA=",
          "dtype": "f8"
         }
        },
        {
         "fill": "tozeroy",
         "fillcolor": "#00a0ff",
         "hovertemplate": "Avg slope (100m): 5.5%<br>Length: 64.19 km",
         "mode": "none",
         "name": "Slope 5.5%",
         "type": "scatter",
         "x": {
          "bdata": "dXt8IVJ30EDOdabhfn/QQJJB8ppeh9BA",
          "dtype": "f8"
         },
         "y": {
          "bdata": "MzMzMzNhkUAzMzMzM2uRQM3MzMzMdJFA",
          "dtype": "f8"
         }
        },
        {
         "fill": "tozeroy",
         "fillcolor": "#ffd300",
         "hovertemplate": "Avg slope (100m): 7.6%<br>Length: 57.70 km",
         "mode": "none",
         "name": "Slope 7.6%",
         "type": "scatter",
         "x": {
          "bdata": "kkHyml6H0EDpGjoZVY/QQONRbETLldBA",
          "dtype": "f8"
         },
         "y": {
          "bdata": "zczMzMx0kUAzMzMzM3+RQAAAAAAAiJFA",
          "dtype": "f8"
         }
        },
        {
         "fill": "tozeroy",
         "fillcolor": "#ee0000",
         "hovertemplate": "Avg slope (100m): 8.3%<br>Length: 487.19 km",
         "mode": "none",
         "name": "Slope 8.3%",
         "type": "scatter",
         "x": {
          "bdata": "41FsRMuV0ED69t0Pn6DQQC7TWM8Cp9BAsDqcWyGu0EB3Lw1fdLXQQI36TAgBvdBAQ5Ba4v3C0EB2HFY/2MjQQK46lEzfztBA1ulRkuXU0EBRIue9V9vQQNS8TTpU49BAu9WTQ5nq0ECSU4fgvvHQQGyYOMoU+dBAvGSOdzYD0UCN34WA+wjRQAUnU0uXD9FA",
          "dtype": "f8"
         },
         "y": {
          "bdata": "AAAAAACIkUAzMzMzM5eRQM3MzMzMoJFAMzMzMzOrkUAzMzMzM7WRQM3MzMzMvpFAzczMzMzGkUBmZmZmZs6RQGZmZmZm1pFAZmZmZmbekUCamZmZmeeRQAAAAAAA8pFAmpmZmZn7kUAAAAAAAAaSQAAAAAAAEJJAzczMzMwckkBmZmZmZiSSQGZmZmZmLJJA",
          "dtype": "f8"
         }
        },
        {
         "fill": "tozeroy",
         "fillcolor": "#ffd300",
         "hovertemplate": "Avg slope (100m): 7.9%<br>Length: 91.85 km",
         "mode": "none",
         "name": "Slope 7.9%",
         "type": "scatter",
         "x": {
          "bdata": "BSdTS5cP0UBrmFk20RjRQPzF2N2NJtFA",
          "dtype": "f8"
         },
         "y": {
          "bdata": "ZmZmZmYskkCamZmZmTWSQGZmZmZmQJJA",
          "dtype": "f8"
         }
        },
        {
         "fill": "tozeroy",
         "fillcolor": "#00a0ff",
         "hovertemplate": "Avg slope (100m): 5.6%<br>Length: 46.90 km",
         "mode": "none",
         "name": "Slope 5.6%",
         "type": "scatter",
         "x": {
          "bdata": "/MXY3Y0m0UAE/eS7RzLRQA==",
          "dtype": "f8"
         },
         "y": {
          "bdata": "ZmZmZmZAkkCamZmZmUOSQA==",
          "dtype": "f8"
         }
        },
        {
         "fill": "tozeroy",
         "fillcolor": "#75f60c",
         "hovertemplate": "Avg slope (100m): 3.3%<br>Length: 95.41 km",
         "mode": "none",
         "name": "Slope 3.3%",
         "type": "scatter",
         "x": {
          "bdata": "BP3ku0cy0UA1HhYXEjnRQJ1dnLIdQdFA9DEqRCJK0UA=",
          "dtype": "f8"
         },
         "y": {
          "bdata": "mpmZmZlDkkBmZmZmZkaSQDMzMzMzSZJAMzMzMzNLkkA=",
          "dtype": "f8"
         }
        }
       ],
       "layout": {
        "height": 650,
        "margin": {
         "b": 50,
         "l": 50,
         "r": 50,
         "t": 80
        },
        "plot_bgcolor": "white",
        "template": {
         "data": {
          "bar": [
           {
            "error_x": {
             "color": "#2a3f5f"
            },
            "error_y": {
             "color": "#2a3f5f"
            },
            "marker": {
             "line": {
              "color": "#E5ECF6",
              "width": 0.5
             },
             "pattern": {
              "fillmode": "overlay",
              "size": 10,
              "solidity": 0.2
             }
            },
            "type": "bar"
           }
          ],
          "barpolar": [
           {
            "marker": {
             "line": {
              "color": "#E5ECF6",
              "width": 0.5
             },
             "pattern": {
              "fillmode": "overlay",
              "size": 10,
              "solidity": 0.2
             }
            },
            "type": "barpolar"
           }
          ],
          "carpet": [
           {
            "aaxis": {
             "endlinecolor": "#2a3f5f",
             "gridcolor": "white",
             "linecolor": "white",
             "minorgridcolor": "white",
             "startlinecolor": "#2a3f5f"
            },
            "baxis": {
             "endlinecolor": "#2a3f5f",
             "gridcolor": "white",
             "linecolor": "white",
             "minorgridcolor": "white",
             "startlinecolor": "#2a3f5f"
            },
            "type": "carpet"
           }
          ],
          "choropleth": [
           {
            "colorbar": {
             "outlinewidth": 0,
             "ticks": ""
            },
            "type": "choropleth"
           }
          ],
          "contour": [
           {
            "colorbar": {
             "outlinewidth": 0,
             "ticks": ""
            },
            "colorscale": [
             [
              0,
              "#0d0887"
             ],
             [
              0.1111111111111111,
              "#46039f"
             ],
             [
              0.2222222222222222,
              "#7201a8"
             ],
             [
              0.3333333333333333,
              "#9c179e"
             ],
             [
              0.4444444444444444,
              "#bd3786"
             ],
             [
              0.5555555555555556,
              "#d8576b"
             ],
             [
              0.6666666666666666,
              "#ed7953"
             ],
             [
              0.7777777777777778,
              "#fb9f3a"
             ],
             [
              0.8888888888888888,
              "#fdca26"
             ],
             [
              1,
              "#f0f921"
             ]
            ],
            "type": "contour"
           }
          ],
          "contourcarpet": [
           {
            "colorbar": {
             "outlinewidth": 0,
             "ticks": ""
            },
            "type": "contourcarpet"
           }
          ],
          "heatmap": [
           {
            "colorbar": {
             "outlinewidth": 0,
             "ticks": ""
            },
            "colorscale": [
             [
              0,
              "#0d0887"
             ],
             [
              0.1111111111111111,
              "#46039f"
             ],
             [
              0.2222222222222222,
              "#7201a8"
             ],
             [
              0.3333333333333333,
              "#9c179e"
             ],
             [
              0.4444444444444444,
              "#bd3786"
             ],
             [
              0.5555555555555556,
              "#d8576b"
             ],
             [
              0.6666666666666666,
              "#ed7953"
             ],
             [
              0.7777777777777778,
              "#fb9f3a"
             ],
             [
              0.8888888888888888,
              "#fdca26"
             ],
             [
              1,
              "#f0f921"
             ]
            ],
            "type": "heatmap"
           }
          ],
          "histogram": [
           {
            "marker": {
             "pattern": {
              "fillmode": "overlay",
              "size": 10,
              "solidity": 0.2
             }
            },
            "type": "histogram"
           }
          ],
          "histogram2d": [
           {
            "colorbar": {
             "outlinewidth": 0,
             "ticks": ""
            },
            "colorscale": [
             [
              0,
              "#0d0887"
             ],
             [
              0.1111111111111111,
              "#46039f"
             ],
             [
              0.2222222222222222,
              "#7201a8"
             ],
             [
              0.3333333333333333,
              "#9c179e"
             ],
             [
              0.4444444444444444,
              "#bd3786"
             ],
             [
              0.5555555555555556,
              "#d8576b"
             ],
             [
              0.6666666666666666,
              "#ed7953"
             ],
             [
              0.7777777777777778,
              "#fb9f3a"
             ],
             [
              0.8888888888888888,
              "#fdca26"
             ],
             [
              1,
              "#f0f921"
             ]
            ],
            "type": "histogram2d"
           }
          ],
          "histogram2dcontour": [
           {
            "colorbar": {
             "outlinewidth": 0,
             "ticks": ""
            },
            "colorscale": [
             [
              0,
              "#0d0887"
             ],
             [
              0.1111111111111111,
              "#46039f"
             ],
             [
              0.2222222222222222,
              "#7201a8"
             ],
             [
              0.3333333333333333,
              "#9c179e"
             ],
             [
              0.4444444444444444,
              "#bd3786"
             ],
             [
              0.5555555555555556,
              "#d8576b"
             ],
             [
              0.6666666666666666,
              "#ed7953"
             ],
             [
              0.7777777777777778,
              "#fb9f3a"
             ],
             [
              0.8888888888888888,
              "#fdca26"
             ],
             [
              1,
              "#f0f921"
             ]
            ],
            "type": "histogram2dcontour"
           }
          ],
          "mesh3d": [
           {
            "colorbar": {
             "outlinewidth": 0,
             "ticks": ""
            },
            "type": "mesh3d"
           }
          ],
          "parcoords": [
           {
            "line": {
             "colorbar": {
              "outlinewidth": 0,
              "ticks": ""
             }
            },
            "type": "parcoords"
           }
          ],
          "pie": [
           {
            "automargin": true,
            "type": "pie"
           }
          ],
          "scatter": [
           {
            "fillpattern": {
             "fillmode": "overlay",
             "size": 10,
             "solidity": 0.2
            },
            "type": "scatter"
           }
          ],
          "scatter3d": [
           {
            "line": {
             "colorbar": {
              "outlinewidth": 0,
              "ticks": ""
             }
            },
            "marker": {
             "colorbar": {
              "outlinewidth": 0,
              "ticks": ""
             }
            },
            "type": "scatter3d"
           }
          ],
          "scattercarpet": [
           {
            "marker": {
             "colorbar": {
              "outlinewidth": 0,
              "ticks": ""
             }
            },
            "type": "scattercarpet"
           }
          ],
          "scattergeo": [
           {
            "marker": {
             "colorbar": {
              "outlinewidth": 0,
              "ticks": ""
             }
            },
            "type": "scattergeo"
           }
          ],
          "scattergl": [
           {
            "marker": {
             "colorbar": {
              "outlinewidth": 0,
              "ticks": ""
             }
            },
            "type": "scattergl"
           }
          ],
          "scattermap": [
           {
            "marker": {
             "colorbar": {
              "outlinewidth": 0,
              "ticks": ""
             }
            },
            "type": "scattermap"
           }
          ],
          "scattermapbox": [
           {
            "marker": {
             "colorbar": {
              "outlinewidth": 0,
              "ticks": ""
             }
            },
            "type": "scattermapbox"
           }
          ],
          "scatterpolar": [
           {
            "marker": {
             "colorbar": {
              "outlinewidth": 0,
              "ticks": ""
             }
            },
            "type": "scatterpolar"
           }
          ],
          "scatterpolargl": [
           {
            "marker": {
             "colorbar": {
              "outlinewidth": 0,
              "ticks": ""
             }
            },
            "type": "scatterpolargl"
           }
          ],
          "scatterternary": [
           {
            "marker": {
             "colorbar": {
              "outlinewidth": 0,
              "ticks": ""
             }
            },
            "type": "scatterternary"
           }
          ],
          "surface": [
           {
            "colorbar": {
             "outlinewidth": 0,
             "ticks": ""
            },
            "colorscale": [
             [
              0,
              "#0d0887"
             ],
             [
              0.1111111111111111,
              "#46039f"
             ],
             [
              0.2222222222222222,
              "#7201a8"
             ],
             [
              0.3333333333333333,
              "#9c179e"
             ],
             [
              0.4444444444444444,
              "#bd3786"
             ],
             [
              0.5555555555555556,
              "#d8576b"
             ],
             [
              0.6666666666666666,
              "#ed7953"
             ],
             [
              0.7777777777777778,
              "#fb9f3a"
             ],
             [
              0.8888888888888888,
              "#fdca26"
             ],
             [
              1,
              "#f0f921"
             ]
            ],
            "type": "surface"
           }
          ],
          "table": [
           {
            "cells": {
             "fill": {
              "color": "#EBF0F8"
             },
             "line": {
              "color": "white"
             }
            },
            "header": {
             "fill": {
              "color": "#C8D4E3"
             },
             "line": {
              "color": "white"
             }
            },
            "type": "table"
           }
          ]
         },
         "layout": {
          "annotationdefaults": {
           "arrowcolor": "#2a3f5f",
           "arrowhead": 0,
           "arrowwidth": 1
          },
          "autotypenumbers": "strict",
          "coloraxis": {
           "colorbar": {
            "outlinewidth": 0,
            "ticks": ""
           }
          },
          "colorscale": {
           "diverging": [
            [
             0,
             "#8e0152"
            ],
            [
             0.1,
             "#c51b7d"
            ],
            [
             0.2,
             "#de77ae"
            ],
            [
             0.3,
             "#f1b6da"
            ],
            [
             0.4,
             "#fde0ef"
            ],
            [
             0.5,
             "#f7f7f7"
            ],
            [
             0.6,
             "#e6f5d0"
            ],
            [
             0.7,
             "#b8e186"
            ],
            [
             0.8,
             "#7fbc41"
            ],
            [
             0.9,
             "#4d9221"
            ],
            [
             1,
             "#276419"
            ]
           ],
           "sequential": [
            [
             0,
             "#0d0887"
            ],
            [
             0.1111111111111111,
             "#46039f"
            ],
            [
             0.2222222222222222,
             "#7201a8"
            ],
            [
             0.3333333333333333,
             "#9c179e"
            ],
            [
             0.4444444444444444,
             "#bd3786"
            ],
            [
             0.5555555555555556,
             "#d8576b"
            ],
            [
             0.6666666666666666,
             "#ed7953"
            ],
            [
             0.7777777777777778,
             "#fb9f3a"
            ],
            [
             0.8888888888888888,
             "#fdca26"
            ],
            [
             1,
             "#f0f921"
            ]
           ],
           "sequentialminus": [
            [
             0,
             "#0d0887"
            ],
            [
             0.1111111111111111,
             "#46039f"
            ],
            [
             0.2222222222222222,
             "#7201a8"
            ],
            [
             0.3333333333333333,
             "#9c179e"
            ],
            [
             0.4444444444444444,
             "#bd3786"
            ],
            [
             0.5555555555555556,
             "#d8576b"
            ],
            [
             0.6666666666666666,
             "#ed7953"
            ],
            [
             0.7777777777777778,
             "#fb9f3a"
            ],
            [
             0.8888888888888888,
             "#fdca26"
            ],
            [
             1,
             "#f0f921"
            ]
           ]
          },
          "colorway": [
           "#636efa",
           "#EF553B",
           "#00cc96",
           "#ab63fa",
           "#FFA15A",
           "#19d3f3",
           "#FF6692",
           "#B6E880",
           "#FF97FF",
           "#FECB52"
          ],
          "font": {
           "color": "#2a3f5f"
          },
          "geo": {
           "bgcolor": "white",
           "lakecolor": "white",
           "landcolor": "#E5ECF6",
           "showlakes": true,
           "showland": true,
           "subunitcolor": "white"
          },
          "hoverlabel": {
           "align": "left"
          },
          "hovermode": "closest",
          "mapbox": {
           "style": "light"
          },
          "paper_bgcolor": "white",
          "plot_bgcolor": "#E5ECF6",
          "polar": {
           "angularaxis": {
            "gridcolor": "white",
            "linecolor": "white",
            "ticks": ""
           },
           "bgcolor": "#E5ECF6",
           "radialaxis": {
            "gridcolor": "white",
            "linecolor": "white",
            "ticks": ""
           }
          },
          "scene": {
           "xaxis": {
            "backgroundcolor": "#E5ECF6",
            "gridcolor": "white",
            "gridwidth": 2,
            "linecolor": "white",
            "showbackground": true,
            "ticks": "",
            "zerolinecolor": "white"
           },
           "yaxis": {
            "backgroundcolor": "#E5ECF6",
            "gridcolor": "white",
            "gridwidth": 2,
            "linecolor": "white",
            "showbackground": true,
            "ticks": "",
            "zerolinecolor": "white"
           },
           "zaxis": {
            "backgroundcolor": "#E5ECF6",
            "gridcolor": "white",
            "gridwidth": 2,
            "linecolor": "white",
            "showbackground": true,
            "ticks": "",
            "zerolinecolor": "white"
           }
          },
          "shapedefaults": {
           "line": {
            "color": "#2a3f5f"
           }
          },
          "ternary": {
           "aaxis": {
            "gridcolor": "white",
            "linecolor": "white",
            "ticks": ""
           },
           "baxis": {
            "gridcolor": "white",
            "linecolor": "white",
            "ticks": ""
           },
           "bgcolor": "#E5ECF6",
           "caxis": {
            "gridcolor": "white",
            "linecolor": "white",
            "ticks": ""
           }
          },
          "title": {
           "x": 0.05
          },
          "xaxis": {
           "automargin": true,
           "gridcolor": "white",
           "linecolor": "white",
           "ticks": "",
           "title": {
            "standoff": 15
           },
           "zerolinecolor": "white",
           "zerolinewidth": 2
          },
          "yaxis": {
           "automargin": true,
           "gridcolor": "white",
           "linecolor": "white",
           "ticks": "",
           "title": {
            "standoff": 15
           },
           "zerolinecolor": "white",
           "zerolinewidth": 2
          }
         }
        },
        "title": {
         "text": "Climb 1 — 13.11 km | 860 m gain | 6.6% avg"
        },
        "xaxis": {
         "showgrid": false
        },
        "yaxis": {
         "showgrid": false
        }
       }
      }
     },
     "metadata": {},
     "output_type": "display_data"
    },
    {
     "data": {
      "application/vnd.plotly.v1+json": {
       "config": {
        "plotlyServerURL": "https://plot.ly"
       },
       "data": [
        {
         "fill": "tozeroy",
         "fillcolor": "#F5F5DC",
         "hovertemplate": "Avg slope (100m): -1.2%<br>Length: 112.91 km",
         "mode": "none",
         "name": "Slope -1.2%",
         "type": "scatter",
         "x": {
          "bdata": "xK41ZTa33UDv/Ssut8jdQGCrR2hw091A",
          "dtype": "f8"
         },
         "y": {
          "bdata": "ZmZmZmZ6gkDNzMzMzIiCQJqZmZmZoYJA",
          "dtype": "f8"
         }
        },
        {
         "fill": "tozeroy",
         "fillcolor": "#00a0ff",
         "hovertemplate": "Avg slope (100m): 4.9%<br>Length: 20.00 km",
         "mode": "none",
         "name": "Slope 4.9%",
         "type": "scatter",
         "x": {
          "bdata": "YKtHaHDT3UA7pHF9cNjdQA==",
          "dtype": "f8"
         },
         "y": {
          "bdata": "mpmZmZmhgkDNzMzMzKyCQA==",
          "dtype": "f8"
         }
        },
        {
         "fill": "tozeroy",
         "fillcolor": "#ffd300",
         "hovertemplate": "Avg slope (100m): 7.1%<br>Length: 58.17 km",
         "mode": "none",
         "name": "Slope 7.1%",
         "type": "scatter",
         "x": {
          "bdata": "O6RxfXDY3UDv4/44SeHdQPxF72X75t1A",
          "dtype": "f8"
         },
         "y": {
          "bdata": "zczMzMysgkDNzMzMzLyCQGZmZmZmxoJA",
          "dtype": "f8"
         }
        },
        {
         "fill": "tozeroy",
         "fillcolor": "#00a0ff",
         "hovertemplate": "Avg slope (100m): 5.5%<br>Length: 123.74 km",
         "mode": "none",
         "name": "Slope 5.5%",
         "type": "scatter",
         "x": {
          "bdata": "/EXvZfvm3UBB0jMB6fTdQDzVU6fP/91AfY4Qq+oF3kA=",
          "dtype": "f8"
         },
         "y": {
          "bdata": "ZmZmZmbGgkAzMzMzM9eCQJqZmZmZ8YJAzczMzMz8gkA=",
          "dtype": "f8"
         }
        },
        {
         "fill": "tozeroy",
         "fillcolor": "#ffd300",
         "hovertemplate": "Avg slope (100m): 6.7%<br>Length: 29.49 km",
         "mode": "none",
         "name": "Slope 6.7%",
         "type": "scatter",
         "x": {
          "bdata": "fY4Qq+oF3kADGeL1SQ3eQA==",
          "dtype": "f8"
         },
         "y": {
          "bdata": "zczMzMz8gkAAAAAAAASDQA==",
          "dtype": "f8"
         }
        },
        {
         "fill": "tozeroy",
         "fillcolor": "#00a0ff",
         "hovertemplate": "Avg slope (100m): 4.4%<br>Length: 252.82 km",
         "mode": "none",
         "name": "Slope 4.4%",
         "type": "scatter",
         "x": {
          "bdata": "Axni9UkN3kDjTzk9sRfeQNhlj5naJN5A+TodU/Ut3kAfASTfbjjeQHDhGu3zQt5AmduDSn5M3kA=",
          "dtype": "f8"
         },
         "y": {
          "bdata": "AAAAAAAEg0DNzMzMzBiDQJqZmZmZKYNAMzMzMzM3g0AAAAAAAEiDQM3MzMzMXINAAAAAAABwg0A=",
          "dtype": "f8"
         }
        },
        {
         "fill": "tozeroy",
         "fillcolor": "#ffd300",
         "hovertemplate": "Avg slope (100m): 6.2%<br>Length: 117.53 km",
         "mode": "none",
         "name": "Slope 6.2%",
         "type": "scatter",
         "x": {
          "bdata": "mduDSn5M3kC8mw0+SlbeQLtCdXYtYN5AlRKlCeBp3kA=",
          "dtype": "f8"
         },
         "y": {
          "bdata": "AAAAAABwg0AzMzMzM4ODQGZmZmZmloNAzczMzMygg0A=",
          "dtype": "f8"
         }
        },
        {
         "fill": "tozeroy",
         "fillcolor": "#00a0ff",
         "hovertemplate": "Avg slope (100m): 4.7%<br>Length: 89.18 km",
         "mode": "none",
         "name": "Slope 4.7%",
         "type": "scatter",
         "x": {
          "bdata": "lRKlCeBp3kBYKVp1D3TeQIrOP2orgN5A",
          "dtype": "f8"
         },
         "y": {
          "bdata": "zczMzMygg0AzMzMzM7eDQAAAAAAA1INA",
          "dtype": "f8"
         }
        },
        {
         "fill": "tozeroy",
         "fillcolor": "#ffd300",
         "hovertemplate": "Avg slope (100m): 7.2%<br>Length: 120.97 km",
         "mode": "none",
         "name": "Slope 7.2%",
         "type": "scatter",
         "x": {
          "bdata": "is4/aiuA3kCU1zUHoYveQGZDwh/7lN5AleiBpWme3kA=",
          "dtype": "f8"
         },
         "y": {
          "bdata": "AAAAAADUg0CamZmZmfGDQGZmZmZmBoRAzczMzMwQhEA=",
          "dtype": "f8"
         }
        },
        {
         "fill": "tozeroy",
         "fillcolor": "#00a0ff",
         "hovertemplate": "Avg slope (100m): 5.2%<br>Length: 20.16 km",
         "mode": "none",
         "name": "Slope 5.2%",
         "type": "scatter",
         "x": {
          "bdata": "leiBpWme3kBa1a3ac6PeQA==",
          "dtype": "f8"
         },
         "y": {
          "bdata": "zczMzMwQhEDNzMzMzBSEQA==",
          "dtype": "f8"
         }
        },
        {
         "fill": "tozeroy",
         "fillcolor": "#75f60c",
         "hovertemplate": "Avg slope (100m): 3.0%<br>Length: 119.03 km",
         "mode": "none",
         "name": "Slope 3.0%",
         "type": "scatter",
         "x": {
          "bdata": "WtWt2nOj3kCNwWvINcHeQA==",
          "dtype": "f8"
         },
         "y": {
          "bdata": "zczMzMwUhEAAAAAAACSEQA==",
          "dtype": "f8"
         }
        }
       ],
       "layout": {
        "height": 650,
        "margin": {
         "b": 50,
         "l": 50,
         "r": 50,
         "t": 80
        },
        "plot_bgcolor": "white",
        "template": {
         "data": {
          "bar": [
           {
            "error_x": {
             "color": "#2a3f5f"
            },
            "error_y": {
             "color": "#2a3f5f"
            },
            "marker": {
             "line": {
              "color": "#E5ECF6",
              "width": 0.5
             },
             "pattern": {
              "fillmode": "overlay",
              "size": 10,
              "solidity": 0.2
             }
            },
            "type": "bar"
           }
          ],
          "barpolar": [
           {
            "marker": {
             "line": {
              "color": "#E5ECF6",
              "width": 0.5
             },
             "pattern": {
              "fillmode": "overlay",
              "size": 10,
              "solidity": 0.2
             }
            },
            "type": "barpolar"
           }
          ],
          "carpet": [
           {
            "aaxis": {
             "endlinecolor": "#2a3f5f",
             "gridcolor": "white",
             "linecolor": "white",
             "minorgridcolor": "white",
             "startlinecolor": "#2a3f5f"
            },
            "baxis": {
             "endlinecolor": "#2a3f5f",
             "gridcolor": "white",
             "linecolor": "white",
             "minorgridcolor": "white",
             "startlinecolor": "#2a3f5f"
            },
            "type": "carpet"
           }
          ],
          "choropleth": [
           {
            "colorbar": {
             "outlinewidth": 0,
             "ticks": ""
            },
            "type": "choropleth"
           }
          ],
          "contour": [
           {
            "colorbar": {
             "outlinewidth": 0,
             "ticks": ""
            },
            "colorscale": [
             [
              0,
              "#0d0887"
             ],
             [
              0.1111111111111111,
              "#46039f"
             ],
             [
              0.2222222222222222,
              "#7201a8"
             ],
             [
              0.3333333333333333,
              "#9c179e"
             ],
             [
              0.4444444444444444,
              "#bd3786"
             ],
             [
              0.5555555555555556,
              "#d8576b"
             ],
             [
              0.6666666666666666,
              "#ed7953"
             ],
             [
              0.7777777777777778,
              "#fb9f3a"
             ],
             [
              0.8888888888888888,
              "#fdca26"
             ],
             [
              1,
              "#f0f921"
             ]
            ],
            "type": "contour"
           }
          ],
          "contourcarpet": [
           {
            "colorbar": {
             "outlinewidth": 0,
             "ticks": ""
            },
            "type": "contourcarpet"
           }
          ],
          "heatmap": [
           {
            "colorbar": {
             "outlinewidth": 0,
             "ticks": ""
            },
            "colorscale": [
             [
              0,
              "#0d0887"
             ],
             [
              0.1111111111111111,
              "#46039f"
             ],
             [
              0.2222222222222222,
              "#7201a8"
             ],
             [
              0.3333333333333333,
              "#9c179e"
             ],
             [
              0.4444444444444444,
              "#bd3786"
             ],
             [
              0.5555555555555556,
              "#d8576b"
             ],
             [
              0.6666666666666666,
              "#ed7953"
             ],
             [
              0.7777777777777778,
              "#fb9f3a"
             ],
             [
              0.8888888888888888,
              "#fdca26"
             ],
             [
              1,
              "#f0f921"
             ]
            ],
            "type": "heatmap"
           }
          ],
          "histogram": [
           {
            "marker": {
             "pattern": {
              "fillmode": "overlay",
              "size": 10,
              "solidity": 0.2
             }
            },
            "type": "histogram"
           }
          ],
          "histogram2d": [
           {
            "colorbar": {
             "outlinewidth": 0,
             "ticks": ""
            },
            "colorscale": [
             [
              0,
              "#0d0887"
             ],
             [
              0.1111111111111111,
              "#46039f"
             ],
             [
              0.2222222222222222,
              "#7201a8"
             ],
             [
              0.3333333333333333,
              "#9c179e"
             ],
             [
              0.4444444444444444,
              "#bd3786"
             ],
             [
              0.5555555555555556,
              "#d8576b"
             ],
             [
              0.6666666666666666,
              "#ed7953"
             ],
             [
              0.7777777777777778,
              "#fb9f3a"
             ],
             [
              0.8888888888888888,
              "#fdca26"
             ],
             [
              1,
              "#f0f921"
             ]
            ],
            "type": "histogram2d"
           }
          ],
          "histogram2dcontour": [
           {
            "colorbar": {
             "outlinewidth": 0,
             "ticks": ""
            },
            "colorscale": [
             [
              0,
              "#0d0887"
             ],
             [
              0.1111111111111111,
              "#46039f"
             ],
             [
              0.2222222222222222,
              "#7201a8"
             ],
             [
              0.3333333333333333,
              "#9c179e"
             ],
             [
              0.4444444444444444,
              "#bd3786"
             ],
             [
              0.5555555555555556,
              "#d8576b"
             ],
             [
              0.6666666666666666,
              "#ed7953"
             ],
             [
              0.7777777777777778,
              "#fb9f3a"
             ],
             [
              0.8888888888888888,
              "#fdca26"
             ],
             [
              1,
              "#f0f921"
             ]
            ],
            "type": "histogram2dcontour"
           }
          ],
          "mesh3d": [
           {
            "colorbar": {
             "outlinewidth": 0,
             "ticks": ""
            },
            "type": "mesh3d"
           }
          ],
          "parcoords": [
           {
            "line": {
             "colorbar": {
              "outlinewidth": 0,
              "ticks": ""
             }
            },
            "type": "parcoords"
           }
          ],
          "pie": [
           {
            "automargin": true,
            "type": "pie"
           }
          ],
          "scatter": [
           {
            "fillpattern": {
             "fillmode": "overlay",
             "size": 10,
             "solidity": 0.2
            },
            "type": "scatter"
           }
          ],
          "scatter3d": [
           {
            "line": {
             "colorbar": {
              "outlinewidth": 0,
              "ticks": ""
             }
            },
            "marker": {
             "colorbar": {
              "outlinewidth": 0,
              "ticks": ""
             }
            },
            "type": "scatter3d"
           }
          ],
          "scattercarpet": [
           {
            "marker": {
             "colorbar": {
              "outlinewidth": 0,
              "ticks": ""
             }
            },
            "type": "scattercarpet"
           }
          ],
          "scattergeo": [
           {
            "marker": {
             "colorbar": {
              "outlinewidth": 0,
              "ticks": ""
             }
            },
            "type": "scattergeo"
           }
          ],
          "scattergl": [
           {
            "marker": {
             "colorbar": {
              "outlinewidth": 0,
              "ticks": ""
             }
            },
            "type": "scattergl"
           }
          ],
          "scattermap": [
           {
            "marker": {
             "colorbar": {
              "outlinewidth": 0,
              "ticks": ""
             }
            },
            "type": "scattermap"
           }
          ],
          "scattermapbox": [
           {
            "marker": {
             "colorbar": {
              "outlinewidth": 0,
              "ticks": ""
             }
            },
            "type": "scattermapbox"
           }
          ],
          "scatterpolar": [
           {
            "marker": {
             "colorbar": {
              "outlinewidth": 0,
              "ticks": ""
             }
            },
            "type": "scatterpolar"
           }
          ],
          "scatterpolargl": [
           {
            "marker": {
             "colorbar": {
              "outlinewidth": 0,
              "ticks": ""
             }
            },
            "type": "scatterpolargl"
           }
          ],
          "scatterternary": [
           {
            "marker": {
             "colorbar": {
              "outlinewidth": 0,
              "ticks": ""
             }
            },
            "type": "scatterternary"
           }
          ],
          "surface": [
           {
            "colorbar": {
             "outlinewidth": 0,
             "ticks": ""
            },
            "colorscale": [
             [
              0,
              "#0d0887"
             ],
             [
              0.1111111111111111,
              "#46039f"
             ],
             [
              0.2222222222222222,
              "#7201a8"
             ],
             [
              0.3333333333333333,
              "#9c179e"
             ],
             [
              0.4444444444444444,
              "#bd3786"
             ],
             [
              0.5555555555555556,
              "#d8576b"
             ],
             [
              0.6666666666666666,
              "#ed7953"
             ],
             [
              0.7777777777777778,
              "#fb9f3a"
             ],
             [
              0.8888888888888888,
              "#fdca26"
             ],
             [
              1,
              "#f0f921"
             ]
            ],
            "type": "surface"
           }
          ],
          "table": [
           {
            "cells": {
             "fill": {
              "color": "#EBF0F8"
             },
             "line": {
              "color": "white"
             }
            },
            "header": {
             "fill": {
              "color": "#C8D4E3"
             },
             "line": {
              "color": "white"
             }
            },
            "type": "table"
           }
          ]
         },
         "layout": {
          "annotationdefaults": {
           "arrowcolor": "#2a3f5f",
           "arrowhead": 0,
           "arrowwidth": 1
          },
          "autotypenumbers": "strict",
          "coloraxis": {
           "colorbar": {
            "outlinewidth": 0,
            "ticks": ""
           }
          },
          "colorscale": {
           "diverging": [
            [
             0,
             "#8e0152"
            ],
            [
             0.1,
             "#c51b7d"
            ],
            [
             0.2,
             "#de77ae"
            ],
            [
             0.3,
             "#f1b6da"
            ],
            [
             0.4,
             "#fde0ef"
            ],
            [
             0.5,
             "#f7f7f7"
            ],
            [
             0.6,
             "#e6f5d0"
            ],
            [
             0.7,
             "#b8e186"
            ],
            [
             0.8,
             "#7fbc41"
            ],
            [
             0.9,
             "#4d9221"
            ],
            [
             1,
             "#276419"
            ]
           ],
           "sequential": [
            [
             0,
             "#0d0887"
            ],
            [
             0.1111111111111111,
             "#46039f"
            ],
            [
             0.2222222222222222,
             "#7201a8"
            ],
            [
             0.3333333333333333,
             "#9c179e"
            ],
            [
             0.4444444444444444,
             "#bd3786"
            ],
            [
             0.5555555555555556,
             "#d8576b"
            ],
            [
             0.6666666666666666,
             "#ed7953"
            ],
            [
             0.7777777777777778,
             "#fb9f3a"
            ],
            [
             0.8888888888888888,
             "#fdca26"
            ],
            [
             1,
             "#f0f921"
            ]
           ],
           "sequentialminus": [
            [
             0,
             "#0d0887"
            ],
            [
             0.1111111111111111,
             "#46039f"
            ],
            [
             0.2222222222222222,
             "#7201a8"
            ],
            [
             0.3333333333333333,
             "#9c179e"
            ],
            [
             0.4444444444444444,
             "#bd3786"
            ],
            [
             0.5555555555555556,
             "#d8576b"
            ],
            [
             0.6666666666666666,
             "#ed7953"
            ],
            [
             0.7777777777777778,
             "#fb9f3a"
            ],
            [
             0.8888888888888888,
             "#fdca26"
            ],
            [
             1,
             "#f0f921"
            ]
           ]
          },
          "colorway": [
           "#636efa",
           "#EF553B",
           "#00cc96",
           "#ab63fa",
           "#FFA15A",
           "#19d3f3",
           "#FF6692",
           "#B6E880",
           "#FF97FF",
           "#FECB52"
          ],
          "font": {
           "color": "#2a3f5f"
          },
          "geo": {
           "bgcolor": "white",
           "lakecolor": "white",
           "landcolor": "#E5ECF6",
           "showlakes": true,
           "showland": true,
           "subunitcolor": "white"
          },
          "hoverlabel": {
           "align": "left"
          },
          "hovermode": "closest",
          "mapbox": {
           "style": "light"
          },
          "paper_bgcolor": "white",
          "plot_bgcolor": "#E5ECF6",
          "polar": {
           "angularaxis": {
            "gridcolor": "white",
            "linecolor": "white",
            "ticks": ""
           },
           "bgcolor": "#E5ECF6",
           "radialaxis": {
            "gridcolor": "white",
            "linecolor": "white",
            "ticks": ""
           }
          },
          "scene": {
           "xaxis": {
            "backgroundcolor": "#E5ECF6",
            "gridcolor": "white",
            "gridwidth": 2,
            "linecolor": "white",
            "showbackground": true,
            "ticks": "",
            "zerolinecolor": "white"
           },
           "yaxis": {
            "backgroundcolor": "#E5ECF6",
            "gridcolor": "white",
            "gridwidth": 2,
            "linecolor": "white",
            "showbackground": true,
            "ticks": "",
            "zerolinecolor": "white"
           },
           "zaxis": {
            "backgroundcolor": "#E5ECF6",
            "gridcolor": "white",
            "gridwidth": 2,
            "linecolor": "white",
            "showbackground": true,
            "ticks": "",
            "zerolinecolor": "white"
           }
          },
          "shapedefaults": {
           "line": {
            "color": "#2a3f5f"
           }
          },
          "ternary": {
           "aaxis": {
            "gridcolor": "white",
            "linecolor": "white",
            "ticks": ""
           },
           "baxis": {
            "gridcolor": "white",
            "linecolor": "white",
            "ticks": ""
           },
           "bgcolor": "#E5ECF6",
           "caxis": {
            "gridcolor": "white",
            "linecolor": "white",
            "ticks": ""
           }
          },
          "title": {
           "x": 0.05
          },
          "xaxis": {
           "automargin": true,
           "gridcolor": "white",
           "linecolor": "white",
           "ticks": "",
           "title": {
            "standoff": 15
           },
           "zerolinecolor": "white",
           "zerolinewidth": 2
          },
          "yaxis": {
           "automargin": true,
           "gridcolor": "white",
           "linecolor": "white",
           "ticks": "",
           "title": {
            "standoff": 15
           },
           "zerolinecolor": "white",
           "zerolinewidth": 2
          }
         }
        },
        "title": {
         "text": "Climb 2 — 1.06 km | 51 m gain | 4.8% avg"
        },
        "xaxis": {
         "showgrid": false
        },
        "yaxis": {
         "showgrid": false
        }
       }
      }
     },
     "metadata": {},
     "output_type": "display_data"
    },
    {
     "data": {
      "application/vnd.plotly.v1+json": {
       "config": {
        "plotlyServerURL": "https://plot.ly"
       },
       "data": [
        {
         "fill": "tozeroy",
         "fillcolor": "#F5F5DC",
         "hovertemplate": "Avg slope (100m): 1.6%<br>Length: 145.67 km",
         "mode": "none",
         "name": "Slope 1.6%",
         "type": "scatter",
         "x": {
          "bdata": "C7LY/MJP30DMhfQTlWLfQHlL8SQudN9A",
          "dtype": "f8"
         },
         "y": {
          "bdata": "ZmZmZmZGhECamZmZmVGEQM3MzMzMZIRA",
          "dtype": "f8"
         }
        },
        {
         "fill": "tozeroy",
         "fillcolor": "#75f60c",
         "hovertemplate": "Avg slope (100m): 2.6%<br>Length: 106.90 km",
         "mode": "none",
         "name": "Slope 2.6%",
         "type": "scatter",
         "x": {
          "bdata": "eUvxJC5030DgNPZj/YLfQJs6ceDnjt9A",
          "dtype": "f8"
         },
         "y": {
          "bdata": "zczMzMxkhEBmZmZmZnqEQM3MzMzMjIRA",
          "dtype": "f8"
         }
        },
        {
         "fill": "tozeroy",
         "fillcolor": "#00a0ff",
         "hovertemplate": "Avg slope (100m): 4.7%<br>Length: 146.78 km",
         "mode": "none",
         "name": "Slope 4.7%",
         "type": "scatter",
         "x": {
          "bdata": "mzpx4OeO30AYtFnkgpjfQPWnAMhQo99Avt06xZmz30A=",
          "dtype": "f8"
         },
         "y": {
          "bdata": "zczMzMyMhEAzMzMzM5uEQGZmZmZmqoRAAAAAAAC8hEA=",
          "dtype": "f8"
         }
        },
        {
         "fill": "tozeroy",
         "fillcolor": "#75f60c",
         "hovertemplate": "Avg slope (100m): 3.9%<br>Length: 487.96 km",
         "mode": "none",
         "name": "Slope 3.9%",
         "type": "scatter",
         "x": {
          "bdata": "vt06xZmz30Cmg1yQDsDfQDwFn7J5yt9Asyu+SVfc30DuO2zQlOzfQIFj5Mge/99AiB8oE6gD4EDjz/YYTArgQAmA37jLFuBA",
          "dtype": "f8"
         },
         "y": {
          "bdata": "AAAAAAC8hEDNzMzMzMSEQAAAAAAAzIRAmpmZmZnZhEDNzMzMzOiEQJqZmZmZ/YRAmpmZmZkFhUAzMzMzMwuFQM3MzMzMEIVA",
          "dtype": "f8"
         }
        },
        {
         "fill": "tozeroy",
         "fillcolor": "#F5F5DC",
         "hovertemplate": "Avg slope (100m): 1.0%<br>Length: 108.86 km",
         "mode": "none",
         "name": "Slope 1.0%",
         "type": "scatter",
         "x": {
          "bdata": "CYDfuMsW4EB0NheP7x7gQNfUMixnJOBA",
          "dtype": "f8"
         },
         "y": {
          "bdata": "zczMzMwQhUCamZmZmRmFQJqZmZmZLYVA",
          "dtype": "f8"
         }
        },
        {
         "fill": "tozeroy",
         "fillcolor": "#75f60c",
         "hovertemplate": "Avg slope (100m): 3.7%<br>Length: 25.95 km",
         "mode": "none",
         "name": "Slope 3.7%",
         "type": "scatter",
         "x": {
          "bdata": "19QyLGck4ECd0Y2LpSfgQA==",
          "dtype": "f8"
         },
         "y": {
          "bdata": "mpmZmZkthUBmZmZmZjqFQA==",
          "dtype": "f8"
         }
        },
        {
         "fill": "tozeroy",
         "fillcolor": "#00a0ff",
         "hovertemplate": "Avg slope (100m): 5.9%<br>Length: 26.06 km",
         "mode": "none",
         "name": "Slope 5.9%",
         "type": "scatter",
         "x": {
          "bdata": "ndGNi6Un4EBBsspt5yrgQA==",
          "dtype": "f8"
         },
         "y": {
          "bdata": "ZmZmZmY6hUAzMzMzM0eFQA==",
          "dtype": "f8"
         }
        },
        {
         "fill": "tozeroy",
         "fillcolor": "#ffd300",
         "hovertemplate": "Avg slope (100m): 6.2%<br>Length: 178.56 km",
         "mode": "none",
         "name": "Slope 6.2%",
         "type": "scatter",
         "x": {
          "bdata": "QbLKbecq4EATP0CEYy7gQBYiIm1zMuBALq2wpII34EC+A1qIdDzgQBdwNEA5QeBA",
          "dtype": "f8"
         },
         "y": {
          "bdata": "MzMzMzNHhUCamZmZmVWFQJqZmZmZZYVAzczMzMx4hUDNzMzMzIyFQJqZmZmZnYVA",
          "dtype": "f8"
         }
        },
        {
         "fill": "tozeroy",
         "fillcolor": "#00a0ff",
         "hovertemplate": "Avg slope (100m): 5.9%<br>Length: 106.03 km",
         "mode": "none",
         "name": "Slope 5.9%",
         "type": "scatter",
         "x": {
          "bdata": "F3A0QDlB4EAKZmUw70jgQG53ZzF6TuBA",
          "dtype": "f8"
         },
         "y": {
          "bdata": "mpmZmZmdhUDNzMzMzLyFQDMzMzMz04VA",
          "dtype": "f8"
         }
        },
        {
         "fill": "tozeroy",
         "fillcolor": "#ffd300",
         "hovertemplate": "Avg slope (100m): 6.3%<br>Length: 106.94 km",
         "mode": "none",
         "name": "Slope 6.3%",
         "type": "scatter",
         "x": {
          "bdata": "bndnMXpO4EDmZII8TVLgQOvzUronV+BAsfxbZ9hb4EA=",
          "dtype": "f8"
         },
         "y": {
          "bdata": "MzMzMzPThUBmZmZmZuKFQM3MzMzM9IVAmpmZmZkFhkA=",
          "dtype": "f8"
         }
        },
        {
         "fill": "tozeroy",
         "fillcolor": "#00a0ff",
         "hovertemplate": "Avg slope (100m): 5.8%<br>Length: 148.20 km",
         "mode": "none",
         "name": "Slope 5.8%",
         "type": "scatter",
         "x": {
          "bdata": "sfxbZ9hb4EDADficFmHgQMA38XaIZuBA4lXquVxq4EDKUF26Xm7gQA==",
          "dtype": "f8"
         },
         "y": {
          "bdata": "mpmZmZkFhkBmZmZmZhaGQDMzMzMzJ4ZAmpmZmZkxhkAAAAAAADSGQA==",
          "dtype": "f8"
         }
        },
        {
         "fill": "tozeroy",
         "fillcolor": "#75f60c",
         "hovertemplate": "Avg slope (100m): 2.6%<br>Length: 102.94 km",
         "mode": "none",
         "name": "Slope 2.6%",
         "type": "scatter",
         "x": {
          "bdata": "ylBdul5u4ECU2EyQG3TgQFSqxto8e+BA",
          "dtype": "f8"
         },
         "y": {
          "bdata": "AAAAAAA0hkCamZmZmUGGQJqZmZmZXYZA",
          "dtype": "f8"
         }
        },
        {
         "fill": "tozeroy",
         "fillcolor": "#00a0ff",
         "hovertemplate": "Avg slope (100m): 4.9%<br>Length: 40.10 km",
         "mode": "none",
         "name": "Slope 4.9%",
         "type": "scatter",
         "x": {
          "bdata": "VKrG2jx74EDGaWYeQIDgQA==",
          "dtype": "f8"
         },
         "y": {
          "bdata": "mpmZmZldhkBmZmZmZnKGQA==",
          "dtype": "f8"
         }
        },
        {
         "fill": "tozeroy",
         "fillcolor": "#ffd300",
         "hovertemplate": "Avg slope (100m): 6.3%<br>Length: 126.79 km",
         "mode": "none",
         "name": "Slope 6.3%",
         "type": "scatter",
         "x": {
          "bdata": "xmlmHkCA4EBK4vQhroXgQEiwzWZLi+BAp+MUgxmQ4EA=",
          "dtype": "f8"
         },
         "y": {
          "bdata": "ZmZmZmZyhkCamZmZmYmGQDMzMzMzn4ZAzczMzMywhkA=",
          "dtype": "f8"
         }
        },
        {
         "fill": "tozeroy",
         "fillcolor": "#00a0ff",
         "hovertemplate": "Avg slope (100m): 5.9%<br>Length: 108.23 km",
         "mode": "none",
         "name": "Slope 5.9%",
         "type": "scatter",
         "x": {
          "bdata": "p+MUgxmQ4ED5XWR+tpXgQMfMetOgneBA",
          "dtype": "f8"
         },
         "y": {
          "bdata": "zczMzMywhkBmZmZmZr6GQAAAAAAA0IZA",
          "dtype": "f8"
         }
        },
        {
         "fill": "tozeroy",
         "fillcolor": "#75f60c",
         "hovertemplate": "Avg slope (100m): 3.6%<br>Length: 299.66 km",
         "mode": "none",
         "name": "Slope 3.6%",
         "type": "scatter",
         "x": {
          "bdata": "x8x606Cd4EB4BWNIaKLgQOruzEWzqOBACowm/iqy4ECsew4db7jgQIykk9oVw+BA",
          "dtype": "f8"
         },
         "y": {
          "bdata": "AAAAAADQhkDNzMzMzNiGQGZmZmZm5oZAzczMzMz0hkBmZmZmZv6GQGZmZmZmCodA",
          "dtype": "f8"
         }
        }
       ],
       "layout": {
        "height": 650,
        "margin": {
         "b": 50,
         "l": 50,
         "r": 50,
         "t": 80
        },
        "plot_bgcolor": "white",
        "template": {
         "data": {
          "bar": [
           {
            "error_x": {
             "color": "#2a3f5f"
            },
            "error_y": {
             "color": "#2a3f5f"
            },
            "marker": {
             "line": {
              "color": "#E5ECF6",
              "width": 0.5
             },
             "pattern": {
              "fillmode": "overlay",
              "size": 10,
              "solidity": 0.2
             }
            },
            "type": "bar"
           }
          ],
          "barpolar": [
           {
            "marker": {
             "line": {
              "color": "#E5ECF6",
              "width": 0.5
             },
             "pattern": {
              "fillmode": "overlay",
              "size": 10,
              "solidity": 0.2
             }
            },
            "type": "barpolar"
           }
          ],
          "carpet": [
           {
            "aaxis": {
             "endlinecolor": "#2a3f5f",
             "gridcolor": "white",
             "linecolor": "white",
             "minorgridcolor": "white",
             "startlinecolor": "#2a3f5f"
            },
            "baxis": {
             "endlinecolor": "#2a3f5f",
             "gridcolor": "white",
             "linecolor": "white",
             "minorgridcolor": "white",
             "startlinecolor": "#2a3f5f"
            },
            "type": "carpet"
           }
          ],
          "choropleth": [
           {
            "colorbar": {
             "outlinewidth": 0,
             "ticks": ""
            },
            "type": "choropleth"
           }
          ],
          "contour": [
           {
            "colorbar": {
             "outlinewidth": 0,
             "ticks": ""
            },
            "colorscale": [
             [
              0,
              "#0d0887"
             ],
             [
              0.1111111111111111,
              "#46039f"
             ],
             [
              0.2222222222222222,
              "#7201a8"
             ],
             [
              0.3333333333333333,
              "#9c179e"
             ],
             [
              0.4444444444444444,
              "#bd3786"
             ],
             [
              0.5555555555555556,
              "#d8576b"
             ],
             [
              0.6666666666666666,
              "#ed7953"
             ],
             [
              0.7777777777777778,
              "#fb9f3a"
             ],
             [
              0.8888888888888888,
              "#fdca26"
             ],
             [
              1,
              "#f0f921"
             ]
            ],
            "type": "contour"
           }
          ],
          "contourcarpet": [
           {
            "colorbar": {
             "outlinewidth": 0,
             "ticks": ""
            },
            "type": "contourcarpet"
           }
          ],
          "heatmap": [
           {
            "colorbar": {
             "outlinewidth": 0,
             "ticks": ""
            },
            "colorscale": [
             [
              0,
              "#0d0887"
             ],
             [
              0.1111111111111111,
              "#46039f"
             ],
             [
              0.2222222222222222,
              "#7201a8"
             ],
             [
              0.3333333333333333,
              "#9c179e"
             ],
             [
              0.4444444444444444,
              "#bd3786"
             ],
             [
              0.5555555555555556,
              "#d8576b"
             ],
             [
              0.6666666666666666,
              "#ed7953"
             ],
             [
              0.7777777777777778,
              "#fb9f3a"
             ],
             [
              0.8888888888888888,
              "#fdca26"
             ],
             [
              1,
              "#f0f921"
             ]
            ],
            "type": "heatmap"
           }
          ],
          "histogram": [
           {
            "marker": {
             "pattern": {
              "fillmode": "overlay",
              "size": 10,
              "solidity": 0.2
             }
            },
            "type": "histogram"
           }
          ],
          "histogram2d": [
           {
            "colorbar": {
             "outlinewidth": 0,
             "ticks": ""
            },
            "colorscale": [
             [
              0,
              "#0d0887"
             ],
             [
              0.1111111111111111,
              "#46039f"
             ],
             [
              0.2222222222222222,
              "#7201a8"
             ],
             [
              0.3333333333333333,
              "#9c179e"
             ],
             [
              0.4444444444444444,
              "#bd3786"
             ],
             [
              0.5555555555555556,
              "#d8576b"
             ],
             [
              0.6666666666666666,
              "#ed7953"
             ],
             [
              0.7777777777777778,
              "#fb9f3a"
             ],
             [
              0.8888888888888888,
              "#fdca26"
             ],
             [
              1,
              "#f0f921"
             ]
            ],
            "type": "histogram2d"
           }
          ],
          "histogram2dcontour": [
           {
            "colorbar": {
             "outlinewidth": 0,
             "ticks": ""
            },
            "colorscale": [
             [
              0,
              "#0d0887"
             ],
             [
              0.1111111111111111,
              "#46039f"
             ],
             [
              0.2222222222222222,
              "#7201a8"
             ],
             [
              0.3333333333333333,
              "#9c179e"
             ],
             [
              0.4444444444444444,
              "#bd3786"
             ],
             [
              0.5555555555555556,
              "#d8576b"
             ],
             [
              0.6666666666666666,
              "#ed7953"
             ],
             [
              0.7777777777777778,
              "#fb9f3a"
             ],
             [
              0.8888888888888888,
              "#fdca26"
             ],
             [
              1,
              "#f0f921"
             ]
            ],
            "type": "histogram2dcontour"
           }
          ],
          "mesh3d": [
           {
            "colorbar": {
             "outlinewidth": 0,
             "ticks": ""
            },
            "type": "mesh3d"
           }
          ],
          "parcoords": [
           {
            "line": {
             "colorbar": {
              "outlinewidth": 0,
              "ticks": ""
             }
            },
            "type": "parcoords"
           }
          ],
          "pie": [
           {
            "automargin": true,
            "type": "pie"
           }
          ],
          "scatter": [
           {
            "fillpattern": {
             "fillmode": "overlay",
             "size": 10,
             "solidity": 0.2
            },
            "type": "scatter"
           }
          ],
          "scatter3d": [
           {
            "line": {
             "colorbar": {
              "outlinewidth": 0,
              "ticks": ""
             }
            },
            "marker": {
             "colorbar": {
              "outlinewidth": 0,
              "ticks": ""
             }
            },
            "type": "scatter3d"
           }
          ],
          "scattercarpet": [
           {
            "marker": {
             "colorbar": {
              "outlinewidth": 0,
              "ticks": ""
             }
            },
            "type": "scattercarpet"
           }
          ],
          "scattergeo": [
           {
            "marker": {
             "colorbar": {
              "outlinewidth": 0,
              "ticks": ""
             }
            },
            "type": "scattergeo"
           }
          ],
          "scattergl": [
           {
            "marker": {
             "colorbar": {
              "outlinewidth": 0,
              "ticks": ""
             }
            },
            "type": "scattergl"
           }
          ],
          "scattermap": [
           {
            "marker": {
             "colorbar": {
              "outlinewidth": 0,
              "ticks": ""
             }
            },
            "type": "scattermap"
           }
          ],
          "scattermapbox": [
           {
            "marker": {
             "colorbar": {
              "outlinewidth": 0,
              "ticks": ""
             }
            },
            "type": "scattermapbox"
           }
          ],
          "scatterpolar": [
           {
            "marker": {
             "colorbar": {
              "outlinewidth": 0,
              "ticks": ""
             }
            },
            "type": "scatterpolar"
           }
          ],
          "scatterpolargl": [
           {
            "marker": {
             "colorbar": {
              "outlinewidth": 0,
              "ticks": ""
             }
            },
            "type": "scatterpolargl"
           }
          ],
          "scatterternary": [
           {
            "marker": {
             "colorbar": {
              "outlinewidth": 0,
              "ticks": ""
             }
            },
            "type": "scatterternary"
           }
          ],
          "surface": [
           {
            "colorbar": {
             "outlinewidth": 0,
             "ticks": ""
            },
            "colorscale": [
             [
              0,
              "#0d0887"
             ],
             [
              0.1111111111111111,
              "#46039f"
             ],
             [
              0.2222222222222222,
              "#7201a8"
             ],
             [
              0.3333333333333333,
              "#9c179e"
             ],
             [
              0.4444444444444444,
              "#bd3786"
             ],
             [
              0.5555555555555556,
              "#d8576b"
             ],
             [
              0.6666666666666666,
              "#ed7953"
             ],
             [
              0.7777777777777778,
              "#fb9f3a"
             ],
             [
              0.8888888888888888,
              "#fdca26"
             ],
             [
              1,
              "#f0f921"
             ]
            ],
            "type": "surface"
           }
          ],
          "table": [
           {
            "cells": {
             "fill": {
              "color": "#EBF0F8"
             },
             "line": {
              "color": "white"
             }
            },
            "header": {
             "fill": {
              "color": "#C8D4E3"
             },
             "line": {
              "color": "white"
             }
            },
            "type": "table"
           }
          ]
         },
         "layout": {
          "annotationdefaults": {
           "arrowcolor": "#2a3f5f",
           "arrowhead": 0,
           "arrowwidth": 1
          },
          "autotypenumbers": "strict",
          "coloraxis": {
           "colorbar": {
            "outlinewidth": 0,
            "ticks": ""
           }
          },
          "colorscale": {
           "diverging": [
            [
             0,
             "#8e0152"
            ],
            [
             0.1,
             "#c51b7d"
            ],
            [
             0.2,
             "#de77ae"
            ],
            [
             0.3,
             "#f1b6da"
            ],
            [
             0.4,
             "#fde0ef"
            ],
            [
             0.5,
             "#f7f7f7"
            ],
            [
             0.6,
             "#e6f5d0"
            ],
            [
             0.7,
             "#b8e186"
            ],
            [
             0.8,
             "#7fbc41"
            ],
            [
             0.9,
             "#4d9221"
            ],
            [
             1,
             "#276419"
            ]
           ],
           "sequential": [
            [
             0,
             "#0d0887"
            ],
            [
             0.1111111111111111,
             "#46039f"
            ],
            [
             0.2222222222222222,
             "#7201a8"
            ],
            [
             0.3333333333333333,
             "#9c179e"
            ],
            [
             0.4444444444444444,
             "#bd3786"
            ],
            [
             0.5555555555555556,
             "#d8576b"
            ],
            [
             0.6666666666666666,
             "#ed7953"
            ],
            [
             0.7777777777777778,
             "#fb9f3a"
            ],
            [
             0.8888888888888888,
             "#fdca26"
            ],
            [
             1,
             "#f0f921"
            ]
           ],
           "sequentialminus": [
            [
             0,
             "#0d0887"
            ],
            [
             0.1111111111111111,
             "#46039f"
            ],
            [
             0.2222222222222222,
             "#7201a8"
            ],
            [
             0.3333333333333333,
             "#9c179e"
            ],
            [
             0.4444444444444444,
             "#bd3786"
            ],
            [
             0.5555555555555556,
             "#d8576b"
            ],
            [
             0.6666666666666666,
             "#ed7953"
            ],
            [
             0.7777777777777778,
             "#fb9f3a"
            ],
            [
             0.8888888888888888,
             "#fdca26"
            ],
            [
             1,
             "#f0f921"
            ]
           ]
          },
          "colorway": [
           "#636efa",
           "#EF553B",
           "#00cc96",
           "#ab63fa",
           "#FFA15A",
           "#19d3f3",
           "#FF6692",
           "#B6E880",
           "#FF97FF",
           "#FECB52"
          ],
          "font": {
           "color": "#2a3f5f"
          },
          "geo": {
           "bgcolor": "white",
           "lakecolor": "white",
           "landcolor": "#E5ECF6",
           "showlakes": true,
           "showland": true,
           "subunitcolor": "white"
          },
          "hoverlabel": {
           "align": "left"
          },
          "hovermode": "closest",
          "mapbox": {
           "style": "light"
          },
          "paper_bgcolor": "white",
          "plot_bgcolor": "#E5ECF6",
          "polar": {
           "angularaxis": {
            "gridcolor": "white",
            "linecolor": "white",
            "ticks": ""
           },
           "bgcolor": "#E5ECF6",
           "radialaxis": {
            "gridcolor": "white",
            "linecolor": "white",
            "ticks": ""
           }
          },
          "scene": {
           "xaxis": {
            "backgroundcolor": "#E5ECF6",
            "gridcolor": "white",
            "gridwidth": 2,
            "linecolor": "white",
            "showbackground": true,
            "ticks": "",
            "zerolinecolor": "white"
           },
           "yaxis": {
            "backgroundcolor": "#E5ECF6",
            "gridcolor": "white",
            "gridwidth": 2,
            "linecolor": "white",
            "showbackground": true,
            "ticks": "",
            "zerolinecolor": "white"
           },
           "zaxis": {
            "backgroundcolor": "#E5ECF6",
            "gridcolor": "white",
            "gridwidth": 2,
            "linecolor": "white",
            "showbackground": true,
            "ticks": "",
            "zerolinecolor": "white"
           }
          },
          "shapedefaults": {
           "line": {
            "color": "#2a3f5f"
           }
          },
          "ternary": {
           "aaxis": {
            "gridcolor": "white",
            "linecolor": "white",
            "ticks": ""
           },
           "baxis": {
            "gridcolor": "white",
            "linecolor": "white",
            "ticks": ""
           },
           "bgcolor": "#E5ECF6",
           "caxis": {
            "gridcolor": "white",
            "linecolor": "white",
            "ticks": ""
           }
          },
          "title": {
           "x": 0.05
          },
          "xaxis": {
           "automargin": true,
           "gridcolor": "white",
           "linecolor": "white",
           "ticks": "",
           "title": {
            "standoff": 15
           },
           "zerolinecolor": "white",
           "zerolinewidth": 2
          },
          "yaxis": {
           "automargin": true,
           "gridcolor": "white",
           "linecolor": "white",
           "ticks": "",
           "title": {
            "standoff": 15
           },
           "zerolinecolor": "white",
           "zerolinewidth": 2
          }
         }
        },
        "title": {
         "text": "Climb 3 — 2.27 km | 87 m gain | 3.8% avg"
        },
        "xaxis": {
         "showgrid": false
        },
        "yaxis": {
         "showgrid": false
        }
       }
      }
     },
     "metadata": {},
     "output_type": "display_data"
    },
    {
     "data": {
      "application/vnd.plotly.v1+json": {
       "config": {
        "plotlyServerURL": "https://plot.ly"
       },
       "data": [
        {
         "fill": "tozeroy",
         "fillcolor": "#F5F5DC",
         "hovertemplate": "Avg slope (100m): 1.1%<br>Length: 162.75 km",
         "mode": "none",
         "name": "Slope 1.1%",
         "type": "scatter",
         "x": {
          "bdata": "ePkALshu4kAma3xgUnziQHiV/ycgg+JA",
          "dtype": "f8"
         },
         "y": {
          "bdata": "AAAAAAA4hUBmZmZmZk6FQAAAAAAAXIVA",
          "dtype": "f8"
         }
        },
        {
         "fill": "tozeroy",
         "fillcolor": "#75f60c",
         "hovertemplate": "Avg slope (100m): 2.9%<br>Length: 133.58 km",
         "mode": "none",
         "name": "Slope 2.9%",
         "type": "scatter",
         "x": {
          "bdata": "eJX/JyCD4kCzeUAouoriQK354t/Sk+JA",
          "dtype": "f8"
         },
         "y": {
          "bdata": "AAAAAABchUAAAAAAAGiFQAAAAAAAbIVA",
          "dtype": "f8"
         }
        },
        {
         "fill": "tozeroy",
         "fillcolor": "#F5F5DC",
         "hovertemplate": "Avg slope (100m): 1.6%<br>Length: 303.48 km",
         "mode": "none",
         "name": "Slope 1.6%",
         "type": "scatter",
         "x": {
          "bdata": "rfni39KT4kCgf7/PZaTiQMDOGmPSruJARJUKKcK54kA=",
          "dtype": "f8"
         },
         "y": {
          "bdata": "AAAAAABshUCamZmZmXWFQJqZmZmZgYVAAAAAAACYhUA=",
          "dtype": "f8"
         }
        },
        {
         "fill": "tozeroy",
         "fillcolor": "#75f60c",
         "hovertemplate": "Avg slope (100m): 2.5%<br>Length: 158.98 km",
         "mode": "none",
         "name": "Slope 2.5%",
         "type": "scatter",
         "x": {
          "bdata": "RJUKKcK54kAaDJxipcPiQAcnqpmhzeJA",
          "dtype": "f8"
         },
         "y": {
          "bdata": "AAAAAACYhUBmZmZmZqKFQGZmZmZmpoVA",
          "dtype": "f8"
         }
        },
        {
         "fill": "tozeroy",
         "fillcolor": "#F5F5DC",
         "hovertemplate": "Avg slope (100m): 1.1%<br>Length: 196.03 km",
         "mode": "none",
         "name": "Slope 1.1%",
         "type": "scatter",
         "x": {
          "bdata": "ByeqmaHN4kBDhOs5nNziQKTB1Wwi5uJA",
          "dtype": "f8"
         },
         "y": {
          "bdata": "ZmZmZmamhUAAAAAAALyFQAAAAAAAzIVA",
          "dtype": "f8"
         }
        },
        {
         "fill": "tozeroy",
         "fillcolor": "#75f60c",
         "hovertemplate": "Avg slope (100m): 2.4%<br>Length: 513.21 km",
         "mode": "none",
         "name": "Slope 2.4%",
         "type": "scatter",
         "x": {
          "bdata": "pMHVbCLm4kCEiDDtwPLiQCNyxW0i+OJAfgV62ncB40BtJV0MYwnjQBhWAVpRFONA4RjER2Yd40AzYRItSSbjQA==",
          "dtype": "f8"
         },
         "y": {
          "bdata": "AAAAAADMhUDNzMzMzOCFQM3MzMzM6IVAAAAAAAD4hUAzMzMzMweGQDMzMzMzG4ZAAAAAAAAkhkCamZmZmSmGQA==",
          "dtype": "f8"
         }
        },
        {
         "fill": "tozeroy",
         "fillcolor": "#F5F5DC",
         "hovertemplate": "Avg slope (100m): 1.2%<br>Length: 154.63 km",
         "mode": "none",
         "name": "Slope 1.2%",
         "type": "scatter",
         "x": {
          "bdata": "M2ESLUkm40CztNIZczHjQKvDt0idOeNA",
          "dtype": "f8"
         },
         "y": {
          "bdata": "mpmZmZkphkCamZmZmT2GQJqZmZmZTYZA",
          "dtype": "f8"
         }
        },
        {
         "fill": "tozeroy",
         "fillcolor": "#75f60c",
         "hovertemplate": "Avg slope (100m): 2.9%<br>Length: 398.32 km",
         "mode": "none",
         "name": "Slope 2.9%",
         "type": "scatter",
         "x": {
          "bdata": "q8O3SJ0540DJ2rtiQkHjQAlJnAXvR+NAPxzew21Q40CZBnuaF1rjQPe9JosqZeNAFb/fbGdr40A=",
          "dtype": "f8"
         },
         "y": {
          "bdata": "mpmZmZlNhkAAAAAAAGCGQGZmZmZmboZAzczMzMx8hkCamZmZmY2GQDMzMzMzq4ZAMzMzMzO7hkA=",
          "dtype": "f8"
         }
        },
        {
         "fill": "tozeroy",
         "fillcolor": "#00a0ff",
         "hovertemplate": "Avg slope (100m): 4.1%<br>Length: 75.16 km",
         "mode": "none",
         "name": "Slope 4.1%",
         "type": "scatter",
         "x": {
          "bdata": "Fb/fbGdr40CZUZl3zHTjQA==",
          "dtype": "f8"
         },
         "y": {
          "bdata": "MzMzMzO7hkDNzMzMzMyGQA==",
          "dtype": "f8"
         }
        },
        {
         "fill": "tozeroy",
         "fillcolor": "#75f60c",
         "hovertemplate": "Avg slope (100m): 3.5%<br>Length: 178.58 km",
         "mode": "none",
         "name": "Slope 3.5%",
         "type": "scatter",
         "x": {
          "bdata": "mVGZd8x040DfjEgrdYLjQNpsER8fi+NA",
          "dtype": "f8"
         },
         "y": {
          "bdata": "zczMzMzMhkAzMzMzM9+GQDMzMzMz54ZA",
          "dtype": "f8"
         }
        }
       ],
       "layout": {
        "height": 650,
        "margin": {
         "b": 50,
         "l": 50,
         "r": 50,
         "t": 80
        },
        "plot_bgcolor": "white",
        "template": {
         "data": {
          "bar": [
           {
            "error_x": {
             "color": "#2a3f5f"
            },
            "error_y": {
             "color": "#2a3f5f"
            },
            "marker": {
             "line": {
              "color": "#E5ECF6",
              "width": 0.5
             },
             "pattern": {
              "fillmode": "overlay",
              "size": 10,
              "solidity": 0.2
             }
            },
            "type": "bar"
           }
          ],
          "barpolar": [
           {
            "marker": {
             "line": {
              "color": "#E5ECF6",
              "width": 0.5
             },
             "pattern": {
              "fillmode": "overlay",
              "size": 10,
              "solidity": 0.2
             }
            },
            "type": "barpolar"
           }
          ],
          "carpet": [
           {
            "aaxis": {
             "endlinecolor": "#2a3f5f",
             "gridcolor": "white",
             "linecolor": "white",
             "minorgridcolor": "white",
             "startlinecolor": "#2a3f5f"
            },
            "baxis": {
             "endlinecolor": "#2a3f5f",
             "gridcolor": "white",
             "linecolor": "white",
             "minorgridcolor": "white",
             "startlinecolor": "#2a3f5f"
            },
            "type": "carpet"
           }
          ],
          "choropleth": [
           {
            "colorbar": {
             "outlinewidth": 0,
             "ticks": ""
            },
            "type": "choropleth"
           }
          ],
          "contour": [
           {
            "colorbar": {
             "outlinewidth": 0,
             "ticks": ""
            },
            "colorscale": [
             [
              0,
              "#0d0887"
             ],
             [
              0.1111111111111111,
              "#46039f"
             ],
             [
              0.2222222222222222,
              "#7201a8"
             ],
             [
              0.3333333333333333,
              "#9c179e"
             ],
             [
              0.4444444444444444,
              "#bd3786"
             ],
             [
              0.5555555555555556,
              "#d8576b"
             ],
             [
              0.6666666666666666,
              "#ed7953"
             ],
             [
              0.7777777777777778,
              "#fb9f3a"
             ],
             [
              0.8888888888888888,
              "#fdca26"
             ],
             [
              1,
              "#f0f921"
             ]
            ],
            "type": "contour"
           }
          ],
          "contourcarpet": [
           {
            "colorbar": {
             "outlinewidth": 0,
             "ticks": ""
            },
            "type": "contourcarpet"
           }
          ],
          "heatmap": [
           {
            "colorbar": {
             "outlinewidth": 0,
             "ticks": ""
            },
            "colorscale": [
             [
              0,
              "#0d0887"
             ],
             [
              0.1111111111111111,
              "#46039f"
             ],
             [
              0.2222222222222222,
              "#7201a8"
             ],
             [
              0.3333333333333333,
              "#9c179e"
             ],
             [
              0.4444444444444444,
              "#bd3786"
             ],
             [
              0.5555555555555556,
              "#d8576b"
             ],
             [
              0.6666666666666666,
              "#ed7953"
             ],
             [
              0.7777777777777778,
              "#fb9f3a"
             ],
             [
              0.8888888888888888,
              "#fdca26"
             ],
             [
              1,
              "#f0f921"
             ]
            ],
            "type": "heatmap"
           }
          ],
          "histogram": [
           {
            "marker": {
             "pattern": {
              "fillmode": "overlay",
              "size": 10,
              "solidity": 0.2
             }
            },
            "type": "histogram"
           }
          ],
          "histogram2d": [
           {
            "colorbar": {
             "outlinewidth": 0,
             "ticks": ""
            },
            "colorscale": [
             [
              0,
              "#0d0887"
             ],
             [
              0.1111111111111111,
              "#46039f"
             ],
             [
              0.2222222222222222,
              "#7201a8"
             ],
             [
              0.3333333333333333,
              "#9c179e"
             ],
             [
              0.4444444444444444,
              "#bd3786"
             ],
             [
              0.5555555555555556,
              "#d8576b"
             ],
             [
              0.6666666666666666,
              "#ed7953"
             ],
             [
              0.7777777777777778,
              "#fb9f3a"
             ],
             [
              0.8888888888888888,
              "#fdca26"
             ],
             [
              1,
              "#f0f921"
             ]
            ],
            "type": "histogram2d"
           }
          ],
          "histogram2dcontour": [
           {
            "colorbar": {
             "outlinewidth": 0,
             "ticks": ""
            },
            "colorscale": [
             [
              0,
              "#0d0887"
             ],
             [
              0.1111111111111111,
              "#46039f"
             ],
             [
              0.2222222222222222,
              "#7201a8"
             ],
             [
              0.3333333333333333,
              "#9c179e"
             ],
             [
              0.4444444444444444,
              "#bd3786"
             ],
             [
              0.5555555555555556,
              "#d8576b"
             ],
             [
              0.6666666666666666,
              "#ed7953"
             ],
             [
              0.7777777777777778,
              "#fb9f3a"
             ],
             [
              0.8888888888888888,
              "#fdca26"
             ],
             [
              1,
              "#f0f921"
             ]
            ],
            "type": "histogram2dcontour"
           }
          ],
          "mesh3d": [
           {
            "colorbar": {
             "outlinewidth": 0,
             "ticks": ""
            },
            "type": "mesh3d"
           }
          ],
          "parcoords": [
           {
            "line": {
             "colorbar": {
              "outlinewidth": 0,
              "ticks": ""
             }
            },
            "type": "parcoords"
           }
          ],
          "pie": [
           {
            "automargin": true,
            "type": "pie"
           }
          ],
          "scatter": [
           {
            "fillpattern": {
             "fillmode": "overlay",
             "size": 10,
             "solidity": 0.2
            },
            "type": "scatter"
           }
          ],
          "scatter3d": [
           {
            "line": {
             "colorbar": {
              "outlinewidth": 0,
              "ticks": ""
             }
            },
            "marker": {
             "colorbar": {
              "outlinewidth": 0,
              "ticks": ""
             }
            },
            "type": "scatter3d"
           }
          ],
          "scattercarpet": [
           {
            "marker": {
             "colorbar": {
              "outlinewidth": 0,
              "ticks": ""
             }
            },
            "type": "scattercarpet"
           }
          ],
          "scattergeo": [
           {
            "marker": {
             "colorbar": {
              "outlinewidth": 0,
              "ticks": ""
             }
            },
            "type": "scattergeo"
           }
          ],
          "scattergl": [
           {
            "marker": {
             "colorbar": {
              "outlinewidth": 0,
              "ticks": ""
             }
            },
            "type": "scattergl"
           }
          ],
          "scattermap": [
           {
            "marker": {
             "colorbar": {
              "outlinewidth": 0,
              "ticks": ""
             }
            },
            "type": "scattermap"
           }
          ],
          "scattermapbox": [
           {
            "marker": {
             "colorbar": {
              "outlinewidth": 0,
              "ticks": ""
             }
            },
            "type": "scattermapbox"
           }
          ],
          "scatterpolar": [
           {
            "marker": {
             "colorbar": {
              "outlinewidth": 0,
              "ticks": ""
             }
            },
            "type": "scatterpolar"
           }
          ],
          "scatterpolargl": [
           {
            "marker": {
             "colorbar": {
              "outlinewidth": 0,
              "ticks": ""
             }
            },
            "type": "scatterpolargl"
           }
          ],
          "scatterternary": [
           {
            "marker": {
             "colorbar": {
              "outlinewidth": 0,
              "ticks": ""
             }
            },
            "type": "scatterternary"
           }
          ],
          "surface": [
           {
            "colorbar": {
             "outlinewidth": 0,
             "ticks": ""
            },
            "colorscale": [
             [
              0,
              "#0d0887"
             ],
             [
              0.1111111111111111,
              "#46039f"
             ],
             [
              0.2222222222222222,
              "#7201a8"
             ],
             [
              0.3333333333333333,
              "#9c179e"
             ],
             [
              0.4444444444444444,
              "#bd3786"
             ],
             [
              0.5555555555555556,
              "#d8576b"
             ],
             [
              0.6666666666666666,
              "#ed7953"
             ],
             [
              0.7777777777777778,
              "#fb9f3a"
             ],
             [
              0.8888888888888888,
              "#fdca26"
             ],
             [
              1,
              "#f0f921"
             ]
            ],
            "type": "surface"
           }
          ],
          "table": [
           {
            "cells": {
             "fill": {
              "color": "#EBF0F8"
             },
             "line": {
              "color": "white"
             }
            },
            "header": {
             "fill": {
              "color": "#C8D4E3"
             },
             "line": {
              "color": "white"
             }
            },
            "type": "table"
           }
          ]
         },
         "layout": {
          "annotationdefaults": {
           "arrowcolor": "#2a3f5f",
           "arrowhead": 0,
           "arrowwidth": 1
          },
          "autotypenumbers": "strict",
          "coloraxis": {
           "colorbar": {
            "outlinewidth": 0,
            "ticks": ""
           }
          },
          "colorscale": {
           "diverging": [
            [
             0,
             "#8e0152"
            ],
            [
             0.1,
             "#c51b7d"
            ],
            [
             0.2,
             "#de77ae"
            ],
            [
             0.3,
             "#f1b6da"
            ],
            [
             0.4,
             "#fde0ef"
            ],
            [
             0.5,
             "#f7f7f7"
            ],
            [
             0.6,
             "#e6f5d0"
            ],
            [
             0.7,
             "#b8e186"
            ],
            [
             0.8,
             "#7fbc41"
            ],
            [
             0.9,
             "#4d9221"
            ],
            [
             1,
             "#276419"
            ]
           ],
           "sequential": [
            [
             0,
             "#0d0887"
            ],
            [
             0.1111111111111111,
             "#46039f"
            ],
            [
             0.2222222222222222,
             "#7201a8"
            ],
            [
             0.3333333333333333,
             "#9c179e"
            ],
            [
             0.4444444444444444,
             "#bd3786"
            ],
            [
             0.5555555555555556,
             "#d8576b"
            ],
            [
             0.6666666666666666,
             "#ed7953"
            ],
            [
             0.7777777777777778,
             "#fb9f3a"
            ],
            [
             0.8888888888888888,
             "#fdca26"
            ],
            [
             1,
             "#f0f921"
            ]
           ],
           "sequentialminus": [
            [
             0,
             "#0d0887"
            ],
            [
             0.1111111111111111,
             "#46039f"
            ],
            [
             0.2222222222222222,
             "#7201a8"
            ],
            [
             0.3333333333333333,
             "#9c179e"
            ],
            [
             0.4444444444444444,
             "#bd3786"
            ],
            [
             0.5555555555555556,
             "#d8576b"
            ],
            [
             0.6666666666666666,
             "#ed7953"
            ],
            [
             0.7777777777777778,
             "#fb9f3a"
            ],
            [
             0.8888888888888888,
             "#fdca26"
            ],
            [
             1,
             "#f0f921"
            ]
           ]
          },
          "colorway": [
           "#636efa",
           "#EF553B",
           "#00cc96",
           "#ab63fa",
           "#FFA15A",
           "#19d3f3",
           "#FF6692",
           "#B6E880",
           "#FF97FF",
           "#FECB52"
          ],
          "font": {
           "color": "#2a3f5f"
          },
          "geo": {
           "bgcolor": "white",
           "lakecolor": "white",
           "landcolor": "#E5ECF6",
           "showlakes": true,
           "showland": true,
           "subunitcolor": "white"
          },
          "hoverlabel": {
           "align": "left"
          },
          "hovermode": "closest",
          "mapbox": {
           "style": "light"
          },
          "paper_bgcolor": "white",
          "plot_bgcolor": "#E5ECF6",
          "polar": {
           "angularaxis": {
            "gridcolor": "white",
            "linecolor": "white",
            "ticks": ""
           },
           "bgcolor": "#E5ECF6",
           "radialaxis": {
            "gridcolor": "white",
            "linecolor": "white",
            "ticks": ""
           }
          },
          "scene": {
           "xaxis": {
            "backgroundcolor": "#E5ECF6",
            "gridcolor": "white",
            "gridwidth": 2,
            "linecolor": "white",
            "showbackground": true,
            "ticks": "",
            "zerolinecolor": "white"
           },
           "yaxis": {
            "backgroundcolor": "#E5ECF6",
            "gridcolor": "white",
            "gridwidth": 2,
            "linecolor": "white",
            "showbackground": true,
            "ticks": "",
            "zerolinecolor": "white"
           },
           "zaxis": {
            "backgroundcolor": "#E5ECF6",
            "gridcolor": "white",
            "gridwidth": 2,
            "linecolor": "white",
            "showbackground": true,
            "ticks": "",
            "zerolinecolor": "white"
           }
          },
          "shapedefaults": {
           "line": {
            "color": "#2a3f5f"
           }
          },
          "ternary": {
           "aaxis": {
            "gridcolor": "white",
            "linecolor": "white",
            "ticks": ""
           },
           "baxis": {
            "gridcolor": "white",
            "linecolor": "white",
            "ticks": ""
           },
           "bgcolor": "#E5ECF6",
           "caxis": {
            "gridcolor": "white",
            "linecolor": "white",
            "ticks": ""
           }
          },
          "title": {
           "x": 0.05
          },
          "xaxis": {
           "automargin": true,
           "gridcolor": "white",
           "linecolor": "white",
           "ticks": "",
           "title": {
            "standoff": 15
           },
           "zerolinecolor": "white",
           "zerolinewidth": 2
          },
          "yaxis": {
           "automargin": true,
           "gridcolor": "white",
           "linecolor": "white",
           "ticks": "",
           "title": {
            "standoff": 15
           },
           "zerolinecolor": "white",
           "zerolinewidth": 2
          }
         }
        },
        "title": {
         "text": "Climb 4 — 2.27 km | 51 m gain | 2.2% avg"
        },
        "xaxis": {
         "showgrid": false
        },
        "yaxis": {
         "showgrid": false
        }
       }
      }
     },
     "metadata": {},
     "output_type": "display_data"
    },
    {
     "data": {
      "application/vnd.plotly.v1+json": {
       "config": {
        "plotlyServerURL": "https://plot.ly"
       },
       "data": [
        {
         "fill": "tozeroy",
         "fillcolor": "#F5F5DC",
         "hovertemplate": "Avg slope (100m): 1.7%<br>Length: 194.33 km",
         "mode": "none",
         "name": "Slope 1.7%",
         "type": "scatter",
         "x": {
          "bdata": "egimFH0V5UBAFmdjIiPlQAJnHYjHLeVA",
          "dtype": "f8"
         },
         "y": {
          "bdata": "ZmZmZmamh0AAAAAAALiHQAAAAAAAyIdA",
          "dtype": "f8"
         }
        },
        {
         "fill": "tozeroy",
         "fillcolor": "#75f60c",
         "hovertemplate": "Avg slope (100m): 2.2%<br>Length: 663.28 km",
         "mode": "none",
         "name": "Slope 2.2%",
         "type": "scatter",
         "x": {
          "bdata": "AmcdiMct5UALanN3aTrlQLPcXPiFQ+VAGY1NoxRV5UA2iAEqO2HlQAPwPS45a+VAMVivn1B25UApH6l2sIDlQA==",
          "dtype": "f8"
         },
         "y": {
          "bdata": "AAAAAADIh0BmZmZmZtqHQM3MzMzM5IdAZmZmZmb+h0DNzMzMzBCIQDMzMzMzH4hAAAAAAAAsiEDNzMzMzDiIQA==",
          "dtype": "f8"
         }
        },
        {
         "fill": "tozeroy",
         "fillcolor": "#F5F5DC",
         "hovertemplate": "Avg slope (100m): 1.9%<br>Length: 521.45 km",
         "mode": "none",
         "name": "Slope 1.9%",
         "type": "scatter",
         "x": {
          "bdata": "KR+pdrCA5UCxYztuPorlQI9kkRmZnOVAfPHvMk6t5UBWENd0GrnlQMK/PPneweVA",
          "dtype": "f8"
         },
         "y": {
          "bdata": "zczMzMw4iECamZmZmUGIQJqZmZmZTYhAzczMzMxciEAAAAAAAHCIQGZmZmZmfohA",
          "dtype": "f8"
         }
        },
        {
         "fill": "tozeroy",
         "fillcolor": "#75f60c",
         "hovertemplate": "Avg slope (100m): 2.6%<br>Length: 723.33 km",
         "mode": "none",
         "name": "Slope 2.6%",
         "type": "scatter",
         "x": {
          "bdata": "wr88+d7B5UDOLwCjj83lQEtK3RYy1uVAJE6WkQ7e5UDl8vP6gOjlQBNUZCoR7+VAlVS4RMz05UBH2eRcd/rlQOpSBj2s/uVAWm7BFQcG5kCBgkpEsxPmQHNfmH1JHOZA",
          "dtype": "f8"
         },
         "y": {
          "bdata": "ZmZmZmZ+iEDNzMzMzJCIQAAAAAAAnIhAMzMzMzOniEAAAAAAALiIQAAAAAAAxIhAzczMzMzMiEAAAAAAANiIQDMzMzMz34hAMzMzMzPriECamZmZmfmIQAAAAAAABIlA",
          "dtype": "f8"
         }
        },
        {
         "fill": "tozeroy",
         "fillcolor": "#F5F5DC",
         "hovertemplate": "Avg slope (100m): 1.8%<br>Length: 108.05 km",
         "mode": "none",
         "name": "Slope 1.8%",
         "type": "scatter",
         "x": {
          "bdata": "c1+YfUkc5kCeL3wUyynmQA==",
          "dtype": "f8"
         },
         "y": {
          "bdata": "AAAAAAAEiUCamZmZmR2JQA==",
          "dtype": "f8"
         }
        },
        {
         "fill": "tozeroy",
         "fillcolor": "#75f60c",
         "hovertemplate": "Avg slope (100m): 2.4%<br>Length: 196.43 km",
         "mode": "none",
         "name": "Slope 2.4%",
         "type": "scatter",
         "x": {
          "bdata": "ni98FMsp5kBbrcjGRTTmQA2rQbAAOOZAamcgzFhC5kA=",
          "dtype": "f8"
         },
         "y": {
          "bdata": "mpmZmZkdiUCamZmZmTGJQJqZmZmZNYlAMzMzMzM3iUA=",
          "dtype": "f8"
         }
        },
        {
         "fill": "tozeroy",
         "fillcolor": "#F5F5DC",
         "hovertemplate": "Avg slope (100m): 1.0%<br>Length: 584.56 km",
         "mode": "none",
         "name": "Slope 1.0%",
         "type": "scatter",
         "x": {
          "bdata": "amcgzFhC5kADcrezjFDmQCkH8B6xVuZApxZz84Vh5kBygbibn2jmQOl642nsc+ZAltDyNex+5kBiEajXaovmQA==",
          "dtype": "f8"
         },
         "y": {
          "bdata": "MzMzMzM3iUAzMzMzMz+JQM3MzMzMRIlAzczMzMxMiUDNzMzMzFCJQGZmZmZmWolAmpmZmZlliUAAAAAAAHyJQA==",
          "dtype": "f8"
         }
        },
        {
         "fill": "tozeroy",
         "fillcolor": "#75f60c",
         "hovertemplate": "Avg slope (100m): 2.2%<br>Length: 430.38 km",
         "mode": "none",
         "name": "Slope 2.2%",
         "type": "scatter",
         "x": {
          "bdata": "YhGo12qL5kBWlWS5ipPmQNlf+JpnmeZAziVLGnyg5kDNPvztAKfmQL/USjq9ruZAcpJOy4y15kCnws9cvbvmQAWoBf82weZA",
          "dtype": "f8"
         },
         "y": {
          "bdata": "AAAAAAB8iUBmZmZmZo6JQDMzMzMzm4lAAAAAAACsiUAzMzMzM7uJQM3MzMzMzIlAMzMzMzPbiUDNzMzMzOyJQDMzMzMz/4lA",
          "dtype": "f8"
         }
        },
        {
         "fill": "tozeroy",
         "fillcolor": "#00a0ff",
         "hovertemplate": "Avg slope (100m): 4.8%<br>Length: 81.41 km",
         "mode": "none",
         "name": "Slope 4.8%",
         "type": "scatter",
         "x": {
          "bdata": "BagF/zbB5kDjeJ4pz8PmQGGJgou7xuZA+uGPGGTL5kA=",
          "dtype": "f8"
         },
         "y": {
          "bdata": "MzMzMzP/iUDNzMzMzAiKQAAAAAAAFIpAAAAAAAAoikA=",
          "dtype": "f8"
         }
        },
        {
         "fill": "tozeroy",
         "fillcolor": "#ffd300",
         "hovertemplate": "Avg slope (100m): 6.3%<br>Length: 178.32 km",
         "mode": "none",
         "name": "Slope 6.3%",
         "type": "scatter",
         "x": {
          "bdata": "+uGPGGTL5kCIk1Icvs/mQB9hTIL00+ZAgjm8I3LX5kDknqSWkNrmQMZ3G4oh3uZAJ8fDfK7h5kA=",
          "dtype": "f8"
         },
         "y": {
          "bdata": "AAAAAAAoikCamZmZmT2KQGZmZmZmUopAAAAAAABkikBmZmZmZnKKQJqZmZmZfYpAMzMzMzOHikA=",
          "dtype": "f8"
         }
        },
        {
         "fill": "tozeroy",
         "fillcolor": "#00a0ff",
         "hovertemplate": "Avg slope (100m): 4.6%<br>Length: 214.43 km",
         "mode": "none",
         "name": "Slope 4.6%",
         "type": "scatter",
         "x": {
          "bdata": "J8fDfK7h5kBLN2xD8ejmQAPQReBa7+ZAwYFQJ93y5kANkJ4pwPbmQMO6HR98/OZA",
          "dtype": "f8"
         },
         "y": {
          "bdata": "MzMzMzOHikBmZmZmZpqKQAAAAAAArIpAMzMzMzO3ikAAAAAAAMiKQM3MzMzM4IpA",
          "dtype": "f8"
         }
        },
        {
         "fill": "tozeroy",
         "fillcolor": "#ffd300",
         "hovertemplate": "Avg slope (100m): 6.8%<br>Length: 120.52 km",
         "mode": "none",
         "name": "Slope 6.8%",
         "type": "scatter",
         "x": {
          "bdata": "w7odH3z85kDYo3IHiwLnQNdQ/CbzBOdAkKQDAJsH50DS6JXNjAvnQA==",
          "dtype": "f8"
         },
         "y": {
          "bdata": "zczMzMzgikAAAAAAAPyKQGZmZmZmBotAzczMzMwQi0BmZmZmZh6LQA==",
          "dtype": "f8"
         }
        },
        {
         "fill": "tozeroy",
         "fillcolor": "#00a0ff",
         "hovertemplate": "Avg slope (100m): 5.8%<br>Length: 79.69 km",
         "mode": "none",
         "name": "Slope 5.8%",
         "type": "scatter",
         "x": {
          "bdata": "0uiVzYwL50CBZiVbixDnQBCFr+CCFedA",
          "dtype": "f8"
         },
         "y": {
          "bdata": "ZmZmZmYei0DNzMzMzDCLQDMzMzMzR4tA",
          "dtype": "f8"
         }
        },
        {
         "fill": "tozeroy",
         "fillcolor": "#ffd300",
         "hovertemplate": "Avg slope (100m): 6.4%<br>Length: 44.82 km",
         "mode": "none",
         "name": "Slope 6.4%",
         "type": "scatter",
         "x": {
          "bdata": "EIWv4IIV50CaXhCzgxfnQG1HOTYdG+dA",
          "dtype": "f8"
         },
         "y": {
          "bdata": "MzMzMzNHi0AzMzMzM0+LQJqZmZmZWYtA",
          "dtype": "f8"
         }
        },
        {
         "fill": "tozeroy",
         "fillcolor": "#00a0ff",
         "hovertemplate": "Avg slope (100m): 5.4%<br>Length: 84.07 km",
         "mode": "none",
         "name": "Slope 5.4%",
         "type": "scatter",
         "x": {
          "bdata": "bUc5Nh0b50Bkh6qhOh/nQCiV6SpdI+dAgNdyfZ8l50A=",
          "dtype": "f8"
         },
         "y": {
          "bdata": "mpmZmZlZi0BmZmZmZmaLQAAAAAAAeItAAAAAAACAi0A=",
          "dtype": "f8"
         }
        },
        {
         "fill": "tozeroy",
         "fillcolor": "#ffd300",
         "hovertemplate": "Avg slope (100m): 6.1%<br>Length: 36.40 km",
         "mode": "none",
         "name": "Slope 6.1%",
         "type": "scatter",
         "x": {
          "bdata": "gNdyfZ8l50AhcF1hLCrnQA==",
          "dtype": "f8"
         },
         "y": {
          "bdata": "AAAAAACAi0BmZmZmZoaLQA==",
          "dtype": "f8"
         }
        },
        {
         "fill": "tozeroy",
         "fillcolor": "#75f60c",
         "hovertemplate": "Avg slope (100m): 3.9%<br>Length: 81.07 km",
         "mode": "none",
         "name": "Slope 3.9%",
         "type": "scatter",
         "x": {
          "bdata": "IXBdYSwq50BhAPA9pDDnQEG/w4xONOdA",
          "dtype": "f8"
         },
         "y": {
          "bdata": "ZmZmZmaGi0AAAAAAAJiLQAAAAAAAqItA",
          "dtype": "f8"
         }
        },
        {
         "fill": "tozeroy",
         "fillcolor": "#00a0ff",
         "hovertemplate": "Avg slope (100m): 5.5%<br>Length: 28.48 km",
         "mode": "none",
         "name": "Slope 5.5%",
         "type": "scatter",
         "x": {
          "bdata": "Qb/DjE4050B3LdnM3TfnQA==",
          "dtype": "f8"
         },
         "y": {
          "bdata": "AAAAAACoi0AzMzMzM7eLQA==",
          "dtype": "f8"
         }
        },
        {
         "fill": "tozeroy",
         "fillcolor": "#ffd300",
         "hovertemplate": "Avg slope (100m): 6.7%<br>Length: 225.54 km",
         "mode": "none",
         "name": "Slope 6.7%",
         "type": "scatter",
         "x": {
          "bdata": "dy3ZzN0350BSl34BWzvnQOLp87TqP+dA5x3vUV1E50DACTHZqkjnQC/uN3luTOdA0TnicG9Q50DSmHEuD1TnQA==",
          "dtype": "f8"
         },
         "y": {
          "bdata": "MzMzMzO3i0BmZmZmZsaLQAAAAAAA3ItAzczMzMzwi0CamZmZmQWMQAAAAAAAGIxAzczMzMwsjEBmZmZmZkKMQA==",
          "dtype": "f8"
         }
        },
        {
         "fill": "tozeroy",
         "fillcolor": "#ee0000",
         "hovertemplate": "Avg slope (100m): 8.7%<br>Length: 91.34 km",
         "mode": "none",
         "name": "Slope 8.7%",
         "type": "scatter",
         "x": {
          "bdata": "0phxLg9U50AN6dqp1FjnQCEU4FJMXOdAsw7dInpf50A=",
          "dtype": "f8"
         },
         "y": {
          "bdata": "ZmZmZmZCjEAzMzMzM1uMQM3MzMzMbIxAzczMzMx8jEA=",
          "dtype": "f8"
         }
        },
        {
         "fill": "tozeroy",
         "fillcolor": "#ffd300",
         "hovertemplate": "Avg slope (100m): 7.9%<br>Length: 55.89 km",
         "mode": "none",
         "name": "Slope 7.9%",
         "type": "scatter",
         "x": {
          "bdata": "sw7dInpf50B+YyES/WLnQKYBjKJ2ZudA",
          "dtype": "f8"
         },
         "y": {
          "bdata": "zczMzMx8jEBmZmZmZo6MQM3MzMzMoIxA",
          "dtype": "f8"
         }
        },
        {
         "fill": "tozeroy",
         "fillcolor": "#ee0000",
         "hovertemplate": "Avg slope (100m): 8.1%<br>Length: 134.83 km",
         "mode": "none",
         "name": "Slope 8.1%",
         "type": "scatter",
         "x": {
          "bdata": "pgGMonZm50DVVrzm+mnnQC16mYwObedAQHCnbAlx50ByyZRPUXfnQA==",
          "dtype": "f8"
         },
         "y": {
          "bdata": "zczMzMygjEAzMzMzM7OMQAAAAAAAxIxAzczMzMzYjEDNzMzMzPSMQA==",
          "dtype": "f8"
         }
        },
        {
         "fill": "tozeroy",
         "fillcolor": "#ffd300",
         "hovertemplate": "Avg slope (100m): 7.6%<br>Length: 96.11 km",
         "mode": "none",
         "name": "Slope 7.6%",
         "type": "scatter",
         "x": {
          "bdata": "csmUT1F350A3wmW8m3rnQFfLYGt1fudAOW24v1SD50A=",
          "dtype": "f8"
         },
         "y": {
          "bdata": "zczMzMz0jECamZmZmQWNQGZmZmZmFo1AzczMzMwkjUA=",
          "dtype": "f8"
         }
        },
        {
         "fill": "tozeroy",
         "fillcolor": "#00a0ff",
         "hovertemplate": "Avg slope (100m): 5.7%<br>Length: 42.52 km",
         "mode": "none",
         "name": "Slope 5.7%",
         "type": "scatter",
         "x": {
          "bdata": "OW24v1SD50CFmJhupYjnQA==",
          "dtype": "f8"
         },
         "y": {
          "bdata": "zczMzMwkjUAzMzMzMy+NQA==",
          "dtype": "f8"
         }
        },
        {
         "fill": "tozeroy",
         "fillcolor": "#75f60c",
         "hovertemplate": "Avg slope (100m): 3.8%<br>Length: 480.61 km",
         "mode": "none",
         "name": "Slope 3.8%",
         "type": "scatter",
         "x": {
          "bdata": "hZiYbqWI50D8QYZD3Y7nQO88Kv3cl+dA1g1HV2Gg50BLwuAREqnnQPIVXMZhsOdAVnIJqou250BJJed8ybznQJ9jjwy5xOdA",
          "dtype": "f8"
         },
         "y": {
          "bdata": "MzMzMzMvjUAAAAAAADyNQM3MzMzMTI1AmpmZmZldjUAAAAAAAHCNQM3MzMzMgI1AZmZmZmaOjUAAAAAAAJyNQAAAAAAAsI1A",
          "dtype": "f8"
         }
        }
       ],
       "layout": {
        "height": 650,
        "margin": {
         "b": 50,
         "l": 50,
         "r": 50,
         "t": 80
        },
        "plot_bgcolor": "white",
        "template": {
         "data": {
          "bar": [
           {
            "error_x": {
             "color": "#2a3f5f"
            },
            "error_y": {
             "color": "#2a3f5f"
            },
            "marker": {
             "line": {
              "color": "#E5ECF6",
              "width": 0.5
             },
             "pattern": {
              "fillmode": "overlay",
              "size": 10,
              "solidity": 0.2
             }
            },
            "type": "bar"
           }
          ],
          "barpolar": [
           {
            "marker": {
             "line": {
              "color": "#E5ECF6",
              "width": 0.5
             },
             "pattern": {
              "fillmode": "overlay",
              "size": 10,
              "solidity": 0.2
             }
            },
            "type": "barpolar"
           }
          ],
          "carpet": [
           {
            "aaxis": {
             "endlinecolor": "#2a3f5f",
             "gridcolor": "white",
             "linecolor": "white",
             "minorgridcolor": "white",
             "startlinecolor": "#2a3f5f"
            },
            "baxis": {
             "endlinecolor": "#2a3f5f",
             "gridcolor": "white",
             "linecolor": "white",
             "minorgridcolor": "white",
             "startlinecolor": "#2a3f5f"
            },
            "type": "carpet"
           }
          ],
          "choropleth": [
           {
            "colorbar": {
             "outlinewidth": 0,
             "ticks": ""
            },
            "type": "choropleth"
           }
          ],
          "contour": [
           {
            "colorbar": {
             "outlinewidth": 0,
             "ticks": ""
            },
            "colorscale": [
             [
              0,
              "#0d0887"
             ],
             [
              0.1111111111111111,
              "#46039f"
             ],
             [
              0.2222222222222222,
              "#7201a8"
             ],
             [
              0.3333333333333333,
              "#9c179e"
             ],
             [
              0.4444444444444444,
              "#bd3786"
             ],
             [
              0.5555555555555556,
              "#d8576b"
             ],
             [
              0.6666666666666666,
              "#ed7953"
             ],
             [
              0.7777777777777778,
              "#fb9f3a"
             ],
             [
              0.8888888888888888,
              "#fdca26"
             ],
             [
              1,
              "#f0f921"
             ]
            ],
            "type": "contour"
           }
          ],
          "contourcarpet": [
           {
            "colorbar": {
             "outlinewidth": 0,
             "ticks": ""
            },
            "type": "contourcarpet"
           }
          ],
          "heatmap": [
           {
            "colorbar": {
             "outlinewidth": 0,
             "ticks": ""
            },
            "colorscale": [
             [
              0,
              "#0d0887"
             ],
             [
              0.1111111111111111,
              "#46039f"
             ],
             [
              0.2222222222222222,
              "#7201a8"
             ],
             [
              0.3333333333333333,
              "#9c179e"
             ],
             [
              0.4444444444444444,
              "#bd3786"
             ],
             [
              0.5555555555555556,
              "#d8576b"
             ],
             [
              0.6666666666666666,
              "#ed7953"
             ],
             [
              0.7777777777777778,
              "#fb9f3a"
             ],
             [
              0.8888888888888888,
              "#fdca26"
             ],
             [
              1,
              "#f0f921"
             ]
            ],
            "type": "heatmap"
           }
          ],
          "histogram": [
           {
            "marker": {
             "pattern": {
              "fillmode": "overlay",
              "size": 10,
              "solidity": 0.2
             }
            },
            "type": "histogram"
           }
          ],
          "histogram2d": [
           {
            "colorbar": {
             "outlinewidth": 0,
             "ticks": ""
            },
            "colorscale": [
             [
              0,
              "#0d0887"
             ],
             [
              0.1111111111111111,
              "#46039f"
             ],
             [
              0.2222222222222222,
              "#7201a8"
             ],
             [
              0.3333333333333333,
              "#9c179e"
             ],
             [
              0.4444444444444444,
              "#bd3786"
             ],
             [
              0.5555555555555556,
              "#d8576b"
             ],
             [
              0.6666666666666666,
              "#ed7953"
             ],
             [
              0.7777777777777778,
              "#fb9f3a"
             ],
             [
              0.8888888888888888,
              "#fdca26"
             ],
             [
              1,
              "#f0f921"
             ]
            ],
            "type": "histogram2d"
           }
          ],
          "histogram2dcontour": [
           {
            "colorbar": {
             "outlinewidth": 0,
             "ticks": ""
            },
            "colorscale": [
             [
              0,
              "#0d0887"
             ],
             [
              0.1111111111111111,
              "#46039f"
             ],
             [
              0.2222222222222222,
              "#7201a8"
             ],
             [
              0.3333333333333333,
              "#9c179e"
             ],
             [
              0.4444444444444444,
              "#bd3786"
             ],
             [
              0.5555555555555556,
              "#d8576b"
             ],
             [
              0.6666666666666666,
              "#ed7953"
             ],
             [
              0.7777777777777778,
              "#fb9f3a"
             ],
             [
              0.8888888888888888,
              "#fdca26"
             ],
             [
              1,
              "#f0f921"
             ]
            ],
            "type": "histogram2dcontour"
           }
          ],
          "mesh3d": [
           {
            "colorbar": {
             "outlinewidth": 0,
             "ticks": ""
            },
            "type": "mesh3d"
           }
          ],
          "parcoords": [
           {
            "line": {
             "colorbar": {
              "outlinewidth": 0,
              "ticks": ""
             }
            },
            "type": "parcoords"
           }
          ],
          "pie": [
           {
            "automargin": true,
            "type": "pie"
           }
          ],
          "scatter": [
           {
            "fillpattern": {
             "fillmode": "overlay",
             "size": 10,
             "solidity": 0.2
            },
            "type": "scatter"
           }
          ],
          "scatter3d": [
           {
            "line": {
             "colorbar": {
              "outlinewidth": 0,
              "ticks": ""
             }
            },
            "marker": {
             "colorbar": {
              "outlinewidth": 0,
              "ticks": ""
             }
            },
            "type": "scatter3d"
           }
          ],
          "scattercarpet": [
           {
            "marker": {
             "colorbar": {
              "outlinewidth": 0,
              "ticks": ""
             }
            },
            "type": "scattercarpet"
           }
          ],
          "scattergeo": [
           {
            "marker": {
             "colorbar": {
              "outlinewidth": 0,
              "ticks": ""
             }
            },
            "type": "scattergeo"
           }
          ],
          "scattergl": [
           {
            "marker": {
             "colorbar": {
              "outlinewidth": 0,
              "ticks": ""
             }
            },
            "type": "scattergl"
           }
          ],
          "scattermap": [
           {
            "marker": {
             "colorbar": {
              "outlinewidth": 0,
              "ticks": ""
             }
            },
            "type": "scattermap"
           }
          ],
          "scattermapbox": [
           {
            "marker": {
             "colorbar": {
              "outlinewidth": 0,
              "ticks": ""
             }
            },
            "type": "scattermapbox"
           }
          ],
          "scatterpolar": [
           {
            "marker": {
             "colorbar": {
              "outlinewidth": 0,
              "ticks": ""
             }
            },
            "type": "scatterpolar"
           }
          ],
          "scatterpolargl": [
           {
            "marker": {
             "colorbar": {
              "outlinewidth": 0,
              "ticks": ""
             }
            },
            "type": "scatterpolargl"
           }
          ],
          "scatterternary": [
           {
            "marker": {
             "colorbar": {
              "outlinewidth": 0,
              "ticks": ""
             }
            },
            "type": "scatterternary"
           }
          ],
          "surface": [
           {
            "colorbar": {
             "outlinewidth": 0,
             "ticks": ""
            },
            "colorscale": [
             [
              0,
              "#0d0887"
             ],
             [
              0.1111111111111111,
              "#46039f"
             ],
             [
              0.2222222222222222,
              "#7201a8"
             ],
             [
              0.3333333333333333,
              "#9c179e"
             ],
             [
              0.4444444444444444,
              "#bd3786"
             ],
             [
              0.5555555555555556,
              "#d8576b"
             ],
             [
              0.6666666666666666,
              "#ed7953"
             ],
             [
              0.7777777777777778,
              "#fb9f3a"
             ],
             [
              0.8888888888888888,
              "#fdca26"
             ],
             [
              1,
              "#f0f921"
             ]
            ],
            "type": "surface"
           }
          ],
          "table": [
           {
            "cells": {
             "fill": {
              "color": "#EBF0F8"
             },
             "line": {
              "color": "white"
             }
            },
            "header": {
             "fill": {
              "color": "#C8D4E3"
             },
             "line": {
              "color": "white"
             }
            },
            "type": "table"
           }
          ]
         },
         "layout": {
          "annotationdefaults": {
           "arrowcolor": "#2a3f5f",
           "arrowhead": 0,
           "arrowwidth": 1
          },
          "autotypenumbers": "strict",
          "coloraxis": {
           "colorbar": {
            "outlinewidth": 0,
            "ticks": ""
           }
          },
          "colorscale": {
           "diverging": [
            [
             0,
             "#8e0152"
            ],
            [
             0.1,
             "#c51b7d"
            ],
            [
             0.2,
             "#de77ae"
            ],
            [
             0.3,
             "#f1b6da"
            ],
            [
             0.4,
             "#fde0ef"
            ],
            [
             0.5,
             "#f7f7f7"
            ],
            [
             0.6,
             "#e6f5d0"
            ],
            [
             0.7,
             "#b8e186"
            ],
            [
             0.8,
             "#7fbc41"
            ],
            [
             0.9,
             "#4d9221"
            ],
            [
             1,
             "#276419"
            ]
           ],
           "sequential": [
            [
             0,
             "#0d0887"
            ],
            [
             0.1111111111111111,
             "#46039f"
            ],
            [
             0.2222222222222222,
             "#7201a8"
            ],
            [
             0.3333333333333333,
             "#9c179e"
            ],
            [
             0.4444444444444444,
             "#bd3786"
            ],
            [
             0.5555555555555556,
             "#d8576b"
            ],
            [
             0.6666666666666666,
             "#ed7953"
            ],
            [
             0.7777777777777778,
             "#fb9f3a"
            ],
            [
             0.8888888888888888,
             "#fdca26"
            ],
            [
             1,
             "#f0f921"
            ]
           ],
           "sequentialminus": [
            [
             0,
             "#0d0887"
            ],
            [
             0.1111111111111111,
             "#46039f"
            ],
            [
             0.2222222222222222,
             "#7201a8"
            ],
            [
             0.3333333333333333,
             "#9c179e"
            ],
            [
             0.4444444444444444,
             "#bd3786"
            ],
            [
             0.5555555555555556,
             "#d8576b"
            ],
            [
             0.6666666666666666,
             "#ed7953"
            ],
            [
             0.7777777777777778,
             "#fb9f3a"
            ],
            [
             0.8888888888888888,
             "#fdca26"
            ],
            [
             1,
             "#f0f921"
            ]
           ]
          },
          "colorway": [
           "#636efa",
           "#EF553B",
           "#00cc96",
           "#ab63fa",
           "#FFA15A",
           "#19d3f3",
           "#FF6692",
           "#B6E880",
           "#FF97FF",
           "#FECB52"
          ],
          "font": {
           "color": "#2a3f5f"
          },
          "geo": {
           "bgcolor": "white",
           "lakecolor": "white",
           "landcolor": "#E5ECF6",
           "showlakes": true,
           "showland": true,
           "subunitcolor": "white"
          },
          "hoverlabel": {
           "align": "left"
          },
          "hovermode": "closest",
          "mapbox": {
           "style": "light"
          },
          "paper_bgcolor": "white",
          "plot_bgcolor": "#E5ECF6",
          "polar": {
           "angularaxis": {
            "gridcolor": "white",
            "linecolor": "white",
            "ticks": ""
           },
           "bgcolor": "#E5ECF6",
           "radialaxis": {
            "gridcolor": "white",
            "linecolor": "white",
            "ticks": ""
           }
          },
          "scene": {
           "xaxis": {
            "backgroundcolor": "#E5ECF6",
            "gridcolor": "white",
            "gridwidth": 2,
            "linecolor": "white",
            "showbackground": true,
            "ticks": "",
            "zerolinecolor": "white"
           },
           "yaxis": {
            "backgroundcolor": "#E5ECF6",
            "gridcolor": "white",
            "gridwidth": 2,
            "linecolor": "white",
            "showbackground": true,
            "ticks": "",
            "zerolinecolor": "white"
           },
           "zaxis": {
            "backgroundcolor": "#E5ECF6",
            "gridcolor": "white",
            "gridwidth": 2,
            "linecolor": "white",
            "showbackground": true,
            "ticks": "",
            "zerolinecolor": "white"
           }
          },
          "shapedefaults": {
           "line": {
            "color": "#2a3f5f"
           }
          },
          "ternary": {
           "aaxis": {
            "gridcolor": "white",
            "linecolor": "white",
            "ticks": ""
           },
           "baxis": {
            "gridcolor": "white",
            "linecolor": "white",
            "ticks": ""
           },
           "bgcolor": "#E5ECF6",
           "caxis": {
            "gridcolor": "white",
            "linecolor": "white",
            "ticks": ""
           }
          },
          "title": {
           "x": 0.05
          },
          "xaxis": {
           "automargin": true,
           "gridcolor": "white",
           "linecolor": "white",
           "ticks": "",
           "title": {
            "standoff": 15
           },
           "zerolinecolor": "white",
           "zerolinewidth": 2
          },
          "yaxis": {
           "automargin": true,
           "gridcolor": "white",
           "linecolor": "white",
           "ticks": "",
           "title": {
            "standoff": 15
           },
           "zerolinecolor": "white",
           "zerolinewidth": 2
          }
         }
        },
        "title": {
         "text": "Climb 5 — 5.50 km | 191 m gain | 3.5% avg"
        },
        "xaxis": {
         "showgrid": false
        },
        "yaxis": {
         "showgrid": false
        }
       }
      }
     },
     "metadata": {},
     "output_type": "display_data"
    },
    {
     "data": {
      "application/vnd.plotly.v1+json": {
       "config": {
        "plotlyServerURL": "https://plot.ly"
       },
       "data": [
        {
         "fill": "tozeroy",
         "fillcolor": "#F5F5DC",
         "hovertemplate": "Avg slope (100m): -0.2%<br>Length: 139.49 km",
         "mode": "none",
         "name": "Slope -0.2%",
         "type": "scatter",
         "x": {
          "bdata": "4GSyyusd7UAMv9q6jSbtQFxVVGpbL+1A",
          "dtype": "f8"
         },
         "y": {
          "bdata": "MzMzMzMrckAAAAAAADByQDMzMzMzg3JA",
          "dtype": "f8"
         }
        },
        {
         "fill": "tozeroy",
         "fillcolor": "#75f60c",
         "hovertemplate": "Avg slope (100m): 3.9%<br>Length: 25.90 km",
         "mode": "none",
         "name": "Slope 3.9%",
         "type": "scatter",
         "x": {
          "bdata": "XFVUalsv7UClK9s8mDLtQA==",
          "dtype": "f8"
         },
         "y": {
          "bdata": "MzMzMzODckCamZmZmalyQA==",
          "dtype": "f8"
         }
        },
        {
         "fill": "tozeroy",
         "fillcolor": "#ee0000",
         "hovertemplate": "Avg slope (100m): 8.3%<br>Length: 97.00 km",
         "mode": "none",
         "name": "Slope 8.3%",
         "type": "scatter",
         "x": {
          "bdata": "pSvbPJgy7UCVd1jtDzbtQLm61YBDOe1A+7BrxmI87UCA6DInuD7tQA==",
          "dtype": "f8"
         },
         "y": {
          "bdata": "mpmZmZmpckCamZmZmdFyQM3MzMzM9HJAAAAAAAAYc0BmZmZmZkZzQA==",
          "dtype": "f8"
         }
        },
        {
         "fill": "tozeroy",
         "fillcolor": "#444444",
         "hovertemplate": "Avg slope (100m): 12.2%<br>Length: 21.63 km",
         "mode": "none",
         "name": "Slope 12.2%",
         "type": "scatter",
         "x": {
          "bdata": "gOgyJ7g+7UCavecnbEHtQA==",
          "dtype": "f8"
         },
         "y": {
          "bdata": "ZmZmZmZGc0DNzMzMzFxzQA==",
          "dtype": "f8"
         }
        },
        {
         "fill": "tozeroy",
         "fillcolor": "#800080",
         "hovertemplate": "Avg slope (100m): 11.0%<br>Length: 28.59 km",
         "mode": "none",
         "name": "Slope 11.0%",
         "type": "scatter",
         "x": {
          "bdata": "mr3nJ2xB7UA4Z0IN/0TtQA==",
          "dtype": "f8"
         },
         "y": {
          "bdata": "zczMzMxcc0AAAAAAAIBzQA==",
          "dtype": "f8"
         }
        },
        {
         "fill": "tozeroy",
         "fillcolor": "#ffd300",
         "hovertemplate": "Avg slope (100m): 7.1%<br>Length: 14.58 km",
         "mode": "none",
         "name": "Slope 7.1%",
         "type": "scatter",
         "x": {
          "bdata": "OGdCDf9E7UAuRR+10UbtQA==",
          "dtype": "f8"
         },
         "y": {
          "bdata": "AAAAAACAc0DNzMzMzJxzQA==",
          "dtype": "f8"
         }
        },
        {
         "fill": "tozeroy",
         "fillcolor": "#800080",
         "hovertemplate": "Avg slope (100m): 10.0%<br>Length: 17.52 km",
         "mode": "none",
         "name": "Slope 10.0%",
         "type": "scatter",
         "x": {
          "bdata": "LkUftdFG7UDkQoQwAkntQA==",
          "dtype": "f8"
         },
         "y": {
          "bdata": "zczMzMycc0AAAAAAALBzQA==",
          "dtype": "f8"
         }
        },
        {
         "fill": "tozeroy",
         "fillcolor": "#ee0000",
         "hovertemplate": "Avg slope (100m): 9.6%<br>Length: 25.01 km",
         "mode": "none",
         "name": "Slope 9.6%",
         "type": "scatter",
         "x": {
          "bdata": "5EKEMAJJ7UAntOmbIkztQA==",
          "dtype": "f8"
         },
         "y": {
          "bdata": "AAAAAACwc0AzMzMzM8tzQA==",
          "dtype": "f8"
         }
        },
        {
         "fill": "tozeroy",
         "fillcolor": "#ffd300",
         "hovertemplate": "Avg slope (100m): 6.8%<br>Length: 73.71 km",
         "mode": "none",
         "name": "Slope 6.8%",
         "type": "scatter",
         "x": {
          "bdata": "J7TpmyJM7UCrKHtDMk/tQBqSpXuYUu1AdyWNK1lV7UA=",
          "dtype": "f8"
         },
         "y": {
          "bdata": "MzMzMzPLc0AzMzMzM+tzQM3MzMzMDHRAMzMzMzMrdEA=",
          "dtype": "f8"
         }
        },
        {
         "fill": "tozeroy",
         "fillcolor": "#ee0000",
         "hovertemplate": "Avg slope (100m): 8.2%<br>Length: 30.19 km",
         "mode": "none",
         "name": "Slope 8.2%",
         "type": "scatter",
         "x": {
          "bdata": "dyWNK1lV7UAP39vDQVftQMLkImYfWe1A",
          "dtype": "f8"
         },
         "y": {
          "bdata": "MzMzMzMrdEBmZmZmZkZ0QM3MzMzMXHRA",
          "dtype": "f8"
         }
        },
        {
         "fill": "tozeroy",
         "fillcolor": "#800080",
         "hovertemplate": "Avg slope (100m): 10.3%<br>Length: 33.05 km",
         "mode": "none",
         "name": "Slope 10.3%",
         "type": "scatter",
         "x": {
          "bdata": "wuQiZh9Z7UAnTz0UQV3tQA==",
          "dtype": "f8"
         },
         "y": {
          "bdata": "zczMzMxcdEDNzMzMzIR0QA==",
          "dtype": "f8"
         }
        },
        {
         "fill": "tozeroy",
         "fillcolor": "#ee0000",
         "hovertemplate": "Avg slope (100m): 8.5%<br>Length: 19.69 km",
         "mode": "none",
         "name": "Slope 8.5%",
         "type": "scatter",
         "x": {
          "bdata": "J089FEFd7UBGrRhCt1/tQA==",
          "dtype": "f8"
         },
         "y": {
          "bdata": "zczMzMyEdEAzMzMzM5t0QA==",
          "dtype": "f8"
         }
        },
        {
         "fill": "tozeroy",
         "fillcolor": "#ffd300",
         "hovertemplate": "Avg slope (100m): 7.3%<br>Length: 107.01 km",
         "mode": "none",
         "name": "Slope 7.3%",
         "type": "scatter",
         "x": {
          "bdata": "Rq0YQrdf7UCY43yVembtQKWgmDDyae1Ac3E7eRdt7UA=",
          "dtype": "f8"
         },
         "y": {
          "bdata": "MzMzMzObdEAAAAAAANh0QGZmZmZm/nRAmpmZmZkhdUA=",
          "dtype": "f8"
         }
        },
        {
         "fill": "tozeroy",
         "fillcolor": "#ee0000",
         "hovertemplate": "Avg slope (100m): 8.7%<br>Length: 34.85 km",
         "mode": "none",
         "name": "Slope 8.7%",
         "type": "scatter",
         "x": {
          "bdata": "c3E7eRdt7UCdkHqLRW/tQOP+grpyce1A",
          "dtype": "f8"
         },
         "y": {
          "bdata": "mpmZmZkhdUBmZmZmZj51QDMzMzMzW3VA",
          "dtype": "f8"
         }
        },
        {
         "fill": "tozeroy",
         "fillcolor": "#800080",
         "hovertemplate": "Avg slope (100m): 10.3%<br>Length: 20.67 km",
         "mode": "none",
         "name": "Slope 10.3%",
         "type": "scatter",
         "x": {
          "bdata": "4/6CunJx7UDAor0SCHTtQA==",
          "dtype": "f8"
         },
         "y": {
          "bdata": "MzMzMzNbdUDNzMzMzHR1QA==",
          "dtype": "f8"
         }
        },
        {
         "fill": "tozeroy",
         "fillcolor": "#ee0000",
         "hovertemplate": "Avg slope (100m): 9.0%<br>Length: 37.16 km",
         "mode": "none",
         "name": "Slope 9.0%",
         "type": "scatter",
         "x": {
          "bdata": "wKK9Egh07UA/9PQSrXjtQA==",
          "dtype": "f8"
         },
         "y": {
          "bdata": "zczMzMx0dUAAAAAAAKB1QA==",
          "dtype": "f8"
         }
        },
        {
         "fill": "tozeroy",
         "fillcolor": "#ffd300",
         "hovertemplate": "Avg slope (100m): 7.5%<br>Length: 63.12 km",
         "mode": "none",
         "name": "Slope 7.5%",
         "type": "scatter",
         "x": {
          "bdata": "P/T0Eq147UCGsF7vSXztQPgC+9eQgO1A",
          "dtype": "f8"
         },
         "y": {
          "bdata": "AAAAAACgdUAzMzMzM8N1QDMzMzMz83VA",
          "dtype": "f8"
         }
        },
        {
         "fill": "tozeroy",
         "fillcolor": "#ee0000",
         "hovertemplate": "Avg slope (100m): 8.2%<br>Length: 25.30 km",
         "mode": "none",
         "name": "Slope 8.2%",
         "type": "scatter",
         "x": {
          "bdata": "+AL715CA7UDmaFNSuoPtQA==",
          "dtype": "f8"
         },
         "y": {
          "bdata": "MzMzMzPzdUAAAAAAABB2QA==",
          "dtype": "f8"
         }
        },
        {
         "fill": "tozeroy",
         "fillcolor": "#ffd300",
         "hovertemplate": "Avg slope (100m): 7.9%<br>Length: 170.58 km",
         "mode": "none",
         "name": "Slope 7.9%",
         "type": "scatter",
         "x": {
          "bdata": "5mhTUrqD7UDKqu1haIftQMx/Clyhi+1A4EZz8tSO7UBJO3MaYZLtQHVUKHoGlu1AgfRu4gyZ7UA=",
          "dtype": "f8"
         },
         "y": {
          "bdata": "AAAAAAAQdkAAAAAAADB2QAAAAAAAWHZAAAAAAAB4dkAAAAAAAJh2QJqZmZmZsXZAmpmZmZnBdkA=",
          "dtype": "f8"
         }
        },
        {
         "fill": "tozeroy",
         "fillcolor": "#00a0ff",
         "hovertemplate": "Avg slope (100m): 4.8%<br>Length: 49.82 km",
         "mode": "none",
         "name": "Slope 4.8%",
         "type": "scatter",
         "x": {
          "bdata": "gfRu4gyZ7UAFI0wlR5/tQA==",
          "dtype": "f8"
         },
         "y": {
          "bdata": "mpmZmZnBdkAAAAAAAMB2QA==",
          "dtype": "f8"
         }
        },
        {
         "fill": "tozeroy",
         "fillcolor": "#F5F5DC",
         "hovertemplate": "Avg slope (100m): 2.0%<br>Length: 108.21 km",
         "mode": "none",
         "name": "Slope 2.0%",
         "type": "scatter",
         "x": {
          "bdata": "BSNMJUef7UDbIUavP6jtQMsSP+HNrO1A",
          "dtype": "f8"
         },
         "y": {
          "bdata": "AAAAAADAdkAAAAAAAMh2QJqZmZmZ4XZA",
          "dtype": "f8"
         }
        },
        {
         "fill": "tozeroy",
         "fillcolor": "#75f60c",
         "hovertemplate": "Avg slope (100m): 2.5%<br>Length: 44.75 km",
         "mode": "none",
         "name": "Slope 2.5%",
         "type": "scatter",
         "x": {
          "bdata": "yxI/4c2s7UAqUR6/ZbLtQA==",
          "dtype": "f8"
         },
         "y": {
          "bdata": "mpmZmZnhdkDNzMzMzAx3QA==",
          "dtype": "f8"
         }
        },
        {
         "fill": "tozeroy",
         "fillcolor": "#00a0ff",
         "hovertemplate": "Avg slope (100m): 5.2%<br>Length: 45.99 km",
         "mode": "none",
         "name": "Slope 5.2%",
         "type": "scatter",
         "x": {
          "bdata": "KlEev2Wy7UAfOIBGJbjtQA==",
          "dtype": "f8"
         },
         "y": {
          "bdata": "zczMzMwMd0BmZmZmZj53QA==",
          "dtype": "f8"
         }
        },
        {
         "fill": "tozeroy",
         "fillcolor": "#ffd300",
         "hovertemplate": "Avg slope (100m): 6.4%<br>Length: 68.47 km",
         "mode": "none",
         "name": "Slope 6.4%",
         "type": "scatter",
         "x": {
          "bdata": "HziARiW47UCXksAhir3tQFrtYFy0wO1A",
          "dtype": "f8"
         },
         "y": {
          "bdata": "ZmZmZmY+d0DNzMzMzHR3QAAAAAAAmHdA",
          "dtype": "f8"
         }
        },
        {
         "fill": "tozeroy",
         "fillcolor": "#ee0000",
         "hovertemplate": "Avg slope (100m): 8.3%<br>Length: 62.04 km",
         "mode": "none",
         "name": "Slope 8.3%",
         "type": "scatter",
         "x": {
          "bdata": "Wu1gXLTA7UCiFFHTrcTtQKJF9oh1yO1A",
          "dtype": "f8"
         },
         "y": {
          "bdata": "AAAAAACYd0CamZmZmcF3QDMzMzMz23dA",
          "dtype": "f8"
         }
        },
        {
         "fill": "tozeroy",
         "fillcolor": "#ffd300",
         "hovertemplate": "Avg slope (100m): 6.7%<br>Length: 32.37 km",
         "mode": "none",
         "name": "Slope 6.7%",
         "type": "scatter",
         "x": {
          "bdata": "okX2iHXI7UChjj98gcztQA==",
          "dtype": "f8"
         },
         "y": {
          "bdata": "MzMzMzPbd0BmZmZmZuZ3QA==",
          "dtype": "f8"
         }
        }
       ],
       "layout": {
        "height": 650,
        "margin": {
         "b": 50,
         "l": 50,
         "r": 50,
         "t": 80
        },
        "plot_bgcolor": "white",
        "template": {
         "data": {
          "bar": [
           {
            "error_x": {
             "color": "#2a3f5f"
            },
            "error_y": {
             "color": "#2a3f5f"
            },
            "marker": {
             "line": {
              "color": "#E5ECF6",
              "width": 0.5
             },
             "pattern": {
              "fillmode": "overlay",
              "size": 10,
              "solidity": 0.2
             }
            },
            "type": "bar"
           }
          ],
          "barpolar": [
           {
            "marker": {
             "line": {
              "color": "#E5ECF6",
              "width": 0.5
             },
             "pattern": {
              "fillmode": "overlay",
              "size": 10,
              "solidity": 0.2
             }
            },
            "type": "barpolar"
           }
          ],
          "carpet": [
           {
            "aaxis": {
             "endlinecolor": "#2a3f5f",
             "gridcolor": "white",
             "linecolor": "white",
             "minorgridcolor": "white",
             "startlinecolor": "#2a3f5f"
            },
            "baxis": {
             "endlinecolor": "#2a3f5f",
             "gridcolor": "white",
             "linecolor": "white",
             "minorgridcolor": "white",
             "startlinecolor": "#2a3f5f"
            },
            "type": "carpet"
           }
          ],
          "choropleth": [
           {
            "colorbar": {
             "outlinewidth": 0,
             "ticks": ""
            },
            "type": "choropleth"
           }
          ],
          "contour": [
           {
            "colorbar": {
             "outlinewidth": 0,
             "ticks": ""
            },
            "colorscale": [
             [
              0,
              "#0d0887"
             ],
             [
              0.1111111111111111,
              "#46039f"
             ],
             [
              0.2222222222222222,
              "#7201a8"
             ],
             [
              0.3333333333333333,
              "#9c179e"
             ],
             [
              0.4444444444444444,
              "#bd3786"
             ],
             [
              0.5555555555555556,
              "#d8576b"
             ],
             [
              0.6666666666666666,
              "#ed7953"
             ],
             [
              0.7777777777777778,
              "#fb9f3a"
             ],
             [
              0.8888888888888888,
              "#fdca26"
             ],
             [
              1,
              "#f0f921"
             ]
            ],
            "type": "contour"
           }
          ],
          "contourcarpet": [
           {
            "colorbar": {
             "outlinewidth": 0,
             "ticks": ""
            },
            "type": "contourcarpet"
           }
          ],
          "heatmap": [
           {
            "colorbar": {
             "outlinewidth": 0,
             "ticks": ""
            },
            "colorscale": [
             [
              0,
              "#0d0887"
             ],
             [
              0.1111111111111111,
              "#46039f"
             ],
             [
              0.2222222222222222,
              "#7201a8"
             ],
             [
              0.3333333333333333,
              "#9c179e"
             ],
             [
              0.4444444444444444,
              "#bd3786"
             ],
             [
              0.5555555555555556,
              "#d8576b"
             ],
             [
              0.6666666666666666,
              "#ed7953"
             ],
             [
              0.7777777777777778,
              "#fb9f3a"
             ],
             [
              0.8888888888888888,
              "#fdca26"
             ],
             [
              1,
              "#f0f921"
             ]
            ],
            "type": "heatmap"
           }
          ],
          "histogram": [
           {
            "marker": {
             "pattern": {
              "fillmode": "overlay",
              "size": 10,
              "solidity": 0.2
             }
            },
            "type": "histogram"
           }
          ],
          "histogram2d": [
           {
            "colorbar": {
             "outlinewidth": 0,
             "ticks": ""
            },
            "colorscale": [
             [
              0,
              "#0d0887"
             ],
             [
              0.1111111111111111,
              "#46039f"
             ],
             [
              0.2222222222222222,
              "#7201a8"
             ],
             [
              0.3333333333333333,
              "#9c179e"
             ],
             [
              0.4444444444444444,
              "#bd3786"
             ],
             [
              0.5555555555555556,
              "#d8576b"
             ],
             [
              0.6666666666666666,
              "#ed7953"
             ],
             [
              0.7777777777777778,
              "#fb9f3a"
             ],
             [
              0.8888888888888888,
              "#fdca26"
             ],
             [
              1,
              "#f0f921"
             ]
            ],
            "type": "histogram2d"
           }
          ],
          "histogram2dcontour": [
           {
            "colorbar": {
             "outlinewidth": 0,
             "ticks": ""
            },
            "colorscale": [
             [
              0,
              "#0d0887"
             ],
             [
              0.1111111111111111,
              "#46039f"
             ],
             [
              0.2222222222222222,
              "#7201a8"
             ],
             [
              0.3333333333333333,
              "#9c179e"
             ],
             [
              0.4444444444444444,
              "#bd3786"
             ],
             [
              0.5555555555555556,
              "#d8576b"
             ],
             [
              0.6666666666666666,
              "#ed7953"
             ],
             [
              0.7777777777777778,
              "#fb9f3a"
             ],
             [
              0.8888888888888888,
              "#fdca26"
             ],
             [
              1,
              "#f0f921"
             ]
            ],
            "type": "histogram2dcontour"
           }
          ],
          "mesh3d": [
           {
            "colorbar": {
             "outlinewidth": 0,
             "ticks": ""
            },
            "type": "mesh3d"
           }
          ],
          "parcoords": [
           {
            "line": {
             "colorbar": {
              "outlinewidth": 0,
              "ticks": ""
             }
            },
            "type": "parcoords"
           }
          ],
          "pie": [
           {
            "automargin": true,
            "type": "pie"
           }
          ],
          "scatter": [
           {
            "fillpattern": {
             "fillmode": "overlay",
             "size": 10,
             "solidity": 0.2
            },
            "type": "scatter"
           }
          ],
          "scatter3d": [
           {
            "line": {
             "colorbar": {
              "outlinewidth": 0,
              "ticks": ""
             }
            },
            "marker": {
             "colorbar": {
              "outlinewidth": 0,
              "ticks": ""
             }
            },
            "type": "scatter3d"
           }
          ],
          "scattercarpet": [
           {
            "marker": {
             "colorbar": {
              "outlinewidth": 0,
              "ticks": ""
             }
            },
            "type": "scattercarpet"
           }
          ],
          "scattergeo": [
           {
            "marker": {
             "colorbar": {
              "outlinewidth": 0,
              "ticks": ""
             }
            },
            "type": "scattergeo"
           }
          ],
          "scattergl": [
           {
            "marker": {
             "colorbar": {
              "outlinewidth": 0,
              "ticks": ""
             }
            },
            "type": "scattergl"
           }
          ],
          "scattermap": [
           {
            "marker": {
             "colorbar": {
              "outlinewidth": 0,
              "ticks": ""
             }
            },
            "type": "scattermap"
           }
          ],
          "scattermapbox": [
           {
            "marker": {
             "colorbar": {
              "outlinewidth": 0,
              "ticks": ""
             }
            },
            "type": "scattermapbox"
           }
          ],
          "scatterpolar": [
           {
            "marker": {
             "colorbar": {
              "outlinewidth": 0,
              "ticks": ""
             }
            },
            "type": "scatterpolar"
           }
          ],
          "scatterpolargl": [
           {
            "marker": {
             "colorbar": {
              "outlinewidth": 0,
              "ticks": ""
             }
            },
            "type": "scatterpolargl"
           }
          ],
          "scatterternary": [
           {
            "marker": {
             "colorbar": {
              "outlinewidth": 0,
              "ticks": ""
             }
            },
            "type": "scatterternary"
           }
          ],
          "surface": [
           {
            "colorbar": {
             "outlinewidth": 0,
             "ticks": ""
            },
            "colorscale": [
             [
              0,
              "#0d0887"
             ],
             [
              0.1111111111111111,
              "#46039f"
             ],
             [
              0.2222222222222222,
              "#7201a8"
             ],
             [
              0.3333333333333333,
              "#9c179e"
             ],
             [
              0.4444444444444444,
              "#bd3786"
             ],
             [
              0.5555555555555556,
              "#d8576b"
             ],
             [
              0.6666666666666666,
              "#ed7953"
             ],
             [
              0.7777777777777778,
              "#fb9f3a"
             ],
             [
              0.8888888888888888,
              "#fdca26"
             ],
             [
              1,
              "#f0f921"
             ]
            ],
            "type": "surface"
           }
          ],
          "table": [
           {
            "cells": {
             "fill": {
              "color": "#EBF0F8"
             },
             "line": {
              "color": "white"
             }
            },
            "header": {
             "fill": {
              "color": "#C8D4E3"
             },
             "line": {
              "color": "white"
             }
            },
            "type": "table"
           }
          ]
         },
         "layout": {
          "annotationdefaults": {
           "arrowcolor": "#2a3f5f",
           "arrowhead": 0,
           "arrowwidth": 1
          },
          "autotypenumbers": "strict",
          "coloraxis": {
           "colorbar": {
            "outlinewidth": 0,
            "ticks": ""
           }
          },
          "colorscale": {
           "diverging": [
            [
             0,
             "#8e0152"
            ],
            [
             0.1,
             "#c51b7d"
            ],
            [
             0.2,
             "#de77ae"
            ],
            [
             0.3,
             "#f1b6da"
            ],
            [
             0.4,
             "#fde0ef"
            ],
            [
             0.5,
             "#f7f7f7"
            ],
            [
             0.6,
             "#e6f5d0"
            ],
            [
             0.7,
             "#b8e186"
            ],
            [
             0.8,
             "#7fbc41"
            ],
            [
             0.9,
             "#4d9221"
            ],
            [
             1,
             "#276419"
            ]
           ],
           "sequential": [
            [
             0,
             "#0d0887"
            ],
            [
             0.1111111111111111,
             "#46039f"
            ],
            [
             0.2222222222222222,
             "#7201a8"
            ],
            [
             0.3333333333333333,
             "#9c179e"
            ],
            [
             0.4444444444444444,
             "#bd3786"
            ],
            [
             0.5555555555555556,
             "#d8576b"
            ],
            [
             0.6666666666666666,
             "#ed7953"
            ],
            [
             0.7777777777777778,
             "#fb9f3a"
            ],
            [
             0.8888888888888888,
             "#fdca26"
            ],
            [
             1,
             "#f0f921"
            ]
           ],
           "sequentialminus": [
            [
             0,
             "#0d0887"
            ],
            [
             0.1111111111111111,
             "#46039f"
            ],
            [
             0.2222222222222222,
             "#7201a8"
            ],
            [
             0.3333333333333333,
             "#9c179e"
            ],
            [
             0.4444444444444444,
             "#bd3786"
            ],
            [
             0.5555555555555556,
             "#d8576b"
            ],
            [
             0.6666666666666666,
             "#ed7953"
            ],
            [
             0.7777777777777778,
             "#fb9f3a"
            ],
            [
             0.8888888888888888,
             "#fdca26"
            ],
            [
             1,
             "#f0f921"
            ]
           ]
          },
          "colorway": [
           "#636efa",
           "#EF553B",
           "#00cc96",
           "#ab63fa",
           "#FFA15A",
           "#19d3f3",
           "#FF6692",
           "#B6E880",
           "#FF97FF",
           "#FECB52"
          ],
          "font": {
           "color": "#2a3f5f"
          },
          "geo": {
           "bgcolor": "white",
           "lakecolor": "white",
           "landcolor": "#E5ECF6",
           "showlakes": true,
           "showland": true,
           "subunitcolor": "white"
          },
          "hoverlabel": {
           "align": "left"
          },
          "hovermode": "closest",
          "mapbox": {
           "style": "light"
          },
          "paper_bgcolor": "white",
          "plot_bgcolor": "#E5ECF6",
          "polar": {
           "angularaxis": {
            "gridcolor": "white",
            "linecolor": "white",
            "ticks": ""
           },
           "bgcolor": "#E5ECF6",
           "radialaxis": {
            "gridcolor": "white",
            "linecolor": "white",
            "ticks": ""
           }
          },
          "scene": {
           "xaxis": {
            "backgroundcolor": "#E5ECF6",
            "gridcolor": "white",
            "gridwidth": 2,
            "linecolor": "white",
            "showbackground": true,
            "ticks": "",
            "zerolinecolor": "white"
           },
           "yaxis": {
            "backgroundcolor": "#E5ECF6",
            "gridcolor": "white",
            "gridwidth": 2,
            "linecolor": "white",
            "showbackground": true,
            "ticks": "",
            "zerolinecolor": "white"
           },
           "zaxis": {
            "backgroundcolor": "#E5ECF6",
            "gridcolor": "white",
            "gridwidth": 2,
            "linecolor": "white",
            "showbackground": true,
            "ticks": "",
            "zerolinecolor": "white"
           }
          },
          "shapedefaults": {
           "line": {
            "color": "#2a3f5f"
           }
          },
          "ternary": {
           "aaxis": {
            "gridcolor": "white",
            "linecolor": "white",
            "ticks": ""
           },
           "baxis": {
            "gridcolor": "white",
            "linecolor": "white",
            "ticks": ""
           },
           "bgcolor": "#E5ECF6",
           "caxis": {
            "gridcolor": "white",
            "linecolor": "white",
            "ticks": ""
           }
          },
          "title": {
           "x": 0.05
          },
          "xaxis": {
           "automargin": true,
           "gridcolor": "white",
           "linecolor": "white",
           "ticks": "",
           "title": {
            "standoff": 15
           },
           "zerolinecolor": "white",
           "zerolinewidth": 2
          },
          "yaxis": {
           "automargin": true,
           "gridcolor": "white",
           "linecolor": "white",
           "ticks": "",
           "title": {
            "standoff": 15
           },
           "zerolinecolor": "white",
           "zerolinewidth": 2
          }
         }
        },
        "title": {
         "text": "Climb 6 — 1.40 km | 91 m gain | 6.5% avg"
        },
        "xaxis": {
         "showgrid": false
        },
        "yaxis": {
         "showgrid": false
        }
       }
      }
     },
     "metadata": {},
     "output_type": "display_data"
    },
    {
     "data": {
      "application/vnd.plotly.v1+json": {
       "config": {
        "plotlyServerURL": "https://plot.ly"
       },
       "data": [
        {
         "fill": "tozeroy",
         "fillcolor": "#F5F5DC",
         "hovertemplate": "Avg slope (100m): 0.5%<br>Length: 131.75 km",
         "mode": "none",
         "name": "Slope 0.5%",
         "type": "scatter",
         "x": {
          "bdata": "me1E9XjU8UBUTjE479nxQJKywgG13PFA",
          "dtype": "f8"
         },
         "y": {
          "bdata": "zczMzMxEdEAzMzMzM2t0QJqZmZmZoXRA",
          "dtype": "f8"
         }
        },
        {
         "fill": "tozeroy",
         "fillcolor": "#00a0ff",
         "hovertemplate": "Avg slope (100m): 5.2%<br>Length: 20.40 km",
         "mode": "none",
         "name": "Slope 5.2%",
         "type": "scatter",
         "x": {
          "bdata": "krLCAbXc8UCPiF5o+93xQA==",
          "dtype": "f8"
         },
         "y": {
          "bdata": "mpmZmZmhdEAAAAAAAMB0QA==",
          "dtype": "f8"
         }
        },
        {
         "fill": "tozeroy",
         "fillcolor": "#ee0000",
         "hovertemplate": "Avg slope (100m): 8.5%<br>Length: 147.71 km",
         "mode": "none",
         "name": "Slope 8.5%",
         "type": "scatter",
         "x": {
          "bdata": "j4heaPvd8UAWvKLMbN/xQOaO2AMB4fFAlnZ+74Ti8UAJzGLgpeTxQOQ8wjnh5fFAMGkDvDbn8UA=",
          "dtype": "f8"
         },
         "y": {
          "bdata": "AAAAAADAdEBmZmZmZt50QAAAAAAAAHVAMzMzMzMjdUCamZmZmVF1QDMzMzMza3VAMzMzMzODdUA=",
          "dtype": "f8"
         }
        },
        {
         "fill": "tozeroy",
         "fillcolor": "#ffd300",
         "hovertemplate": "Avg slope (100m): 7.6%<br>Length: 29.98 km",
         "mode": "none",
         "name": "Slope 7.6%",
         "type": "scatter",
         "x": {
          "bdata": "MGkDvDbn8UCBp31uFunxQA==",
          "dtype": "f8"
         },
         "y": {
          "bdata": "MzMzMzODdUBmZmZmZpZ1QA==",
          "dtype": "f8"
         }
        },
        {
         "fill": "tozeroy",
         "fillcolor": "#00a0ff",
         "hovertemplate": "Avg slope (100m): 5.5%<br>Length: 49.38 km",
         "mode": "none",
         "name": "Slope 5.5%",
         "type": "scatter",
         "x": {
          "bdata": "gad9bhbp8UB+ZF+PLOzxQA==",
          "dtype": "f8"
         },
         "y": {
          "bdata": "ZmZmZmaWdUDNzMzMzKx1QA==",
          "dtype": "f8"
         }
        },
        {
         "fill": "tozeroy",
         "fillcolor": "#75f60c",
         "hovertemplate": "Avg slope (100m): 3.4%<br>Length: 96.84 km",
         "mode": "none",
         "name": "Slope 3.4%",
         "type": "scatter",
         "x": {
          "bdata": "fmRfjyzs8UA+PuXnkPDxQPftA/E58vFA",
          "dtype": "f8"
         },
         "y": {
          "bdata": "zczMzMysdUDNzMzMzNR1QGZmZmZm7nVA",
          "dtype": "f8"
         }
        },
        {
         "fill": "tozeroy",
         "fillcolor": "#00a0ff",
         "hovertemplate": "Avg slope (100m): 4.8%<br>Length: 39.53 km",
         "mode": "none",
         "name": "Slope 4.8%",
         "type": "scatter",
         "x": {
          "bdata": "9+0D8Tny8UB6mBdosvTxQA==",
          "dtype": "f8"
         },
         "y": {
          "bdata": "ZmZmZmbudUBmZmZmZh52QA==",
          "dtype": "f8"
         }
        },
        {
         "fill": "tozeroy",
         "fillcolor": "#ffd300",
         "hovertemplate": "Avg slope (100m): 6.8%<br>Length: 783.64 km",
         "mode": "none",
         "name": "Slope 6.8%",
         "type": "scatter",
         "x": {
          "bdata": "epgXaLL08UCk4Jc29fbxQLjVUJrv+PFAxREkSvL68UByNwBgq/zxQCaSj0t7/vFAhp7VjsEA8kChjVeCcQLyQOZnNAP+A/JAE5Y2QlEF8kAHVsZcxwbyQCeRm1V7CPJAv+erclUK8kBgg3UeSQzyQDU6bbOuDfJAVkEFSvwP8kDeeNHL+hHyQK0/OSjmE/JA1xPRQNsV8kBKfDXk1xfyQF6ErWeKGfJATBUbqpEb8kAfKPmL8RzyQK3CaWdfH/JASwpXFT8h8kB9dWm0TSPyQDdJzqKsJfJA",
          "dtype": "f8"
         },
         "y": {
          "bdata": "ZmZmZmYedkDNzMzMzEx2QDMzMzMzc3ZAmpmZmZmZdkCamZmZmbl2QJqZmZmZ2XZAMzMzMzMDd0AzMzMzMyN3QGZmZmZmPndAAAAAAABYd0DNzMzMzHR3QGZmZmZmlndAMzMzMzO7d0BmZmZmZt53QJqZmZmZ+XdAMzMzMzMjeEAzMzMzM0t4QAAAAAAAcHhAmpmZmZmReEDNzMzMzLR4QDMzMzMz03hAAAAAAAD4eEBmZmZmZg55QDMzMzMzM3lAmpmZmZlReUCamZmZmXF5QM3MzMzMlHlA",
          "dtype": "f8"
         }
        },
        {
         "fill": "tozeroy",
         "fillcolor": "#00a0ff",
         "hovertemplate": "Avg slope (100m): 5.9%<br>Length: 59.07 km",
         "mode": "none",
         "name": "Slope 5.9%",
         "type": "scatter",
         "x": {
          "bdata": "N0nOoqwl8kDduC/KtifyQHATY7BdKfJA",
          "dtype": "f8"
         },
         "y": {
          "bdata": "zczMzMyUeUDNzMzMzLR5QJqZmZmZ0XlA",
          "dtype": "f8"
         }
        },
        {
         "fill": "tozeroy",
         "fillcolor": "#ffd300",
         "hovertemplate": "Avg slope (100m): 6.5%<br>Length: 1597.85 km",
         "mode": "none",
         "name": "Slope 6.5%",
         "type": "scatter",
         "x": {
          "bdata": "cBNjsF0p8kAvgyW0iCvyQCu/X7AWLfJAh0kBDcMv8kC+95FSJjHyQAk8FT05M/JABv5Ndrg18kBN3tAtETjyQOrGK2DpOfJATptx0oc78kBRwmRwrj3yQO5myCPOP/JAiUl0FLtB8kAT44+IeUPyQBNra+5rRvJA4ZOmCClJ8kCRVTS7ZEvyQFW4ER9TTfJAoEvl0ChP8kAl7eQhdlHyQMSzmmR9U/JAqx+qHEtW8kBbV7NRLljyQBcyWoXgWfJAxprGuYlb8kDxAMVfJF3yQKsCxjRWX/JAV8MuPUhi8kCCdDy1amTyQLtekm1tZvJAaua6HmVo8kBkOYgcl2vyQO93/hcubfJAgKbO24pv8kBP8BvewHHyQHA2O+QEdPJAxQVTCVt28kDSJTsgU3jyQFIHyOn5efJAf7qTvQd88kAvWyHfzX3yQE5kcWOPf/JATdCFmlCB8kC4xa7dE4PyQOm5YzMRhfJA8D7rndmG8kD53ImJE4nyQGCGxXVti/JAbfQjUDuN8kA=",
          "dtype": "f8"
         },
         "y": {
          "bdata": "mpmZmZnReUCamZmZmfl5QDMzMzMzE3pAmpmZmZlJekAzMzMzM2N6QJqZmZmZiXpAAAAAAAC4ekCamZmZmeF6QGZmZmZmBntAMzMzMzMje0DNzMzMzEx7QGZmZmZmdntAmpmZmZmZe0AAAAAAALh7QM3MzMzM7HtAAAAAAAAgfEAAAAAAAEh8QM3MzMzMbHxAAAAAAACQfECamZmZmbl8QGZmZmZm3nxAZmZmZmYWfUAzMzMzMzt9QDMzMzMzW31AzczMzMx8fUAzMzMzM5t9QDMzMzMzw31AAAAAAAAAfkBmZmZmZiZ+QM3MzMzMTH5AAAAAAABwfkAAAAAAAKh+QGZmZmZmxn5AAAAAAADwfkDNzMzMzBR/QJqZmZmZOX9AzczMzMxkf0AzMzMzM4t/QDMzMzMzq39AAAAAAADQf0AzMzMzM/N/QGZmZmZmCoBAmpmZmZkZgECamZmZmSmAQDMzMzMzO4BAAAAAAABMgEAAAAAAAGCAQGZmZmZmcoBAzczMzMx8gEA=",
          "dtype": "f8"
         }
        },
        {
         "fill": "tozeroy",
         "fillcolor": "#00a0ff",
         "hovertemplate": "Avg slope (100m): 5.3%<br>Length: 44.32 km",
         "mode": "none",
         "name": "Slope 5.3%",
         "type": "scatter",
         "x": {
          "bdata": "bfQjUDuN8kAd7MZyAJDyQA==",
          "dtype": "f8"
         },
         "y": {
          "bdata": "zczMzMx8gEAzMzMzM3+AQA==",
          "dtype": "f8"
         }
        },
        {
         "fill": "tozeroy",
         "fillcolor": "#75f60c",
         "hovertemplate": "Avg slope (100m): 2.6%<br>Length: 76.12 km",
         "mode": "none",
         "name": "Slope 2.6%",
         "type": "scatter",
         "x": {
          "bdata": "HezGcgCQ8kAIyf1jwpTyQA==",
          "dtype": "f8"
         },
         "y": {
          "bdata": "MzMzMzN/gEAzMzMzM3uAQA==",
          "dtype": "f8"
         }
        },
        {
         "fill": "tozeroy",
         "fillcolor": "#F5F5DC",
         "hovertemplate": "Avg slope (100m): 0.0%<br>Length: 109.44 km",
         "mode": "none",
         "name": "Slope 0.0%",
         "type": "scatter",
         "x": {
          "bdata": "CMn9Y8KU8kA6fiCWGpnyQM8tHn+Zm/JA",
          "dtype": "f8"
         },
         "y": {
          "bdata": "MzMzMzN7gEDNzMzMzIiAQAAAAAAAlIBA",
          "dtype": "f8"
         }
        },
        {
         "fill": "tozeroy",
         "fillcolor": "#75f60c",
         "hovertemplate": "Avg slope (100m): 3.0%<br>Length: 53.92 km",
         "mode": "none",
         "name": "Slope 3.0%",
         "type": "scatter",
         "x": {
          "bdata": "zy0ef5mb8kCKAaBC+J7yQA==",
          "dtype": "f8"
         },
         "y": {
          "bdata": "AAAAAACUgEDNzMzMzKiAQA==",
          "dtype": "f8"
         }
        },
        {
         "fill": "tozeroy",
         "fillcolor": "#00a0ff",
         "hovertemplate": "Avg slope (100m): 4.2%<br>Length: 56.38 km",
         "mode": "none",
         "name": "Slope 4.2%",
         "type": "scatter",
         "x": {
          "bdata": "igGgQvie8kAmZrL2S6HyQHR//UZ+ovJA",
          "dtype": "f8"
         },
         "y": {
          "bdata": "zczMzMyogEAAAAAAALSAQJqZmZmZuYBA",
          "dtype": "f8"
         }
        },
        {
         "fill": "tozeroy",
         "fillcolor": "#75f60c",
         "hovertemplate": "Avg slope (100m): 3.7%<br>Length: 320.13 km",
         "mode": "none",
         "name": "Slope 3.7%",
         "type": "scatter",
         "x": {
          "bdata": "dH/9Rn6i8kAAaBJ1N6TyQAmksN+rpfJAxyTKlUyn8kBun4mQgKnyQJoKduTnq/JA4Ktjjiyv8kDR8bHrDrHyQPqMQK6JtPJAWMwFUoC28kA=",
          "dtype": "f8"
         },
         "y": {
          "bdata": "mpmZmZm5gECamZmZmcGAQAAAAAAAyIBAmpmZmZnNgECamZmZmdWAQM3MzMzM4IBAZmZmZmbugECamZmZmfWAQJqZmZmZBYFAmpmZmZkVgUA=",
          "dtype": "f8"
         }
        },
        {
         "fill": "tozeroy",
         "fillcolor": "#00a0ff",
         "hovertemplate": "Avg slope (100m): 5.0%<br>Length: 41.12 km",
         "mode": "none",
         "name": "Slope 5.0%",
         "type": "scatter",
         "x": {
          "bdata": "WMwFUoC28kADL282ErnyQA==",
          "dtype": "f8"
         },
         "y": {
          "bdata": "mpmZmZkVgUAAAAAAACyBQA==",
          "dtype": "f8"
         }
        },
        {
         "fill": "tozeroy",
         "fillcolor": "#ffd300",
         "hovertemplate": "Avg slope (100m): 6.6%<br>Length: 130.69 km",
         "mode": "none",
         "name": "Slope 6.6%",
         "type": "scatter",
         "x": {
          "bdata": "Ay9vNhK58kAFvMSWHbvyQEphenIZvfJAquUVnue/8kCyBJMvPcHyQA==",
          "dtype": "f8"
         },
         "y": {
          "bdata": "AAAAAAAsgUAzMzMzMz+BQDMzMzMzU4FAAAAAAABwgUAzMzMzM3+BQA==",
          "dtype": "f8"
         }
        },
        {
         "fill": "tozeroy",
         "fillcolor": "#ee0000",
         "hovertemplate": "Avg slope (100m): 8.5%<br>Length: 66.49 km",
         "mode": "none",
         "name": "Slope 8.5%",
         "type": "scatter",
         "x": {
          "bdata": "sgSTLz3B8kBy4GUACcPyQJZt/PpkxfJA",
          "dtype": "f8"
         },
         "y": {
          "bdata": "MzMzMzN/gUAAAAAAAJCBQJqZmZmZoYFA",
          "dtype": "f8"
         }
        },
        {
         "fill": "tozeroy",
         "fillcolor": "#ffd300",
         "hovertemplate": "Avg slope (100m): 6.6%<br>Length: 84.10 km",
         "mode": "none",
         "name": "Slope 6.6%",
         "type": "scatter",
         "x": {
          "bdata": "lm38+mTF8kAsVgQUTMfyQDdRXiSHyPJA2D7lkKbK8kA=",
          "dtype": "f8"
         },
         "y": {
          "bdata": "mpmZmZmhgUDNzMzMzLCBQGZmZmZmuoFAzczMzMzIgUA=",
          "dtype": "f8"
         }
        },
        {
         "fill": "tozeroy",
         "fillcolor": "#00a0ff",
         "hovertemplate": "Avg slope (100m): 5.7%<br>Length: 78.18 km",
         "mode": "none",
         "name": "Slope 5.7%",
         "type": "scatter",
         "x": {
          "bdata": "2D7lkKbK8kAGBp2jx8zyQOiCsHSJz/JA",
          "dtype": "f8"
         },
         "y": {
          "bdata": "zczMzMzIgUDNzMzMzNSBQAAAAAAA4IFA",
          "dtype": "f8"
         }
        },
        {
         "fill": "tozeroy",
         "fillcolor": "#75f60c",
         "hovertemplate": "Avg slope (100m): 3.8%<br>Length: 172.04 km",
         "mode": "none",
         "name": "Slope 3.8%",
         "type": "scatter",
         "x": {
          "bdata": "6IKwdInP8kCklxtUP9PyQAx2k1U61/JAPG+CLEra8kA=",
          "dtype": "f8"
         },
         "y": {
          "bdata": "AAAAAADggUAAAAAAAPCBQAAAAAAABIJAZmZmZmYWgkA=",
          "dtype": "f8"
         }
        },
        {
         "fill": "tozeroy",
         "fillcolor": "#00a0ff",
         "hovertemplate": "Avg slope (100m): 4.3%<br>Length: 78.73 km",
         "mode": "none",
         "name": "Slope 4.3%",
         "type": "scatter",
         "x": {
          "bdata": "PG+CLEra8kCDBIPjbt3yQGYFMO013/JA",
          "dtype": "f8"
         },
         "y": {
          "bdata": "ZmZmZmYWgkDNzMzMzCyCQM3MzMzMPIJA",
          "dtype": "f8"
         }
        },
        {
         "fill": "tozeroy",
         "fillcolor": "#ffd300",
         "hovertemplate": "Avg slope (100m): 6.3%<br>Length: 192.88 km",
         "mode": "none",
         "name": "Slope 6.3%",
         "type": "scatter",
         "x": {
          "bdata": "ZgUw7TXf8kDq8uZU+ODyQNU8E5/t4vJAED3vafHl8kBKkpir5efyQGcZZZ7m6fJATjUU/kPr8kA=",
          "dtype": "f8"
         },
         "y": {
          "bdata": "zczMzMw8gkCamZmZmU2CQM3MzMzMYIJAmpmZmZl9gkAAAAAAAJCCQJqZmZmZoYJAZmZmZmaqgkA=",
          "dtype": "f8"
         }
        },
        {
         "fill": "tozeroy",
         "fillcolor": "#00a0ff",
         "hovertemplate": "Avg slope (100m): 5.9%<br>Length: 92.13 km",
         "mode": "none",
         "name": "Slope 5.9%",
         "type": "scatter",
         "x": {
          "bdata": "TjUU/kPr8kDGgIHTFO7yQBZFegAG8fJA",
          "dtype": "f8"
         },
         "y": {
          "bdata": "ZmZmZmaqgkBmZmZmZraCQDMzMzMzx4JA",
          "dtype": "f8"
         }
        },
        {
         "fill": "tozeroy",
         "fillcolor": "#75f60c",
         "hovertemplate": "Avg slope (100m): 3.9%<br>Length: 40.87 km",
         "mode": "none",
         "name": "Slope 3.9%",
         "type": "scatter",
         "x": {
          "bdata": "FkV6AAbx8kCTTZDmk/PyQA==",
          "dtype": "f8"
         },
         "y": {
          "bdata": "MzMzMzPHgkAzMzMzM9eCQA==",
          "dtype": "f8"
         }
        },
        {
         "fill": "tozeroy",
         "fillcolor": "#00a0ff",
         "hovertemplate": "Avg slope (100m): 4.7%<br>Length: 134.75 km",
         "mode": "none",
         "name": "Slope 4.7%",
         "type": "scatter",
         "x": {
          "bdata": "k02Q5pPz8kCDom5KtfXyQIfDnCBY+PJA2Ysircj58kAIms/4//vyQA==",
          "dtype": "f8"
         },
         "y": {
          "bdata": "MzMzMzPXgkAAAAAAAOSCQAAAAAAA9IJAZmZmZmb6gkCamZmZmQGDQA==",
          "dtype": "f8"
         }
        },
        {
         "fill": "tozeroy",
         "fillcolor": "#75f60c",
         "hovertemplate": "Avg slope (100m): 3.0%<br>Length: 69.26 km",
         "mode": "none",
         "name": "Slope 3.0%",
         "type": "scatter",
         "x": {
          "bdata": "CJrP+P/78kCDsSozVADzQA==",
          "dtype": "f8"
         },
         "y": {
          "bdata": "mpmZmZkBg0CamZmZmRGDQA==",
          "dtype": "f8"
         }
        }
       ],
       "layout": {
        "height": 650,
        "margin": {
         "b": 50,
         "l": 50,
         "r": 50,
         "t": 80
        },
        "plot_bgcolor": "white",
        "template": {
         "data": {
          "bar": [
           {
            "error_x": {
             "color": "#2a3f5f"
            },
            "error_y": {
             "color": "#2a3f5f"
            },
            "marker": {
             "line": {
              "color": "#E5ECF6",
              "width": 0.5
             },
             "pattern": {
              "fillmode": "overlay",
              "size": 10,
              "solidity": 0.2
             }
            },
            "type": "bar"
           }
          ],
          "barpolar": [
           {
            "marker": {
             "line": {
              "color": "#E5ECF6",
              "width": 0.5
             },
             "pattern": {
              "fillmode": "overlay",
              "size": 10,
              "solidity": 0.2
             }
            },
            "type": "barpolar"
           }
          ],
          "carpet": [
           {
            "aaxis": {
             "endlinecolor": "#2a3f5f",
             "gridcolor": "white",
             "linecolor": "white",
             "minorgridcolor": "white",
             "startlinecolor": "#2a3f5f"
            },
            "baxis": {
             "endlinecolor": "#2a3f5f",
             "gridcolor": "white",
             "linecolor": "white",
             "minorgridcolor": "white",
             "startlinecolor": "#2a3f5f"
            },
            "type": "carpet"
           }
          ],
          "choropleth": [
           {
            "colorbar": {
             "outlinewidth": 0,
             "ticks": ""
            },
            "type": "choropleth"
           }
          ],
          "contour": [
           {
            "colorbar": {
             "outlinewidth": 0,
             "ticks": ""
            },
            "colorscale": [
             [
              0,
              "#0d0887"
             ],
             [
              0.1111111111111111,
              "#46039f"
             ],
             [
              0.2222222222222222,
              "#7201a8"
             ],
             [
              0.3333333333333333,
              "#9c179e"
             ],
             [
              0.4444444444444444,
              "#bd3786"
             ],
             [
              0.5555555555555556,
              "#d8576b"
             ],
             [
              0.6666666666666666,
              "#ed7953"
             ],
             [
              0.7777777777777778,
              "#fb9f3a"
             ],
             [
              0.8888888888888888,
              "#fdca26"
             ],
             [
              1,
              "#f0f921"
             ]
            ],
            "type": "contour"
           }
          ],
          "contourcarpet": [
           {
            "colorbar": {
             "outlinewidth": 0,
             "ticks": ""
            },
            "type": "contourcarpet"
           }
          ],
          "heatmap": [
           {
            "colorbar": {
             "outlinewidth": 0,
             "ticks": ""
            },
            "colorscale": [
             [
              0,
              "#0d0887"
             ],
             [
              0.1111111111111111,
              "#46039f"
             ],
             [
              0.2222222222222222,
              "#7201a8"
             ],
             [
              0.3333333333333333,
              "#9c179e"
             ],
             [
              0.4444444444444444,
              "#bd3786"
             ],
             [
              0.5555555555555556,
              "#d8576b"
             ],
             [
              0.6666666666666666,
              "#ed7953"
             ],
             [
              0.7777777777777778,
              "#fb9f3a"
             ],
             [
              0.8888888888888888,
              "#fdca26"
             ],
             [
              1,
              "#f0f921"
             ]
            ],
            "type": "heatmap"
           }
          ],
          "histogram": [
           {
            "marker": {
             "pattern": {
              "fillmode": "overlay",
              "size": 10,
              "solidity": 0.2
             }
            },
            "type": "histogram"
           }
          ],
          "histogram2d": [
           {
            "colorbar": {
             "outlinewidth": 0,
             "ticks": ""
            },
            "colorscale": [
             [
              0,
              "#0d0887"
             ],
             [
              0.1111111111111111,
              "#46039f"
             ],
             [
              0.2222222222222222,
              "#7201a8"
             ],
             [
              0.3333333333333333,
              "#9c179e"
             ],
             [
              0.4444444444444444,
              "#bd3786"
             ],
             [
              0.5555555555555556,
              "#d8576b"
             ],
             [
              0.6666666666666666,
              "#ed7953"
             ],
             [
              0.7777777777777778,
              "#fb9f3a"
             ],
             [
              0.8888888888888888,
              "#fdca26"
             ],
             [
              1,
              "#f0f921"
             ]
            ],
            "type": "histogram2d"
           }
          ],
          "histogram2dcontour": [
           {
            "colorbar": {
             "outlinewidth": 0,
             "ticks": ""
            },
            "colorscale": [
             [
              0,
              "#0d0887"
             ],
             [
              0.1111111111111111,
              "#46039f"
             ],
             [
              0.2222222222222222,
              "#7201a8"
             ],
             [
              0.3333333333333333,
              "#9c179e"
             ],
             [
              0.4444444444444444,
              "#bd3786"
             ],
             [
              0.5555555555555556,
              "#d8576b"
             ],
             [
              0.6666666666666666,
              "#ed7953"
             ],
             [
              0.7777777777777778,
              "#fb9f3a"
             ],
             [
              0.8888888888888888,
              "#fdca26"
             ],
             [
              1,
              "#f0f921"
             ]
            ],
            "type": "histogram2dcontour"
           }
          ],
          "mesh3d": [
           {
            "colorbar": {
             "outlinewidth": 0,
             "ticks": ""
            },
            "type": "mesh3d"
           }
          ],
          "parcoords": [
           {
            "line": {
             "colorbar": {
              "outlinewidth": 0,
              "ticks": ""
             }
            },
            "type": "parcoords"
           }
          ],
          "pie": [
           {
            "automargin": true,
            "type": "pie"
           }
          ],
          "scatter": [
           {
            "fillpattern": {
             "fillmode": "overlay",
             "size": 10,
             "solidity": 0.2
            },
            "type": "scatter"
           }
          ],
          "scatter3d": [
           {
            "line": {
             "colorbar": {
              "outlinewidth": 0,
              "ticks": ""
             }
            },
            "marker": {
             "colorbar": {
              "outlinewidth": 0,
              "ticks": ""
             }
            },
            "type": "scatter3d"
           }
          ],
          "scattercarpet": [
           {
            "marker": {
             "colorbar": {
              "outlinewidth": 0,
              "ticks": ""
             }
            },
            "type": "scattercarpet"
           }
          ],
          "scattergeo": [
           {
            "marker": {
             "colorbar": {
              "outlinewidth": 0,
              "ticks": ""
             }
            },
            "type": "scattergeo"
           }
          ],
          "scattergl": [
           {
            "marker": {
             "colorbar": {
              "outlinewidth": 0,
              "ticks": ""
             }
            },
            "type": "scattergl"
           }
          ],
          "scattermap": [
           {
            "marker": {
             "colorbar": {
              "outlinewidth": 0,
              "ticks": ""
             }
            },
            "type": "scattermap"
           }
          ],
          "scattermapbox": [
           {
            "marker": {
             "colorbar": {
              "outlinewidth": 0,
              "ticks": ""
             }
            },
            "type": "scattermapbox"
           }
          ],
          "scatterpolar": [
           {
            "marker": {
             "colorbar": {
              "outlinewidth": 0,
              "ticks": ""
             }
            },
            "type": "scatterpolar"
           }
          ],
          "scatterpolargl": [
           {
            "marker": {
             "colorbar": {
              "outlinewidth": 0,
              "ticks": ""
             }
            },
            "type": "scatterpolargl"
           }
          ],
          "scatterternary": [
           {
            "marker": {
             "colorbar": {
              "outlinewidth": 0,
              "ticks": ""
             }
            },
            "type": "scatterternary"
           }
          ],
          "surface": [
           {
            "colorbar": {
             "outlinewidth": 0,
             "ticks": ""
            },
            "colorscale": [
             [
              0,
              "#0d0887"
             ],
             [
              0.1111111111111111,
              "#46039f"
             ],
             [
              0.2222222222222222,
              "#7201a8"
             ],
             [
              0.3333333333333333,
              "#9c179e"
             ],
             [
              0.4444444444444444,
              "#bd3786"
             ],
             [
              0.5555555555555556,
              "#d8576b"
             ],
             [
              0.6666666666666666,
              "#ed7953"
             ],
             [
              0.7777777777777778,
              "#fb9f3a"
             ],
             [
              0.8888888888888888,
              "#fdca26"
             ],
             [
              1,
              "#f0f921"
             ]
            ],
            "type": "surface"
           }
          ],
          "table": [
           {
            "cells": {
             "fill": {
              "color": "#EBF0F8"
             },
             "line": {
              "color": "white"
             }
            },
            "header": {
             "fill": {
              "color": "#C8D4E3"
             },
             "line": {
              "color": "white"
             }
            },
            "type": "table"
           }
          ]
         },
         "layout": {
          "annotationdefaults": {
           "arrowcolor": "#2a3f5f",
           "arrowhead": 0,
           "arrowwidth": 1
          },
          "autotypenumbers": "strict",
          "coloraxis": {
           "colorbar": {
            "outlinewidth": 0,
            "ticks": ""
           }
          },
          "colorscale": {
           "diverging": [
            [
             0,
             "#8e0152"
            ],
            [
             0.1,
             "#c51b7d"
            ],
            [
             0.2,
             "#de77ae"
            ],
            [
             0.3,
             "#f1b6da"
            ],
            [
             0.4,
             "#fde0ef"
            ],
            [
             0.5,
             "#f7f7f7"
            ],
            [
             0.6,
             "#e6f5d0"
            ],
            [
             0.7,
             "#b8e186"
            ],
            [
             0.8,
             "#7fbc41"
            ],
            [
             0.9,
             "#4d9221"
            ],
            [
             1,
             "#276419"
            ]
           ],
           "sequential": [
            [
             0,
             "#0d0887"
            ],
            [
             0.1111111111111111,
             "#46039f"
            ],
            [
             0.2222222222222222,
             "#7201a8"
            ],
            [
             0.3333333333333333,
             "#9c179e"
            ],
            [
             0.4444444444444444,
             "#bd3786"
            ],
            [
             0.5555555555555556,
             "#d8576b"
            ],
            [
             0.6666666666666666,
             "#ed7953"
            ],
            [
             0.7777777777777778,
             "#fb9f3a"
            ],
            [
             0.8888888888888888,
             "#fdca26"
            ],
            [
             1,
             "#f0f921"
            ]
           ],
           "sequentialminus": [
            [
             0,
             "#0d0887"
            ],
            [
             0.1111111111111111,
             "#46039f"
            ],
            [
             0.2222222222222222,
             "#7201a8"
            ],
            [
             0.3333333333333333,
             "#9c179e"
            ],
            [
             0.4444444444444444,
             "#bd3786"
            ],
            [
             0.5555555555555556,
             "#d8576b"
            ],
            [
             0.6666666666666666,
             "#ed7953"
            ],
            [
             0.7777777777777778,
             "#fb9f3a"
            ],
            [
             0.8888888888888888,
             "#fdca26"
            ],
            [
             1,
             "#f0f921"
            ]
           ]
          },
          "colorway": [
           "#636efa",
           "#EF553B",
           "#00cc96",
           "#ab63fa",
           "#FFA15A",
           "#19d3f3",
           "#FF6692",
           "#B6E880",
           "#FF97FF",
           "#FECB52"
          ],
          "font": {
           "color": "#2a3f5f"
          },
          "geo": {
           "bgcolor": "white",
           "lakecolor": "white",
           "landcolor": "#E5ECF6",
           "showlakes": true,
           "showland": true,
           "subunitcolor": "white"
          },
          "hoverlabel": {
           "align": "left"
          },
          "hovermode": "closest",
          "mapbox": {
           "style": "light"
          },
          "paper_bgcolor": "white",
          "plot_bgcolor": "#E5ECF6",
          "polar": {
           "angularaxis": {
            "gridcolor": "white",
            "linecolor": "white",
            "ticks": ""
           },
           "bgcolor": "#E5ECF6",
           "radialaxis": {
            "gridcolor": "white",
            "linecolor": "white",
            "ticks": ""
           }
          },
          "scene": {
           "xaxis": {
            "backgroundcolor": "#E5ECF6",
            "gridcolor": "white",
            "gridwidth": 2,
            "linecolor": "white",
            "showbackground": true,
            "ticks": "",
            "zerolinecolor": "white"
           },
           "yaxis": {
            "backgroundcolor": "#E5ECF6",
            "gridcolor": "white",
            "gridwidth": 2,
            "linecolor": "white",
            "showbackground": true,
            "ticks": "",
            "zerolinecolor": "white"
           },
           "zaxis": {
            "backgroundcolor": "#E5ECF6",
            "gridcolor": "white",
            "gridwidth": 2,
            "linecolor": "white",
            "showbackground": true,
            "ticks": "",
            "zerolinecolor": "white"
           }
          },
          "shapedefaults": {
           "line": {
            "color": "#2a3f5f"
           }
          },
          "ternary": {
           "aaxis": {
            "gridcolor": "white",
            "linecolor": "white",
            "ticks": ""
           },
           "baxis": {
            "gridcolor": "white",
            "linecolor": "white",
            "ticks": ""
           },
           "bgcolor": "#E5ECF6",
           "caxis": {
            "gridcolor": "white",
            "linecolor": "white",
            "ticks": ""
           }
          },
          "title": {
           "x": 0.05
          },
          "xaxis": {
           "automargin": true,
           "gridcolor": "white",
           "linecolor": "white",
           "ticks": "",
           "title": {
            "standoff": 15
           },
           "zerolinecolor": "white",
           "zerolinewidth": 2
          },
          "yaxis": {
           "automargin": true,
           "gridcolor": "white",
           "linecolor": "white",
           "ticks": "",
           "title": {
            "standoff": 15
           },
           "zerolinecolor": "white",
           "zerolinewidth": 2
          }
         }
        },
        "title": {
         "text": "Climb 7 — 4.80 km | 284 m gain | 5.9% avg"
        },
        "xaxis": {
         "showgrid": false
        },
        "yaxis": {
         "showgrid": false
        }
       }
      }
     },
     "metadata": {},
     "output_type": "display_data"
    },
    {
     "data": {
      "application/vnd.plotly.v1+json": {
       "config": {
        "plotlyServerURL": "https://plot.ly"
       },
       "data": [
        {
         "fill": "tozeroy",
         "fillcolor": "#F5F5DC",
         "hovertemplate": "Avg slope (100m): -0.0%<br>Length: 148.89 km",
         "mode": "none",
         "name": "Slope -0.0%",
         "type": "scatter",
         "x": {
          "bdata": "6yY5oD4v9UDM4bH5SjX1QHtEfeiMOPVA",
          "dtype": "f8"
         },
         "y": {
          "bdata": "MzMzMzOjd0AzMzMzM7t3QGZmZmZm3ndA",
          "dtype": "f8"
         }
        },
        {
         "fill": "tozeroy",
         "fillcolor": "#75f60c",
         "hovertemplate": "Avg slope (100m): 2.9%<br>Length: 36.85 km",
         "mode": "none",
         "name": "Slope 2.9%",
         "type": "scatter",
         "x": {
          "bdata": "e0R96Iw49UBt1b5x2jr1QA==",
          "dtype": "f8"
         },
         "y": {
          "bdata": "ZmZmZmbed0AAAAAAAAB4QA==",
          "dtype": "f8"
         }
        },
        {
         "fill": "tozeroy",
         "fillcolor": "#00a0ff",
         "hovertemplate": "Avg slope (100m): 5.0%<br>Length: 94.86 km",
         "mode": "none",
         "name": "Slope 5.0%",
         "type": "scatter",
         "x": {
          "bdata": "bdW+cdo69UCNkGpHUzz1QIyCcVrQPvVAtyqqMMhA9UA=",
          "dtype": "f8"
         },
         "y": {
          "bdata": "AAAAAAAAeEDNzMzMzBR4QDMzMzMzO3hAZmZmZmZeeEA=",
          "dtype": "f8"
         }
        },
        {
         "fill": "tozeroy",
         "fillcolor": "#ffd300",
         "hovertemplate": "Avg slope (100m): 6.5%<br>Length: 200.66 km",
         "mode": "none",
         "name": "Slope 6.5%",
         "type": "scatter",
         "x": {
          "bdata": "tyqqMMhA9UCfjgjN4EL1QHWT2BJcRfVAwTe3/TpH9UAVfRJuAkr1QKAWE7tSTfVA",
          "dtype": "f8"
         },
         "y": {
          "bdata": "ZmZmZmZeeEBmZmZmZoZ4QDMzMzMzs3hAzczMzMzUeECamZmZmfl4QDMzMzMzI3lA",
          "dtype": "f8"
         }
        },
        {
         "fill": "tozeroy",
         "fillcolor": "#00a0ff",
         "hovertemplate": "Avg slope (100m): 5.0%<br>Length: 69.30 km",
         "mode": "none",
         "name": "Slope 5.0%",
         "type": "scatter",
         "x": {
          "bdata": "oBYTu1JN9UD9x8fjjE/1QK/+ZYWnUfVA",
          "dtype": "f8"
         },
         "y": {
          "bdata": "MzMzMzMjeUDNzMzMzER5QGZmZmZmbnlA",
          "dtype": "f8"
         }
        },
        {
         "fill": "tozeroy",
         "fillcolor": "#ffd300",
         "hovertemplate": "Avg slope (100m): 6.8%<br>Length: 296.66 km",
         "mode": "none",
         "name": "Slope 6.8%",
         "type": "scatter",
         "x": {
          "bdata": "r/5lhadR9UBl1srFS1P1QDVxW791VfVAusu1IvlW9UDAds3HnFn1QOGhpBKFW/VA1kCGcGdd9UDLJWMNGF/1QI/IYPoFYvVAVVskIjJk9UA=",
          "dtype": "f8"
         },
         "y": {
          "bdata": "ZmZmZmZueUBmZmZmZo55QAAAAAAAuHlAzczMzMzUeUCamZmZmQl6QAAAAAAAMHpAZmZmZmZWekAAAAAAAHh6QGZmZmZmpnpAZmZmZma+ekA=",
          "dtype": "f8"
         }
        },
        {
         "fill": "tozeroy",
         "fillcolor": "#00a0ff",
         "hovertemplate": "Avg slope (100m): 5.3%<br>Length: 108.91 km",
         "mode": "none",
         "name": "Slope 5.3%",
         "type": "scatter",
         "x": {
          "bdata": "VVskIjJk9UBThIJW2Wb1QJhku7gAa/VA",
          "dtype": "f8"
         },
         "y": {
          "bdata": "ZmZmZma+ekAzMzMzM9t6QGZmZmZm9npA",
          "dtype": "f8"
         }
        },
        {
         "fill": "tozeroy",
         "fillcolor": "#75f60c",
         "hovertemplate": "Avg slope (100m): 3.4%<br>Length: 91.65 km",
         "mode": "none",
         "name": "Slope 3.4%",
         "type": "scatter",
         "x": {
          "bdata": "mGS7uABr9UARO5EzYm31QLLIdi+7cPVA",
          "dtype": "f8"
         },
         "y": {
          "bdata": "ZmZmZmb2ekAzMzMzMwt7QGZmZmZmRntA",
          "dtype": "f8"
         }
        },
        {
         "fill": "tozeroy",
         "fillcolor": "#00a0ff",
         "hovertemplate": "Avg slope (100m): 5.2%<br>Length: 40.72 km",
         "mode": "none",
         "name": "Slope 5.2%",
         "type": "scatter",
         "x": {
          "bdata": "ssh2L7tw9UByBo2wRnP1QA==",
          "dtype": "f8"
         },
         "y": {
          "bdata": "ZmZmZmZGe0AzMzMzM3N7QA==",
          "dtype": "f8"
         }
        },
        {
         "fill": "tozeroy",
         "fillcolor": "#ffd300",
         "hovertemplate": "Avg slope (100m): 6.9%<br>Length: 253.61 km",
         "mode": "none",
         "name": "Slope 6.9%",
         "type": "scatter",
         "x": {
          "bdata": "cgaNsEZz9UDFdac3Anb1QJ5U9YRLePVAlUpXQPx59UDEtn9f8Hv1QB30D4zrffVAsj6ncN9/9UAwXgVyIIP1QA==",
          "dtype": "f8"
         },
         "y": {
          "bdata": "MzMzMzNze0AzMzMzM6N7QM3MzMzMzHtAzczMzMzse0AAAAAAABB8QGZmZmZmNnxAAAAAAABQfEAzMzMzM1t8QA==",
          "dtype": "f8"
         }
        },
        {
         "fill": "tozeroy",
         "fillcolor": "#75f60c",
         "hovertemplate": "Avg slope (100m): 3.2%<br>Length: 49.18 km",
         "mode": "none",
         "name": "Slope 3.2%",
         "type": "scatter",
         "x": {
          "bdata": "MF4FciCD9UBYUXpEM4b1QA==",
          "dtype": "f8"
         },
         "y": {
          "bdata": "MzMzMzNbfEDNzMzMzGR8QA==",
          "dtype": "f8"
         }
        },
        {
         "fill": "tozeroy",
         "fillcolor": "#F5F5DC",
         "hovertemplate": "Avg slope (100m): 1.3%<br>Length: 116.50 km",
         "mode": "none",
         "name": "Slope 1.3%",
         "type": "scatter",
         "x": {
          "bdata": "WFF6RDOG9UAXzmJ4Por1QGROoUJ7jfVA",
          "dtype": "f8"
         },
         "y": {
          "bdata": "zczMzMxkfEAAAAAAAIB8QJqZmZmZmXxA",
          "dtype": "f8"
         }
        },
        {
         "fill": "tozeroy",
         "fillcolor": "#75f60c",
         "hovertemplate": "Avg slope (100m): 2.9%<br>Length: 275.59 km",
         "mode": "none",
         "name": "Slope 2.9%",
         "type": "scatter",
         "x": {
          "bdata": "ZE6hQnuN9UAcQaBxI5L1QCgMQ3TGlfVA3uqbtXib9UBGnammtJ71QA==",
          "dtype": "f8"
         },
         "y": {
          "bdata": "mpmZmZmZfECamZmZmbl8QGZmZmZmznxAZmZmZmb2fEAAAAAAAAh9QA==",
          "dtype": "f8"
         }
        }
       ],
       "layout": {
        "height": 650,
        "margin": {
         "b": 50,
         "l": 50,
         "r": 50,
         "t": 80
        },
        "plot_bgcolor": "white",
        "template": {
         "data": {
          "bar": [
           {
            "error_x": {
             "color": "#2a3f5f"
            },
            "error_y": {
             "color": "#2a3f5f"
            },
            "marker": {
             "line": {
              "color": "#E5ECF6",
              "width": 0.5
             },
             "pattern": {
              "fillmode": "overlay",
              "size": 10,
              "solidity": 0.2
             }
            },
            "type": "bar"
           }
          ],
          "barpolar": [
           {
            "marker": {
             "line": {
              "color": "#E5ECF6",
              "width": 0.5
             },
             "pattern": {
              "fillmode": "overlay",
              "size": 10,
              "solidity": 0.2
             }
            },
            "type": "barpolar"
           }
          ],
          "carpet": [
           {
            "aaxis": {
             "endlinecolor": "#2a3f5f",
             "gridcolor": "white",
             "linecolor": "white",
             "minorgridcolor": "white",
             "startlinecolor": "#2a3f5f"
            },
            "baxis": {
             "endlinecolor": "#2a3f5f",
             "gridcolor": "white",
             "linecolor": "white",
             "minorgridcolor": "white",
             "startlinecolor": "#2a3f5f"
            },
            "type": "carpet"
           }
          ],
          "choropleth": [
           {
            "colorbar": {
             "outlinewidth": 0,
             "ticks": ""
            },
            "type": "choropleth"
           }
          ],
          "contour": [
           {
            "colorbar": {
             "outlinewidth": 0,
             "ticks": ""
            },
            "colorscale": [
             [
              0,
              "#0d0887"
             ],
             [
              0.1111111111111111,
              "#46039f"
             ],
             [
              0.2222222222222222,
              "#7201a8"
             ],
             [
              0.3333333333333333,
              "#9c179e"
             ],
             [
              0.4444444444444444,
              "#bd3786"
             ],
             [
              0.5555555555555556,
              "#d8576b"
             ],
             [
              0.6666666666666666,
              "#ed7953"
             ],
             [
              0.7777777777777778,
              "#fb9f3a"
             ],
             [
              0.8888888888888888,
              "#fdca26"
             ],
             [
              1,
              "#f0f921"
             ]
            ],
            "type": "contour"
           }
          ],
          "contourcarpet": [
           {
            "colorbar": {
             "outlinewidth": 0,
             "ticks": ""
            },
            "type": "contourcarpet"
           }
          ],
          "heatmap": [
           {
            "colorbar": {
             "outlinewidth": 0,
             "ticks": ""
            },
            "colorscale": [
             [
              0,
              "#0d0887"
             ],
             [
              0.1111111111111111,
              "#46039f"
             ],
             [
              0.2222222222222222,
              "#7201a8"
             ],
             [
              0.3333333333333333,
              "#9c179e"
             ],
             [
              0.4444444444444444,
              "#bd3786"
             ],
             [
              0.5555555555555556,
              "#d8576b"
             ],
             [
              0.6666666666666666,
              "#ed7953"
             ],
             [
              0.7777777777777778,
              "#fb9f3a"
             ],
             [
              0.8888888888888888,
              "#fdca26"
             ],
             [
              1,
              "#f0f921"
             ]
            ],
            "type": "heatmap"
           }
          ],
          "histogram": [
           {
            "marker": {
             "pattern": {
              "fillmode": "overlay",
              "size": 10,
              "solidity": 0.2
             }
            },
            "type": "histogram"
           }
          ],
          "histogram2d": [
           {
            "colorbar": {
             "outlinewidth": 0,
             "ticks": ""
            },
            "colorscale": [
             [
              0,
              "#0d0887"
             ],
             [
              0.1111111111111111,
              "#46039f"
             ],
             [
              0.2222222222222222,
              "#7201a8"
             ],
             [
              0.3333333333333333,
              "#9c179e"
             ],
             [
              0.4444444444444444,
              "#bd3786"
             ],
             [
              0.5555555555555556,
              "#d8576b"
             ],
             [
              0.6666666666666666,
              "#ed7953"
             ],
             [
              0.7777777777777778,
              "#fb9f3a"
             ],
             [
              0.8888888888888888,
              "#fdca26"
             ],
             [
              1,
              "#f0f921"
             ]
            ],
            "type": "histogram2d"
           }
          ],
          "histogram2dcontour": [
           {
            "colorbar": {
             "outlinewidth": 0,
             "ticks": ""
            },
            "colorscale": [
             [
              0,
              "#0d0887"
             ],
             [
              0.1111111111111111,
              "#46039f"
             ],
             [
              0.2222222222222222,
              "#7201a8"
             ],
             [
              0.3333333333333333,
              "#9c179e"
             ],
             [
              0.4444444444444444,
              "#bd3786"
             ],
             [
              0.5555555555555556,
              "#d8576b"
             ],
             [
              0.6666666666666666,
              "#ed7953"
             ],
             [
              0.7777777777777778,
              "#fb9f3a"
             ],
             [
              0.8888888888888888,
              "#fdca26"
             ],
             [
              1,
              "#f0f921"
             ]
            ],
            "type": "histogram2dcontour"
           }
          ],
          "mesh3d": [
           {
            "colorbar": {
             "outlinewidth": 0,
             "ticks": ""
            },
            "type": "mesh3d"
           }
          ],
          "parcoords": [
           {
            "line": {
             "colorbar": {
              "outlinewidth": 0,
              "ticks": ""
             }
            },
            "type": "parcoords"
           }
          ],
          "pie": [
           {
            "automargin": true,
            "type": "pie"
           }
          ],
          "scatter": [
           {
            "fillpattern": {
             "fillmode": "overlay",
             "size": 10,
             "solidity": 0.2
            },
            "type": "scatter"
           }
          ],
          "scatter3d": [
           {
            "line": {
             "colorbar": {
              "outlinewidth": 0,
              "ticks": ""
             }
            },
            "marker": {
             "colorbar": {
              "outlinewidth": 0,
              "ticks": ""
             }
            },
            "type": "scatter3d"
           }
          ],
          "scattercarpet": [
           {
            "marker": {
             "colorbar": {
              "outlinewidth": 0,
              "ticks": ""
             }
            },
            "type": "scattercarpet"
           }
          ],
          "scattergeo": [
           {
            "marker": {
             "colorbar": {
              "outlinewidth": 0,
              "ticks": ""
             }
            },
            "type": "scattergeo"
           }
          ],
          "scattergl": [
           {
            "marker": {
             "colorbar": {
              "outlinewidth": 0,
              "ticks": ""
             }
            },
            "type": "scattergl"
           }
          ],
          "scattermap": [
           {
            "marker": {
             "colorbar": {
              "outlinewidth": 0,
              "ticks": ""
             }
            },
            "type": "scattermap"
           }
          ],
          "scattermapbox": [
           {
            "marker": {
             "colorbar": {
              "outlinewidth": 0,
              "ticks": ""
             }
            },
            "type": "scattermapbox"
           }
          ],
          "scatterpolar": [
           {
            "marker": {
             "colorbar": {
              "outlinewidth": 0,
              "ticks": ""
             }
            },
            "type": "scatterpolar"
           }
          ],
          "scatterpolargl": [
           {
            "marker": {
             "colorbar": {
              "outlinewidth": 0,
              "ticks": ""
             }
            },
            "type": "scatterpolargl"
           }
          ],
          "scatterternary": [
           {
            "marker": {
             "colorbar": {
              "outlinewidth": 0,
              "ticks": ""
             }
            },
            "type": "scatterternary"
           }
          ],
          "surface": [
           {
            "colorbar": {
             "outlinewidth": 0,
             "ticks": ""
            },
            "colorscale": [
             [
              0,
              "#0d0887"
             ],
             [
              0.1111111111111111,
              "#46039f"
             ],
             [
              0.2222222222222222,
              "#7201a8"
             ],
             [
              0.3333333333333333,
              "#9c179e"
             ],
             [
              0.4444444444444444,
              "#bd3786"
             ],
             [
              0.5555555555555556,
              "#d8576b"
             ],
             [
              0.6666666666666666,
              "#ed7953"
             ],
             [
              0.7777777777777778,
              "#fb9f3a"
             ],
             [
              0.8888888888888888,
              "#fdca26"
             ],
             [
              1,
              "#f0f921"
             ]
            ],
            "type": "surface"
           }
          ],
          "table": [
           {
            "cells": {
             "fill": {
              "color": "#EBF0F8"
             },
             "line": {
              "color": "white"
             }
            },
            "header": {
             "fill": {
              "color": "#C8D4E3"
             },
             "line": {
              "color": "white"
             }
            },
            "type": "table"
           }
          ]
         },
         "layout": {
          "annotationdefaults": {
           "arrowcolor": "#2a3f5f",
           "arrowhead": 0,
           "arrowwidth": 1
          },
          "autotypenumbers": "strict",
          "coloraxis": {
           "colorbar": {
            "outlinewidth": 0,
            "ticks": ""
           }
          },
          "colorscale": {
           "diverging": [
            [
             0,
             "#8e0152"
            ],
            [
             0.1,
             "#c51b7d"
            ],
            [
             0.2,
             "#de77ae"
            ],
            [
             0.3,
             "#f1b6da"
            ],
            [
             0.4,
             "#fde0ef"
            ],
            [
             0.5,
             "#f7f7f7"
            ],
            [
             0.6,
             "#e6f5d0"
            ],
            [
             0.7,
             "#b8e186"
            ],
            [
             0.8,
             "#7fbc41"
            ],
            [
             0.9,
             "#4d9221"
            ],
            [
             1,
             "#276419"
            ]
           ],
           "sequential": [
            [
             0,
             "#0d0887"
            ],
            [
             0.1111111111111111,
             "#46039f"
            ],
            [
             0.2222222222222222,
             "#7201a8"
            ],
            [
             0.3333333333333333,
             "#9c179e"
            ],
            [
             0.4444444444444444,
             "#bd3786"
            ],
            [
             0.5555555555555556,
             "#d8576b"
            ],
            [
             0.6666666666666666,
             "#ed7953"
            ],
            [
             0.7777777777777778,
             "#fb9f3a"
            ],
            [
             0.8888888888888888,
             "#fdca26"
            ],
            [
             1,
             "#f0f921"
            ]
           ],
           "sequentialminus": [
            [
             0,
             "#0d0887"
            ],
            [
             0.1111111111111111,
             "#46039f"
            ],
            [
             0.2222222222222222,
             "#7201a8"
            ],
            [
             0.3333333333333333,
             "#9c179e"
            ],
            [
             0.4444444444444444,
             "#bd3786"
            ],
            [
             0.5555555555555556,
             "#d8576b"
            ],
            [
             0.6666666666666666,
             "#ed7953"
            ],
            [
             0.7777777777777778,
             "#fb9f3a"
            ],
            [
             0.8888888888888888,
             "#fdca26"
            ],
            [
             1,
             "#f0f921"
            ]
           ]
          },
          "colorway": [
           "#636efa",
           "#EF553B",
           "#00cc96",
           "#ab63fa",
           "#FFA15A",
           "#19d3f3",
           "#FF6692",
           "#B6E880",
           "#FF97FF",
           "#FECB52"
          ],
          "font": {
           "color": "#2a3f5f"
          },
          "geo": {
           "bgcolor": "white",
           "lakecolor": "white",
           "landcolor": "#E5ECF6",
           "showlakes": true,
           "showland": true,
           "subunitcolor": "white"
          },
          "hoverlabel": {
           "align": "left"
          },
          "hovermode": "closest",
          "mapbox": {
           "style": "light"
          },
          "paper_bgcolor": "white",
          "plot_bgcolor": "#E5ECF6",
          "polar": {
           "angularaxis": {
            "gridcolor": "white",
            "linecolor": "white",
            "ticks": ""
           },
           "bgcolor": "#E5ECF6",
           "radialaxis": {
            "gridcolor": "white",
            "linecolor": "white",
            "ticks": ""
           }
          },
          "scene": {
           "xaxis": {
            "backgroundcolor": "#E5ECF6",
            "gridcolor": "white",
            "gridwidth": 2,
            "linecolor": "white",
            "showbackground": true,
            "ticks": "",
            "zerolinecolor": "white"
           },
           "yaxis": {
            "backgroundcolor": "#E5ECF6",
            "gridcolor": "white",
            "gridwidth": 2,
            "linecolor": "white",
            "showbackground": true,
            "ticks": "",
            "zerolinecolor": "white"
           },
           "zaxis": {
            "backgroundcolor": "#E5ECF6",
            "gridcolor": "white",
            "gridwidth": 2,
            "linecolor": "white",
            "showbackground": true,
            "ticks": "",
            "zerolinecolor": "white"
           }
          },
          "shapedefaults": {
           "line": {
            "color": "#2a3f5f"
           }
          },
          "ternary": {
           "aaxis": {
            "gridcolor": "white",
            "linecolor": "white",
            "ticks": ""
           },
           "baxis": {
            "gridcolor": "white",
            "linecolor": "white",
            "ticks": ""
           },
           "bgcolor": "#E5ECF6",
           "caxis": {
            "gridcolor": "white",
            "linecolor": "white",
            "ticks": ""
           }
          },
          "title": {
           "x": 0.05
          },
          "xaxis": {
           "automargin": true,
           "gridcolor": "white",
           "linecolor": "white",
           "ticks": "",
           "title": {
            "standoff": 15
           },
           "zerolinecolor": "white",
           "zerolinewidth": 2
          },
          "yaxis": {
           "automargin": true,
           "gridcolor": "white",
           "linecolor": "white",
           "ticks": "",
           "title": {
            "standoff": 15
           },
           "zerolinecolor": "white",
           "zerolinewidth": 2
          }
         }
        },
        "title": {
         "text": "Climb 8 — 1.78 km | 85 m gain | 4.8% avg"
        },
        "xaxis": {
         "showgrid": false
        },
        "yaxis": {
         "showgrid": false
        }
       }
      }
     },
     "metadata": {},
     "output_type": "display_data"
    },
    {
     "data": {
      "application/vnd.plotly.v1+json": {
       "config": {
        "plotlyServerURL": "https://plot.ly"
       },
       "data": [
        {
         "fill": "tozeroy",
         "fillcolor": "#F5F5DC",
         "hovertemplate": "Avg slope (100m): 0.3%<br>Length: 172.31 km",
         "mode": "none",
         "name": "Slope 0.3%",
         "type": "scatter",
         "x": {
          "bdata": "1xjKV3VF90Dz+mGtBU73QHzbgF46UPdA",
          "dtype": "f8"
         },
         "y": {
          "bdata": "MzMzMzNTe0BmZmZmZn57QGZmZmZmlntA",
          "dtype": "f8"
         }
        },
        {
         "fill": "tozeroy",
         "fillcolor": "#75f60c",
         "hovertemplate": "Avg slope (100m): 3.1%<br>Length: 193.04 km",
         "mode": "none",
         "name": "Slope 3.1%",
         "type": "scatter",
         "x": {
          "bdata": "fNuAXjpQ90BqthkK7VL3QFuO7E5OVfdALq12afZW90ABwtk6Pln3QEdXXhZLXPdA",
          "dtype": "f8"
         },
         "y": {
          "bdata": "ZmZmZmaWe0AAAAAAALB7QGZmZmZmxntAzczMzMzUe0BmZmZmZu57QDMzMzMzE3xA",
          "dtype": "f8"
         }
        },
        {
         "fill": "tozeroy",
         "fillcolor": "#00a0ff",
         "hovertemplate": "Avg slope (100m): 4.5%<br>Length: 346.77 km",
         "mode": "none",
         "name": "Slope 4.5%",
         "type": "scatter",
         "x": {
          "bdata": "R1deFktc90A6jmkyp173QLytNnoQYfdAS86gzwRj90BFJiHBVmX3QPrVkhUzafdASlEeOxls90BhprvqJG/3QBE8FHf3cfdA",
          "dtype": "f8"
         },
         "y": {
          "bdata": "MzMzMzMTfEAzMzMzMzN8QM3MzMzMVHxAZmZmZmZufECamZmZmYl8QAAAAAAAsHxAAAAAAADQfEDNzMzMzOx8QJqZmZmZAX1A",
          "dtype": "f8"
         }
        },
        {
         "fill": "tozeroy",
         "fillcolor": "#75f60c",
         "hovertemplate": "Avg slope (100m): 3.3%<br>Length: 260.61 km",
         "mode": "none",
         "name": "Slope 3.3%",
         "type": "scatter",
         "x": {
          "bdata": "ETwUd/dx90DVFtOcwHb3QBI7AWaOevdAvvNxVKx+90CrjaFMQYL3QA==",
          "dtype": "f8"
         },
         "y": {
          "bdata": "mpmZmZkBfUDNzMzMzCR9QJqZmZmZQX1AZmZmZmZWfUCamZmZmWF9QA==",
          "dtype": "f8"
         }
        },
        {
         "fill": "tozeroy",
         "fillcolor": "#F5F5DC",
         "hovertemplate": "Avg slope (100m): 1.6%<br>Length: 152.55 km",
         "mode": "none",
         "name": "Slope 1.6%",
         "type": "scatter",
         "x": {
          "bdata": "q42hTEGC90DrhJEimoX3QI8e+/gKivdAXtL+KMqL90A=",
          "dtype": "f8"
         },
         "y": {
          "bdata": "mpmZmZlhfUDNzMzMzGx9QDMzMzMze31AmpmZmZmJfUA=",
          "dtype": "f8"
         }
        },
        {
         "fill": "tozeroy",
         "fillcolor": "#75f60c",
         "hovertemplate": "Avg slope (100m): 2.2%<br>Length: 50.04 km",
         "mode": "none",
         "name": "Slope 2.2%",
         "type": "scatter",
         "x": {
          "bdata": "XtL+KMqL90DMaZo4/4z3QAWCurvqjvdA",
          "dtype": "f8"
         },
         "y": {
          "bdata": "mpmZmZmJfUAzMzMzM5N9QGZmZmZmln1A",
          "dtype": "f8"
         }
        },
        {
         "fill": "tozeroy",
         "fillcolor": "#F5F5DC",
         "hovertemplate": "Avg slope (100m): 1.9%<br>Length: 34.63 km",
         "mode": "none",
         "name": "Slope 1.9%",
         "type": "scatter",
         "x": {
          "bdata": "BYK6u+qO90ABiZQ0xJD3QIuD2pfykPdAgjaowxSR90A=",
          "dtype": "f8"
         },
         "y": {
          "bdata": "ZmZmZmaWfUCamZmZmZl9QJqZmZmZmX1AMzMzMzObfUA=",
          "dtype": "f8"
         }
        },
        {
         "fill": "tozeroy",
         "fillcolor": "#75f60c",
         "hovertemplate": "Avg slope (100m): 2.3%<br>Length: 1.31 km",
         "mode": "none",
         "name": "Slope 2.3%",
         "type": "scatter",
         "x": {
          "bdata": "gjaowxSR90A49zN2HZH3QIWMU7wpkfdA",
          "dtype": "f8"
         },
         "y": {
          "bdata": "MzMzMzObfUAzMzMzM5t9QDMzMzMzm31A",
          "dtype": "f8"
         }
        },
        {
         "fill": "tozeroy",
         "fillcolor": "#F5F5DC",
         "hovertemplate": "Avg slope (100m): 0.0%<br>Length: 5.24 km",
         "mode": "none",
         "name": "Slope 0.0%",
         "type": "scatter",
         "x": {
          "bdata": "hYxTvCmR90CP093FQJH3QFFSsxFTkfdAXBqPdV6R90BsMNwoc5H3QJCJq399kfdA",
          "dtype": "f8"
         },
         "y": {
          "bdata": "MzMzMzObfUAzMzMzM5t9QDMzMzMzm31AMzMzMzObfUAzMzMzM5t9QM3MzMzMnH1A",
          "dtype": "f8"
         }
        },
        {
         "fill": "tozeroy",
         "fillcolor": "#ffd300",
         "hovertemplate": "Avg slope (100m): 7.7%<br>Length: 4.65 km",
         "mode": "none",
         "name": "Slope 7.7%",
         "type": "scatter",
         "x": {
          "bdata": "kImrf32R90BUIPPPhJH3QGBiGOvHkfdA",
          "dtype": "f8"
         },
         "y": {
          "bdata": "zczMzMycfUDNzMzMzJx9QM3MzMzMnH1A",
          "dtype": "f8"
         }
        },
        {
         "fill": "tozeroy",
         "fillcolor": "#F5F5DC",
         "hovertemplate": "Avg slope (100m): 0.0%<br>Length: 25.10 km",
         "mode": "none",
         "name": "Slope 0.0%",
         "type": "scatter",
         "x": {
          "bdata": "YGIY68eR90C5DluaNZL3QF+M14xZk/dA",
          "dtype": "f8"
         },
         "y": {
          "bdata": "zczMzMycfUBmZmZmZp59QGZmZmZmpn1A",
          "dtype": "f8"
         }
        },
        {
         "fill": "tozeroy",
         "fillcolor": "#75f60c",
         "hovertemplate": "Avg slope (100m): 2.1%<br>Length: 38.89 km",
         "mode": "none",
         "name": "Slope 2.1%",
         "type": "scatter",
         "x": {
          "bdata": "X4zXjFmT90Cb+2DUx5X3QA==",
          "dtype": "f8"
         },
         "y": {
          "bdata": "ZmZmZmamfUDNzMzMzKR9QA==",
          "dtype": "f8"
         }
        },
        {
         "fill": "tozeroy",
         "fillcolor": "#F5F5DC",
         "hovertemplate": "Avg slope (100m): 1.2%<br>Length: 128.88 km",
         "mode": "none",
         "name": "Slope 1.2%",
         "type": "scatter",
         "x": {
          "bdata": "m/tg1MeV90A8ChoWcpf3QNQaCG3nmPdAe7yRpqib90ApVUvl1Z33QA==",
          "dtype": "f8"
         },
         "y": {
          "bdata": "zczMzMykfUCamZmZmZl9QM3MzMzMnH1AMzMzMzOrfUBmZmZmZr59QA==",
          "dtype": "f8"
         }
        },
        {
         "fill": "tozeroy",
         "fillcolor": "#75f60c",
         "hovertemplate": "Avg slope (100m): 2.7%<br>Length: 196.89 km",
         "mode": "none",
         "name": "Slope 2.7%",
         "type": "scatter",
         "x": {
          "bdata": "KVVL5dWd90CPCsHWsKD3QHcb7o/FpfdAIoOEMCSq90A=",
          "dtype": "f8"
         },
         "y": {
          "bdata": "ZmZmZma+fUBmZmZmZtZ9QJqZmZmZ8X1AAAAAAADwfUA=",
          "dtype": "f8"
         }
        },
        {
         "fill": "tozeroy",
         "fillcolor": "#F5F5DC",
         "hovertemplate": "Avg slope (100m): 1.0%<br>Length: 92.72 km",
         "mode": "none",
         "name": "Slope 1.0%",
         "type": "scatter",
         "x": {
          "bdata": "IoOEMCSq90Cf6Zwl/Kz3QCnyrsDvr/dA",
          "dtype": "f8"
         },
         "y": {
          "bdata": "AAAAAADwfUDNzMzMzPR9QDMzMzMzE35A",
          "dtype": "f8"
         }
        },
        {
         "fill": "tozeroy",
         "fillcolor": "#75f60c",
         "hovertemplate": "Avg slope (100m): 2.3%<br>Length: 45.16 km",
         "mode": "none",
         "name": "Slope 2.3%",
         "type": "scatter",
         "x": {
          "bdata": "KfKuwO+v90A2AARjwrL3QA==",
          "dtype": "f8"
         },
         "y": {
          "bdata": "MzMzMzMTfkAAAAAAAEB+QA==",
          "dtype": "f8"
         }
        },
        {
         "fill": "tozeroy",
         "fillcolor": "#00a0ff",
         "hovertemplate": "Avg slope (100m): 5.1%<br>Length: 49.07 km",
         "mode": "none",
         "name": "Slope 5.1%",
         "type": "scatter",
         "x": {
          "bdata": "NgAEY8Ky90ARXJuK07X3QA==",
          "dtype": "f8"
         },
         "y": {
          "bdata": "AAAAAABAfkBmZmZmZm5+QA==",
          "dtype": "f8"
         }
        },
        {
         "fill": "tozeroy",
         "fillcolor": "#ffd300",
         "hovertemplate": "Avg slope (100m): 6.1%<br>Length: 42.13 km",
         "mode": "none",
         "name": "Slope 6.1%",
         "type": "scatter",
         "x": {
          "bdata": "EVybitO190D+BcSZdbj3QA==",
          "dtype": "f8"
         },
         "y": {
          "bdata": "ZmZmZmZufkDNzMzMzJR+QA==",
          "dtype": "f8"
         }
        },
        {
         "fill": "tozeroy",
         "fillcolor": "#00a0ff",
         "hovertemplate": "Avg slope (100m): 5.8%<br>Length: 40.05 km",
         "mode": "none",
         "name": "Slope 5.8%",
         "type": "scatter",
         "x": {
          "bdata": "/gXEmXW490BOx35a9rr3QA==",
          "dtype": "f8"
         },
         "y": {
          "bdata": "zczMzMyUfkBmZmZmZr5+QA==",
          "dtype": "f8"
         }
        },
        {
         "fill": "tozeroy",
         "fillcolor": "#ffd300",
         "hovertemplate": "Avg slope (100m): 6.1%<br>Length: 262.99 km",
         "mode": "none",
         "name": "Slope 6.1%",
         "type": "scatter",
         "x": {
          "bdata": "Tsd+Wva690C90Ibnl773QFjh67vjwfdA1Zgeiw/E90BY992tRcb3QFc8ouVgyfdAZh97IGbL90A=",
          "dtype": "f8"
         },
         "y": {
          "bdata": "ZmZmZma+fkCamZmZmfl+QGZmZmZmNn9AZmZmZmZef0DNzMzMzIR/QAAAAAAAuH9AmpmZmZnJf0A=",
          "dtype": "f8"
         }
        },
        {
         "fill": "tozeroy",
         "fillcolor": "#00a0ff",
         "hovertemplate": "Avg slope (100m): 4.9%<br>Length: 53.51 km",
         "mode": "none",
         "name": "Slope 4.9%",
         "type": "scatter",
         "x": {
          "bdata": "Zh97IGbL90CmehVGvs73QA==",
          "dtype": "f8"
         },
         "y": {
          "bdata": "mpmZmZnJf0AzMzMzM9N/QA==",
          "dtype": "f8"
         }
        },
        {
         "fill": "tozeroy",
         "fillcolor": "#75f60c",
         "hovertemplate": "Avg slope (100m): 2.3%<br>Length: 72.01 km",
         "mode": "none",
         "name": "Slope 2.3%",
         "type": "scatter",
         "x": {
          "bdata": "pnoVRr7O90BC8JJhPtP3QA==",
          "dtype": "f8"
         },
         "y": {
          "bdata": "MzMzMzPTf0CamZmZmdl/QA==",
          "dtype": "f8"
         }
        },
        {
         "fill": "tozeroy",
         "fillcolor": "#F5F5DC",
         "hovertemplate": "Avg slope (100m): 0.8%<br>Length: 67.03 km",
         "mode": "none",
         "name": "Slope 0.8%",
         "type": "scatter",
         "x": {
          "bdata": "QvCSYT7T90DCVPLcbtf3QA==",
          "dtype": "f8"
         },
         "y": {
          "bdata": "mpmZmZnZf0AzMzMzMwOAQA==",
          "dtype": "f8"
         }
        },
        {
         "fill": "tozeroy",
         "fillcolor": "#75f60c",
         "hovertemplate": "Avg slope (100m): 2.4%<br>Length: 27.04 km",
         "mode": "none",
         "name": "Slope 2.4%",
         "type": "scatter",
         "x": {
          "bdata": "wlTy3G7X90BKHAeNH9n3QA==",
          "dtype": "f8"
         },
         "y": {
          "bdata": "MzMzMzMDgEAAAAAAABSAQA==",
          "dtype": "f8"
         }
        },
        {
         "fill": "tozeroy",
         "fillcolor": "#00a0ff",
         "hovertemplate": "Avg slope (100m): 6.0%<br>Length: 33.92 km",
         "mode": "none",
         "name": "Slope 6.0%",
         "type": "scatter",
         "x": {
          "bdata": "ShwHjR/Z90DMc6lVPtv3QA==",
          "dtype": "f8"
         },
         "y": {
          "bdata": "AAAAAAAUgEBmZmZmZiqAQA==",
          "dtype": "f8"
         }
        },
        {
         "fill": "tozeroy",
         "fillcolor": "#ee0000",
         "hovertemplate": "Avg slope (100m): 8.0%<br>Length: 67.84 km",
         "mode": "none",
         "name": "Slope 8.0%",
         "type": "scatter",
         "x": {
          "bdata": "zHOpVT7b90CnCyMCXt33QFQda7V73/dA",
          "dtype": "f8"
         },
         "y": {
          "bdata": "ZmZmZmYqgEAAAAAAAECAQJqZmZmZVYBA",
          "dtype": "f8"
         }
        },
        {
         "fill": "tozeroy",
         "fillcolor": "#ffd300",
         "hovertemplate": "Avg slope (100m): 8.0%<br>Length: 23.46 km",
         "mode": "none",
         "name": "Slope 8.0%",
         "type": "scatter",
         "x": {
          "bdata": "VB1rtXvf90DyNI8P8+D3QA==",
          "dtype": "f8"
         },
         "y": {
          "bdata": "mpmZmZlVgEDNzMzMzGSAQA==",
          "dtype": "f8"
         }
        },
        {
         "fill": "tozeroy",
         "fillcolor": "#ee0000",
         "hovertemplate": "Avg slope (100m): 8.0%<br>Length: 44.66 km",
         "mode": "none",
         "name": "Slope 8.0%",
         "type": "scatter",
         "x": {
          "bdata": "8jSPD/Pg90Ckmq2aveP3QA==",
          "dtype": "f8"
         },
         "y": {
          "bdata": "zczMzMxkgECamZmZmX2AQA==",
          "dtype": "f8"
         }
        },
        {
         "fill": "tozeroy",
         "fillcolor": "#ffd300",
         "hovertemplate": "Avg slope (100m): 7.5%<br>Length: 39.68 km",
         "mode": "none",
         "name": "Slope 7.5%",
         "type": "scatter",
         "x": {
          "bdata": "pJqtmr3j90BZiD6DOOb3QA==",
          "dtype": "f8"
         },
         "y": {
          "bdata": "mpmZmZl9gEBmZmZmZoqAQA==",
          "dtype": "f8"
         }
        },
        {
         "fill": "tozeroy",
         "fillcolor": "#00a0ff",
         "hovertemplate": "Avg slope (100m): 5.5%<br>Length: 57.43 km",
         "mode": "none",
         "name": "Slope 5.5%",
         "type": "scatter",
         "x": {
          "bdata": "WYg+gzjm90DOQb9k7uf3QMRntm3P6fdA",
          "dtype": "f8"
         },
         "y": {
          "bdata": "ZmZmZmaKgEAAAAAAAJiAQAAAAAAAqIBA",
          "dtype": "f8"
         }
        },
        {
         "fill": "tozeroy",
         "fillcolor": "#ffd300",
         "hovertemplate": "Avg slope (100m): 6.4%<br>Length: 333.53 km",
         "mode": "none",
         "name": "Slope 6.4%",
         "type": "scatter",
         "x": {
          "bdata": "xGe2bc/p90CCFEZzEOz3QAmy37Up7/dAGhe0epjx90B4hLGvovP3QCMupSdi9vdA292PxDX490AxXUnBxPr3QH4A+T1G/fdARvqE7qf+90A=",
          "dtype": "f8"
         },
         "y": {
          "bdata": "AAAAAACogEAAAAAAALyAQAAAAAAA2IBAzczMzMzsgEBmZmZmZv6AQAAAAAAAGIFAzczMzMwogUCamZmZmT2BQM3MzMzMVIFAAAAAAABcgUA=",
          "dtype": "f8"
         }
        },
        {
         "fill": "tozeroy",
         "fillcolor": "#00a0ff",
         "hovertemplate": "Avg slope (100m): 5.7%<br>Length: 84.43 km",
         "mode": "none",
         "name": "Slope 5.7%",
         "type": "scatter",
         "x": {
          "bdata": "RvqE7qf+90BDPA3WYAH4QEI3sM/uA/hA",
          "dtype": "f8"
         },
         "y": {
          "bdata": "AAAAAABcgUAzMzMzM3OBQAAAAAAAiIFA",
          "dtype": "f8"
         }
        },
        {
         "fill": "tozeroy",
         "fillcolor": "#ffd300",
         "hovertemplate": "Avg slope (100m): 6.5%<br>Length: 240.19 km",
         "mode": "none",
         "name": "Slope 6.5%",
         "type": "scatter",
         "x": {
          "bdata": "Qjewz+4D+EDQAK9YIQf4QGTJq7HECPhA2T1cVWEL+EBWOXfFtw34QA4H9KaUD/hAUjRn7q4R+EAW0Vjb8RL4QA==",
          "dtype": "f8"
         },
         "y": {
          "bdata": "AAAAAACIgUAzMzMzM6eBQAAAAAAAuIFAzczMzMzQgUCamZmZmeWBQGZmZmZm9oFAMzMzMzMHgkAzMzMzMxeCQA==",
          "dtype": "f8"
         }
        },
        {
         "fill": "tozeroy",
         "fillcolor": "#ee0000",
         "hovertemplate": "Avg slope (100m): 8.1%<br>Length: 244.53 km",
         "mode": "none",
         "name": "Slope 8.1%",
         "type": "scatter",
         "x": {
          "bdata": "FtFY2/ES+ECZLlHPbRT4QEBaL3MpF/hA7kEL/M4Y+EDND1Jl/Rr4QNxJ4UjGHPhA7jecOEge+EBgvEKGJCD4QDweIU86IvhA",
          "dtype": "f8"
         },
         "y": {
          "bdata": "MzMzMzMXgkCamZmZmSmCQM3MzMzMTIJAzczMzMxggkAAAAAAAHiCQDMzMzMzi4JAMzMzMzObgkCamZmZma2CQJqZmZmZuYJA",
          "dtype": "f8"
         }
        },
        {
         "fill": "tozeroy",
         "fillcolor": "#ffd300",
         "hovertemplate": "Avg slope (100m): 6.1%<br>Length: 32.64 km",
         "mode": "none",
         "name": "Slope 6.1%",
         "type": "scatter",
         "x": {
          "bdata": "PB4hTzoi+EAFM+aYRCT4QA==",
          "dtype": "f8"
         },
         "y": {
          "bdata": "mpmZmZm5gkDNzMzMzMyCQA==",
          "dtype": "f8"
         }
        },
        {
         "fill": "tozeroy",
         "fillcolor": "#00a0ff",
         "hovertemplate": "Avg slope (100m): 5.9%<br>Length: 29.26 km",
         "mode": "none",
         "name": "Slope 5.9%",
         "type": "scatter",
         "x": {
          "bdata": "BTPmmEQk+ED7qPvNGCb4QA==",
          "dtype": "f8"
         },
         "y": {
          "bdata": "zczMzMzMgkCamZmZmeWCQA==",
          "dtype": "f8"
         }
        },
        {
         "fill": "tozeroy",
         "fillcolor": "#ee0000",
         "hovertemplate": "Avg slope (100m): 9.0%<br>Length: 19.44 km",
         "mode": "none",
         "name": "Slope 9.0%",
         "type": "scatter",
         "x": {
          "bdata": "+6j7zRgm+EAP38zQTyf4QA==",
          "dtype": "f8"
         },
         "y": {
          "bdata": "mpmZmZnlgkDNzMzMzPSCQA==",
          "dtype": "f8"
         }
        },
        {
         "fill": "tozeroy",
         "fillcolor": "#800080",
         "hovertemplate": "Avg slope (100m): 10.2%<br>Length: 184.26 km",
         "mode": "none",
         "name": "Slope 10.2%",
         "type": "scatter",
         "x": {
          "bdata": "D9/M0E8n+EDXDh/nhSj4QIWf6ZffKfhAK6OFOrcr+ECWGz2JvSz4QM7X2aNBLvhAad5JLqcv+ED6AT0jgjD4QL0uL66UMfhA53FnAdQy+EA=",
          "dtype": "f8"
         },
         "y": {
          "bdata": "zczMzMz0gkDNzMzMzASDQGZmZmZmFoNAAAAAAAAwg0BmZmZmZj6DQAAAAAAAVINAAAAAAABog0AAAAAAAHSDQM3MzMzMgINAzczMzMyQg0A=",
          "dtype": "f8"
         }
        },
        {
         "fill": "tozeroy",
         "fillcolor": "#ee0000",
         "hovertemplate": "Avg slope (100m): 9.7%<br>Length: 161.91 km",
         "mode": "none",
         "name": "Slope 9.7%",
         "type": "scatter",
         "x": {
          "bdata": "53FnAdQy+ED5qQpb5TT4QJ10BbEgNvhAuh2UjFQ3+EAFqMU4WTn4QPr157m0OvhARATM4rs7+ECz2ESQ8jz4QA==",
          "dtype": "f8"
         },
         "y": {
          "bdata": "zczMzMyQg0CamZmZmamDQM3MzMzMuINAAAAAAADIg0DNzMzMzOCDQM3MzMzM8INAmpmZmZn9g0CamZmZmQ2EQA==",
          "dtype": "f8"
         }
        },
        {
         "fill": "tozeroy",
         "fillcolor": "#800080",
         "hovertemplate": "Avg slope (100m): 10.0%<br>Length: 158.12 km",
         "mode": "none",
         "name": "Slope 10.0%",
         "type": "scatter",
         "x": {
          "bdata": "s9hEkPI8+EBhADgb+D34QADhDZ52P/hAVCYbc+JA+EBr0lW+RkL4QCIE3V+gQ/hAIkFmPRVF+EB8oHlp1Eb4QA==",
          "dtype": "f8"
         },
         "y": {
          "bdata": "mpmZmZkNhEAzMzMzMxuEQGZmZmZmLoRAzczMzMxAhEAzMzMzM1OEQJqZmZmZZYRAAAAAAAB4hEAAAAAAAIyEQA==",
          "dtype": "f8"
         }
        },
        {
         "fill": "tozeroy",
         "fillcolor": "#ee0000",
         "hovertemplate": "Avg slope (100m): 9.4%<br>Length: 54.91 km",
         "mode": "none",
         "name": "Slope 9.4%",
         "type": "scatter",
         "x": {
          "bdata": "fKB5adRG+EDaq3sjrUj4QH89cf1CSvhA",
          "dtype": "f8"
         },
         "y": {
          "bdata": "AAAAAACMhEBmZmZmZqKEQM3MzMzMuIRA",
          "dtype": "f8"
         }
        },
        {
         "fill": "tozeroy",
         "fillcolor": "#800080",
         "hovertemplate": "Avg slope (100m): 10.3%<br>Length: 77.97 km",
         "mode": "none",
         "name": "Slope 10.3%",
         "type": "scatter",
         "x": {
          "bdata": "fz1x/UJK+ECbLHCkh0v4QCQPHHD+TfhA0mEBfCJP+EA=",
          "dtype": "f8"
         },
         "y": {
          "bdata": "zczMzMy4hEAzMzMzM8uEQAAAAAAA7IRAmpmZmZn5hEA=",
          "dtype": "f8"
         }
        },
        {
         "fill": "tozeroy",
         "fillcolor": "#ee0000",
         "hovertemplate": "Avg slope (100m): 9.9%<br>Length: 505.58 km",
         "mode": "none",
         "name": "Slope 9.9%",
         "type": "scatter",
         "x": {
          "bdata": "0mEBfCJP+ED0PrYgulD4QMIoQn7KUvhAJiZ/6q5T+EAtXBnKwlT4QA9g3gdXVvhAGYFfLLdX+ECakxkPq1n4QF0dTON8W/hAtK/4mNtc+EBbpODUI174QHTRXiSVX/hALmcLD35h+EDRM+NtO2P4QApJdz/fY/hAieyPsZdl+EB+oWf/eWf4QFXLVGmXafhA3L7ghwls+ECSAgF/O234QNkR+s27bvhA",
          "dtype": "f8"
         },
         "y": {
          "bdata": "mpmZmZn5hEDNzMzMzAyFQM3MzMzMJIVAMzMzMzMvhUAAAAAAADyFQAAAAAAAUIVAmpmZmZlhhUBmZmZmZnqFQAAAAAAAkIVAmpmZmZmhhUCamZmZmbGFQGZmZmZmwoVAMzMzMzPXhUAzMzMzM+uFQAAAAAAA9IVAAAAAAAAIhkCamZmZmR2GQJqZmZmZMYZAzczMzMxMhkDNzMzMzFyGQJqZmZmZcYZA",
          "dtype": "f8"
         }
        },
        {
         "fill": "tozeroy",
         "fillcolor": "#800080",
         "hovertemplate": "Avg slope (100m): 10.6%<br>Length: 39.93 km",
         "mode": "none",
         "name": "Slope 10.6%",
         "type": "scatter",
         "x": {
          "bdata": "2RH6zbtu+ECvoSIaAHD4QHDJjLw6cfhA",
          "dtype": "f8"
         },
         "y": {
          "bdata": "mpmZmZlxhkBmZmZmZoKGQDMzMzMzj4ZA",
          "dtype": "f8"
         }
        },
        {
         "fill": "tozeroy",
         "fillcolor": "#ee0000",
         "hovertemplate": "Avg slope (100m): 9.2%<br>Length: 16.92 km",
         "mode": "none",
         "name": "Slope 9.2%",
         "type": "scatter",
         "x": {
          "bdata": "cMmMvDpx+EDLuJNlSXL4QA==",
          "dtype": "f8"
         },
         "y": {
          "bdata": "MzMzMzOPhkCamZmZmZmGQA==",
          "dtype": "f8"
         }
        },
        {
         "fill": "tozeroy",
         "fillcolor": "#ffd300",
         "hovertemplate": "Avg slope (100m): 7.9%<br>Length: 24.56 km",
         "mode": "none",
         "name": "Slope 7.9%",
         "type": "scatter",
         "x": {
          "bdata": "y7iTZUly+ECgbltZ0nP4QA==",
          "dtype": "f8"
         },
         "y": {
          "bdata": "mpmZmZmZhkAAAAAAAKyGQA==",
          "dtype": "f8"
         }
        },
        {
         "fill": "tozeroy",
         "fillcolor": "#ee0000",
         "hovertemplate": "Avg slope (100m): 8.5%<br>Length: 23.07 km",
         "mode": "none",
         "name": "Slope 8.5%",
         "type": "scatter",
         "x": {
          "bdata": "oG5bWdJz+EDEqU1uQ3X4QA==",
          "dtype": "f8"
         },
         "y": {
          "bdata": "AAAAAACshkCamZmZmcGGQA==",
          "dtype": "f8"
         }
        },
        {
         "fill": "tozeroy",
         "fillcolor": "#800080",
         "hovertemplate": "Avg slope (100m): 10.5%<br>Length: 14.93 km",
         "mode": "none",
         "name": "Slope 10.5%",
         "type": "scatter",
         "x": {
          "bdata": "xKlNbkN1+EDIhe9LMnb4QA==",
          "dtype": "f8"
         },
         "y": {
          "bdata": "mpmZmZnBhkDNzMzMzNCGQA==",
          "dtype": "f8"
         }
        },
        {
         "fill": "tozeroy",
         "fillcolor": "#444444",
         "hovertemplate": "Avg slope (100m): 12.2%<br>Length: 82.47 km",
         "mode": "none",
         "name": "Slope 12.2%",
         "type": "scatter",
         "x": {
          "bdata": "yIXvSzJ2+EBez0mqTXf4QLChe7M1ePhAtfhHcKB5+EAz+cXFWXv4QA==",
          "dtype": "f8"
         },
         "y": {
          "bdata": "zczMzMzQhkCamZmZmeWGQJqZmZmZ9YZAzczMzMwMh0AAAAAAACSHQA==",
          "dtype": "f8"
         }
        },
        {
         "fill": "tozeroy",
         "fillcolor": "#800080",
         "hovertemplate": "Avg slope (100m): 11.7%<br>Length: 67.67 km",
         "mode": "none",
         "name": "Slope 11.7%",
         "type": "scatter",
         "x": {
          "bdata": "M/nFxVl7+EBOPSPfgXz4QLuk+70ofvhA7FnLgpR/+EA=",
          "dtype": "f8"
         },
         "y": {
          "bdata": "AAAAAAAkh0AzMzMzMzOHQAAAAAAASIdAmpmZmZlZh0A=",
          "dtype": "f8"
         }
        },
        {
         "fill": "tozeroy",
         "fillcolor": "#ee0000",
         "hovertemplate": "Avg slope (100m): 9.8%<br>Length: 40.64 km",
         "mode": "none",
         "name": "Slope 9.8%",
         "type": "scatter",
         "x": {
          "bdata": "7FnLgpR/+EAmKQh/L4H4QNd/b8AegvhA",
          "dtype": "f8"
         },
         "y": {
          "bdata": "mpmZmZlZh0CamZmZmW2HQGZmZmZmeodA",
          "dtype": "f8"
         }
        },
        {
         "fill": "tozeroy",
         "fillcolor": "#800080",
         "hovertemplate": "Avg slope (100m): 10.2%<br>Length: 56.72 km",
         "mode": "none",
         "name": "Slope 10.2%",
         "type": "scatter",
         "x": {
          "bdata": "139vwB6C+EDCoVwQxIL4QDvDx/59g/hAyBu+J5eE+EBIcANKqoX4QA==",
          "dtype": "f8"
         },
         "y": {
          "bdata": "ZmZmZmZ6h0AAAAAAAISHQJqZmZmZjYdAMzMzMzObh0AAAAAAAKiHQA==",
          "dtype": "f8"
         }
        },
        {
         "fill": "tozeroy",
         "fillcolor": "#ee0000",
         "hovertemplate": "Avg slope (100m): 9.5%<br>Length: 83.38 km",
         "mode": "none",
         "name": "Slope 9.5%",
         "type": "scatter",
         "x": {
          "bdata": "SHADSqqF+EBjtrJbaYf4QD2UaHbViPhAJcd/UOCK+EA=",
          "dtype": "f8"
         },
         "y": {
          "bdata": "AAAAAACoh0DNzMzMzLyHQAAAAAAA0IdAZmZmZmbuh0A=",
          "dtype": "f8"
         }
        },
        {
         "fill": "tozeroy",
         "fillcolor": "#800080",
         "hovertemplate": "Avg slope (100m): 11.1%<br>Length: 65.50 km",
         "mode": "none",
         "name": "Slope 11.1%",
         "type": "scatter",
         "x": {
          "bdata": "Jcd/UOCK+EAWyBemy4v4QPD+fMtsjfhAmJSaVPiO+EA=",
          "dtype": "f8"
         },
         "y": {
          "bdata": "ZmZmZmbuh0AAAAAAAPyHQDMzMzMzD4hAzczMzMwciEA=",
          "dtype": "f8"
         }
        },
        {
         "fill": "tozeroy",
         "fillcolor": "#ee0000",
         "hovertemplate": "Avg slope (100m): 8.0%<br>Length: 28.36 km",
         "mode": "none",
         "name": "Slope 8.0%",
         "type": "scatter",
         "x": {
          "bdata": "mJSaVPiO+ED9R70YvpD4QA==",
          "dtype": "f8"
         },
         "y": {
          "bdata": "zczMzMwciEDNzMzMzCyIQA==",
          "dtype": "f8"
         }
        },
        {
         "fill": "tozeroy",
         "fillcolor": "#ffd300",
         "hovertemplate": "Avg slope (100m): 7.0%<br>Length: 30.91 km",
         "mode": "none",
         "name": "Slope 7.0%",
         "type": "scatter",
         "x": {
          "bdata": "/Ue9GL6Q+ECWuTK7rJL4QA==",
          "dtype": "f8"
         },
         "y": {
          "bdata": "zczMzMwsiEAzMzMzM0OIQA==",
          "dtype": "f8"
         }
        },
        {
         "fill": "tozeroy",
         "fillcolor": "#ee0000",
         "hovertemplate": "Avg slope (100m): 8.1%<br>Length: 36.85 km",
         "mode": "none",
         "name": "Slope 8.1%",
         "type": "scatter",
         "x": {
          "bdata": "lrkyu6yS+EBet4LxxZP4QL7xQWP6lPhA",
          "dtype": "f8"
         },
         "y": {
          "bdata": "MzMzMzNDiEBmZmZmZlKIQGZmZmZmYohA",
          "dtype": "f8"
         }
        },
        {
         "fill": "tozeroy",
         "fillcolor": "#800080",
         "hovertemplate": "Avg slope (100m): 10.6%<br>Length: 122.11 km",
         "mode": "none",
         "name": "Slope 10.6%",
         "type": "scatter",
         "x": {
          "bdata": "vvFBY/qU+EBigUr7j5b4QJE2ZlLjl/hAmTOFaXaZ+EAjvwoljJr4QOeGhNZlm/hAsQOhFJyc+EA=",
          "dtype": "f8"
         },
         "y": {
          "bdata": "ZmZmZmZiiEAzMzMzM3eIQAAAAAAAiIhAzczMzMyciEDNzMzMzKyIQJqZmZmZuYhAmpmZmZnNiEA=",
          "dtype": "f8"
         }
        },
        {
         "fill": "tozeroy",
         "fillcolor": "#444444",
         "hovertemplate": "Avg slope (100m): 12.3%<br>Length: 68.70 km",
         "mode": "none",
         "name": "Slope 12.3%",
         "type": "scatter",
         "x": {
          "bdata": "sQOhFJyc+EBZ27BsBZ74QMe56UuUn/hA6X27S+eg+EA=",
          "dtype": "f8"
         },
         "y": {
          "bdata": "mpmZmZnNiECamZmZmeWIQGZmZmZm/ohAzczMzMwQiUA=",
          "dtype": "f8"
         }
        },
        {
         "fill": "tozeroy",
         "fillcolor": "#800080",
         "hovertemplate": "Avg slope (100m): 11.6%<br>Length: 311.58 km",
         "mode": "none",
         "name": "Slope 11.6%",
         "type": "scatter",
         "x": {
          "bdata": "6X27S+eg+EDBH8hn/aL4QNBZHXuupPhAzFEWV86m+ED9Jv/Bkqj4QAKIcCDNqfhASL9oPiar+EAO2MF3pKz4QNsLtSAZr/hAvBelBbOw+EBG4JldFLL4QJPp9QKFs/hAy7QhpWC0+EA=",
          "dtype": "f8"
         },
         "y": {
          "bdata": "zczMzMwQiUDNzMzMzCyJQAAAAAAARIlAZmZmZmZiiUAzMzMzM3uJQAAAAAAAjIlAAAAAAACgiUBmZmZmZraJQGZmZmZm2olAzczMzMzwiUAzMzMzMwOKQGZmZmZmFopAmpmZmZklikA=",
          "dtype": "f8"
         }
        },
        {
         "fill": "tozeroy",
         "fillcolor": "#444444",
         "hovertemplate": "Avg slope (100m): 12.1%<br>Length: 10.96 km",
         "mode": "none",
         "name": "Slope 12.1%",
         "type": "scatter",
         "x": {
          "bdata": "y7QhpWC0+EDo8azxD7X4QA==",
          "dtype": "f8"
         },
         "y": {
          "bdata": "mpmZmZklikBmZmZmZi6KQA==",
          "dtype": "f8"
         }
        },
        {
         "fill": "tozeroy",
         "fillcolor": "#800080",
         "hovertemplate": "Avg slope (100m): 11.9%<br>Length: 68.51 km",
         "mode": "none",
         "name": "Slope 11.9%",
         "type": "scatter",
         "x": {
          "bdata": "6PGs8Q+1+EDK/CbMsLf4QJEy9SFYufhA",
          "dtype": "f8"
         },
         "y": {
          "bdata": "ZmZmZmYuikAAAAAAAFCKQM3MzMzMZIpA",
          "dtype": "f8"
         }
        },
        {
         "fill": "tozeroy",
         "fillcolor": "#ee0000",
         "hovertemplate": "Avg slope (100m): 9.9%<br>Length: 104.27 km",
         "mode": "none",
         "name": "Slope 9.9%",
         "type": "scatter",
         "x": {
          "bdata": "kTL1IVi5+EBb6TDRGLv4QG+1qndqvPhAlV0ZLvG9+EC2yml83L/4QA==",
          "dtype": "f8"
         },
         "y": {
          "bdata": "zczMzMxkikBmZmZmZnqKQDMzMzMzi4pAZmZmZmaeikAAAAAAALiKQA==",
          "dtype": "f8"
         }
        },
        {
         "fill": "tozeroy",
         "fillcolor": "#800080",
         "hovertemplate": "Avg slope (100m): 10.1%<br>Length: 158.98 km",
         "mode": "none",
         "name": "Slope 10.1%",
         "type": "scatter",
         "x": {
          "bdata": "tsppfNy/+EAFl/C+L8H4QIkUCTE2wvhAeIdCa9fD+EDeftqxq8X4QMYoWlD2xvhA+oOsHCrI+EDcqqw5zMn4QA==",
          "dtype": "f8"
         },
         "y": {
          "bdata": "AAAAAAC4ikCamZmZmcmKQGZmZmZm1opAAAAAAADsikAAAAAAAASLQM3MzMzMFItAAAAAAAAki0AAAAAAADiLQA==",
          "dtype": "f8"
         }
        },
        {
         "fill": "tozeroy",
         "fillcolor": "#ee0000",
         "hovertemplate": "Avg slope (100m): 9.7%<br>Length: 52.45 km",
         "mode": "none",
         "name": "Slope 9.7%",
         "type": "scatter",
         "x": {
          "bdata": "3KqsOczJ+ECk38hmD8v4QIhNYnoTzfhA",
          "dtype": "f8"
         },
         "y": {
          "bdata": "AAAAAAA4i0DNzMzMzESLQJqZmZmZWYtA",
          "dtype": "f8"
         }
        },
        {
         "fill": "tozeroy",
         "fillcolor": "#ffd300",
         "hovertemplate": "Avg slope (100m): 8.0%<br>Length: 19.77 km",
         "mode": "none",
         "name": "Slope 8.0%",
         "type": "scatter",
         "x": {
          "bdata": "iE1iehPN+EDY2WrBT874QA==",
          "dtype": "f8"
         },
         "y": {
          "bdata": "mpmZmZlZi0AzMzMzM2uLQA==",
          "dtype": "f8"
         }
        },
        {
         "fill": "tozeroy",
         "fillcolor": "#ee0000",
         "hovertemplate": "Avg slope (100m): 9.6%<br>Length: 19.19 km",
         "mode": "none",
         "name": "Slope 9.6%",
         "type": "scatter",
         "x": {
          "bdata": "2NlqwU/O+EAXWPjBgs/4QA==",
          "dtype": "f8"
         },
         "y": {
          "bdata": "MzMzMzNri0AAAAAAAICLQA==",
          "dtype": "f8"
         }
        },
        {
         "fill": "tozeroy",
         "fillcolor": "#444444",
         "hovertemplate": "Avg slope (100m): 12.3%<br>Length: 40.18 km",
         "mode": "none",
         "name": "Slope 12.3%",
         "type": "scatter",
         "x": {
          "bdata": "F1j4wYLP+EAUB1DwT9D4QLHJRqEF0vhA",
          "dtype": "f8"
         },
         "y": {
          "bdata": "AAAAAACAi0CamZmZmY2LQM3MzMzMpItA",
          "dtype": "f8"
         }
        },
        {
         "fill": "tozeroy",
         "fillcolor": "#800080",
         "hovertemplate": "Avg slope (100m): 11.9%<br>Length: 193.04 km",
         "mode": "none",
         "name": "Slope 11.9%",
         "type": "scatter",
         "x": {
          "bdata": "sclGoQXS+EA9TUVFBdT4QKGetbAl1vhANph1QYbX+EDcgSWA8dj4QCuxSqWx2fhArS+AegXb+EDqlBkYodz4QFYiMksW3vhA",
          "dtype": "f8"
         },
         "y": {
          "bdata": "zczMzMyki0AzMzMzM7+LQGZmZmZm2otAzczMzMzsi0AzMzMzM/+LQM3MzMzMCIxAZmZmZmYajEAzMzMzMy+MQJqZmZmZQYxA",
          "dtype": "f8"
         }
        },
        {
         "fill": "tozeroy",
         "fillcolor": "#ee0000",
         "hovertemplate": "Avg slope (100m): 10.0%<br>Length: 39.66 km",
         "mode": "none",
         "name": "Slope 10.0%",
         "type": "scatter",
         "x": {
          "bdata": "ViIySxbe+EB0/fH2W9/4QDtfKuaQ4PhA",
          "dtype": "f8"
         },
         "y": {
          "bdata": "mpmZmZlBjECamZmZmVGMQJqZmZmZYYxA",
          "dtype": "f8"
         }
        },
        {
         "fill": "tozeroy",
         "fillcolor": "#800080",
         "hovertemplate": "Avg slope (100m): 10.1%<br>Length: 457.96 km",
         "mode": "none",
         "name": "Slope 10.1%",
         "type": "scatter",
         "x": {
          "bdata": "O18q5pDg+ECkSAFuW+H4QEJ/GrLi4vhArqQjMYTk+EAuuz03/OX4QJlljGn85vhAQNjjbE/o+EDT8JXP2en4QF4FmQ0S7PhAvvn/2ULt+EDtjJkRe+74QLSKZgte7/hAnwkDaIHx+EBuvv3sevL4QDYhyq518/hAtTuvOEH1+ECoH0hiaPb4QIlKol3M9/hALr/NX7f5+EB7XvnKhfv4QDectVAw/fhA",
          "dtype": "f8"
         },
         "y": {
          "bdata": "mpmZmZlhjEAAAAAAAGyMQAAAAAAAgIxAZmZmZmaWjEAzMzMzM6uMQM3MzMzMuIxAMzMzMzPLjEAzMzMzM9+MQGZmZmZm/oxAZmZmZmYOjUAzMzMzMx+NQAAAAAAALI1AmpmZmZlJjUCamZmZmVWNQAAAAAAAZI1AmpmZmZl9jUCamZmZmY2NQM3MzMzMoI1AZmZmZma6jUCamZmZmdGNQDMzMzMz441A",
          "dtype": "f8"
         }
        },
        {
         "fill": "tozeroy",
         "fillcolor": "#ee0000",
         "hovertemplate": "Avg slope (100m): 9.1%<br>Length: 21.74 km",
         "mode": "none",
         "name": "Slope 9.1%",
         "type": "scatter",
         "x": {
          "bdata": "N5y1UDD9+EBbj2YwjP74QA==",
          "dtype": "f8"
         },
         "y": {
          "bdata": "MzMzMzPjjUAAAAAAAOyNQA==",
          "dtype": "f8"
         }
        },
        {
         "fill": "tozeroy",
         "fillcolor": "#ffd300",
         "hovertemplate": "Avg slope (100m): 6.7%<br>Length: 29.99 km",
         "mode": "none",
         "name": "Slope 6.7%",
         "type": "scatter",
         "x": {
          "bdata": "W49mMIz++ECnJ0/9awD5QA==",
          "dtype": "f8"
         },
         "y": {
          "bdata": "AAAAAADsjUBmZmZmZvqNQA==",
          "dtype": "f8"
         }
        },
        {
         "fill": "tozeroy",
         "fillcolor": "#00a0ff",
         "hovertemplate": "Avg slope (100m): 5.5%<br>Length: 33.03 km",
         "mode": "none",
         "name": "Slope 5.5%",
         "type": "scatter",
         "x": {
          "bdata": "pydP/WsA+UCuRkZxfAL5QA==",
          "dtype": "f8"
         },
         "y": {
          "bdata": "ZmZmZmb6jUDNzMzMzBCOQA==",
          "dtype": "f8"
         }
        },
        {
         "fill": "tozeroy",
         "fillcolor": "#ffd300",
         "hovertemplate": "Avg slope (100m): 7.2%<br>Length: 40.81 km",
         "mode": "none",
         "name": "Slope 7.2%",
         "type": "scatter",
         "x": {
          "bdata": "rkZGcXwC+UCFjHZhCQX5QA==",
          "dtype": "f8"
         },
         "y": {
          "bdata": "zczMzMwQjkAzMzMzMzOOQA==",
          "dtype": "f8"
         }
        },
        {
         "fill": "tozeroy",
         "fillcolor": "#ee0000",
         "hovertemplate": "Avg slope (100m): 9.5%<br>Length: 24.17 km",
         "mode": "none",
         "name": "Slope 9.5%",
         "type": "scatter",
         "x": {
          "bdata": "hYx2YQkF+UCzMfoWjAb5QA==",
          "dtype": "f8"
         },
         "y": {
          "bdata": "MzMzMzMzjkAzMzMzM0eOQA==",
          "dtype": "f8"
         }
        },
        {
         "fill": "tozeroy",
         "fillcolor": "#800080",
         "hovertemplate": "Avg slope (100m): 10.4%<br>Length: 77.15 km",
         "mode": "none",
         "name": "Slope 10.4%",
         "type": "scatter",
         "x": {
          "bdata": "szH6FowG+UCsVGOZHAj5QMmDmPkVCflAaEh37gQK+UDb0ZpOlQr5QEuhcHVeC/lA",
          "dtype": "f8"
         },
         "y": {
          "bdata": "MzMzMzNHjkDNzMzMzFyOQJqZmZmZaY5AMzMzMzN3jkBmZmZmZn6OQAAAAAAAiI5A",
          "dtype": "f8"
         }
        },
        {
         "fill": "tozeroy",
         "fillcolor": "#ee0000",
         "hovertemplate": "Avg slope (100m): 9.8%<br>Length: 28.70 km",
         "mode": "none",
         "name": "Slope 9.8%",
         "type": "scatter",
         "x": {
          "bdata": "S6FwdV4L+UBP6UOrfwz5QI5OlaIpDflA",
          "dtype": "f8"
         },
         "y": {
          "bdata": "AAAAAACIjkCamZmZmZWOQDMzMzMzn45A",
          "dtype": "f8"
         }
        },
        {
         "fill": "tozeroy",
         "fillcolor": "#800080",
         "hovertemplate": "Avg slope (100m): 10.4%<br>Length: 57.50 km",
         "mode": "none",
         "name": "Slope 10.4%",
         "type": "scatter",
         "x": {
          "bdata": "jk6VoikN+UDktTUTrw35QOtvDMtADvlASD+8zl8P+UBIb2OtwRD5QA==",
          "dtype": "f8"
         },
         "y": {
          "bdata": "MzMzMzOfjkBmZmZmZqaOQGZmZmZmro5AAAAAAAC8jkCamZmZmc2OQA==",
          "dtype": "f8"
         }
        },
        {
         "fill": "tozeroy",
         "fillcolor": "#ee0000",
         "hovertemplate": "Avg slope (100m): 9.7%<br>Length: 28.51 km",
         "mode": "none",
         "name": "Slope 9.7%",
         "type": "scatter",
         "x": {
          "bdata": "SG9jrcEQ+UASd1DUiRL5QA==",
          "dtype": "f8"
         },
         "y": {
          "bdata": "mpmZmZnNjkCamZmZmemOQA==",
          "dtype": "f8"
         }
        },
        {
         "fill": "tozeroy",
         "fillcolor": "#800080",
         "hovertemplate": "Avg slope (100m): 11.1%<br>Length: 21.06 km",
         "mode": "none",
         "name": "Slope 11.1%",
         "type": "scatter",
         "x": {
          "bdata": "EndQ1IkS+UBX8irW2hP5QA==",
          "dtype": "f8"
         },
         "y": {
          "bdata": "mpmZmZnpjkAAAAAAAACPQA==",
          "dtype": "f8"
         }
        },
        {
         "fill": "tozeroy",
         "fillcolor": "#444444",
         "hovertemplate": "Avg slope (100m): 12.8%<br>Length: 120.53 km",
         "mode": "none",
         "name": "Slope 12.8%",
         "type": "scatter",
         "x": {
          "bdata": "V/Iq1toT+UB5+QvoMxX5QME4G+hDFvlACaF0AzcX+UC6OPf4mRj5QJksi3wPGvlAJbwcWmMb+UA=",
          "dtype": "f8"
         },
         "y": {
          "bdata": "AAAAAAAAj0AzMzMzMxePQGZmZmZmKo9AzczMzMw8j0AAAAAAAFSPQJqZmZmZaY9AzczMzMx8j0A=",
          "dtype": "f8"
         }
        },
        {
         "fill": "tozeroy",
         "fillcolor": "#800080",
         "hovertemplate": "Avg slope (100m): 11.4%<br>Length: 52.60 km",
         "mode": "none",
         "name": "Slope 11.4%",
         "type": "scatter",
         "x": {
          "bdata": "JbwcWmMb+UD7i6lmzxz5QN44AAetHvlA",
          "dtype": "f8"
         },
         "y": {
          "bdata": "zczMzMx8j0AzMzMzM4+PQM3MzMzMpI9A",
          "dtype": "f8"
         }
        },
        {
         "fill": "tozeroy",
         "fillcolor": "#ee0000",
         "hovertemplate": "Avg slope (100m): 9.6%<br>Length: 23.37 km",
         "mode": "none",
         "name": "Slope 9.6%",
         "type": "scatter",
         "x": {
          "bdata": "3jgAB60e+UANGTzpIiD5QA==",
          "dtype": "f8"
         },
         "y": {
          "bdata": "zczMzMykj0AAAAAAALCPQA==",
          "dtype": "f8"
         }
        },
        {
         "fill": "tozeroy",
         "fillcolor": "#ffd300",
         "hovertemplate": "Avg slope (100m): 7.5%<br>Length: 27.02 km",
         "mode": "none",
         "name": "Slope 7.5%",
         "type": "scatter",
         "x": {
          "bdata": "DRk86SIg+UD4R9Uv0yH5QA==",
          "dtype": "f8"
         },
         "y": {
          "bdata": "AAAAAACwj0AzMzMzM7ePQA==",
          "dtype": "f8"
         }
        },
        {
         "fill": "tozeroy",
         "fillcolor": "#00a0ff",
         "hovertemplate": "Avg slope (100m): 4.7%<br>Length: 52.00 km",
         "mode": "none",
         "name": "Slope 4.7%",
         "type": "scatter",
         "x": {
          "bdata": "+EfVL9Mh+UAYBRg6EyX5QA==",
          "dtype": "f8"
         },
         "y": {
          "bdata": "MzMzMzO3j0DNzMzMzMSPQA==",
          "dtype": "f8"
         }
        },
        {
         "fill": "tozeroy",
         "fillcolor": "#75f60c",
         "hovertemplate": "Avg slope (100m): 3.3%<br>Length: 94.78 km",
         "mode": "none",
         "name": "Slope 3.3%",
         "type": "scatter",
         "x": {
          "bdata": "GAUYOhMl+UDoF0GMGyj5QOq4P7r/KvlA",
          "dtype": "f8"
         },
         "y": {
          "bdata": "zczMzMzEj0AzMzMzM9OPQDMzMzMz449A",
          "dtype": "f8"
         }
        },
        {
         "fill": "tozeroy",
         "fillcolor": "#00a0ff",
         "hovertemplate": "Avg slope (100m): 4.0%<br>Length: 61.83 km",
         "mode": "none",
         "name": "Slope 4.0%",
         "type": "scatter",
         "x": {
          "bdata": "6rg/uv8q+UBe1VJVMS35QJ/8TwDdLvlA",
          "dtype": "f8"
         },
         "y": {
          "bdata": "MzMzMzPjj0DNzMzMzPSPQJqZmZmZAZBA",
          "dtype": "f8"
         }
        },
        {
         "fill": "tozeroy",
         "fillcolor": "#ffd300",
         "hovertemplate": "Avg slope (100m): 6.5%<br>Length: 82.81 km",
         "mode": "none",
         "name": "Slope 6.5%",
         "type": "scatter",
         "x": {
          "bdata": "n/xPAN0u+UCOaJvHazH5QF0zRuQJNPlA",
          "dtype": "f8"
         },
         "y": {
          "bdata": "mpmZmZkBkEAAAAAAAAyQQM3MzMzMFJBA",
          "dtype": "f8"
         }
        },
        {
         "fill": "tozeroy",
         "fillcolor": "#00a0ff",
         "hovertemplate": "Avg slope (100m): 5.8%<br>Length: 153.89 km",
         "mode": "none",
         "name": "Slope 5.8%",
         "type": "scatter",
         "x": {
          "bdata": "XTNG5Ak0+UATEmtqmjX5QLMvZtt1OPlAgnYbZSk7+UA12pEiqD35QA==",
          "dtype": "f8"
         },
         "y": {
          "bdata": "zczMzMwUkEAzMzMzMxmQQDMzMzMzIZBAZmZmZmYskEAAAAAAADaQQA==",
          "dtype": "f8"
         }
        },
        {
         "fill": "tozeroy",
         "fillcolor": "#ffd300",
         "hovertemplate": "Avg slope (100m): 6.2%<br>Length: 63.65 km",
         "mode": "none",
         "name": "Slope 6.2%",
         "type": "scatter",
         "x": {
          "bdata": "NdqRIqg9+UD1M+yJnz/5QDMHLoiiQflA",
          "dtype": "f8"
         },
         "y": {
          "bdata": "AAAAAAA2kECamZmZmT+QQGZmZmZmSpBA",
          "dtype": "f8"
         }
        },
        {
         "fill": "tozeroy",
         "fillcolor": "#ee0000",
         "hovertemplate": "Avg slope (100m): 8.0%<br>Length: 28.88 km",
         "mode": "none",
         "name": "Slope 8.0%",
         "type": "scatter",
         "x": {
          "bdata": "MwcuiKJB+UC1B1eqcEP5QA==",
          "dtype": "f8"
         },
         "y": {
          "bdata": "ZmZmZmZKkEDNzMzMzFKQQA==",
          "dtype": "f8"
         }
        },
        {
         "fill": "tozeroy",
         "fillcolor": "#ffd300",
         "hovertemplate": "Avg slope (100m): 7.8%<br>Length: 145.59 km",
         "mode": "none",
         "name": "Slope 7.8%",
         "type": "scatter",
         "x": {
          "bdata": "tQdXqnBD+UCUdF7DVEX5QPrqU/8OSPlAAEF+3IhK+UCVCdUdikz5QA==",
          "dtype": "f8"
         },
         "y": {
          "bdata": "zczMzMxSkECamZmZmVuQQAAAAAAAaJBAZmZmZmZ0kEAzMzMzM3+QQA==",
          "dtype": "f8"
         }
        },
        {
         "fill": "tozeroy",
         "fillcolor": "#ee0000",
         "hovertemplate": "Avg slope (100m): 8.1%<br>Length: 184.30 km",
         "mode": "none",
         "name": "Slope 8.1%",
         "type": "scatter",
         "x": {
          "bdata": "lQnVHYpM+UCp3EYai075QJ/d65kNUPlAkuAR3gBS+UDVObkw7FP5QPQbGx4DVvlATWf+QWlX+UDrWdbmDlj5QA==",
          "dtype": "f8"
         },
         "y": {
          "bdata": "MzMzMzN/kEAAAAAAAIqQQM3MzMzMkpBAmpmZmZmdkEBmZmZmZqiQQGZmZmZmtJBAzczMzMy8kEDNzMzMzMSQQA==",
          "dtype": "f8"
         }
        },
        {
         "fill": "tozeroy",
         "fillcolor": "#444444",
         "hovertemplate": "Avg slope (100m): 14.4%<br>Length: 35.81 km",
         "mode": "none",
         "name": "Slope 14.4%",
         "type": "scatter",
         "x": {
          "bdata": "61nW5g5Y+UANOjiwQ1n5QHOEh95LWvlA",
          "dtype": "f8"
         },
         "y": {
          "bdata": "zczMzMzEkEBmZmZmZsqQQAAAAAAA0JBA",
          "dtype": "f8"
         }
        },
        {
         "fill": "tozeroy",
         "fillcolor": "#ffd300",
         "hovertemplate": "Avg slope (100m): 7.9%<br>Length: 17.53 km",
         "mode": "none",
         "name": "Slope 7.9%",
         "type": "scatter",
         "x": {
          "bdata": "c4SH3kta+UCp8YlLZFv5QA==",
          "dtype": "f8"
         },
         "y": {
          "bdata": "AAAAAADQkEAAAAAAANaQQA==",
          "dtype": "f8"
         }
        },
        {
         "fill": "tozeroy",
         "fillcolor": "#ee0000",
         "hovertemplate": "Avg slope (100m): 8.5%<br>Length: 59.73 km",
         "mode": "none",
         "name": "Slope 8.5%",
         "type": "scatter",
         "x": {
          "bdata": "qfGJS2Rb+UDkWgEZeVz5QNux+qYOXvlAY5Qn6R9f+UA=",
          "dtype": "f8"
         },
         "y": {
          "bdata": "AAAAAADWkEBmZmZmZtyQQGZmZmZm5pBAAAAAAADukEA=",
          "dtype": "f8"
         }
        },
        {
         "fill": "tozeroy",
         "fillcolor": "#800080",
         "hovertemplate": "Avg slope (100m): 10.5%<br>Length: 155.93 km",
         "mode": "none",
         "name": "Slope 10.5%",
         "type": "scatter",
         "x": {
          "bdata": "Y5Qn6R9f+UCSUtxNq2D5QBCgl3biYflAPdAMdvpi+UC/Cnuk2GP5QIgUAM6wZflAffc6SVpn+UA0EgDc3mj5QA==",
          "dtype": "f8"
         },
         "y": {
          "bdata": "AAAAAADukEBmZmZmZviQQM3MzMzMAJFAMzMzMzMJkUCamZmZmQ+RQM3MzMzMHJFAzczMzMwmkUCamZmZmS+RQA==",
          "dtype": "f8"
         }
        },
        {
         "fill": "tozeroy",
         "fillcolor": "#ee0000",
         "hovertemplate": "Avg slope (100m): 9.2%<br>Length: 433.41 km",
         "mode": "none",
         "name": "Slope 9.2%",
         "type": "scatter",
         "x": {
          "bdata": "NBIA3N5o+UBLPYAVO2r5QKCPaF+Qa/lAsxTXu6ht+UCBu+K8Z275QCklgtR4b/lAUfwTjZ5w+UCslDTyzXL5QBiwrKxjdPlAQgauPSR2+UDIcIA35nf5QEgKBfl+eflA7+o8n+R6+UD/faPvLHz5QHwbuNsRfvlAjNAwe1h/+UAdbDadAYH5QJQCTuRXgvlAumh7aPWD+UA=",
          "dtype": "f8"
         },
         "y": {
          "bdata": "mpmZmZkvkUAzMzMzMzeRQGZmZmZmPpFAAAAAAABKkUBmZmZmZk6RQAAAAAAAVJFAZmZmZmZakUDNzMzMzGaRQM3MzMzMbpFAAAAAAAB4kUBmZmZmZoKRQGZmZmZmjJFAzczMzMyUkUBmZmZmZpyRQM3MzMzMppFAZmZmZmaukUAAAAAAALiRQGZmZmZmwJFAmpmZmZnLkUA=",
          "dtype": "f8"
         }
        },
        {
         "fill": "tozeroy",
         "fillcolor": "#800080",
         "hovertemplate": "Avg slope (100m): 10.3%<br>Length: 51.75 km",
         "mode": "none",
         "name": "Slope 10.3%",
         "type": "scatter",
         "x": {
          "bdata": "umh7aPWD+UBmo3FFcoX5QMPTYFYxh/lA",
          "dtype": "f8"
         },
         "y": {
          "bdata": "mpmZmZnLkUCamZmZmdWRQAAAAAAA4JFA",
          "dtype": "f8"
         }
        },
        {
         "fill": "tozeroy",
         "fillcolor": "#ee0000",
         "hovertemplate": "Avg slope (100m): 9.9%<br>Length: 292.75 km",
         "mode": "none",
         "name": "Slope 9.9%",
         "type": "scatter",
         "x": {
          "bdata": "w9NgVjGH+UBVionlvoj5QBcO5opsivlAgbYWrpuM+UAxrOptA475QJUmEIUGkPlAhEA7qUeR+UCEGEFJ/JL5QKvUsR6plPlAjJzytxuW+UD/9L/gKpj5QFhY+Vx9mflA",
          "dtype": "f8"
         },
         "y": {
          "bdata": "AAAAAADgkUDNzMzMzOiRQJqZmZmZ8ZFAMzMzMzP/kUCamZmZmQeSQM3MzMzMEpJAAAAAAAAakkBmZmZmZiSSQDMzMzMzL5JAmpmZmZk3kkDNzMzMzESSQJqZmZmZTZJA",
          "dtype": "f8"
         }
        },
        {
         "fill": "tozeroy",
         "fillcolor": "#800080",
         "hovertemplate": "Avg slope (100m): 10.2%<br>Length: 51.39 km",
         "mode": "none",
         "name": "Slope 10.2%",
         "type": "scatter",
         "x": {
          "bdata": "WFj5XH2Z+UBhyCPG/5r5QFSE7qWznPlA",
          "dtype": "f8"
         },
         "y": {
          "bdata": "mpmZmZlNkkCamZmZmVeSQAAAAAAAYpJA",
          "dtype": "f8"
         }
        },
        {
         "fill": "tozeroy",
         "fillcolor": "#ee0000",
         "hovertemplate": "Avg slope (100m): 9.9%<br>Length: 48.70 km",
         "mode": "none",
         "name": "Slope 9.9%",
         "type": "scatter",
         "x": {
          "bdata": "VITupbOc+UA3wT15Lp75QDfemda+n/lA",
          "dtype": "f8"
         },
         "y": {
          "bdata": "AAAAAABikkCamZmZmWuSQAAAAAAAdpJA",
          "dtype": "f8"
         }
        },
        {
         "fill": "tozeroy",
         "fillcolor": "#800080",
         "hovertemplate": "Avg slope (100m): 10.3%<br>Length: 21.07 km",
         "mode": "none",
         "name": "Slope 10.3%",
         "type": "scatter",
         "x": {
          "bdata": "N96Z1r6f+UBhw5wHEKH5QA==",
          "dtype": "f8"
         },
         "y": {
          "bdata": "AAAAAAB2kkAAAAAAAH6SQA==",
          "dtype": "f8"
         }
        },
        {
         "fill": "tozeroy",
         "fillcolor": "#ee0000",
         "hovertemplate": "Avg slope (100m): 9.9%<br>Length: 234.26 km",
         "mode": "none",
         "name": "Slope 9.9%",
         "type": "scatter",
         "x": {
          "bdata": "YcOcBxCh+UDTaoDNOaP5QJ4/Z7xzpPlAH5N6mril+UAK4+CHRaf5QJZDJaYQqflAk7iqfD2r+UCtCyAYuqz5QBDJXdVKrvlAjFRyM7Sv+UA=",
          "dtype": "f8"
         },
         "y": {
          "bdata": "AAAAAAB+kkCamZmZmYuSQDMzMzMzk5JAMzMzMzObkkAAAAAAAKSSQAAAAAAArpJAzczMzMy6kkAAAAAAAMSSQAAAAAAAzpJAAAAAAADYkkA=",
          "dtype": "f8"
         }
        },
        {
         "fill": "tozeroy",
         "fillcolor": "#800080",
         "hovertemplate": "Avg slope (100m): 10.5%<br>Length: 83.37 km",
         "mode": "none",
         "name": "Slope 10.5%",
         "type": "scatter",
         "x": {
          "bdata": "jFRyM7Sv+UCrz0Ot7rD5QKnzqWejsvlAMbtsKuq0+UA=",
          "dtype": "f8"
         },
         "y": {
          "bdata": "AAAAAADYkkBmZmZmZuCSQDMzMzMz65JAzczMzMzykkA=",
          "dtype": "f8"
         }
        },
        {
         "fill": "tozeroy",
         "fillcolor": "#ffd300",
         "hovertemplate": "Avg slope (100m): 7.6%<br>Length: 27.23 km",
         "mode": "none",
         "name": "Slope 7.6%",
         "type": "scatter",
         "x": {
          "bdata": "MbtsKuq0+UBwDvXsnbb5QA==",
          "dtype": "f8"
         },
         "y": {
          "bdata": "zczMzMzykkAAAAAAAPqSQA==",
          "dtype": "f8"
         }
        },
        {
         "fill": "tozeroy",
         "fillcolor": "#00a0ff",
         "hovertemplate": "Avg slope (100m): 5.9%<br>Length: 45.16 km",
         "mode": "none",
         "name": "Slope 5.9%",
         "type": "scatter",
         "x": {
          "bdata": "cA717J22+UCbykNvcLn5QA==",
          "dtype": "f8"
         },
         "y": {
          "bdata": "AAAAAAD6kkAAAAAAAAqTQA==",
          "dtype": "f8"
         }
        },
        {
         "fill": "tozeroy",
         "fillcolor": "#ffd300",
         "hovertemplate": "Avg slope (100m): 7.7%<br>Length: 24.45 km",
         "mode": "none",
         "name": "Slope 7.7%",
         "type": "scatter",
         "x": {
          "bdata": "m8pDb3C5+UC0rnyR97r5QA==",
          "dtype": "f8"
         },
         "y": {
          "bdata": "AAAAAAAKk0DNzMzMzBKTQA==",
          "dtype": "f8"
         }
        },
        {
         "fill": "tozeroy",
         "fillcolor": "#ee0000",
         "hovertemplate": "Avg slope (100m): 8.9%<br>Length: 178.28 km",
         "mode": "none",
         "name": "Slope 8.9%",
         "type": "scatter",
         "x": {
          "bdata": "tK58kfe6+UC8arUSf7z5QNRETbXqvflAz+toVNa++UAFMJdb8b/5QF/C1qsUwflAMj8ndbHC+UCtPMbhy8P5QJVbHJfbxPlAzdYG/BvG+UA=",
          "dtype": "f8"
         },
         "y": {
          "bdata": "zczMzMwSk0CamZmZmRuTQJqZmZmZI5NAAAAAAAAok0BmZmZmZi6TQM3MzMzMNJNAzczMzMw+k0CamZmZmUWTQGZmZmZmTJNAzczMzMxUk0A=",
          "dtype": "f8"
         }
        },
        {
         "fill": "tozeroy",
         "fillcolor": "#800080",
         "hovertemplate": "Avg slope (100m): 10.2%<br>Length: 43.26 km",
         "mode": "none",
         "name": "Slope 10.2%",
         "type": "scatter",
         "x": {
          "bdata": "zdYG/BvG+UCiR7A3Xsf5QD8k4CHQyPlA",
          "dtype": "f8"
         },
         "y": {
          "bdata": "zczMzMxUk0DNzMzMzFyTQAAAAAAAZpNA",
          "dtype": "f8"
         }
        },
        {
         "fill": "tozeroy",
         "fillcolor": "#ee0000",
         "hovertemplate": "Avg slope (100m): 9.9%<br>Length: 68.03 km",
         "mode": "none",
         "name": "Slope 9.9%",
         "type": "scatter",
         "x": {
          "bdata": "PyTgIdDI+UBfY2Bon8r5QGrFUKUQzflA",
          "dtype": "f8"
         },
         "y": {
          "bdata": "AAAAAABmk0AzMzMzM2+TQDMzMzMze5NA",
          "dtype": "f8"
         }
        },
        {
         "fill": "tozeroy",
         "fillcolor": "#ffd300",
         "hovertemplate": "Avg slope (100m): 7.8%<br>Length: 92.70 km",
         "mode": "none",
         "name": "Slope 7.8%",
         "type": "scatter",
         "x": {
          "bdata": "asVQpRDN+UB43SBt1M75QFk67s/b0vlA",
          "dtype": "f8"
         },
         "y": {
          "bdata": "MzMzMzN7k0CamZmZmYGTQM3MzMzMiJNA",
          "dtype": "f8"
         }
        },
        {
         "fill": "tozeroy",
         "fillcolor": "#00a0ff",
         "hovertemplate": "Avg slope (100m): 4.2%<br>Length: 43.20 km",
         "mode": "none",
         "name": "Slope 4.2%",
         "type": "scatter",
         "x": {
          "bdata": "WTruz9vS+UCLW7TujtX5QA==",
          "dtype": "f8"
         },
         "y": {
          "bdata": "zczMzMyIk0BmZmZmZo6TQA==",
          "dtype": "f8"
         }
        },
        {
         "fill": "tozeroy",
         "fillcolor": "#75f60c",
         "hovertemplate": "Avg slope (100m): 3.0%<br>Length: 43.79 km",
         "mode": "none",
         "name": "Slope 3.0%",
         "type": "scatter",
         "x": {
          "bdata": "i1u07o7V+UDkHKCFS9j5QA==",
          "dtype": "f8"
         },
         "y": {
          "bdata": "ZmZmZmaOk0DNzMzMzJaTQA==",
          "dtype": "f8"
         }
        },
        {
         "fill": "tozeroy",
         "fillcolor": "#00a0ff",
         "hovertemplate": "Avg slope (100m): 4.0%<br>Length: 84.17 km",
         "mode": "none",
         "name": "Slope 4.0%",
         "type": "scatter",
         "x": {
          "bdata": "5ByghUvY+UB3r7JaX9r5QCwAByqO3flA",
          "dtype": "f8"
         },
         "y": {
          "bdata": "zczMzMyWk0AzMzMzM5+TQGZmZmZmrJNA",
          "dtype": "f8"
         }
        },
        {
         "fill": "tozeroy",
         "fillcolor": "#ffd300",
         "hovertemplate": "Avg slope (100m): 6.4%<br>Length: 84.59 km",
         "mode": "none",
         "name": "Slope 6.4%",
         "type": "scatter",
         "x": {
          "bdata": "LAAHKo7d+UCQ1bjJbt/5QCtaMqXX4vlA",
          "dtype": "f8"
         },
         "y": {
          "bdata": "ZmZmZmask0CamZmZmbOTQDMzMzMzvZNA",
          "dtype": "f8"
         }
        },
        {
         "fill": "tozeroy",
         "fillcolor": "#00a0ff",
         "hovertemplate": "Avg slope (100m): 5.2%<br>Length: 146.70 km",
         "mode": "none",
         "name": "Slope 5.2%",
         "type": "scatter",
         "x": {
          "bdata": "K1oypdfi+UCLb3yih+X5QMPw37PV6PlAPbtB54nq+UCDw5DTAuz5QA==",
          "dtype": "f8"
         },
         "y": {
          "bdata": "MzMzMzO9k0AzMzMzM8WTQGZmZmZm0JNAmpmZmZnXk0BmZmZmZt6TQA==",
          "dtype": "f8"
         }
        },
        {
         "fill": "tozeroy",
         "fillcolor": "#ffd300",
         "hovertemplate": "Avg slope (100m): 6.9%<br>Length: 42.56 km",
         "mode": "none",
         "name": "Slope 6.9%",
         "type": "scatter",
         "x": {
          "bdata": "g8OQ0wLs+UDd7vTpwu35QDfGPsur7vlA",
          "dtype": "f8"
         },
         "y": {
          "bdata": "ZmZmZmbek0AAAAAAAOiTQJqZmZmZ7ZNA",
          "dtype": "f8"
         }
        },
        {
         "fill": "tozeroy",
         "fillcolor": "#ee0000",
         "hovertemplate": "Avg slope (100m): 9.1%<br>Length: 58.93 km",
         "mode": "none",
         "name": "Slope 9.1%",
         "type": "scatter",
         "x": {
          "bdata": "N8Y+y6vu+UAa8zXzaPD5QGM+DqVa8vlA",
          "dtype": "f8"
         },
         "y": {
          "bdata": "mpmZmZntk0DNzMzMzPaTQAAAAAAAAJRA",
          "dtype": "f8"
         }
        },
        {
         "fill": "tozeroy",
         "fillcolor": "#ffd300",
         "hovertemplate": "Avg slope (100m): 7.8%<br>Length: 60.66 km",
         "mode": "none",
         "name": "Slope 7.8%",
         "type": "scatter",
         "x": {
          "bdata": "Yz4OpVry+UDShw/HH/T5QGcUJygl9vlA",
          "dtype": "f8"
         },
         "y": {
          "bdata": "AAAAAAAAlEDNzMzMzAiUQGZmZmZmFJRA",
          "dtype": "f8"
         }
        },
        {
         "fill": "tozeroy",
         "fillcolor": "#ee0000",
         "hovertemplate": "Avg slope (100m): 8.4%<br>Length: 20.60 km",
         "mode": "none",
         "name": "Slope 8.4%",
         "type": "scatter",
         "x": {
          "bdata": "ZxQnKCX2+UAXbgu0bvf5QA==",
          "dtype": "f8"
         },
         "y": {
          "bdata": "ZmZmZmYUlECamZmZmR2UQA==",
          "dtype": "f8"
         }
        },
        {
         "fill": "tozeroy",
         "fillcolor": "#800080",
         "hovertemplate": "Avg slope (100m): 10.1%<br>Length: 275.15 km",
         "mode": "none",
         "name": "Slope 10.1%",
         "type": "scatter",
         "x": {
          "bdata": "F24LtG73+UAxAYtPxPj5QBtdRKLo+flAi4IU5fL6+UBc5zr6xPv5QIJ8NmAU/flAT1vq6Zj++UAstrfh8f/5QGlLlsIYAfpAwyCGumEC+kBVnZcXowP6QH3Eqw2SBfpAE0BFAogH+kDLk0EsoQj6QA==",
          "dtype": "f8"
         },
         "y": {
          "bdata": "mpmZmZkdlEDNzMzMzCaUQJqZmZmZL5RAzczMzMw2lEAzMzMzMz2UQGZmZmZmRpRAZmZmZmZQlECamZmZmVmUQJqZmZmZYZRAZmZmZmZqlEDNzMzMzHKUQAAAAAAAgJRAzczMzMyOlECamZmZmZeUQA==",
          "dtype": "f8"
         }
        },
        {
         "fill": "tozeroy",
         "fillcolor": "#444444",
         "hovertemplate": "Avg slope (100m): 12.2%<br>Length: 68.68 km",
         "mode": "none",
         "name": "Slope 12.2%",
         "type": "scatter",
         "x": {
          "bdata": "y5NBLKEI+kB8/euRkAn6QIbnMODDCvpAWiMrPbQL+kCR/cgI7Az6QA==",
          "dtype": "f8"
         },
         "y": {
          "bdata": "mpmZmZmXlEAzMzMzM5+UQJqZmZmZqZRAzczMzMywlEAzMzMzM7mUQA==",
          "dtype": "f8"
         }
        },
        {
         "fill": "tozeroy",
         "fillcolor": "#800080",
         "hovertemplate": "Avg slope (100m): 11.4%<br>Length: 39.93 km",
         "mode": "none",
         "name": "Slope 11.4%",
         "type": "scatter",
         "x": {
          "bdata": "kf3ICOwM+kD2m9oo3w36QOvUl/ZqD/pA",
          "dtype": "f8"
         },
         "y": {
          "bdata": "MzMzMzO5lEAzMzMzM7+UQDMzMzMzyZRA",
          "dtype": "f8"
         }
        },
        {
         "fill": "tozeroy",
         "fillcolor": "#ee0000",
         "hovertemplate": "Avg slope (100m): 10.0%<br>Length: 19.63 km",
         "mode": "none",
         "name": "Slope 10.0%",
         "type": "scatter",
         "x": {
          "bdata": "69SX9moP+kAvdVUVpRD6QA==",
          "dtype": "f8"
         },
         "y": {
          "bdata": "MzMzMzPJlECamZmZmdGUQA==",
          "dtype": "f8"
         }
        },
        {
         "fill": "tozeroy",
         "fillcolor": "#800080",
         "hovertemplate": "Avg slope (100m): 10.4%<br>Length: 66.53 km",
         "mode": "none",
         "name": "Slope 10.4%",
         "type": "scatter",
         "x": {
          "bdata": "L3VVFaUQ+kBeTvog8RH6QLYdu/EFE/pAa21Nf80U+kA=",
          "dtype": "f8"
         },
         "y": {
          "bdata": "mpmZmZnRlEBmZmZmZtqUQDMzMzMz4ZRAMzMzMzPrlEA=",
          "dtype": "f8"
         }
        },
        {
         "fill": "tozeroy",
         "fillcolor": "#ee0000",
         "hovertemplate": "Avg slope (100m): 9.3%<br>Length: 60.78 km",
         "mode": "none",
         "name": "Slope 9.3%",
         "type": "scatter",
         "x": {
          "bdata": "a21Nf80U+kAFltlABRf6QC5nAumZGPpA",
          "dtype": "f8"
         },
         "y": {
          "bdata": "MzMzMzPrlEAzMzMzM/mUQJqZmZmZBZVA",
          "dtype": "f8"
         }
        },
        {
         "fill": "tozeroy",
         "fillcolor": "#800080",
         "hovertemplate": "Avg slope (100m): 11.1%<br>Length: 146.69 km",
         "mode": "none",
         "name": "Slope 11.1%",
         "type": "scatter",
         "x": {
          "bdata": "LmcC6ZkY+kCI4zQ/mRn6QAFQkOmNG/pAssCLts8c+kBaruke0x36QDz10okrH/pAVK+CiaEg+kDapmj0xCH6QA==",
          "dtype": "f8"
         },
         "y": {
          "bdata": "mpmZmZkFlUDNzMzMzAyVQGZmZmZmGpVAmpmZmZkjlUAzMzMzMyuVQM3MzMzMNJVAZmZmZmY+lUAzMzMzM0WVQA==",
          "dtype": "f8"
         }
        },
        {
         "fill": "tozeroy",
         "fillcolor": "#ee0000",
         "hovertemplate": "Avg slope (100m): 9.8%<br>Length: 187.81 km",
         "mode": "none",
         "name": "Slope 9.8%",
         "type": "scatter",
         "x": {
          "bdata": "2qZo9MQh+kDB+AAxKiP6QDq/RLF0JPpAOazCmNkl+kA5xA04ySf6QHmQZqKMKfpAhMyFs9Qq+kAyAWeoQSz6QGeY8NqBLfpA",
          "dtype": "f8"
         },
         "y": {
          "bdata": "MzMzMzNFlUCamZmZmU2VQDMzMzMzVZVAzczMzMxclUAAAAAAAGiVQGZmZmZmcpVAZmZmZmZ6lUAzMzMzM4OVQJqZmZmZi5VA",
          "dtype": "f8"
         }
        },
        {
         "fill": "tozeroy",
         "fillcolor": "#800080",
         "hovertemplate": "Avg slope (100m): 10.1%<br>Length: 34.50 km",
         "mode": "none",
         "name": "Slope 10.1%",
         "type": "scatter",
         "x": {
          "bdata": "Z5jw2oEt+kBwxDmKdi76QJMREMqpL/pA",
          "dtype": "f8"
         },
         "y": {
          "bdata": "mpmZmZmLlUCamZmZmZGVQDMzMzMzmZVA",
          "dtype": "f8"
         }
        },
        {
         "fill": "tozeroy",
         "fillcolor": "#ee0000",
         "hovertemplate": "Avg slope (100m): 9.9%<br>Length: 332.11 km",
         "mode": "none",
         "name": "Slope 9.9%",
         "type": "scatter",
         "x": {
          "bdata": "kxEQyqkv+kAd6/ysQDH6QLBh0qyxMvpAKG31crkz+kD+nSI3CjX6QPxWV8KZNvpAT+5hk3I4+kClhO62+jn6QJBRNgiXO/pA/nGvxeA8+kDp0yospz76QE0zGyXLQPpAlX8PmUdC+kAsj0iYa0T6QA==",
          "dtype": "f8"
         },
         "y": {
          "bdata": "MzMzMzOZlUBmZmZmZqKVQGZmZmZmqpVAZmZmZmawlUBmZmZmZriVQJqZmZmZwZVAzczMzMzMlUAzMzMzM9WVQGZmZmZm3pVAAAAAAADmlUBmZmZmZvCVQDMzMzMz/ZVAZmZmZmYGlkDNzMzMzBSWQA==",
          "dtype": "f8"
         }
        },
        {
         "fill": "tozeroy",
         "fillcolor": "#800080",
         "hovertemplate": "Avg slope (100m): 10.1%<br>Length: 53.80 km",
         "mode": "none",
         "name": "Slope 10.1%",
         "type": "scatter",
         "x": {
          "bdata": "LI9ImGtE+kClT+c+7EX6QGpDJlrIR/pA",
          "dtype": "f8"
         },
         "y": {
          "bdata": "zczMzMwUlkAAAAAAAB6WQAAAAAAAKJZA",
          "dtype": "f8"
         }
        },
        {
         "fill": "tozeroy",
         "fillcolor": "#ee0000",
         "hovertemplate": "Avg slope (100m): 9.0%<br>Length: 283.25 km",
         "mode": "none",
         "name": "Slope 9.0%",
         "type": "scatter",
         "x": {
          "bdata": "akMmWshH+kAdgeWOxEn6QPxXeLAYS/pAyao6daFM+kB4wAReg076QIQM8Q9BUPpAcjvcBOtR+kDOhDxvbVP6QP6Xf10CVfpAiW8CJ4ZW+kArevgu4lf6QKlhmEl8WfpA",
          "dtype": "f8"
         },
         "y": {
          "bdata": "AAAAAAAolkCamZmZmTOWQM3MzMzMOpZAMzMzMzNDlkBmZmZmZk6WQDMzMzMzWZZAmpmZmZljlkCamZmZmWuWQM3MzMzMdJZAAAAAAAB+lkDNzMzMzIaWQJqZmZmZkZZA",
          "dtype": "f8"
         }
        },
        {
         "fill": "tozeroy",
         "fillcolor": "#800080",
         "hovertemplate": "Avg slope (100m): 10.3%<br>Length: 62.18 km",
         "mode": "none",
         "name": "Slope 10.3%",
         "type": "scatter",
         "x": {
          "bdata": "qWGYSXxZ+kAM9ciAfFv6QPzC/1laXPpAdmnyHl9d+kA=",
          "dtype": "f8"
         },
         "y": {
          "bdata": "mpmZmZmRlkCamZmZmZ+WQDMzMzMzpZZAmpmZmZmplkA=",
          "dtype": "f8"
         }
        },
        {
         "fill": "tozeroy",
         "fillcolor": "#ee0000",
         "hovertemplate": "Avg slope (100m): 8.4%<br>Length: 24.42 km",
         "mode": "none",
         "name": "Slope 8.4%",
         "type": "scatter",
         "x": {
          "bdata": "dmnyHl9d+kDudQ7I5V76QA==",
          "dtype": "f8"
         },
         "y": {
          "bdata": "mpmZmZmplkAAAAAAALCWQA==",
          "dtype": "f8"
         }
        },
        {
         "fill": "tozeroy",
         "fillcolor": "#ffd300",
         "hovertemplate": "Avg slope (100m): 6.7%<br>Length: 140.54 km",
         "mode": "none",
         "name": "Slope 6.7%",
         "type": "scatter",
         "x": {
          "bdata": "7nUOyOVe+kCEsKPR92D6QM6Ajr63YvpA4thDkJZk+kBf2Qlp12X6QMiYBWquZ/pA",
          "dtype": "f8"
         },
         "y": {
          "bdata": "AAAAAACwlkDNzMzMzLiWQM3MzMzMwJZAZmZmZmbKlkDNzMzMzNCWQM3MzMzM2pZA",
          "dtype": "f8"
         }
        },
        {
         "fill": "tozeroy",
         "fillcolor": "#ee0000",
         "hovertemplate": "Avg slope (100m): 8.2%<br>Length: 40.73 km",
         "mode": "none",
         "name": "Slope 8.2%",
         "type": "scatter",
         "x": {
          "bdata": "yJgFaq5n+kAyu2sUMmn6QBXkKQ46avpA",
          "dtype": "f8"
         },
         "y": {
          "bdata": "zczMzMzalkCamZmZmeOWQAAAAAAA7JZA",
          "dtype": "f8"
         }
        },
        {
         "fill": "tozeroy",
         "fillcolor": "#800080",
         "hovertemplate": "Avg slope (100m): 10.9%<br>Length: 48.19 km",
         "mode": "none",
         "name": "Slope 10.9%",
         "type": "scatter",
         "x": {
          "bdata": "FeQpDjpq+kBddHVbVmv6QG012Sw9bfpA",
          "dtype": "f8"
         },
         "y": {
          "bdata": "AAAAAADslkDNzMzMzPKWQDMzMzMz/ZZA",
          "dtype": "f8"
         }
        },
        {
         "fill": "tozeroy",
         "fillcolor": "#ee0000",
         "hovertemplate": "Avg slope (100m): 9.1%<br>Length: 281.01 km",
         "mode": "none",
         "name": "Slope 9.1%",
         "type": "scatter",
         "x": {
          "bdata": "bTXZLD1t+kBGvRGyW276QKuWyW3Gb/pAUV/Vcalx+kCQud6pT3P6QL26LPOrdPpAL8Vl1TZ2+kCV/HGEJ3j6QA+IyiPgefpAJxgXrCF7+kD1Ud8qKHz6QA8tR1jNfvpA",
          "dtype": "f8"
         },
         "y": {
          "bdata": "MzMzMzP9lkAzMzMzMwOXQDMzMzMzC5dAAAAAAAAWl0CamZmZmR+XQJqZmZmZJ5dAzczMzMwwl0BmZmZmZjyXQM3MzMzMRpdAAAAAAABOl0CamZmZmVOXQGZmZmZmXJdA",
          "dtype": "f8"
         }
        },
        {
         "fill": "tozeroy",
         "fillcolor": "#ffd300",
         "hovertemplate": "Avg slope (100m): 6.9%<br>Length: 38.05 km",
         "mode": "none",
         "name": "Slope 6.9%",
         "type": "scatter",
         "x": {
          "bdata": "Dy1HWM1++kBYBKYnLoH6QA==",
          "dtype": "f8"
         },
         "y": {
          "bdata": "ZmZmZmZcl0AzMzMzM2GXQA==",
          "dtype": "f8"
         }
        },
        {
         "fill": "tozeroy",
         "fillcolor": "#00a0ff",
         "hovertemplate": "Avg slope (100m): 4.2%<br>Length: 39.95 km",
         "mode": "none",
         "name": "Slope 4.2%",
         "type": "scatter",
         "x": {
          "bdata": "WASmJy6B+kCOuzdMrYP6QA==",
          "dtype": "f8"
         },
         "y": {
          "bdata": "MzMzMzNhl0DNzMzMzGSXQA==",
          "dtype": "f8"
         }
        },
        {
         "fill": "tozeroy",
         "fillcolor": "#75f60c",
         "hovertemplate": "Avg slope (100m): 2.7%<br>Length: 83.18 km",
         "mode": "none",
         "name": "Slope 2.7%",
         "type": "scatter",
         "x": {
          "bdata": "jrs3TK2D+kBjzgw3job6QP0aaxngiPpA",
          "dtype": "f8"
         },
         "y": {
          "bdata": "zczMzMxkl0AzMzMzM22XQDMzMzMzdZdA",
          "dtype": "f8"
         }
        },
        {
         "fill": "tozeroy",
         "fillcolor": "#00a0ff",
         "hovertemplate": "Avg slope (100m): 5.0%<br>Length: 123.28 km",
         "mode": "none",
         "name": "Slope 5.0%",
         "type": "scatter",
         "x": {
          "bdata": "/RprGeCI+kCLejN8yYr6QPblkQZUjfpAJDDc+oKP+kAIIoyelJD6QA==",
          "dtype": "f8"
         },
         "y": {
          "bdata": "MzMzMzN1l0BmZmZmZnyXQAAAAAAAhJdAZmZmZmaMl0AzMzMzM5GXQA==",
          "dtype": "f8"
         }
        },
        {
         "fill": "tozeroy",
         "fillcolor": "#ffd300",
         "hovertemplate": "Avg slope (100m): 6.5%<br>Length: 66.34 km",
         "mode": "none",
         "name": "Slope 6.5%",
         "type": "scatter",
         "x": {
          "bdata": "CCKMnpSQ+kDJGA9s25L6QObuMyK6lPpA",
          "dtype": "f8"
         },
         "y": {
          "bdata": "MzMzMzORl0AAAAAAAJqXQJqZmZmZn5dA",
          "dtype": "f8"
         }
        },
        {
         "fill": "tozeroy",
         "fillcolor": "#00a0ff",
         "hovertemplate": "Avg slope (100m): 5.4%<br>Length: 75.72 km",
         "mode": "none",
         "name": "Slope 5.4%",
         "type": "scatter",
         "x": {
          "bdata": "5u4zIrqU+kCTy7vAO5f6QAkY96d1mfpA",
          "dtype": "f8"
         },
         "y": {
          "bdata": "mpmZmZmfl0BmZmZmZqaXQM3MzMzMqpdA",
          "dtype": "f8"
         }
        },
        {
         "fill": "tozeroy",
         "fillcolor": "#75f60c",
         "hovertemplate": "Avg slope (100m): 3.7%<br>Length: 93.50 km",
         "mode": "none",
         "name": "Slope 3.7%",
         "type": "scatter",
         "x": {
          "bdata": "CRj3p3WZ+kCmLvH1Q536QNTHXKVNn/pA",
          "dtype": "f8"
         },
         "y": {
          "bdata": "zczMzMyql0AAAAAAALSXQJqZmZmZuZdA",
          "dtype": "f8"
         }
        },
        {
         "fill": "tozeroy",
         "fillcolor": "#00a0ff",
         "hovertemplate": "Avg slope (100m): 4.0%<br>Length: 47.57 km",
         "mode": "none",
         "name": "Slope 4.0%",
         "type": "scatter",
         "x": {
          "bdata": "1MdcpU2f+kA+hsrERqL6QA==",
          "dtype": "f8"
         },
         "y": {
          "bdata": "mpmZmZm5l0CamZmZmb+XQA==",
          "dtype": "f8"
         }
        },
        {
         "fill": "tozeroy",
         "fillcolor": "#75f60c",
         "hovertemplate": "Avg slope (100m): 3.7%<br>Length: 140.84 km",
         "mode": "none",
         "name": "Slope 3.7%",
         "type": "scatter",
         "x": {
          "bdata": "PobKxEai+kDYEzMQmaX6QPhlUkNrqPpAZIEPPxSr+kA=",
          "dtype": "f8"
         },
         "y": {
          "bdata": "mpmZmZm/l0AzMzMzM8WXQM3MzMzMzpdAMzMzMzPXl0A=",
          "dtype": "f8"
         }
        },
        {
         "fill": "tozeroy",
         "fillcolor": "#00a0ff",
         "hovertemplate": "Avg slope (100m): 5.1%<br>Length: 360.70 km",
         "mode": "none",
         "name": "Slope 5.1%",
         "type": "scatter",
         "x": {
          "bdata": "ZIEPPxSr+kAIhX9cx676QAgoDwG/sPpA3btBGFSz+kCkrRQh3LX6QMGvdbhwuPpAWsw69xS7+kBA07ZGNL36QL+VNI1iv/pAnCUGcJ/B+kA=",
          "dtype": "f8"
         },
         "y": {
          "bdata": "MzMzMzPXl0BmZmZmZuKXQM3MzMzM6JdAZmZmZmbwl0AAAAAAAPiXQJqZmZmZ/5dAMzMzMzMHmECamZmZmQ2YQAAAAAAAFphAAAAAAAAimEA=",
          "dtype": "f8"
         }
        },
        {
         "fill": "tozeroy",
         "fillcolor": "#ffd300",
         "hovertemplate": "Avg slope (100m): 7.2%<br>Length: 23.73 km",
         "mode": "none",
         "name": "Slope 7.2%",
         "type": "scatter",
         "x": {
          "bdata": "nCUGcJ/B+kCU6mQhG8P6QA==",
          "dtype": "f8"
         },
         "y": {
          "bdata": "AAAAAAAimEBmZmZmZiqYQA==",
          "dtype": "f8"
         }
        },
        {
         "fill": "tozeroy",
         "fillcolor": "#ee0000",
         "hovertemplate": "Avg slope (100m): 8.6%<br>Length: 155.85 km",
         "mode": "none",
         "name": "Slope 8.6%",
         "type": "scatter",
         "x": {
          "bdata": "lOpkIRvD+kAImcjTXsT6QPwcWuvcxfpAas8w3l3H+kACwh+/ucj6QLSRbXZhy/pAzxFXztjM+kA=",
          "dtype": "f8"
         },
         "y": {
          "bdata": "ZmZmZmYqmECamZmZmTGYQGZmZmZmOphAzczMzMxCmEAAAAAAAEqYQAAAAAAAXJhAmpmZmZllmEA=",
          "dtype": "f8"
         }
        },
        {
         "fill": "tozeroy",
         "fillcolor": "#800080",
         "hovertemplate": "Avg slope (100m): 10.4%<br>Length: 24.32 km",
         "mode": "none",
         "name": "Slope 10.4%",
         "type": "scatter",
         "x": {
          "bdata": "zxFXztjM+kANHsb7Xc76QA==",
          "dtype": "f8"
         },
         "y": {
          "bdata": "mpmZmZllmEAzMzMzM22YQA==",
          "dtype": "f8"
         }
        },
        {
         "fill": "tozeroy",
         "fillcolor": "#ee0000",
         "hovertemplate": "Avg slope (100m): 9.0%<br>Length: 31.57 km",
         "mode": "none",
         "name": "Slope 9.0%",
         "type": "scatter",
         "x": {
          "bdata": "DR7G+13O+kDTqLIZV9D6QA==",
          "dtype": "f8"
         },
         "y": {
          "bdata": "MzMzMzNtmEBmZmZmZnaYQA==",
          "dtype": "f8"
         }
        },
        {
         "fill": "tozeroy",
         "fillcolor": "#ffd300",
         "hovertemplate": "Avg slope (100m): 7.5%<br>Length: 157.23 km",
         "mode": "none",
         "name": "Slope 7.5%",
         "type": "scatter",
         "x": {
          "bdata": "06iyGVfQ+kCcGL8kZtL6QJ6T5Qu30/pAQVYnDMjV+kDUtaHwRNf6QBtPlLC82PpAhYnB0ira+kA=",
          "dtype": "f8"
         },
         "y": {
          "bdata": "ZmZmZmZ2mEBmZmZmZoCYQGZmZmZmhphAzczMzMyOmEAAAAAAAJaYQJqZmZmZnZhAAAAAAACmmEA=",
          "dtype": "f8"
         }
        },
        {
         "fill": "tozeroy",
         "fillcolor": "#ee0000",
         "hovertemplate": "Avg slope (100m): 8.6%<br>Length: 156.05 km",
         "mode": "none",
         "name": "Slope 8.6%",
         "type": "scatter",
         "x": {
          "bdata": "hYnB0ira+kAIERi0p9v6QMyYM7Nb3fpAb0S0ocre+kAE5lCHQOD6QGK8FMDm4fpAC6kjmuvj+kA=",
          "dtype": "f8"
         },
         "y": {
          "bdata": "AAAAAACmmECamZmZma+YQGZmZmZmuphAZmZmZmbCmEAAAAAAAMqYQGZmZmZm0phAmpmZmZnbmEA=",
          "dtype": "f8"
         }
        },
        {
         "fill": "tozeroy",
         "fillcolor": "#ffd300",
         "hovertemplate": "Avg slope (100m): 7.5%<br>Length: 72.34 km",
         "mode": "none",
         "name": "Slope 7.5%",
         "type": "scatter",
         "x": {
          "bdata": "C6kjmuvj+kBz7kcFUOX6QO8HmQNx6PpA",
          "dtype": "f8"
         },
         "y": {
          "bdata": "mpmZmZnbmEAzMzMzM+GYQAAAAAAA7JhA",
          "dtype": "f8"
         }
        },
        {
         "fill": "tozeroy",
         "fillcolor": "#00a0ff",
         "hovertemplate": "Avg slope (100m): 5.8%<br>Length: 93.31 km",
         "mode": "none",
         "name": "Slope 5.8%",
         "type": "scatter",
         "x": {
          "bdata": "7weZA3Ho+kDHvGl7TOr6QJywowZG7vpA",
          "dtype": "f8"
         },
         "y": {
          "bdata": "AAAAAADsmEDNzMzMzPCYQAAAAAAA+JhA",
          "dtype": "f8"
         }
        },
        {
         "fill": "tozeroy",
         "fillcolor": "#75f60c",
         "hovertemplate": "Avg slope (100m): 3.4%<br>Length: 149.36 km",
         "mode": "none",
         "name": "Slope 3.4%",
         "type": "scatter",
         "x": {
          "bdata": "nLCjBkbu+kAk2WiMOvH6QF8BLutl9fpAlEDO1Jv3+kA=",
          "dtype": "f8"
         },
         "y": {
          "bdata": "AAAAAAD4mEAAAAAAAACZQAAAAAAABJlAzczMzMwGmUA=",
          "dtype": "f8"
         }
        },
        {
         "fill": "tozeroy",
         "fillcolor": "#F5F5DC",
         "hovertemplate": "Avg slope (100m): 1.7%<br>Length: 222.88 km",
         "mode": "none",
         "name": "Slope 1.7%",
         "type": "scatter",
         "x": {
          "bdata": "lEDO1Jv3+kBHINGTEfr6QLxJ7lb+/PpAoi2LMWoA+0A6sqpm0AP7QE9KReiJBftA",
          "dtype": "f8"
         },
         "y": {
          "bdata": "zczMzMwGmUCamZmZmQmZQM3MzMzMCplAmpmZmZkNmUCamZmZmRGZQJqZmZmZFZlA",
          "dtype": "f8"
         }
        },
        {
         "fill": "tozeroy",
         "fillcolor": "#75f60c",
         "hovertemplate": "Avg slope (100m): 2.7%<br>Length: 36.14 km",
         "mode": "none",
         "name": "Slope 2.7%",
         "type": "scatter",
         "x": {
          "bdata": "T0pF6IkF+0AUOo84zAf7QA==",
          "dtype": "f8"
         },
         "y": {
          "bdata": "mpmZmZkVmUAAAAAAACCZQA==",
          "dtype": "f8"
         }
        },
        {
         "fill": "tozeroy",
         "fillcolor": "#00a0ff",
         "hovertemplate": "Avg slope (100m): 5.4%<br>Length: 39.06 km",
         "mode": "none",
         "name": "Slope 5.4%",
         "type": "scatter",
         "x": {
          "bdata": "FDqPOMwH+0BSawjkyAj7QMIE0ig9CvtA",
          "dtype": "f8"
         },
         "y": {
          "bdata": "AAAAAAAgmUDNzMzMzCKZQJqZmZmZJZlA",
          "dtype": "f8"
         }
        },
        {
         "fill": "tozeroy",
         "fillcolor": "#75f60c",
         "hovertemplate": "Avg slope (100m): 3.7%<br>Length: 129.99 km",
         "mode": "none",
         "name": "Slope 3.7%",
         "type": "scatter",
         "x": {
          "bdata": "wgTSKD0K+0DkSFv4Awz7QNDz+12dDvtAvupCdmwQ+0DnYRX/XBL7QA==",
          "dtype": "f8"
         },
         "y": {
          "bdata": "mpmZmZklmUCamZmZmSmZQAAAAAAAMJlAZmZmZmYymUBmZmZmZjyZQA==",
          "dtype": "f8"
         }
        },
        {
         "fill": "tozeroy",
         "fillcolor": "#00a0ff",
         "hovertemplate": "Avg slope (100m): 5.1%<br>Length: 26.53 km",
         "mode": "none",
         "name": "Slope 5.1%",
         "type": "scatter",
         "x": {
          "bdata": "52EV/1wS+0DM9VCHBRT7QA==",
          "dtype": "f8"
         },
         "y": {
          "bdata": "ZmZmZmY8mUDNzMzMzESZQA==",
          "dtype": "f8"
         }
        },
        {
         "fill": "tozeroy",
         "fillcolor": "#ffd300",
         "hovertemplate": "Avg slope (100m): 8.0%<br>Length: 25.13 km",
         "mode": "none",
         "name": "Slope 8.0%",
         "type": "scatter",
         "x": {
          "bdata": "zPVQhwUU+0BJILqIlxX7QA==",
          "dtype": "f8"
         },
         "y": {
          "bdata": "zczMzMxEmUBmZmZmZk6ZQA==",
          "dtype": "f8"
         }
        },
        {
         "fill": "tozeroy",
         "fillcolor": "#ee0000",
         "hovertemplate": "Avg slope (100m): 8.7%<br>Length: 30.86 km",
         "mode": "none",
         "name": "Slope 8.7%",
         "type": "scatter",
         "x": {
          "bdata": "SSC6iJcV+0DonftThRf7QA==",
          "dtype": "f8"
         },
         "y": {
          "bdata": "ZmZmZmZOmUDNzMzMzFSZQA==",
          "dtype": "f8"
         }
        },
        {
         "fill": "tozeroy",
         "fillcolor": "#ffd300",
         "hovertemplate": "Avg slope (100m): 7.4%<br>Length: 32.58 km",
         "mode": "none",
         "name": "Slope 7.4%",
         "type": "scatter",
         "x": {
          "bdata": "6J37U4UX+0Cm0BKvjhn7QA==",
          "dtype": "f8"
         },
         "y": {
          "bdata": "zczMzMxUmUDNzMzMzFqZQA==",
          "dtype": "f8"
         }
        },
        {
         "fill": "tozeroy",
         "fillcolor": "#00a0ff",
         "hovertemplate": "Avg slope (100m): 4.9%<br>Length: 44.60 km",
         "mode": "none",
         "name": "Slope 4.9%",
         "type": "scatter",
         "x": {
          "bdata": "ptASr44Z+0CCQok6WBz7QA==",
          "dtype": "f8"
         },
         "y": {
          "bdata": "zczMzMxamUBmZmZmZmyZQA==",
          "dtype": "f8"
         }
        },
        {
         "fill": "tozeroy",
         "fillcolor": "#ffd300",
         "hovertemplate": "Avg slope (100m): 7.2%<br>Length: 40.90 km",
         "mode": "none",
         "name": "Slope 7.2%",
         "type": "scatter",
         "x": {
          "bdata": "gkKJOlgc+0CEreSd5h77QA==",
          "dtype": "f8"
         },
         "y": {
          "bdata": "ZmZmZmZsmUAAAAAAAH6ZQA==",
          "dtype": "f8"
         }
        },
        {
         "fill": "tozeroy",
         "fillcolor": "#800080",
         "hovertemplate": "Avg slope (100m): 10.3%<br>Length: 72.08 km",
         "mode": "none",
         "name": "Slope 10.3%",
         "type": "scatter",
         "x": {
          "bdata": "hK3kneYe+0Cm2mPfxCH7QHy9SeRnI/tA",
          "dtype": "f8"
         },
         "y": {
          "bdata": "AAAAAAB+mUAzMzMzM5OZQDMzMzMzl5lA",
          "dtype": "f8"
         }
        },
        {
         "fill": "tozeroy",
         "fillcolor": "#ffd300",
         "hovertemplate": "Avg slope (100m): 7.7%<br>Length: 24.68 km",
         "mode": "none",
         "name": "Slope 7.7%",
         "type": "scatter",
         "x": {
          "bdata": "fL1J5Gcj+0AOCdu28iT7QA==",
          "dtype": "f8"
         },
         "y": {
          "bdata": "MzMzMzOXmUCamZmZmZmZQA==",
          "dtype": "f8"
         }
        },
        {
         "fill": "tozeroy",
         "fillcolor": "#75f60c",
         "hovertemplate": "Avg slope (100m): 3.1%<br>Length: 59.05 km",
         "mode": "none",
         "name": "Slope 3.1%",
         "type": "scatter",
         "x": {
          "bdata": "DgnbtvIk+0C3hoQP7yb7QK6vA5WjKPtA",
          "dtype": "f8"
         },
         "y": {
          "bdata": "mpmZmZmZmUBmZmZmZp6ZQGZmZmZmpJlA",
          "dtype": "f8"
         }
        },
        {
         "fill": "tozeroy",
         "fillcolor": "#00a0ff",
         "hovertemplate": "Avg slope (100m): 4.6%<br>Length: 128.18 km",
         "mode": "none",
         "name": "Slope 4.6%",
         "type": "scatter",
         "x": {
          "bdata": "rq8DlaMo+0AMDvXvLCr7QJxlhJomLftA3d7IRvot+0CZ0aBzpjD7QA==",
          "dtype": "f8"
         },
         "y": {
          "bdata": "ZmZmZmakmUBmZmZmZqqZQDMzMzMztZlAZmZmZma4mUDNzMzMzMaZQA==",
          "dtype": "f8"
         }
        },
        {
         "fill": "tozeroy",
         "fillcolor": "#ffd300",
         "hovertemplate": "Avg slope (100m): 7.2%<br>Length: 25.80 km",
         "mode": "none",
         "name": "Slope 7.2%",
         "type": "scatter",
         "x": {
          "bdata": "mdGgc6Yw+0DG3owzQzL7QA==",
          "dtype": "f8"
         },
         "y": {
          "bdata": "zczMzMzGmUDNzMzMzNCZQA==",
          "dtype": "f8"
         }
        },
        {
         "fill": "tozeroy",
         "fillcolor": "#ee0000",
         "hovertemplate": "Avg slope (100m): 9.1%<br>Length: 232.46 km",
         "mode": "none",
         "name": "Slope 9.1%",
         "type": "scatter",
         "x": {
          "bdata": "xt6MM0My+0BWJLC+5zP7QLdgcz9gNftAU50g30o3+0CJpdAs1zj7QPia/jgIO/tALUmzaTE8+0DIM2giQz77QM/akS2qP/tAsjNSospA+0A=",
          "dtype": "f8"
         },
         "y": {
          "bdata": "zczMzMzQmUAzMzMzM9uZQGZmZmZm5JlAZmZmZmbwmUAAAAAAAPqZQAAAAAAACJpAZmZmZmYOmkAzMzMzMxmaQJqZmZmZIZpAZmZmZmYimkA=",
          "dtype": "f8"
         }
        },
        {
         "fill": "tozeroy",
         "fillcolor": "#00a0ff",
         "hovertemplate": "Avg slope (100m): 5.2%<br>Length: 28.06 km",
         "mode": "none",
         "name": "Slope 5.2%",
         "type": "scatter",
         "x": {
          "bdata": "sjNSospA+0D0p7qSi0L7QA==",
          "dtype": "f8"
         },
         "y": {
          "bdata": "ZmZmZmYimkBmZmZmZiSaQA==",
          "dtype": "f8"
         }
        },
        {
         "fill": "tozeroy",
         "fillcolor": "#F5F5DC",
         "hovertemplate": "Avg slope (100m): 1.4%<br>Length: 24.09 km",
         "mode": "none",
         "name": "Slope 1.4%",
         "type": "scatter",
         "x": {
          "bdata": "9Ke6kotC+0CgtfUVDUT7QA==",
          "dtype": "f8"
         },
         "y": {
          "bdata": "ZmZmZmYkmkAAAAAAACyaQA==",
          "dtype": "f8"
         }
        },
        {
         "fill": "tozeroy",
         "fillcolor": "#00a0ff",
         "hovertemplate": "Avg slope (100m): 4.8%<br>Length: 24.42 km",
         "mode": "none",
         "name": "Slope 4.8%",
         "type": "scatter",
         "x": {
          "bdata": "oLX1FQ1E+0BnX7vak0X7QA==",
          "dtype": "f8"
         },
         "y": {
          "bdata": "AAAAAAAsmkAAAAAAADaaQA==",
          "dtype": "f8"
         }
        },
        {
         "fill": "tozeroy",
         "fillcolor": "#ee0000",
         "hovertemplate": "Avg slope (100m): 9.1%<br>Length: 36.87 km",
         "mode": "none",
         "name": "Slope 9.1%",
         "type": "scatter",
         "x": {
          "bdata": "Z1+72pNF+0DLs1bI4Uf7QA==",
          "dtype": "f8"
         },
         "y": {
          "bdata": "AAAAAAA2mkAzMzMzM0WaQA==",
          "dtype": "f8"
         }
        },
        {
         "fill": "tozeroy",
         "fillcolor": "#800080",
         "hovertemplate": "Avg slope (100m): 10.3%<br>Length: 84.27 km",
         "mode": "none",
         "name": "Slope 10.3%",
         "type": "scatter",
         "x": {
          "bdata": "y7NWyOFH+0AHldRZWkn7QEclP4SGS/tAUwW3GiZN+0A=",
          "dtype": "f8"
         },
         "y": {
          "bdata": "MzMzMzNFmkDNzMzMzE6aQJqZmZmZXZpAAAAAAABimkA=",
          "dtype": "f8"
         }
        },
        {
         "fill": "tozeroy",
         "fillcolor": "#ffd300",
         "hovertemplate": "Avg slope (100m): 7.4%<br>Length: 41.19 km",
         "mode": "none",
         "name": "Slope 7.4%",
         "type": "scatter",
         "x": {
          "bdata": "UwW3GiZN+0BumK0UuU/7QA==",
          "dtype": "f8"
         },
         "y": {
          "bdata": "AAAAAABimkDNzMzMzGiaQA==",
          "dtype": "f8"
         }
        },
        {
         "fill": "tozeroy",
         "fillcolor": "#00a0ff",
         "hovertemplate": "Avg slope (100m): 4.2%<br>Length: 89.14 km",
         "mode": "none",
         "name": "Slope 4.2%",
         "type": "scatter",
         "x": {
          "bdata": "bpitFLlP+0D8CH0qx1H7QCKYmfY1U/tAPMk6QktV+0A=",
          "dtype": "f8"
         },
         "y": {
          "bdata": "zczMzMxomkDNzMzMzG6aQJqZmZmZc5pAMzMzMzN/mkA=",
          "dtype": "f8"
         }
        },
        {
         "fill": "tozeroy",
         "fillcolor": "#ffd300",
         "hovertemplate": "Avg slope (100m): 7.0%<br>Length: 34.27 km",
         "mode": "none",
         "name": "Slope 7.0%",
         "type": "scatter",
         "x": {
          "bdata": "PMk6QktV+0BuOKyAb1f7QA==",
          "dtype": "f8"
         },
         "y": {
          "bdata": "MzMzMzN/mkAAAAAAAIyaQA==",
          "dtype": "f8"
         }
        },
        {
         "fill": "tozeroy",
         "fillcolor": "#ee0000",
         "hovertemplate": "Avg slope (100m): 9.0%<br>Length: 105.15 km",
         "mode": "none",
         "name": "Slope 9.0%",
         "type": "scatter",
         "x": {
          "bdata": "bjisgG9X+0AIzPlr6lj7QLKZp9ltWvtAlRyjTGBc+0Cxi7zhAV77QA==",
          "dtype": "f8"
         },
         "y": {
          "bdata": "AAAAAACMmkDNzMzMzJSaQDMzMzMznZpAMzMzMzOnmkAzMzMzM6+aQA==",
          "dtype": "f8"
         }
        },
        {
         "fill": "tozeroy",
         "fillcolor": "#ffd300",
         "hovertemplate": "Avg slope (100m): 7.8%<br>Length: 26.95 km",
         "mode": "none",
         "name": "Slope 7.8%",
         "type": "scatter",
         "x": {
          "bdata": "sYu84QFe+0BThaInsV/7QA==",
          "dtype": "f8"
         },
         "y": {
          "bdata": "MzMzMzOvmkBmZmZmZriaQA==",
          "dtype": "f8"
         }
        },
        {
         "fill": "tozeroy",
         "fillcolor": "#ee0000",
         "hovertemplate": "Avg slope (100m): 8.1%<br>Length: 137.65 km",
         "mode": "none",
         "name": "Slope 8.1%",
         "type": "scatter",
         "x": {
          "bdata": "U4WiJ7Ff+0BGJFdI22H7QEoqKWxfZPtAoB4kMBJm+0DETGmVS2j7QA==",
          "dtype": "f8"
         },
         "y": {
          "bdata": "ZmZmZma4mkDNzMzMzMSaQDMzMzMz05pAMzMzMzPbmkBmZmZmZuaaQA==",
          "dtype": "f8"
         }
        },
        {
         "fill": "tozeroy",
         "fillcolor": "#ffd300",
         "hovertemplate": "Avg slope (100m): 7.6%<br>Length: 23.02 km",
         "mode": "none",
         "name": "Slope 7.6%",
         "type": "scatter",
         "x": {
          "bdata": "xExplUto+0B6lT72u2n7QA==",
          "dtype": "f8"
         },
         "y": {
          "bdata": "ZmZmZmbmmkAAAAAAAO6aQA==",
          "dtype": "f8"
         }
        },
        {
         "fill": "tozeroy",
         "fillcolor": "#ee0000",
         "hovertemplate": "Avg slope (100m): 8.1%<br>Length: 142.44 km",
         "mode": "none",
         "name": "Slope 8.1%",
         "type": "scatter",
         "x": {
          "bdata": "epU+9rtp+0CZOqs0dWv7QAbj5cWybftAX/vpguZu+0C0sg5lXHD7QHdm/Q6jcvtA",
          "dtype": "f8"
         },
         "y": {
          "bdata": "AAAAAADumkCamZmZmfeaQGZmZmZmBJtAMzMzMzMLm0AAAAAAABKbQAAAAAAAHptA",
          "dtype": "f8"
         }
        },
        {
         "fill": "tozeroy",
         "fillcolor": "#ffd300",
         "hovertemplate": "Avg slope (100m): 7.8%<br>Length: 315.72 km",
         "mode": "none",
         "name": "Slope 7.8%",
         "type": "scatter",
         "x": {
          "bdata": "d2b9DqNy+0BXaCbs23P7QAx7CnozdftA7KFtMyt3+0CWwn0vInn7QOIWClZ9evtAhSodp3x8+0DUthL8o377QNruXbKDgPtATTxRoZ6C+0D4ZiP7x4T7QKnytJJehvtA",
          "dtype": "f8"
         },
         "y": {
          "bdata": "AAAAAAAem0AAAAAAACSbQAAAAAAAKptAmpmZmZkzm0DNzMzMzDybQAAAAAAAQptAAAAAAABKm0CamZmZmVObQAAAAAAAXJtAZmZmZmZmm0CamZmZmXGbQAAAAAAAeptA",
          "dtype": "f8"
         }
        },
        {
         "fill": "tozeroy",
         "fillcolor": "#ee0000",
         "hovertemplate": "Avg slope (100m): 8.2%<br>Length: 68.60 km",
         "mode": "none",
         "name": "Slope 8.2%",
         "type": "scatter",
         "x": {
          "bdata": "qfK0kl6G+0Ab0wl6Xoj7QIfwFiaoivtA",
          "dtype": "f8"
         },
         "y": {
          "bdata": "AAAAAAB6m0DNzMzMzISbQDMzMzMzj5tA",
          "dtype": "f8"
         }
        },
        {
         "fill": "tozeroy",
         "fillcolor": "#ffd300",
         "hovertemplate": "Avg slope (100m): 7.8%<br>Length: 375.76 km",
         "mode": "none",
         "name": "Slope 7.8%",
         "type": "scatter",
         "x": {
          "bdata": "h/AWJqiK+0CHMWKFUYz7QKEBcysqjftALH53vUuP+0A5Gzj8vpD7QOv2cVdokvtA2jtTvC+U+0B3/Uf4MZb7QNSMkC+KmPtA/r41boaa+0AoIiaUipz7QJnIvFt9nvtAUGYF3Eig+0B6tJk6JKL7QA==",
          "dtype": "f8"
         },
         "y": {
          "bdata": "MzMzMzOPm0AAAAAAAJabQAAAAAAAmptAZmZmZmakm0CamZmZmaubQAAAAAAAtJtAAAAAAAC8m0DNzMzMzMSbQGZmZmZmzptAzczMzMzWm0CamZmZmd+bQJqZmZmZ55tAZmZmZmbum0CamZmZmfWbQA==",
          "dtype": "f8"
         }
        },
        {
         "fill": "tozeroy",
         "fillcolor": "#00a0ff",
         "hovertemplate": "Avg slope (100m): 6.0%<br>Length: 26.77 km",
         "mode": "none",
         "name": "Slope 6.0%",
         "type": "scatter",
         "x": {
          "bdata": "erSZOiSi+0B6NVGL0KP7QA==",
          "dtype": "f8"
         },
         "y": {
          "bdata": "mpmZmZn1m0BmZmZmZv6bQA==",
          "dtype": "f8"
         }
        },
        {
         "fill": "tozeroy",
         "fillcolor": "#ffd300",
         "hovertemplate": "Avg slope (100m): 7.1%<br>Length: 32.48 km",
         "mode": "none",
         "name": "Slope 7.1%",
         "type": "scatter",
         "x": {
          "bdata": "ejVRi9Cj+0COjF432KX7QA==",
          "dtype": "f8"
         },
         "y": {
          "bdata": "ZmZmZmb+m0AzMzMzMwOcQA==",
          "dtype": "f8"
         }
        },
        {
         "fill": "tozeroy",
         "fillcolor": "#00a0ff",
         "hovertemplate": "Avg slope (100m): 6.0%<br>Length: 33.22 km",
         "mode": "none",
         "name": "Slope 6.0%",
         "type": "scatter",
         "x": {
          "bdata": "joxeN9il+0C4NnfF66f7QA==",
          "dtype": "f8"
         },
         "y": {
          "bdata": "MzMzMzMDnEBmZmZmZgicQA==",
          "dtype": "f8"
         }
        },
        {
         "fill": "tozeroy",
         "fillcolor": "#75f60c",
         "hovertemplate": "Avg slope (100m): 3.8%<br>Length: 62.48 km",
         "mode": "none",
         "name": "Slope 3.8%",
         "type": "scatter",
         "x": {
          "bdata": "uDZ3xeun+0D+lXonKqr7QAbVEofTq/tA",
          "dtype": "f8"
         },
         "y": {
          "bdata": "ZmZmZmYInEAzMzMzMw2cQDMzMzMzFZxA",
          "dtype": "f8"
         }
        },
        {
         "fill": "tozeroy",
         "fillcolor": "#00a0ff",
         "hovertemplate": "Avg slope (100m): 5.4%<br>Length: 28.45 km",
         "mode": "none",
         "name": "Slope 5.4%",
         "type": "scatter",
         "x": {
          "bdata": "BtUSh9Or+0Adoxysmq37QA==",
          "dtype": "f8"
         },
         "y": {
          "bdata": "MzMzMzMVnECamZmZmR2cQA==",
          "dtype": "f8"
         }
        },
        {
         "fill": "tozeroy",
         "fillcolor": "#ffd300",
         "hovertemplate": "Avg slope (100m): 7.5%<br>Length: 267.22 km",
         "mode": "none",
         "name": "Slope 7.5%",
         "type": "scatter",
         "x": {
          "bdata": "HaMcrJqt+0AKIAxsqq/7QFmIdBlksftAVpvKsjaz+0CHBD3ItrT7QO47fAQSt/tAABT5PbG4+0DNfI0Hcbr7QAOcM1QWvPtAQV9bP06++0A=",
          "dtype": "f8"
         },
         "y": {
          "bdata": "mpmZmZkdnECamZmZmSecQAAAAAAAMJxAMzMzMzM5nEDNzMzMzECcQAAAAAAATJxAMzMzMzNTnEDNzMzMzFqcQJqZmZmZY5xAMzMzMzNvnEA=",
          "dtype": "f8"
         }
        },
        {
         "fill": "tozeroy",
         "fillcolor": "#ee0000",
         "hovertemplate": "Avg slope (100m): 8.3%<br>Length: 138.10 km",
         "mode": "none",
         "name": "Slope 8.3%",
         "type": "scatter",
         "x": {
          "bdata": "QV9bP06++0BYtQ59ub/7QPcixW5FwftAgOHV2dvC+0BcNvXdasT7QNZH3ujvxvtA",
          "dtype": "f8"
         },
         "y": {
          "bdata": "MzMzMzNvnEBmZmZmZnacQGZmZmZmfpxAzczMzMyGnEDNzMzMzI6cQDMzMzMzm5xA",
          "dtype": "f8"
         }
        },
        {
         "fill": "tozeroy",
         "fillcolor": "#ffd300",
         "hovertemplate": "Avg slope (100m): 7.9%<br>Length: 122.68 km",
         "mode": "none",
         "name": "Slope 7.9%",
         "type": "scatter",
         "x": {
          "bdata": "1kfe6O/G+0BdAzb5KMj7QK+JLvm9yftAtRtQFsDL+0DMyzx+Kc37QHHhXdmazvtA",
          "dtype": "f8"
         },
         "y": {
          "bdata": "MzMzMzObnEDNzMzMzKCcQAAAAAAAqJxAMzMzMzOxnEBmZmZmZricQAAAAAAAwJxA",
          "dtype": "f8"
         }
        },
        {
         "fill": "tozeroy",
         "fillcolor": "#ee0000",
         "hovertemplate": "Avg slope (100m): 8.1%<br>Length: 24.33 km",
         "mode": "none",
         "name": "Slope 8.1%",
         "type": "scatter",
         "x": {
          "bdata": "ceFd2ZrO+0Dp7AAxIND7QA==",
          "dtype": "f8"
         },
         "y": {
          "bdata": "AAAAAADAnEAzMzMzM8ecQA==",
          "dtype": "f8"
         }
        },
        {
         "fill": "tozeroy",
         "fillcolor": "#ffd300",
         "hovertemplate": "Avg slope (100m): 7.8%<br>Length: 107.66 km",
         "mode": "none",
         "name": "Slope 7.8%",
         "type": "scatter",
         "x": {
          "bdata": "6ewAMSDQ+0APojodndH7QDyvgFU90/tA+Ck7WRLV+0ApJ6++2tb7QA==",
          "dtype": "f8"
         },
         "y": {
          "bdata": "MzMzMzPHnEBmZmZmZs6cQGZmZmZm1pxAAAAAAADgnEBmZmZmZuqcQA==",
          "dtype": "f8"
         }
        },
        {
         "fill": "tozeroy",
         "fillcolor": "#ee0000",
         "hovertemplate": "Avg slope (100m): 8.7%<br>Length: 445.43 km",
         "mode": "none",
         "name": "Slope 8.7%",
         "type": "scatter",
         "x": {
          "bdata": "KSevvtrW+0DkeiJDJdj7QOrSEk142ftA/eXlVUzb+0BemL6Egtz7QDQmETM93vtAacd3JDXg+0D7P4wjwOH7QEOQtVLH4/tARHCfJVTl+0AS+XIcHef7QMasaBkP6ftAT6tb9X3q+0AGcHfa7Ov7QDLC6mSq7ftAUhnCKgbv+0AiJQWVCfH7QPnzfK2x8vtA",
          "dtype": "f8"
         },
         "y": {
          "bdata": "ZmZmZmbqnEAAAAAAAPKcQAAAAAAA+pxAMzMzMzMFnUBmZmZmZgydQGZmZmZmFp1AZmZmZmYinUAAAAAAACydQAAAAAAAOJ1AAAAAAABAnUCamZmZmUmdQM3MzMzMVJ1AzczMzMxcnUDNzMzMzGSdQM3MzMzMbp1AzczMzMx2nUAAAAAAAISdQGZmZmZmkJ1A",
          "dtype": "f8"
         }
        },
        {
         "fill": "tozeroy",
         "fillcolor": "#800080",
         "hovertemplate": "Avg slope (100m): 11.0%<br>Length: 11.44 km",
         "mode": "none",
         "name": "Slope 11.0%",
         "type": "scatter",
         "x": {
          "bdata": "+fN8rbHy+0CY6xDBaPP7QA==",
          "dtype": "f8"
         },
         "y": {
          "bdata": "ZmZmZmaQnUAzMzMzM5GdQA==",
          "dtype": "f8"
         }
        },
        {
         "fill": "tozeroy",
         "fillcolor": "#ffd300",
         "hovertemplate": "Avg slope (100m): 6.7%<br>Length: 16.99 km",
         "mode": "none",
         "name": "Slope 6.7%",
         "type": "scatter",
         "x": {
          "bdata": "mOsQwWjz+0COT5yrePT7QA==",
          "dtype": "f8"
         },
         "y": {
          "bdata": "MzMzMzORnUCamZmZmZOdQA==",
          "dtype": "f8"
         }
        },
        {
         "fill": "tozeroy",
         "fillcolor": "#75f60c",
         "hovertemplate": "Avg slope (100m): 2.6%<br>Length: 28.68 km",
         "mode": "none",
         "name": "Slope 2.6%",
         "type": "scatter",
         "x": {
          "bdata": "jk+cq3j0+0ANVxuLQ/b7QA==",
          "dtype": "f8"
         },
         "y": {
          "bdata": "mpmZmZmTnUDNzMzMzJqdQA==",
          "dtype": "f8"
         }
        },
        {
         "fill": "tozeroy",
         "fillcolor": "#00a0ff",
         "hovertemplate": "Avg slope (100m): 4.9%<br>Length: 29.18 km",
         "mode": "none",
         "name": "Slope 4.9%",
         "type": "scatter",
         "x": {
          "bdata": "DVcbi0P2+0DwnUNjFvj7QA==",
          "dtype": "f8"
         },
         "y": {
          "bdata": "zczMzMyanUDNzMzMzKKdQA==",
          "dtype": "f8"
         }
        },
        {
         "fill": "tozeroy",
         "fillcolor": "#ffd300",
         "hovertemplate": "Avg slope (100m): 6.6%<br>Length: 549.32 km",
         "mode": "none",
         "name": "Slope 6.6%",
         "type": "scatter",
         "x": {
          "bdata": "8J1DYxb4+0BxTjZ45fn7QHqutKfH+/tAwJTmAK79+0BFILqdVv/7QP/02EcRAfxAqc89aKAC/EAsQVAyOwT8QBtny/cFBvxAq6gVrKUI/EDPtUmqnQr8QPggBu+iDPxA4DexwY8O/EBsvnO4ohD8QAVFZTemEvxABvOBjOEU/EDSIP1qkxb8QFHwes9GGPxALXfJemsa/EA=",
          "dtype": "f8"
         },
         "y": {
          "bdata": "zczMzMyinUAzMzMzM6udQJqZmZmZs51AAAAAAAC8nUBmZmZmZsSdQGZmZmZmzJ1AAAAAAADUnUAAAAAAANydQAAAAAAA5J1AZmZmZmbwnUDNzMzMzPqdQM3MzMzMBJ5AMzMzMzMNnkBmZmZmZhaeQGZmZmZmIJ5AzczMzMwqnkDNzMzMzDKeQAAAAAAAPJ5AzczMzMxInkA=",
          "dtype": "f8"
         }
        },
        {
         "fill": "tozeroy",
         "fillcolor": "#ee0000",
         "hovertemplate": "Avg slope (100m): 8.9%<br>Length: 41.72 km",
         "mode": "none",
         "name": "Slope 8.9%",
         "type": "scatter",
         "x": {
          "bdata": "LXfJemsa/ECMKMUHsBv8QBtd2QcHHfxA",
          "dtype": "f8"
         },
         "y": {
          "bdata": "zczMzMxInkCamZmZmU+eQJqZmZmZVZ5A",
          "dtype": "f8"
         }
        },
        {
         "fill": "tozeroy",
         "fillcolor": "#ffd300",
         "hovertemplate": "Avg slope (100m): 7.7%<br>Length: 219.49 km",
         "mode": "none",
         "name": "Slope 7.7%",
         "type": "scatter",
         "x": {
          "bdata": "G13ZBwcd/EDceMQl7B78QAX3JlR5IPxA0UH0gkwi/EDrLYhFniT8QJkpjlEhJvxAqUYeQkso/EBM/HXLvir8QA==",
          "dtype": "f8"
         },
         "y": {
          "bdata": "mpmZmZlVnkCamZmZmV2eQM3MzMzMZJ5AmpmZmZltnkBmZmZmZnieQDMzMzMzf55AMzMzMzOLnkCamZmZmZmeQA==",
          "dtype": "f8"
         }
        },
        {
         "fill": "tozeroy",
         "fillcolor": "#ee0000",
         "hovertemplate": "Avg slope (100m): 8.9%<br>Length: 283.75 km",
         "mode": "none",
         "name": "Slope 8.9%",
         "type": "scatter",
         "x": {
          "bdata": "TPx1y74q/EAHH2yRRCz8QIg43VvdLfxAlaW7aDsw/ECO7SB04jH8QPzBD0mZM/xA3a/BGoE1/EApt4Jm5Tb8QFQq4oooOfxA3yNVhaM6/ED/KmS4ejz8QA==",
          "dtype": "f8"
         },
         "y": {
          "bdata": "mpmZmZmZnkBmZmZmZqKeQJqZmZmZq55AMzMzMzO5nkDNzMzMzMKeQGZmZmZmzJ5AMzMzMzPXnkBmZmZmZuCeQJqZmZmZ7Z5AmpmZmZn1nkBmZmZmZv6eQA==",
          "dtype": "f8"
         }
        },
        {
         "fill": "tozeroy",
         "fillcolor": "#ffd300",
         "hovertemplate": "Avg slope (100m): 8.0%<br>Length: 139.48 km",
         "mode": "none",
         "name": "Slope 8.0%",
         "type": "scatter",
         "x": {
          "bdata": "/ypkuHo8/ECaCL6xAT/8QHqG9f8oQvxAeLWvUzJF/EA=",
          "dtype": "f8"
         },
         "y": {
          "bdata": "ZmZmZmb+nkAAAAAAAAqfQJqZmZmZFZ9AzczMzMwWn0A=",
          "dtype": "f8"
         }
        },
        {
         "fill": "tozeroy",
         "fillcolor": "#75f60c",
         "hovertemplate": "Avg slope (100m): 3.2%<br>Length: 55.70 km",
         "mode": "none",
         "name": "Slope 3.2%",
         "type": "scatter",
         "x": {
          "bdata": "eLWvUzJF/EATxzF5rUj8QA==",
          "dtype": "f8"
         },
         "y": {
          "bdata": "zczMzMwWn0CamZmZmROfQA==",
          "dtype": "f8"
         }
        }
       ],
       "layout": {
        "height": 650,
        "margin": {
         "b": 50,
         "l": 50,
         "r": 50,
         "t": 80
        },
        "plot_bgcolor": "white",
        "template": {
         "data": {
          "bar": [
           {
            "error_x": {
             "color": "#2a3f5f"
            },
            "error_y": {
             "color": "#2a3f5f"
            },
            "marker": {
             "line": {
              "color": "#E5ECF6",
              "width": 0.5
             },
             "pattern": {
              "fillmode": "overlay",
              "size": 10,
              "solidity": 0.2
             }
            },
            "type": "bar"
           }
          ],
          "barpolar": [
           {
            "marker": {
             "line": {
              "color": "#E5ECF6",
              "width": 0.5
             },
             "pattern": {
              "fillmode": "overlay",
              "size": 10,
              "solidity": 0.2
             }
            },
            "type": "barpolar"
           }
          ],
          "carpet": [
           {
            "aaxis": {
             "endlinecolor": "#2a3f5f",
             "gridcolor": "white",
             "linecolor": "white",
             "minorgridcolor": "white",
             "startlinecolor": "#2a3f5f"
            },
            "baxis": {
             "endlinecolor": "#2a3f5f",
             "gridcolor": "white",
             "linecolor": "white",
             "minorgridcolor": "white",
             "startlinecolor": "#2a3f5f"
            },
            "type": "carpet"
           }
          ],
          "choropleth": [
           {
            "colorbar": {
             "outlinewidth": 0,
             "ticks": ""
            },
            "type": "choropleth"
           }
          ],
          "contour": [
           {
            "colorbar": {
             "outlinewidth": 0,
             "ticks": ""
            },
            "colorscale": [
             [
              0,
              "#0d0887"
             ],
             [
              0.1111111111111111,
              "#46039f"
             ],
             [
              0.2222222222222222,
              "#7201a8"
             ],
             [
              0.3333333333333333,
              "#9c179e"
             ],
             [
              0.4444444444444444,
              "#bd3786"
             ],
             [
              0.5555555555555556,
              "#d8576b"
             ],
             [
              0.6666666666666666,
              "#ed7953"
             ],
             [
              0.7777777777777778,
              "#fb9f3a"
             ],
             [
              0.8888888888888888,
              "#fdca26"
             ],
             [
              1,
              "#f0f921"
             ]
            ],
            "type": "contour"
           }
          ],
          "contourcarpet": [
           {
            "colorbar": {
             "outlinewidth": 0,
             "ticks": ""
            },
            "type": "contourcarpet"
           }
          ],
          "heatmap": [
           {
            "colorbar": {
             "outlinewidth": 0,
             "ticks": ""
            },
            "colorscale": [
             [
              0,
              "#0d0887"
             ],
             [
              0.1111111111111111,
              "#46039f"
             ],
             [
              0.2222222222222222,
              "#7201a8"
             ],
             [
              0.3333333333333333,
              "#9c179e"
             ],
             [
              0.4444444444444444,
              "#bd3786"
             ],
             [
              0.5555555555555556,
              "#d8576b"
             ],
             [
              0.6666666666666666,
              "#ed7953"
             ],
             [
              0.7777777777777778,
              "#fb9f3a"
             ],
             [
              0.8888888888888888,
              "#fdca26"
             ],
             [
              1,
              "#f0f921"
             ]
            ],
            "type": "heatmap"
           }
          ],
          "histogram": [
           {
            "marker": {
             "pattern": {
              "fillmode": "overlay",
              "size": 10,
              "solidity": 0.2
             }
            },
            "type": "histogram"
           }
          ],
          "histogram2d": [
           {
            "colorbar": {
             "outlinewidth": 0,
             "ticks": ""
            },
            "colorscale": [
             [
              0,
              "#0d0887"
             ],
             [
              0.1111111111111111,
              "#46039f"
             ],
             [
              0.2222222222222222,
              "#7201a8"
             ],
             [
              0.3333333333333333,
              "#9c179e"
             ],
             [
              0.4444444444444444,
              "#bd3786"
             ],
             [
              0.5555555555555556,
              "#d8576b"
             ],
             [
              0.6666666666666666,
              "#ed7953"
             ],
             [
              0.7777777777777778,
              "#fb9f3a"
             ],
             [
              0.8888888888888888,
              "#fdca26"
             ],
             [
              1,
              "#f0f921"
             ]
            ],
            "type": "histogram2d"
           }
          ],
          "histogram2dcontour": [
           {
            "colorbar": {
             "outlinewidth": 0,
             "ticks": ""
            },
            "colorscale": [
             [
              0,
              "#0d0887"
             ],
             [
              0.1111111111111111,
              "#46039f"
             ],
             [
              0.2222222222222222,
              "#7201a8"
             ],
             [
              0.3333333333333333,
              "#9c179e"
             ],
             [
              0.4444444444444444,
              "#bd3786"
             ],
             [
              0.5555555555555556,
              "#d8576b"
             ],
             [
              0.6666666666666666,
              "#ed7953"
             ],
             [
              0.7777777777777778,
              "#fb9f3a"
             ],
             [
              0.8888888888888888,
              "#fdca26"
             ],
             [
              1,
              "#f0f921"
             ]
            ],
            "type": "histogram2dcontour"
           }
          ],
          "mesh3d": [
           {
            "colorbar": {
             "outlinewidth": 0,
             "ticks": ""
            },
            "type": "mesh3d"
           }
          ],
          "parcoords": [
           {
            "line": {
             "colorbar": {
              "outlinewidth": 0,
              "ticks": ""
             }
            },
            "type": "parcoords"
           }
          ],
          "pie": [
           {
            "automargin": true,
            "type": "pie"
           }
          ],
          "scatter": [
           {
            "fillpattern": {
             "fillmode": "overlay",
             "size": 10,
             "solidity": 0.2
            },
            "type": "scatter"
           }
          ],
          "scatter3d": [
           {
            "line": {
             "colorbar": {
              "outlinewidth": 0,
              "ticks": ""
             }
            },
            "marker": {
             "colorbar": {
              "outlinewidth": 0,
              "ticks": ""
             }
            },
            "type": "scatter3d"
           }
          ],
          "scattercarpet": [
           {
            "marker": {
             "colorbar": {
              "outlinewidth": 0,
              "ticks": ""
             }
            },
            "type": "scattercarpet"
           }
          ],
          "scattergeo": [
           {
            "marker": {
             "colorbar": {
              "outlinewidth": 0,
              "ticks": ""
             }
            },
            "type": "scattergeo"
           }
          ],
          "scattergl": [
           {
            "marker": {
             "colorbar": {
              "outlinewidth": 0,
              "ticks": ""
             }
            },
            "type": "scattergl"
           }
          ],
          "scattermap": [
           {
            "marker": {
             "colorbar": {
              "outlinewidth": 0,
              "ticks": ""
             }
            },
            "type": "scattermap"
           }
          ],
          "scattermapbox": [
           {
            "marker": {
             "colorbar": {
              "outlinewidth": 0,
              "ticks": ""
             }
            },
            "type": "scattermapbox"
           }
          ],
          "scatterpolar": [
           {
            "marker": {
             "colorbar": {
              "outlinewidth": 0,
              "ticks": ""
             }
            },
            "type": "scatterpolar"
           }
          ],
          "scatterpolargl": [
           {
            "marker": {
             "colorbar": {
              "outlinewidth": 0,
              "ticks": ""
             }
            },
            "type": "scatterpolargl"
           }
          ],
          "scatterternary": [
           {
            "marker": {
             "colorbar": {
              "outlinewidth": 0,
              "ticks": ""
             }
            },
            "type": "scatterternary"
           }
          ],
          "surface": [
           {
            "colorbar": {
             "outlinewidth": 0,
             "ticks": ""
            },
            "colorscale": [
             [
              0,
              "#0d0887"
             ],
             [
              0.1111111111111111,
              "#46039f"
             ],
             [
              0.2222222222222222,
              "#7201a8"
             ],
             [
              0.3333333333333333,
              "#9c179e"
             ],
             [
              0.4444444444444444,
              "#bd3786"
             ],
             [
              0.5555555555555556,
              "#d8576b"
             ],
             [
              0.6666666666666666,
              "#ed7953"
             ],
             [
              0.7777777777777778,
              "#fb9f3a"
             ],
             [
              0.8888888888888888,
              "#fdca26"
             ],
             [
              1,
              "#f0f921"
             ]
            ],
            "type": "surface"
           }
          ],
          "table": [
           {
            "cells": {
             "fill": {
              "color": "#EBF0F8"
             },
             "line": {
              "color": "white"
             }
            },
            "header": {
             "fill": {
              "color": "#C8D4E3"
             },
             "line": {
              "color": "white"
             }
            },
            "type": "table"
           }
          ]
         },
         "layout": {
          "annotationdefaults": {
           "arrowcolor": "#2a3f5f",
           "arrowhead": 0,
           "arrowwidth": 1
          },
          "autotypenumbers": "strict",
          "coloraxis": {
           "colorbar": {
            "outlinewidth": 0,
            "ticks": ""
           }
          },
          "colorscale": {
           "diverging": [
            [
             0,
             "#8e0152"
            ],
            [
             0.1,
             "#c51b7d"
            ],
            [
             0.2,
             "#de77ae"
            ],
            [
             0.3,
             "#f1b6da"
            ],
            [
             0.4,
             "#fde0ef"
            ],
            [
             0.5,
             "#f7f7f7"
            ],
            [
             0.6,
             "#e6f5d0"
            ],
            [
             0.7,
             "#b8e186"
            ],
            [
             0.8,
             "#7fbc41"
            ],
            [
             0.9,
             "#4d9221"
            ],
            [
             1,
             "#276419"
            ]
           ],
           "sequential": [
            [
             0,
             "#0d0887"
            ],
            [
             0.1111111111111111,
             "#46039f"
            ],
            [
             0.2222222222222222,
             "#7201a8"
            ],
            [
             0.3333333333333333,
             "#9c179e"
            ],
            [
             0.4444444444444444,
             "#bd3786"
            ],
            [
             0.5555555555555556,
             "#d8576b"
            ],
            [
             0.6666666666666666,
             "#ed7953"
            ],
            [
             0.7777777777777778,
             "#fb9f3a"
            ],
            [
             0.8888888888888888,
             "#fdca26"
            ],
            [
             1,
             "#f0f921"
            ]
           ],
           "sequentialminus": [
            [
             0,
             "#0d0887"
            ],
            [
             0.1111111111111111,
             "#46039f"
            ],
            [
             0.2222222222222222,
             "#7201a8"
            ],
            [
             0.3333333333333333,
             "#9c179e"
            ],
            [
             0.4444444444444444,
             "#bd3786"
            ],
            [
             0.5555555555555556,
             "#d8576b"
            ],
            [
             0.6666666666666666,
             "#ed7953"
            ],
            [
             0.7777777777777778,
             "#fb9f3a"
            ],
            [
             0.8888888888888888,
             "#fdca26"
            ],
            [
             1,
             "#f0f921"
            ]
           ]
          },
          "colorway": [
           "#636efa",
           "#EF553B",
           "#00cc96",
           "#ab63fa",
           "#FFA15A",
           "#19d3f3",
           "#FF6692",
           "#B6E880",
           "#FF97FF",
           "#FECB52"
          ],
          "font": {
           "color": "#2a3f5f"
          },
          "geo": {
           "bgcolor": "white",
           "lakecolor": "white",
           "landcolor": "#E5ECF6",
           "showlakes": true,
           "showland": true,
           "subunitcolor": "white"
          },
          "hoverlabel": {
           "align": "left"
          },
          "hovermode": "closest",
          "mapbox": {
           "style": "light"
          },
          "paper_bgcolor": "white",
          "plot_bgcolor": "#E5ECF6",
          "polar": {
           "angularaxis": {
            "gridcolor": "white",
            "linecolor": "white",
            "ticks": ""
           },
           "bgcolor": "#E5ECF6",
           "radialaxis": {
            "gridcolor": "white",
            "linecolor": "white",
            "ticks": ""
           }
          },
          "scene": {
           "xaxis": {
            "backgroundcolor": "#E5ECF6",
            "gridcolor": "white",
            "gridwidth": 2,
            "linecolor": "white",
            "showbackground": true,
            "ticks": "",
            "zerolinecolor": "white"
           },
           "yaxis": {
            "backgroundcolor": "#E5ECF6",
            "gridcolor": "white",
            "gridwidth": 2,
            "linecolor": "white",
            "showbackground": true,
            "ticks": "",
            "zerolinecolor": "white"
           },
           "zaxis": {
            "backgroundcolor": "#E5ECF6",
            "gridcolor": "white",
            "gridwidth": 2,
            "linecolor": "white",
            "showbackground": true,
            "ticks": "",
            "zerolinecolor": "white"
           }
          },
          "shapedefaults": {
           "line": {
            "color": "#2a3f5f"
           }
          },
          "ternary": {
           "aaxis": {
            "gridcolor": "white",
            "linecolor": "white",
            "ticks": ""
           },
           "baxis": {
            "gridcolor": "white",
            "linecolor": "white",
            "ticks": ""
           },
           "bgcolor": "#E5ECF6",
           "caxis": {
            "gridcolor": "white",
            "linecolor": "white",
            "ticks": ""
           }
          },
          "title": {
           "x": 0.05
          },
          "xaxis": {
           "automargin": true,
           "gridcolor": "white",
           "linecolor": "white",
           "ticks": "",
           "title": {
            "standoff": 15
           },
           "zerolinecolor": "white",
           "zerolinewidth": 2
          },
          "yaxis": {
           "automargin": true,
           "gridcolor": "white",
           "linecolor": "white",
           "ticks": "",
           "title": {
            "standoff": 15
           },
           "zerolinecolor": "white",
           "zerolinewidth": 2
          }
         }
        },
        "title": {
         "text": "Climb 9 — 20.53 km | 1550 m gain | 7.5% avg"
        },
        "xaxis": {
         "showgrid": false
        },
        "yaxis": {
         "showgrid": false
        }
       }
      }
     },
     "metadata": {},
     "output_type": "display_data"
    },
    {
     "name": "stdout",
     "output_type": "stream",
     "text": [
      "   Climb  Length (km)  Gain (m)  Avg slope (%)  Max slope 100 m (%)\n",
      "0      1        13.11     859.8           6.56                 12.1\n",
      "1      2         1.06      51.4           4.83                  7.8\n",
      "2      3         2.27      87.1           3.84                  6.6\n",
      "3      4         2.27      51.1           2.25                  4.1\n",
      "4      5         5.50     191.0           3.47                  8.7\n",
      "5      6         1.40      91.4           6.54                 12.2\n",
      "6      7         4.80     283.5           5.91                  8.8\n",
      "7      8         1.78      84.8           4.75                  7.9\n",
      "8      9        20.53    1549.8           7.55                 14.6\n"
     ]
    }
   ],
   "source": [
    "import plotly.graph_objects as go\n",
    "import pandas as pd\n",
    "\n",
    "# Example: your climbs_df\n",
    "climbs_df = pd.DataFrame({\n",
    "    \"type\": [\"climb\"]*9,\n",
    "    \"start_km\": [4.599101, 30.428850, 32.063047, 37.750256, 43.179909, 59.631368, 73.031560, 86.771914, 95.319334],\n",
    "    \"end_km\":   [17.704535, 31.492840, 34.328683, 40.024973, 48.677783, 61.028046, 77.829262, 88.555291, 115.850842],\n",
    "    \"elev_gain\": [859.8, 51.4, 87.1, 51.1, 191.0, 91.4, 283.5, 84.8, 1549.8],\n",
    "    \"length_m\": [13105.43, 1063.99, 2265.63, 2274.72, 5497.87, 1396.68, 4797.70, 1783.38, 20531.51],\n",
    "    \"avg_slope\": [6.56, 4.83, 3.84, 2.25, 3.47, 6.54, 5.91, 4.75, 7.55],\n",
    "    \"start_idx\": [58, 669, 700, 809, 870, 1182, 1356, 1628, 1752],\n",
    "    \"end_idx\":   [455, 694, 746, 838, 971, 1227, 1493, 1669, 2477]\n",
    "})\n",
    "\n",
    "# Suppose df is your full elevation profile DataFrame with columns:\n",
    "# 'km', 'ele', 'avg_slope_100m', 'location'...\n",
    "# We'll reuse your getcolor but skip coloring for small negative slopes.\n",
    "def getcolor(grade: float) -> str:\n",
    "    if grade < -10:\n",
    "        return \"#A0522D\"  # brown for steep descents\n",
    "    elif grade < 2 and grade >= -10:\n",
    "        return \"#F5F5DC\"  # beige for flat to mild descents\n",
    "    elif 2 <= grade < 4:\n",
    "        return \"#75f60c\"\n",
    "    elif 4 <= grade < 6:\n",
    "        return \"#00a0ff\"\n",
    "    elif 6 <= grade < 8:\n",
    "        return \"#ffd300\"\n",
    "    elif 8 <= grade < 10:\n",
    "        return \"#ee0000\"\n",
    "    elif 10 <= grade < 12:\n",
    "        return \"#800080\"\n",
    "    elif grade >= 12:\n",
    "        return \"#444444\"\n",
    "    return \"#FFFFFF\"\n",
    "\n",
    "# Compute global scale\n",
    "global_min_x = df['distance'].min()\n",
    "global_max_x = df['distance'].max()\n",
    "global_min_y = 0\n",
    "global_max_y = df['ele'].max() * 1.15  # 15% headroom\n",
    "\n",
    "# Stats container\n",
    "stats_list = []\n",
    "\n",
    "# Loop over climbs\n",
    "for i, climb in climbs_df.iterrows():\n",
    "    seg_df = df.iloc[climb.start_idx:climb.end_idx+1].copy()\n",
    "    colors = [getcolor(g) for g in seg_df['avg_slope_100m']]\n",
    "\n",
    "    # Compute stats\n",
    "    length_km = climb.length_m / 1000\n",
    "    gain_m = climb.elev_gain\n",
    "    avg_slope = climb.avg_slope\n",
    "    max_slope_100m = seg_df['avg_slope_100m'].max()\n",
    "    stats_list.append({\n",
    "        \"Climb\": i+1,\n",
    "        \"Length (km)\": round(length_km, 2),\n",
    "        \"Gain (m)\": round(gain_m, 1),\n",
    "        \"Avg slope (%)\": round(avg_slope, 2),\n",
    "        \"Max slope 100 m (%)\": round(max_slope_100m, 1)\n",
    "    })\n",
    "\n",
    "    # Build figure\n",
    "    fig = go.Figure()\n",
    "\n",
    "    start_idx = 0\n",
    "    for j in range(1, len(seg_df)):\n",
    "        if colors[j] != colors[j-1] or j == len(seg_df)-1:\n",
    "            seg_x = seg_df['distance'].iloc[start_idx:j+1]\n",
    "            seg_y = seg_df['ele'].iloc[start_idx:j+1]\n",
    "            avg_slope_val = seg_df['avg_slope_100m'].iloc[start_idx]\n",
    "            length_val = (seg_x.iloc[-1] - seg_x.iloc[0]) * 1000\n",
    "            fig.add_trace(go.Scatter(\n",
    "                x=seg_x,\n",
    "                y=seg_y,\n",
    "                fill='tozeroy',\n",
    "                mode='none',\n",
    "                fillcolor=colors[start_idx],\n",
    "                hovertemplate=(\n",
    "                    f\"Avg slope (100m): {avg_slope_val:.1f}%<br>\"\n",
    "                    f\"Length: {length_val/1000:.2f} km\"\n",
    "                ),\n",
    "                name=f\"Slope {avg_slope_val:.1f}%\"\n",
    "            ))\n",
    "            start_idx = j\n",
    "\n",
    "    # Same scale for all climbs\n",
    "    # fig.update_yaxes(range=[global_min_y, global_max_y], ticksuffix=\" m\")\n",
    "    # fig.update_xaxes(range=[global_min_x, global_max_x], ticksuffix=\" km\")\n",
    "\n",
    "    fig.update_layout(\n",
    "        height=650,\n",
    "        plot_bgcolor=\"white\",\n",
    "        xaxis=dict(showgrid=False),\n",
    "        yaxis=dict(showgrid=False),\n",
    "        title=f\"Climb {i+1} — {length_km:.2f} km | {gain_m:.0f} m gain | {avg_slope:.1f}% avg\",\n",
    "        margin=dict(t=80, b=50, l=50, r=50)\n",
    "    )\n",
    "\n",
    "    fig.show()\n",
    "\n",
    "# Display stats as DataFrame\n",
    "stats_df = pd.DataFrame(stats_list)\n",
    "print(stats_df)\n"
   ]
  },
  {
   "cell_type": "code",
   "execution_count": 94,
   "id": "7be4a234",
   "metadata": {},
   "outputs": [
    {
     "data": {
      "text/html": [
       "<div>\n",
       "<style scoped>\n",
       "    .dataframe tbody tr th:only-of-type {\n",
       "        vertical-align: middle;\n",
       "    }\n",
       "\n",
       "    .dataframe tbody tr th {\n",
       "        vertical-align: top;\n",
       "    }\n",
       "\n",
       "    .dataframe thead th {\n",
       "        text-align: right;\n",
       "    }\n",
       "</style>\n",
       "<table border=\"1\" class=\"dataframe\">\n",
       "  <thead>\n",
       "    <tr style=\"text-align: right;\">\n",
       "      <th></th>\n",
       "      <th>lat</th>\n",
       "      <th>lon</th>\n",
       "      <th>ele</th>\n",
       "      <th>distance</th>\n",
       "      <th>grade</th>\n",
       "      <th>plot_grade</th>\n",
       "      <th>location</th>\n",
       "      <th>avg_slope_100m</th>\n",
       "      <th>color</th>\n",
       "      <th>avg_slope</th>\n",
       "      <th>smoothed_ele</th>\n",
       "    </tr>\n",
       "  </thead>\n",
       "  <tbody>\n",
       "    <tr>\n",
       "      <th>58</th>\n",
       "      <td>45.578657</td>\n",
       "      <td>5.966981</td>\n",
       "      <td>310.3</td>\n",
       "      <td>4599.101014</td>\n",
       "      <td>1.084607</td>\n",
       "      <td>1.443463</td>\n",
       "      <td>Saint-Alban-Leysse</td>\n",
       "      <td>1.104357</td>\n",
       "      <td>#FFFFFF</td>\n",
       "      <td>1.104357</td>\n",
       "      <td>309.70</td>\n",
       "    </tr>\n",
       "    <tr>\n",
       "      <th>59</th>\n",
       "      <td>45.578881</td>\n",
       "      <td>5.967259</td>\n",
       "      <td>311.0</td>\n",
       "      <td>4632.093810</td>\n",
       "      <td>2.121675</td>\n",
       "      <td>3.708166</td>\n",
       "      <td>None</td>\n",
       "      <td>1.603141</td>\n",
       "      <td>#FFFFFF</td>\n",
       "      <td>1.603141</td>\n",
       "      <td>310.65</td>\n",
       "    </tr>\n",
       "    <tr>\n",
       "      <th>60</th>\n",
       "      <td>45.579151</td>\n",
       "      <td>5.967879</td>\n",
       "      <td>315.5</td>\n",
       "      <td>4688.924789</td>\n",
       "      <td>7.918216</td>\n",
       "      <td>7.204287</td>\n",
       "      <td>None</td>\n",
       "      <td>5.019946</td>\n",
       "      <td>#00a0ff</td>\n",
       "      <td>5.019946</td>\n",
       "      <td>313.25</td>\n",
       "    </tr>\n",
       "    <tr>\n",
       "      <th>61</th>\n",
       "      <td>45.579362</td>\n",
       "      <td>5.968067</td>\n",
       "      <td>318.7</td>\n",
       "      <td>4716.575431</td>\n",
       "      <td>11.572968</td>\n",
       "      <td>9.053860</td>\n",
       "      <td>None</td>\n",
       "      <td>9.745592</td>\n",
       "      <td>#ee0000</td>\n",
       "      <td>9.745592</td>\n",
       "      <td>317.10</td>\n",
       "    </tr>\n",
       "    <tr>\n",
       "      <th>62</th>\n",
       "      <td>45.579583</td>\n",
       "      <td>5.968179</td>\n",
       "      <td>320.7</td>\n",
       "      <td>4742.649703</td>\n",
       "      <td>7.670396</td>\n",
       "      <td>9.569605</td>\n",
       "      <td>None</td>\n",
       "      <td>9.621682</td>\n",
       "      <td>#ee0000</td>\n",
       "      <td>9.621682</td>\n",
       "      <td>319.70</td>\n",
       "    </tr>\n",
       "    <tr>\n",
       "      <th>...</th>\n",
       "      <td>...</td>\n",
       "      <td>...</td>\n",
       "      <td>...</td>\n",
       "      <td>...</td>\n",
       "      <td>...</td>\n",
       "      <td>...</td>\n",
       "      <td>...</td>\n",
       "      <td>...</td>\n",
       "      <td>...</td>\n",
       "      <td>...</td>\n",
       "      <td>...</td>\n",
       "    </tr>\n",
       "    <tr>\n",
       "      <th>451</th>\n",
       "      <td>45.644572</td>\n",
       "      <td>6.015228</td>\n",
       "      <td>1168.1</td>\n",
       "      <td>17562.216665</td>\n",
       "      <td>4.913761</td>\n",
       "      <td>4.283863</td>\n",
       "      <td>None</td>\n",
       "      <td>5.572992</td>\n",
       "      <td>#00a0ff</td>\n",
       "      <td>5.572992</td>\n",
       "      <td>1166.75</td>\n",
       "    </tr>\n",
       "    <tr>\n",
       "      <th>452</th>\n",
       "      <td>45.644833</td>\n",
       "      <td>6.015702</td>\n",
       "      <td>1168.9</td>\n",
       "      <td>17609.120843</td>\n",
       "      <td>1.705605</td>\n",
       "      <td>3.065505</td>\n",
       "      <td>None</td>\n",
       "      <td>3.309683</td>\n",
       "      <td>#75f60c</td>\n",
       "      <td>3.309683</td>\n",
       "      <td>1168.50</td>\n",
       "    </tr>\n",
       "    <tr>\n",
       "      <th>453</th>\n",
       "      <td>45.645038</td>\n",
       "      <td>6.015892</td>\n",
       "      <td>1169.6</td>\n",
       "      <td>17636.282659</td>\n",
       "      <td>2.577147</td>\n",
       "      <td>2.152641</td>\n",
       "      <td>None</td>\n",
       "      <td>2.141376</td>\n",
       "      <td>#75f60c</td>\n",
       "      <td>2.141376</td>\n",
       "      <td>1169.25</td>\n",
       "    </tr>\n",
       "    <tr>\n",
       "      <th>454</th>\n",
       "      <td>45.645287</td>\n",
       "      <td>6.016103</td>\n",
       "      <td>1170.3</td>\n",
       "      <td>17668.464027</td>\n",
       "      <td>2.175172</td>\n",
       "      <td>2.046153</td>\n",
       "      <td>None</td>\n",
       "      <td>2.376159</td>\n",
       "      <td>#75f60c</td>\n",
       "      <td>2.376159</td>\n",
       "      <td>1169.95</td>\n",
       "    </tr>\n",
       "    <tr>\n",
       "      <th>455</th>\n",
       "      <td>45.645543</td>\n",
       "      <td>6.016388</td>\n",
       "      <td>1170.8</td>\n",
       "      <td>17704.535410</td>\n",
       "      <td>1.386140</td>\n",
       "      <td>1.286778</td>\n",
       "      <td>Les Déserts, Plainpalais</td>\n",
       "      <td>1.780656</td>\n",
       "      <td>#FFFFFF</td>\n",
       "      <td>1.780656</td>\n",
       "      <td>1170.55</td>\n",
       "    </tr>\n",
       "  </tbody>\n",
       "</table>\n",
       "<p>398 rows × 11 columns</p>\n",
       "</div>"
      ],
      "text/plain": [
       "           lat       lon     ele      distance      grade  plot_grade  \\\n",
       "58   45.578657  5.966981   310.3   4599.101014   1.084607    1.443463   \n",
       "59   45.578881  5.967259   311.0   4632.093810   2.121675    3.708166   \n",
       "60   45.579151  5.967879   315.5   4688.924789   7.918216    7.204287   \n",
       "61   45.579362  5.968067   318.7   4716.575431  11.572968    9.053860   \n",
       "62   45.579583  5.968179   320.7   4742.649703   7.670396    9.569605   \n",
       "..         ...       ...     ...           ...        ...         ...   \n",
       "451  45.644572  6.015228  1168.1  17562.216665   4.913761    4.283863   \n",
       "452  45.644833  6.015702  1168.9  17609.120843   1.705605    3.065505   \n",
       "453  45.645038  6.015892  1169.6  17636.282659   2.577147    2.152641   \n",
       "454  45.645287  6.016103  1170.3  17668.464027   2.175172    2.046153   \n",
       "455  45.645543  6.016388  1170.8  17704.535410   1.386140    1.286778   \n",
       "\n",
       "                     location  avg_slope_100m    color  avg_slope  \\\n",
       "58         Saint-Alban-Leysse        1.104357  #FFFFFF   1.104357   \n",
       "59                       None        1.603141  #FFFFFF   1.603141   \n",
       "60                       None        5.019946  #00a0ff   5.019946   \n",
       "61                       None        9.745592  #ee0000   9.745592   \n",
       "62                       None        9.621682  #ee0000   9.621682   \n",
       "..                        ...             ...      ...        ...   \n",
       "451                      None        5.572992  #00a0ff   5.572992   \n",
       "452                      None        3.309683  #75f60c   3.309683   \n",
       "453                      None        2.141376  #75f60c   2.141376   \n",
       "454                      None        2.376159  #75f60c   2.376159   \n",
       "455  Les Déserts, Plainpalais        1.780656  #FFFFFF   1.780656   \n",
       "\n",
       "     smoothed_ele  \n",
       "58         309.70  \n",
       "59         310.65  \n",
       "60         313.25  \n",
       "61         317.10  \n",
       "62         319.70  \n",
       "..            ...  \n",
       "451       1166.75  \n",
       "452       1168.50  \n",
       "453       1169.25  \n",
       "454       1169.95  \n",
       "455       1170.55  \n",
       "\n",
       "[398 rows x 11 columns]"
      ]
     },
     "execution_count": 94,
     "metadata": {},
     "output_type": "execute_result"
    }
   ],
   "source": [
    "seg_df"
   ]
  },
  {
   "cell_type": "code",
   "execution_count": null,
   "id": "7823349e",
   "metadata": {},
   "outputs": [],
   "source": []
  },
  {
   "cell_type": "code",
   "execution_count": null,
   "id": "c7c451ca",
   "metadata": {},
   "outputs": [],
   "source": [
    "row"
   ]
  }
 ],
 "metadata": {
  "kernelspec": {
   "display_name": "cycling",
   "language": "python",
   "name": "python3"
  },
  "language_info": {
   "codemirror_mode": {
    "name": "ipython",
    "version": 3
   },
   "file_extension": ".py",
   "mimetype": "text/x-python",
   "name": "python",
   "nbconvert_exporter": "python",
   "pygments_lexer": "ipython3",
   "version": "3.13.4"
  }
 },
 "nbformat": 4,
 "nbformat_minor": 5
}
